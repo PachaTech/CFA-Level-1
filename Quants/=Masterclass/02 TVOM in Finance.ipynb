{
 "cells": [
  {
   "cell_type": "markdown",
   "id": "75f117f6-a97c-48f5-ae0e-f97563561ccc",
   "metadata": {},
   "source": [
    "<hr>\n",
    "\n",
    "# QUANTS MASTERCLASS 2\n",
    "\n",
    "## The Time Value of Money in Finance\n",
    "\n",
    "<hr>\n"
   ]
  },
  {
   "cell_type": "markdown",
   "id": "899be4d5-f904-423d-b5dd-97254f003507",
   "metadata": {},
   "source": [
    "## Intro and Exam Focus\n",
    "\n",
    "### Valuation\n",
    "* Bonds: using the TVM keys of the calculator\n",
    "* Equity: Gordon's growth model\n",
    "* Cash flow additivity applications\n",
    "    * Forward interest rates\n",
    "    * Forward currency exchange rates\n",
    "    * Option pricing"
   ]
  },
  {
   "cell_type": "code",
   "execution_count": null,
   "id": "0d4bb406-f8dc-4336-a505-b54a51060519",
   "metadata": {},
   "outputs": [],
   "source": []
  }
 ],
 "metadata": {
  "kernelspec": {
   "display_name": "Python 3 (ipykernel)",
   "language": "python",
   "name": "python3"
  },
  "language_info": {
   "codemirror_mode": {
    "name": "ipython",
    "version": 3
   },
   "file_extension": ".py",
   "mimetype": "text/x-python",
   "name": "python",
   "nbconvert_exporter": "python",
   "pygments_lexer": "ipython3",
   "version": "3.11.8"
  }
 },
 "nbformat": 4,
 "nbformat_minor": 5
}
