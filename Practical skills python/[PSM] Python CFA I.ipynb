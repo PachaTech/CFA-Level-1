{
 "cells": [
  {
   "cell_type": "markdown",
   "id": "c4f364fc-461a-4a1e-b8c1-6effe9228f7a",
   "metadata": {},
   "source": [
    "### Lesson 1 of 1 : Key Learning Outcomes\n",
    "\n",
    "#### KEY LEARNING OUTCOMES\n",
    "Welcome to this Practical Skills Module on Python Programming Fundamentals.\n",
    "\n",
    "This module will teach you to:\n",
    "\n",
    "1. Master Python programming fundamentals, such as variables, data types, loops, functions, and conditional statements;\n",
    "2. Discover how to use Jupyter Notebook for developing, presenting, and sharing data science projects;\n",
    "3. Leverage key Python libraries, such as pandas for data wrangling and analysis, Matplotlib and Seaborn for data visualization, and Plotly Express for interactive data visualization in a financial context;\n",
    "4. Perform portfolio optimization, run Monte Carlo simulations, and calculate portfolio returns, risks, and Sharpe ratios in Python; and\n",
    "5. Obtain real-world financial data using pandas Datareader and Yahoo! Finance API in Python.\n",
    "\n",
    "Watch the video to meet your instructor, Dr. Ryan Ahmed, and see an introduction to this module:\n",
    "\n",
    "When you have watched the video, proceed to the next page, where you learn how to set up your environment and get a walk-through of Jupyter Notebook."
   ]
  },
  {
   "attachments": {},
   "cell_type": "markdown",
   "id": "694133d9-3c0f-4074-9396-df569c1c3e74",
   "metadata": {},
   "source": [
    "### ENVIRONMENT SETUP AND JUPYTER NOTEBOOK WALK-THROUGH\n",
    "Watch the video to learn how to set up your environment and see a walk-through of Jupyter Notebook:\n",
    "\n",
    "Here is the link you will need for the start of this unit:\n",
    "* [Jupyter Notebook](https://courses.cfainstitute.org/courses/lab?courseslug=python-programming-fundamentals&notebookpath=notebooks/workspace/python-programming-fundamentals/release/Labs/Variables%20Assignment%2C%20Math%20Ops%20and%20Data%20Types.ipynb)(opens in a new tab)\n",
    "\n",
    "You need to access the Jupyter Notebooks in order to follow along with all the examples and to complete the Practice Opportunities. The Notebooks will open in a separate tab. We recommend you view them side by side with the video in each lesson.\n",
    "\n",
    "Below the video in each lesson, you will see a link like this: \n",
    "\n",
    "<img src=\"https://github.com/PachaTech/CFA-Level-1/blob/main/Practical%20skills%20python/-%20pics/PI%20Walkthrough%201.png?raw=true\">\n",
    "\n",
    "Click on the Coding Lab to open it. Please note that it may take up to five minutes to load the lab. If you still have difficulty accessing the Coding Lab after five minutes, you may download the Jupyter Notebook to run the exercise in your local environment.\n",
    "\n",
    "There are several ways you can open the Notebook in other environments. For example, you can use Google Colab or Anaconda. Here are instructions for using these alternatives if you prefer not to use the embedded Coding Labs or encounter difficulty with them.\n",
    "\n",
    "#### Google Colab is a cloud-based Jupyter Notebook environment that allows developers to run Python code and store their notebooks on Google Drive. Here are instructions to set it up:\n",
    "\n",
    "* Step 1: **Download the Jupyter Notebook from the link in each lesson**. At the end of the lessons, there are zip files that contain the accompanying Notebooks. Download and save the files locally on your computer. Unzip the files.\n",
    "\n",
    "* Step 2: **Access Google Colab**. Visit https://colab.research.google.com. Sign in with your Google account or create a new one if you don't have one. \n",
    "\n",
    "* **Step 3: Open the Jupyter notebook you have downloaded from the lesson**. Within Google Colab, click on New Notebook. Then, in the window that opens, click on File, click on Upload notebook, click Upload in the dialogue box, and then click the Choose File button to find and open the Jupyter Notebook. Please note that the images from the demonstration video may not load in Colab. However, you will still be able to execute the code in this environment as described in the video.\n",
    "\n",
    "* **Step 4: Write and run code**. Write Python code in code cells. You can insert a code cell by clicking Insert and then Code Cell. To run a code cell, press Shift + Enter. \n",
    "\n",
    "* **Step 5: Save your Jupyter Notebook**. Click on File and then Save to save your Notebook. Your notebook will be saved to your Google Drive.\n",
    "\n",
    "Remember, you do not have to access the Coding Labs through either of these methods as there is a link to the Coding Lab directly in each lesson that will open in a separate tab when you click it.\n",
    "\n",
    "Once you have the relevant Notebook open, it should look something like this: \n",
    "\n",
    "<img src=\"https://github.com/PachaTech/CFA-Level-1/blob/main/Practical%20skills%20python/-%20pics/PI%20Walkthrough%202.png?raw=true\">\n",
    "\n",
    "If you scroll down, you will see some code cells that look like this: \n",
    "\n",
    "<img src=\"https://github.com/PachaTech/CFA-Level-1/blob/main/Practical%20skills%20python/-%20pics/PI%20Walkthrough%203.png?raw=true\">\n",
    "\n",
    "This is where you type Python code and execute (or run) it. If you want code to run, you must make sure the cell is selected by placing your cursor in it and then pressing SHIFT + ENTER. The result of the code then appears below that cell: \n",
    "\n",
    "<img src=\"https://github.com/PachaTech/CFA-Level-1/blob/main/Practical%20skills%20python/-%20pics/PI%20Walkthrough%204.png?raw=true\">\n",
    "\n",
    "If you wish to open another Notebook, then you must click File and then Open on the menu: \n",
    "\n",
    "<img src=\"https://github.com/PachaTech/CFA-Level-1/blob/main/Practical%20skills%20python/-%20pics/PI%20Walkthrough%205.png?raw=true\">\n",
    "You will then be able to navigate to the desired Notebook: \n",
    "\n",
    "<img src=\"https://github.com/PachaTech/CFA-Level-1/blob/main/Practical%20skills%20python/-%20pics/PI%20Walkthrough%206.png?raw=true\">\n",
    "\n",
    "However, if you wish to begin a brand new and clean Notebook, click File, then New Notebook, and then Python 3: \n",
    "\n",
    "<img src=\"https://github.com/PachaTech/CFA-Level-1/blob/main/Practical%20skills%20python/-%20pics/PI%20Walkthrough%207.png?raw=true\">\n",
    "\n",
    "You will then see a fresh Notebook with no code in it. \n",
    "\n",
    "Once you have accessed the Jupyter Notebook successfully, proceed to the next page, where you can review the FAQs (Frequently Asked Questions).\n",
    "\n",
    "<img src=\"https://github.com/PachaTech/CFA-Level-1/blob/main/Practical%20skills%20python/-%20pics/PI%20Walkthrough%201.png?raw=true\">"
   ]
  },
  {
   "cell_type": "markdown",
   "id": "f5cf9d5c-9916-426a-bd71-c70ee671b1c2",
   "metadata": {},
   "source": [
    "### UNIT 1 INTRODUCTION AND WELCOME MESSAGE\n",
    "Welcome to this unit on Python Programming Fundamentals Part 1.\n",
    "\n",
    "In this unit, you will learn about variable assignment, data types, and math operations. In addition, we will cover how to print a message to the screen and get user input. Please note that this is an introductory unit to Python and many of the operations could be performed in Excel.\n",
    "\n",
    "There are three lessons in this unit:\n",
    "\n",
    "* Lesson 1.1 - Variable Assignment, Math Operations, and Data Types\n",
    "* Lesson 1.2 - Print Operations\n",
    "* Lesson 1.3 - Get User Input\n",
    "\n",
    "In this unit, you will learn to:\n",
    "\n",
    "1. Define Python variables, assign values to them, and perform math operations;\n",
    "2. Discern the differences among various data types in Python, such as integers, floating points, and Booleans;\n",
    "3. Leverage the Python print() function to display a message to the screen;\n",
    "4. Handle complex string formatting using Python’s string format() method;\n",
    "5. Use the Python built-in input() function to get data from the user via the keyboard; and\n",
    "6. Develop a Python application that can take data from the user, analyze it, and display a message to the screen.\n",
    "\n",
    "Watch the video for an introduction to this unit:\n",
    "\n"
   ]
  },
  {
   "cell_type": "markdown",
   "id": "5255a617-30d2-42e7-841e-a7439e72f8ec",
   "metadata": {},
   "source": [
    "### LESSON 1.1 VARIABLES ASSIGNMENT, MATH OPERATIONS AND DATA TYPES\n",
    "Welcome to this lesson on variables assignments, data types, and math operations.\n",
    "\n",
    "In Python, variables are used to hold values that could have several data types. Once these variables are defined, then you can perform math operations, such as addition, subtraction, or multiplication, on them.\n",
    "\n",
    "Here are the key learning objectives of this lesson:\n",
    "\n",
    "1. Define Python variables and assign values to them.\n",
    "2. Perform math operations in Python.\n",
    "3. Understand the differences among various data types in Python, such as integers, floating points, and Booleans.\n",
    "To get started on the material, watch the demonstration video:\n",
    "\n",
    "Now that you have an understanding of how to create variables, assign values to them, and perform operations on them, open up Jupyter Notebook and try the following practice opportunity.\n",
    "\n",
    "Assume that you have \\\\$5,000 in your brokerage account, and you decide to invest the entire amount in Procter & Gamble (P&G) stock, which is trading at \\\\$142.5 per share. Complete the following tasks:\n",
    "\n",
    "* Write some Python code that defines two variables for the account balance and P&G stock price. Feel free to select any valid variable names.\n",
    "* Confirm variable data types.\n",
    "* Calculate number of shares that you can buy with the available balance in your account.\n",
    "* You can access the Coding Lab for this lesson using the following link (it will open in a new tab so you can follow * along with examples and do the practice opportunity):\n",
    "\n",
    "[Click here to access the Coding Lab](https://courses.cfainstitute.org/courses/lab?courseslug=python-programming-fundamentals&notebookpath=notebooks/workspace/python-programming-fundamentals/release/Labs/Variables%20Assignment%2C%20Math%20Ops%20and%20Data%20Types.ipynb)\n",
    "\n",
    "Note that it may take up to five minutes to load the lab. If you still have difficulty accessing the Coding Lab, download the Jupyter Notebook to run the exercise in your local environment (as described in the introductory lesson Environment Setup and Jupyter Notebook Walk-Through):\n",
    "\n",
    "[Module 1, Unit 1, Lesson 1.zip](https://wmx-api-production.s3.amazonaws.com/courses/52662/supplementary/Module%201%2C%20Unit%201%2C%20Lesson%201.zip)\n",
    "\n",
    "Once you have completed the practice opportunity, proceed to the next page, where the solution will be provided.\n",
    "\n"
   ]
  },
  {
   "cell_type": "markdown",
   "id": "70f22151-31a9-4f98-8f28-f22df82e681e",
   "metadata": {},
   "source": [
    "### LESSON 1.2 PRINT OPERATIONS PRACTICE OPPORTUNITY SOLUTION\n",
    "Watch the video to see the solution to the practice opportunity:\n",
    "\n",
    "Click here to view a full-screen version of the video:\n",
    "\n",
    "[Print Operations Practice Opportunity Solution](https://players.brightcove.net/1183701590001/VtuC3Xc9K_default/index.html?videoId=6318418989112)\n",
    "\n",
    "You may download a transcript of the video here:\n",
    "\n",
    "In this lesson, you learned how to:\n",
    "\n",
    "1. leverage the Python print() function to display a message to the screen;\n",
    "2. handle complex string formatting using Python’s string format() method; and\n",
    "3. print general print statements to the screen.\n",
    "\n",
    "In the next lesson, you will learn how get data from the user using the input() function."
   ]
  },
  {
   "cell_type": "markdown",
   "id": "161073a8-0c15-44d0-b621-ea126fe19180",
   "metadata": {},
   "source": [
    "### LESSON 1.3 GET USER INPUT\n",
    "Welcome to this lesson on getting user input.\n",
    "\n",
    "In this lesson, you will learn how get data from the user using the input() function. The input() function is a built-in function in Python that is used to get data from the user via the keyboard. The data that the user will enter is stored as a string in a specific variable.\n",
    "\n",
    "Here are the key learning objectives of this lesson:\n",
    "\n",
    "1. Use Python’s built-in input() function to get data from the user via the keyboard.\n",
    "2. Develop a simple application that can take data from the user, analyze the data, and display a message to the screen.\n",
    "3. Perform type casting by changing a variable from one data type to another.\n",
    "To get started on the material, watch the demonstration video:\n",
    "\n",
    "Now that you have learned how to get input from the user and store it in a variable, try the following practice opportunity.\n",
    "\n",
    "Assume that you work as a financial analyst and have been tasked with developing a Python application that analyzes securities using the capital asset pricing model (CAPM).\n",
    "\n",
    "* Review the concept of CAPM, and write down the formula.\n",
    "* Write some Python code that will receive beta for a given stock, the risk-free rate, and expected broad market return from the user and will print out the expected return on the stock. Round your answer to two decimal points.\n",
    "* Perform a sanity check by comparing your answer with online CAPM calculators, such as this one: https://goodcalculators.com/capm-calculator/ (opens in a new tab).\n",
    "\n",
    "\n",
    "The following is a sample code output:\n",
    "\n",
    "* Please enter the name of the stock: Apple\n",
    "* Enter the stock beta: 1.25\n",
    "* Enter the risk-free rate of return in %: 4\n",
    "* Enter the expected broad market rate of return in % (Example: S&P 500): 5.6\n",
    "* Using the CAPM formula, the expected return on Apple stock = 6.0%\n",
    "* *(You might need to change data types to perform math operations.)*\n",
    "\n",
    "You can access the Coding Lab for this lesson by using the following link (it will open in a new tab so you can follow along with examples and do the practice opportunity):\n",
    "\n",
    "Note that it may take up to five minutes to load the lab. If you still have difficulty accessing the Coding Lab, download the Jupyter Notebook to run the exercise in your local environment (as described in the introductory lesson Environment Setup and Jupyter Notebook Walk-Through):"
   ]
  },
  {
   "cell_type": "markdown",
   "id": "e10f5f59-e438-42ab-ba7a-58c7ad2584c7",
   "metadata": {},
   "source": [
    "### UNIT 1 END OF UNIT MESSAGE\n",
    "\n",
    "Congratulations on reaching the end of Unit 1. You now know the basics of Python programming fundamentals, such as variables, print operations, and the input() function.\n",
    "\n",
    "In the next unit, you will learn about Python lists, dictionaries, strings, comparison operators, and conditional statements. We will build on this knowledge in future units to build powerful applications in Python.\n",
    "\n",
    "But before we move on, you will answer some questions to check your understanding of what you have learned in this unit. This knowledge check gives you the opportunity to gauge your overall comprehension of what you have learned so far. If you do not see the questions on the next page, please navigate to them using the Study Plan tab on the left panel. Note that you must answer all the questions in order to complete the module."
   ]
  },
  {
   "cell_type": "code",
   "execution_count": 1,
   "id": "7b3ccb7d-bcc0-4189-86c2-f87f87845eee",
   "metadata": {},
   "outputs": [
    {
     "data": {
      "text/plain": [
       "8"
      ]
     },
     "execution_count": 1,
     "metadata": {},
     "output_type": "execute_result"
    }
   ],
   "source": [
    "x = 1 \n",
    "x = 4\n",
    "x = 5\n",
    "x = 8\n",
    "\n",
    "x"
   ]
  },
  {
   "cell_type": "code",
   "execution_count": 2,
   "id": "73ecab54-519c-46d2-9fa2-cf0e9a3547f3",
   "metadata": {},
   "outputs": [
    {
     "name": "stdout",
     "output_type": "stream",
     "text": [
      "My name is Dave, I am 30 years old, and my hourly rate is $20\n"
     ]
    }
   ],
   "source": [
    "name = \"Dave\"\n",
    "\n",
    "age = 30\n",
    "\n",
    "rate = 20\n",
    "\n",
    "print(\"My name is {}, I am {} years old, and my hourly rate is ${}\".format(name, age, rate))\n",
    "\n"
   ]
  },
  {
   "cell_type": "code",
   "execution_count": 4,
   "id": "381e4476-fe7b-400b-bdeb-a624552ce0ec",
   "metadata": {},
   "outputs": [
    {
     "name": "stdin",
     "output_type": "stream",
     "text": [
      "Enter your monthly income:  50\n"
     ]
    },
    {
     "data": {
      "text/plain": [
       "str"
      ]
     },
     "execution_count": 4,
     "metadata": {},
     "output_type": "execute_result"
    }
   ],
   "source": [
    "name = input(\"Enter your monthly income: \")\n",
    "\n",
    "type(name)\n"
   ]
  },
  {
   "cell_type": "code",
   "execution_count": null,
   "id": "c4172ca0-50e8-4d6d-8f4c-4ccecce261a3",
   "metadata": {},
   "outputs": [],
   "source": [
    "type(name)"
   ]
  },
  {
   "cell_type": "code",
   "execution_count": 5,
   "id": "87bcc05e-80f1-4bcc-a745-440d3c0a3d9c",
   "metadata": {},
   "outputs": [
    {
     "name": "stdin",
     "output_type": "stream",
     "text": [
      "Enter sales revenue:  50\n"
     ]
    },
    {
     "data": {
      "text/plain": [
       "int"
      ]
     },
     "execution_count": 5,
     "metadata": {},
     "output_type": "execute_result"
    }
   ],
   "source": [
    "revenue = int(input(\"Enter sales revenue: \"))\n",
    "\n",
    "type(revenue)"
   ]
  },
  {
   "cell_type": "markdown",
   "id": "eb7b6618-2b1a-464a-94f9-82c33893c244",
   "metadata": {},
   "source": [
    "<hr>\n",
    "\n",
    "# UNIT 2 \n",
    "\n",
    "<hr>\n",
    "\n",
    "### UNIT 2 INTRODUCTION AND WELCOME MESSAGE\n",
    "\n",
    "Welcome to this unit on Python Programming Fundamentals Part 2.\n",
    "\n",
    "In the previous unit, we learned how to obtain data from the user, store this data in variables, perform math operations on those variables, and print the results to the screen.\n",
    "\n",
    "In this unit, we will learn about key Python programming fundamentals, such as Python dictionaries, lists, and strings.\n",
    "\n",
    "There are five lessons in this unit:\n",
    "\n",
    "* Lesson 2.1 - Python Lists\n",
    "* Lesson 2.2 - Python Dictionaries\n",
    "* Lesson 2.3 - Python Strings\n",
    "* Lesson 2.4 - Comparison Operators\n",
    "* Lesson 2.5 - Conditional Statements\n",
    "\n",
    "In this unit, you will learn to:\n",
    "\n",
    "1. Define Python lists, understand their use cases, and use indexing and slicing to access one or more elements within the list;\n",
    "2. Define Python dictionaries and learn how to access specific elements using their keys;\n",
    "3. Apply comparison operators in Python to compare two operands with each other;\n",
    "Understand conditional statements or if-else conditions in Python;\n",
    "4. Develop a simple password authentication application in Python; and\n",
    "5. Develop a Python application that can evaluate stocks and indicate whether they are overvalued, fairly valued, or undervalued."
   ]
  },
  {
   "cell_type": "markdown",
   "id": "cb695d40-25ba-4eff-83ff-48a1d8b26cc4",
   "metadata": {},
   "source": [
    "### LESSON 2.1 PYTHON LISTS\n",
    "In Python, lists are used to store multiple items in a single variable. These items are ordered and have a specific index. Python lists are powerful because they can contain items with different data types. For example, in a single list object, we can have integers, strings, and floating points.\n",
    "\n",
    "In this lesson, you will learn to:\n",
    "\n",
    "1. Define Python lists and understand their benefits and use cases,\n",
    "2. Use indexing to access specific elements in Python lists, and\n",
    "3. Perform list slicing to access a range of elements within the list.\n",
    "\n",
    "To get started on the material, watch the demonstration video:\n",
    "\n",
    "Now that you have seen how to create lists and perform operations on them, try the following practice opportunity.\n",
    "\n",
    "Assume that you work as a financial analyst and you decide to list nine dividend-paying companies in the United States in a Python list named “dividend_companies” as shown:\n",
    "\n",
    "```python\n",
    "dividend_companies = [\n",
    "'Pioneer Natural Resources Co. (ticker: PXD)',\n",
    "'Lumen Technologies Inc. (LUMN)',\n",
    "'Altria Group Inc. (MO)',\n",
    "'Vornado Realty Trust (VNO)',\n",
    "'Devon Energy Corp. (DVN)',\n",
    "'AT&T Inc. (T)',\n",
    "'Simon Property Group Inc. (SPG)',\n",
    "'Verizon Communications Inc. (VZ)',\n",
    "'Kinder Morgan Inc. (KMI)']\n",
    "```\n",
    "\n",
    "* Print the first, second, and fourth elements individually.\n",
    "* Print the last element using three different methods. (External research is required.)\n",
    "* Print (1) all elements in the list, (2) the first three elements, and (3) the last three elements.\n",
    "\n",
    "You can access the Coding Lab for this lesson by using the following link (it will open in a new tab so you can follow along with examples and do the practice opportunity):\n",
    "\n",
    ">Note that it may take up to five minutes to load the lab. If you still have difficulty accessing the Coding Lab, download the Jupyter Notebook to run the exercise in your local environment (as described in the introductory lesson Environment Setup and Jupyter Notebook Walk-Through):\n",
    "\n",
    "\n",
    "Once you have completed the practice opportunity, proceed to the next page, where the solution will be provided.\n",
    "\n"
   ]
  },
  {
   "cell_type": "markdown",
   "id": "2a1dc785-40e2-4e7f-b380-356298cfedb0",
   "metadata": {},
   "source": [
    "### LESSON 2.1 PYTHON LISTS PRACTICE OPPORTUNITY SOLUTION\n",
    "Watch the video to see the solution to the practice opportunity:\n",
    "\n",
    "In this lesson, you learned how to:\n",
    "\n",
    "1. Define Python lists and understand their benefits and use cases,\n",
    "2. Use indexing to access specific elements in Python lists, and\n",
    "3. Perform list slicing to access a range of elements within the list.\n",
    "\n",
    "In the next lesson, you will learn about Python dictionaries."
   ]
  },
  {
   "attachments": {},
   "cell_type": "markdown",
   "id": "9a07e6c0-3d51-49cd-a989-1cddae3d198d",
   "metadata": {},
   "source": [
    "### LESSON 2.2 PYTHON DICTIONARIES\n",
    "In Python, dictionaries consist of a collection of key/value pairs that are unordered. The keys in Python dictionaries are unique. Note that the way we access elements in dictionaries is different from the way we access elements in lists. Dictionary elements are accessed using their keys, while list elements are accessed by their position in the list via indexing.\n",
    "\n",
    "In this lesson, you will learn to:\n",
    "\n",
    "1. Define Python dictionaries and understand their use case,\n",
    "2. Access specific elements in Python dictionaries using their keys, and Add new items to and delete items from the dictionary.\n",
    "\n",
    "\n",
    "Now that you are familiar with Python dictionaries and know how to define them, access specific elements in them, and add items to/remove items from them, try the following practice opportunity:\n",
    "\n",
    "Assume that you work as a financial analyst at a pension fund. You decide to list the names of your three favorite technology stocks, along with their prices, in a Python dictionary.\n",
    "\n",
    "* Define the Python dictionary; feel free to choose any technology stocks. You can use Yahoo! Finance, for example, to obtain the daily price of these securities. (*If you experience difficulty in accessing Yahoo! Finance, please try any alternative financial data provider*.)\n",
    "* Calculate the average stock price in this dictionary.\n",
    "* Now add two more stocks to the dictionary, update the dictionary, and calculate the new average using two different methods. (External research is required.)\n",
    "\n",
    "You can access the Coding Lab for this lesson by using the following link (it will open in a new tab so you can follow along with examples and do the practice opportunity):\n",
    "\n",
    ">Note that it may take up to five minutes to load the lab. If you still have difficulty accessing the Coding Lab, download the Jupyter Notebook to run the exercise in your local environment (as described in the introductory lesson Environment Setup and Jupyter Notebook Walk-Through):\n",
    "\n",
    "<img src=\"https://github.com/PachaTech/CFA-Level-1/blob/main/Practical%20skills%20python/-%20pics/-pydic.png?raw=true\">"
   ]
  },
  {
   "cell_type": "code",
   "execution_count": 6,
   "id": "592eb2d3-d112-4bee-8fb3-9fee55336ed0",
   "metadata": {},
   "outputs": [
    {
     "name": "stdout",
     "output_type": "stream",
     "text": [
      "{'Equity': 5000, 'Fixed Income': 1000, 'Derivatives': 300}\n"
     ]
    }
   ],
   "source": [
    "# Python dictionaries consist of a collection of key-value pairs\n",
    "# Each key-value pair maps the key to its corresponding value\n",
    "# my_dict = {'key1':'value1', 'key2':'value2', 'key3':'value3'}\n",
    "# In dictionaries, elements are accessed using their keys\n",
    "\n",
    "# Let's define a dictionary for a given investor \n",
    "# The dictionary consists of a collection of equity, fixed income and alternative investments\n",
    "# Remember: \n",
    "# 1. Equity: Equity investments allow investors to hold partial ownership of companies in form of stocks\n",
    "# 2. Fixed income: fixed-income securities such as bonds yield fixed amounts of cash flows at given dates\n",
    "# 3. Derivatives: derivative is a security with a price derived from an underlying assets such as options \n",
    "# 4. Alternative investments: Non-traditional investments such as real-estate and commodities\n",
    "\n",
    "investor_assets = {\"Equity\": 5000, \"Fixed Income\": \n",
    "                   1000, \"Derivatives\": 300} \n",
    "print(investor_assets)\n"
   ]
  },
  {
   "cell_type": "code",
   "execution_count": 7,
   "id": "f57d9eb0-81bd-4226-a68c-3af3d6087823",
   "metadata": {},
   "outputs": [
    {
     "data": {
      "text/plain": [
       "dict"
      ]
     },
     "execution_count": 7,
     "metadata": {},
     "output_type": "execute_result"
    }
   ],
   "source": [
    "# Check the data type of the Python dictionary\n",
    "type(investor_assets)"
   ]
  },
  {
   "cell_type": "code",
   "execution_count": 9,
   "id": "f696cf1c-65f0-45db-982d-5a5c2d0a4634",
   "metadata": {},
   "outputs": [
    {
     "name": "stdout",
     "output_type": "stream",
     "text": [
      "{'Equity': 5000, 'Fixed Income': 1000, 'Derivatives': 300, 'Alternative Investments': 4000}\n"
     ]
    }
   ],
   "source": [
    "# Let's assume that the investor would like to add alternative investments to their portfolio \n",
    "# Let's add a new item to an existing dictionary\n",
    "\n",
    "investor_assets[\"Alternative Investments\"] = 4000\n",
    "print(investor_assets)"
   ]
  },
  {
   "cell_type": "code",
   "execution_count": 10,
   "id": "48309e9c-3483-4c39-8b59-5b68bb7704b1",
   "metadata": {},
   "outputs": [
    {
     "name": "stdout",
     "output_type": "stream",
     "text": [
      "{'Equity': 5000, 'Derivatives': 300, 'Alternative Investments': 4000}\n"
     ]
    }
   ],
   "source": [
    "# Remove an item from the dictionary\n",
    "del investor_assets[\"Fixed Income\"]\n",
    "print(investor_assets)"
   ]
  },
  {
   "cell_type": "markdown",
   "id": "516a8dba-e87f-491f-a0d8-315439ed43a0",
   "metadata": {},
   "source": [
    "**PRACTICE OPPORTUNITY:**\n",
    "- **Assume that you work as a financial analyst at a pension fund. You decided to list the names of your 3 top favourite technology stocks along with their prices in a Python dictionary.**\n",
    "    - **1. Define the Python dictionary, feel free to choose any technology stocks. You can use Yahoo finance to obtain the daily price of these securities** \n",
    "    - **2. Calculate the average stock price listed in this dictionary**\n",
    "    - **3. Now assume that you want to add 2 more stocks to the previously created dictionary, update the dictionary and calculate the new average using two different methods (External research is required)**\n"
   ]
  },
  {
   "cell_type": "code",
   "execution_count": 57,
   "id": "6dbf7bbf-d60e-499a-94c6-0bdcd1fc7293",
   "metadata": {},
   "outputs": [
    {
     "name": "stdout",
     "output_type": "stream",
     "text": [
      "{'AAPL': 172.28, 'TSLA': 170.83, 'MSFT': 428.74}\n"
     ]
    }
   ],
   "source": [
    "tech_stocks = {\"AAPL\": 172.28, \"TSLA\": 170.83, \"MSFT\": 428.74}\n",
    "print(tech_stocks)"
   ]
  },
  {
   "cell_type": "code",
   "execution_count": 39,
   "id": "196fb2b8-c7b3-4bf3-8bd3-6f6c2eedc992",
   "metadata": {
    "scrolled": true
   },
   "outputs": [
    {
     "data": {
      "text/plain": [
       "257.28333333333336"
      ]
     },
     "execution_count": 39,
     "metadata": {},
     "output_type": "execute_result"
    }
   ],
   "source": [
    "# Sum() function to sum the dictionary values\n",
    "\n",
    "sum(tech_stocks.values())/len(tech_stocks)"
   ]
  },
  {
   "cell_type": "code",
   "execution_count": 58,
   "id": "40ae8b0f-8526-4cdf-beea-4a1ec8cb9d23",
   "metadata": {},
   "outputs": [
    {
     "data": {
      "text/plain": [
       "dict_values([172.28, 170.83, 428.74])"
      ]
     },
     "execution_count": 58,
     "metadata": {},
     "output_type": "execute_result"
    }
   ],
   "source": [
    "tech_stocks.values()"
   ]
  },
  {
   "cell_type": "code",
   "execution_count": 59,
   "id": "aaa3a549-b5b1-4258-bf80-ad25472ad670",
   "metadata": {},
   "outputs": [
    {
     "data": {
      "text/plain": [
       "771.85"
      ]
     },
     "execution_count": 59,
     "metadata": {},
     "output_type": "execute_result"
    }
   ],
   "source": [
    "sum(tech_stocks.values())"
   ]
  },
  {
   "cell_type": "code",
   "execution_count": 40,
   "id": "baba498a-a903-4e72-86e4-26761e4b63a8",
   "metadata": {},
   "outputs": [
    {
     "data": {
      "text/plain": [
       "257.28333333333336"
      ]
     },
     "execution_count": 40,
     "metadata": {},
     "output_type": "execute_result"
    }
   ],
   "source": [
    "# Calculate the average stock price listed in this dictionary\n",
    "771.85 / 3"
   ]
  },
  {
   "cell_type": "code",
   "execution_count": 41,
   "id": "a251d427-07fc-420d-9174-a2844c429ab6",
   "metadata": {},
   "outputs": [],
   "source": [
    "# add 2 more stocks to the previously created dictionary, \n",
    "tech_stocks[\"META\"] = 509.58\n",
    "tech_stocks[\"NVDA\"] = 942.89"
   ]
  },
  {
   "cell_type": "code",
   "execution_count": 50,
   "id": "78752ad3-5f69-481c-8612-06b197a0debd",
   "metadata": {},
   "outputs": [
    {
     "name": "stdout",
     "output_type": "stream",
     "text": [
      "{'AAPL': 172.28, 'TSLA': 170.83, 'MSFT': 428.74, 'META': 509.58, 'NVDA': 942.89}\n"
     ]
    }
   ],
   "source": [
    "print(tech_stocks)"
   ]
  },
  {
   "cell_type": "code",
   "execution_count": 42,
   "id": "0213ff5b-79dc-4e31-9198-9f42f0829d3a",
   "metadata": {},
   "outputs": [
    {
     "data": {
      "text/plain": [
       "5"
      ]
     },
     "execution_count": 42,
     "metadata": {},
     "output_type": "execute_result"
    }
   ],
   "source": [
    "len(tech_stocks)"
   ]
  },
  {
   "cell_type": "code",
   "execution_count": 49,
   "id": "c193070e-37a6-4535-8ec0-6acb039886a7",
   "metadata": {},
   "outputs": [
    {
     "data": {
      "text/plain": [
       "444.86"
      ]
     },
     "execution_count": 49,
     "metadata": {},
     "output_type": "execute_result"
    }
   ],
   "source": [
    "# 1) calculate the new average using two different methods\n",
    "# Method 1 (rounded)\n",
    "round(sum(tech_stocks.values())/len(tech_stocks),2)"
   ]
  },
  {
   "cell_type": "code",
   "execution_count": 46,
   "id": "e54d9bf3-c97a-46ad-9720-8be90387afbf",
   "metadata": {},
   "outputs": [
    {
     "name": "stdout",
     "output_type": "stream",
     "text": [
      "444.86400000000003\n"
     ]
    }
   ],
   "source": [
    "# 2) calculate the new average using two different methods \n",
    "# Method 2\n",
    "print( (tech_stocks[\"AAPL\"] + \n",
    "        tech_stocks[\"TSLA\"] + \n",
    "        tech_stocks[\"MSFT\"] + \n",
    "        tech_stocks[\"META\"] + \n",
    "        tech_stocks[\"NVDA\"] )/len(tech_stocks))"
   ]
  },
  {
   "cell_type": "code",
   "execution_count": 51,
   "id": "effc9286-84bf-42b3-8b8e-dba230a76bc1",
   "metadata": {},
   "outputs": [
    {
     "data": {
      "text/plain": [
       "dict"
      ]
     },
     "execution_count": 51,
     "metadata": {},
     "output_type": "execute_result"
    }
   ],
   "source": [
    "type(tech_stocks)"
   ]
  },
  {
   "cell_type": "markdown",
   "id": "dd1689a0-63be-40b6-8088-8093b4619a01",
   "metadata": {},
   "source": [
    "### LESSON 2.2 PYTHON DICTIONARIES PRACTICE OPPORTUNITY SOLUTION\n",
    "Watch the video to see the solution to the practice opportunity:\n",
    "\n",
    "In this lesson, you learned how to:\n",
    "\n",
    "1. Define Python dictionaries and understand their use case,\n",
    "2. Access specific elements in Python dictionaries using their keys, and\n",
    "3. Add new items to and delete items from dictionaries.\n",
    "\n",
    "In the next lesson, you will learn about Python strings"
   ]
  },
  {
   "attachments": {},
   "cell_type": "markdown",
   "id": "22d90210-3cf1-46b8-9f75-2a6f572713eb",
   "metadata": {},
   "source": [
    "### LESSON 2.3 PYTHON STRINGS\n",
    "Welcome to this lesson on Python strings. In Python, a string is a sequence of characters that are enclosed by single or double quotation marks. Recall that we discussed strings before when we introduced the print() function.\n",
    "\n",
    "In this lesson, you will learn to:\n",
    "\n",
    "1. Define Python strings and understand their use case,\n",
    "2. Concatenate two or more strings together, and\n",
    "3. Apply string methods, such as `.split()` to split strings into a series of words and `.upper()` to convert strings from lowercase to uppercase.\n",
    "\n",
    "Now that you have learned how to define Python strings, concatenate two or more strings, and apply various methods to them, try the following practice opportunity:\n",
    "\n",
    "Assume that you work at a bank and you have been tasked with developing a Python code to obtain client feedback. Write a Python code that performs the following tasks:\n",
    "\n",
    "Prompts client to enter their feedback regarding the service and\n",
    "Splits the client input into words and prints them to the screen.\n",
    "Then try the following:\n",
    "\n",
    "* Test your code using three different user inputs.\n",
    "* Expand your code to request the user to enter their email address. The code should prompt clients to enter their email and then extract the user’s first name only. (*Note that the email format is as follows: firstname.lastname@gmail.com.*)\n",
    "\n",
    "You can access the Coding Lab for this lesson by using the following link (it will open in a new tab so you can follow along with examples and do the practice opportunity):\n",
    "\n",
    "Note that it may take up to five minutes to load the lab. If you still have difficulty accessing the Coding Lab, download the Jupyter Notebook to run the exercise in your local environment (as described in the introductory lesson Environment Setup and Jupyter Notebook Walk-Through):\n",
    "\n",
    "<img src=\"https://github.com/PachaTech/CFA-Level-1/blob/main/Practical%20skills%20python/-%20pics/-pystring.png?raw=true\">"
   ]
  },
  {
   "cell_type": "code",
   "execution_count": 60,
   "id": "debbb18c-9a88-406e-bf8d-9ac06a6443d3",
   "metadata": {},
   "outputs": [
    {
     "data": {
      "text/plain": [
       "'Hello & Welcome to Python Programming Fundamentals Course!'"
      ]
     },
     "execution_count": 60,
     "metadata": {},
     "output_type": "execute_result"
    }
   ],
   "source": [
    "# A string in Python is a sequence of characters\n",
    "# String can be enclosed by either double or single quotation marks\n",
    "welcome_message = \"Hello & Welcome to Python Programming Fundamentals Course!\"\n",
    "welcome_message"
   ]
  },
  {
   "cell_type": "code",
   "execution_count": 61,
   "id": "ea7421be-3454-425e-ae58-589fa3227bf2",
   "metadata": {},
   "outputs": [
    {
     "data": {
      "text/plain": [
       "str"
      ]
     },
     "execution_count": 61,
     "metadata": {},
     "output_type": "execute_result"
    }
   ],
   "source": [
    "# Let's obtain the datatype\n",
    "type(welcome_message)"
   ]
  },
  {
   "cell_type": "code",
   "execution_count": 62,
   "id": "c1486134-dfee-4ced-9843-99567cb4b3ba",
   "metadata": {},
   "outputs": [
    {
     "data": {
      "text/plain": [
       "'HELLO & WELCOME TO PYTHON PROGRAMMING FUNDAMENTALS COURSE!'"
      ]
     },
     "execution_count": 62,
     "metadata": {},
     "output_type": "execute_result"
    }
   ],
   "source": [
    "# The .upper() method is used to convert the string into uppercase\n",
    "welcome_message.upper()"
   ]
  },
  {
   "cell_type": "code",
   "execution_count": 63,
   "id": "97104f56-ed3d-467b-8c8f-4307e86d2002",
   "metadata": {},
   "outputs": [
    {
     "data": {
      "text/plain": [
       "['Hello',\n",
       " '&',\n",
       " 'Welcome',\n",
       " 'to',\n",
       " 'Python',\n",
       " 'Programming',\n",
       " 'Fundamentals',\n",
       " 'Course!']"
      ]
     },
     "execution_count": 63,
     "metadata": {},
     "output_type": "execute_result"
    }
   ],
   "source": [
    "# The .split() method is used to divide up the string into words \n",
    "# The output from the .split() method is a list which is denoted by square bracket - []\n",
    "words = welcome_message.split()\n",
    "words"
   ]
  },
  {
   "cell_type": "code",
   "execution_count": 64,
   "id": "3042d121-00f1-4c8b-a38f-fd72815cdad6",
   "metadata": {},
   "outputs": [
    {
     "data": {
      "text/plain": [
       "list"
      ]
     },
     "execution_count": 64,
     "metadata": {},
     "output_type": "execute_result"
    }
   ],
   "source": [
    "# Note that you split the string into words that are listed in a Python list\n",
    "# Let's confirm the datatype!\n",
    "type(words)"
   ]
  },
  {
   "cell_type": "code",
   "execution_count": 65,
   "id": "35f7e16d-5546-41d6-80c4-567f1182f568",
   "metadata": {},
   "outputs": [
    {
     "data": {
      "text/plain": [
       "['Hello ', ' Welcome to Python Programming Fundamentals Course!']"
      ]
     },
     "execution_count": 65,
     "metadata": {},
     "output_type": "execute_result"
    }
   ],
   "source": [
    "# You can specify which letter could be used to perform the split\n",
    "words = welcome_message.split('&')\n",
    "words"
   ]
  },
  {
   "cell_type": "code",
   "execution_count": 66,
   "id": "c7e805f2-039c-465d-9e8a-568d9f40cb3f",
   "metadata": {},
   "outputs": [
    {
     "data": {
      "text/plain": [
       "'SarahDavid'"
      ]
     },
     "execution_count": 66,
     "metadata": {},
     "output_type": "execute_result"
    }
   ],
   "source": [
    "# Combining two strings together (Let's combine the first and last name of an investor)\n",
    "first_name = \"Sarah\" \n",
    "last_name = \"David\"\n",
    "full_name = first_name + last_name\n",
    "full_name"
   ]
  },
  {
   "cell_type": "code",
   "execution_count": 67,
   "id": "99be058e-017a-4299-a35a-8cff1e2012be",
   "metadata": {},
   "outputs": [
    {
     "data": {
      "text/plain": [
       "'Sarah David'"
      ]
     },
     "execution_count": 67,
     "metadata": {},
     "output_type": "execute_result"
    }
   ],
   "source": [
    "# You can combine both strings together and add spaces in between\n",
    "full_name = first_name + \" \" + last_name\n",
    "full_name"
   ]
  },
  {
   "cell_type": "markdown",
   "id": "df355169-4c2d-417d-86e7-d4f53273b10a",
   "metadata": {},
   "source": [
    "**PRACTICE OPPORTUNITY:**\n",
    "- **Assume that you work at a bank and you have been tasked to develop a Python code that asks clients to provide their feedback regarding the bank service and break their input into individual words. Write a Python code that performs the following tasks:** \n",
    "    - **1. Prompt client to enter his/her feedback regarding the service and obtains their input** \n",
    "    - **2. Split the client input into words and print them to the screen**\n",
    "    - **3. Test your code using 3 different user inputs**\n",
    "    - **4. Expand your code to request the user to enter his/her email address. The code should prompt clients requesting his/her e-mail and then extracts the user first name only (Note that the e-mail format is as follows: firstname.lastname@gmail.com)**"
   ]
  },
  {
   "cell_type": "code",
   "execution_count": 29,
   "id": "d935febf-ea7c-476e-a826-6d0b0fb0c790",
   "metadata": {},
   "outputs": [
    {
     "name": "stdin",
     "output_type": "stream",
     "text": [
      "Bienvenido el banco del Mikito, Que quires hacer hoy dia? I want a withdrawal\n"
     ]
    }
   ],
   "source": [
    "# Prompt client to enter their feedback regarding service \n",
    "# Don't split words\n",
    "promptclient = input(\"Bienvenido el banco del Mikito, Que quires hacer hoy dia?\")"
   ]
  },
  {
   "cell_type": "code",
   "execution_count": 21,
   "id": "71ce5db1-ab62-4f03-916d-135e69105ab3",
   "metadata": {},
   "outputs": [
    {
     "name": "stdin",
     "output_type": "stream",
     "text": [
      "Bienvenido el banco del Mikito, Que quires hacer hoy dia? Help\n"
     ]
    },
    {
     "name": "stdout",
     "output_type": "stream",
     "text": [
      "Print the list of words users entered: ['Help']\n"
     ]
    }
   ],
   "source": [
    "# Prompt client to enter their feedback regarding service \n",
    "# Obtains their input\n",
    "\n",
    "promptclient = input(\"Bienvenido el banco del Mikito, Que quires hacer hoy dia?\")\n",
    "words = promptclient.split(\" \")\n",
    "print(\"Print the list of words users entered:\", words)"
   ]
  },
  {
   "cell_type": "code",
   "execution_count": 22,
   "id": "c97c4af3-18c5-4006-be4e-a6a48fbfb439",
   "metadata": {},
   "outputs": [
    {
     "name": "stdin",
     "output_type": "stream",
     "text": [
      "Bienvenido el banco del Mikito, Que quires hacer hoy dia? Ayudame\n"
     ]
    },
    {
     "name": "stdout",
     "output_type": "stream",
     "text": [
      "Print the list of words users entered: ['Ayudame']\n"
     ]
    }
   ],
   "source": [
    "promptclient = input(\"Bienvenido el banco del Mikito, Que quires hacer hoy dia?\")\n",
    "words = promptclient.split(\" \")\n",
    "print(\"Print the list of words users entered:\", words)"
   ]
  },
  {
   "cell_type": "code",
   "execution_count": 23,
   "id": "fbe8c17c-2c52-4117-8400-8e3ba35667e2",
   "metadata": {},
   "outputs": [
    {
     "name": "stdin",
     "output_type": "stream",
     "text": [
      "Bienvenido el banco del Mikito, Que quires hacer hoy dia? quiero ver mis ganancias!\n"
     ]
    },
    {
     "name": "stdout",
     "output_type": "stream",
     "text": [
      "Print the list of words users entered: ['quiero', 'ver', 'mis', 'ganancias!']\n"
     ]
    }
   ],
   "source": [
    "promptclient = input(\"Bienvenido el banco del Mikito, Que quires hacer hoy dia?\")\n",
    "words = promptclient.split(\" \")\n",
    "print(\"Print the list of words users entered:\", words)"
   ]
  },
  {
   "cell_type": "code",
   "execution_count": 24,
   "id": "89823344-255e-4647-b1b6-99589f06988f",
   "metadata": {},
   "outputs": [
    {
     "name": "stdin",
     "output_type": "stream",
     "text": [
      "Por favor, entra tu correo electronico mikito@bancodelmikitoSAC.com.pe\n"
     ]
    }
   ],
   "source": [
    "# Part 4\n",
    "# Expand your code to request the user to enter his/her email address.\n",
    "# The code should prompt clients requesting his/her e-mail \n",
    "# and then extracts the user first name only!\n",
    "# (Note that the e-mail format is as follows: firstname.lastname@gmail.com)\n",
    "\n",
    "email = input(\"Por favor, entra tu correo electronico\")\n",
    "out = email.split(\"@\")\n",
    "# electronicomikito@bancodelmikitoSAC.com.pe"
   ]
  },
  {
   "cell_type": "code",
   "execution_count": 25,
   "id": "1ac93ab9-300a-4926-be46-a134740e3b93",
   "metadata": {},
   "outputs": [
    {
     "data": {
      "text/plain": [
       "list"
      ]
     },
     "execution_count": 25,
     "metadata": {},
     "output_type": "execute_result"
    }
   ],
   "source": [
    "type(out)"
   ]
  },
  {
   "cell_type": "code",
   "execution_count": 26,
   "id": "7500d672-2a7a-48e6-a26c-a1b2d702b4cc",
   "metadata": {},
   "outputs": [
    {
     "data": {
      "text/plain": [
       "2"
      ]
     },
     "execution_count": 26,
     "metadata": {},
     "output_type": "execute_result"
    }
   ],
   "source": [
    "len(out)"
   ]
  },
  {
   "cell_type": "code",
   "execution_count": 27,
   "id": "d13f7042-d9f0-40a9-bc3a-81120254f8c2",
   "metadata": {},
   "outputs": [
    {
     "data": {
      "text/plain": [
       "'mikito'"
      ]
     },
     "execution_count": 27,
     "metadata": {},
     "output_type": "execute_result"
    }
   ],
   "source": [
    "out[0]"
   ]
  },
  {
   "cell_type": "code",
   "execution_count": 28,
   "id": "7540facf-2896-4f93-9f48-f38d97aa037a",
   "metadata": {},
   "outputs": [
    {
     "name": "stdout",
     "output_type": "stream",
     "text": [
      "mikito\n"
     ]
    }
   ],
   "source": [
    "# Obtained from solutions\n",
    "\n",
    "# We will perform the split on the first list element only\n",
    "# i.e. remove the quote marks using split()\n",
    "removequotes = out[0].split('.')\n",
    "print(removequotes[0])"
   ]
  },
  {
   "attachments": {},
   "cell_type": "markdown",
   "id": "b1a338d7-850d-41a4-b6fb-981b43975a5b",
   "metadata": {},
   "source": [
    "### LESSON 2.4 COMPARISON OPERATORS\n",
    "Assignment operators assign a value to a variable, whereas comparison operators compare two values and return True or False. Please note that comparison operators are very useful when dealing with if-else statements and while loops (covered in later lessons).\n",
    "\n",
    "In this lesson, you will learn to:\n",
    "\n",
    "1. Apply comparison operators in Python to compare two operands with each other,\n",
    "2. Understand the difference in syntax between comparison operators and assignment statements, and\n",
    "\n",
    "\n",
    "Now that you know how to compare operands in Python and understand comparison versus assignment operators and Boolean data types, try the practice opportunity:\n",
    "\n",
    "* Without executing it, predict what this code will generate.\n",
    "```python\n",
    "revenue_A = 2500\n",
    "revenue_B = 2000\n",
    "print(revenue_A == revenue_B)\n",
    "print(revenue_A != revenue_B)\n",
    "print(revenue_A > revenue_B)\n",
    "print(revenue_A < revenue_B)\n",
    "```\n",
    "* Run the code, and confirm that you have the correct answer.\n",
    "\n",
    "<img src=\"https://github.com/PachaTech/CFA-Level-1/blob/main/Practical%20skills%20python/-%20pics/-compareops.png?raw=true\">\n",
    "\n",
    "<img src=\"https://github.com/PachaTech/CFA-Level-1/blob/main/Practical%20skills%20python/-%20pics/-compareops2.png?raw=true\">\n"
   ]
  },
  {
   "cell_type": "code",
   "execution_count": 30,
   "id": "f31a27b6-7d7e-4330-92e3-74c0fb9b2f63",
   "metadata": {},
   "outputs": [
    {
     "name": "stdout",
     "output_type": "stream",
     "text": [
      "True\n"
     ]
    }
   ],
   "source": [
    "# Comparison Operator output could be \"True\" or \"False\"\n",
    "# Let's assume that we want to compare two companies revenue: Company A and Company B\n",
    "# Let's cover equal '==' comparison operator first\n",
    "# It's simply a question: \"Is revenue_A equals to revenue_B or not?\"\n",
    "# \"True\" output means condition is satisfied \n",
    "# \"False\" output means condition is not satisfied (condition is not true) \n",
    "\n",
    "revenue_A = 1000\n",
    "revenue_B = 1000\n",
    "\n",
    "# Compare revenue for company A to B \n",
    "print(revenue_A == revenue_B)"
   ]
  },
  {
   "cell_type": "code",
   "execution_count": 31,
   "id": "7e6afefd-0e45-4d09-86f0-2111c6126541",
   "metadata": {},
   "outputs": [
    {
     "data": {
      "text/plain": [
       "True"
      ]
     },
     "execution_count": 31,
     "metadata": {},
     "output_type": "execute_result"
    }
   ],
   "source": [
    "# Greater than or equal operator '>='\n",
    "revenue_A = 5000\n",
    "revenue_B = 1000\n",
    "revenue_A >= revenue_B"
   ]
  },
  {
   "cell_type": "code",
   "execution_count": 32,
   "id": "dc606fd8-1359-42c9-a893-a9884ba89ed5",
   "metadata": {},
   "outputs": [],
   "source": [
    "# Note that '==' is a comparison operator \n",
    "# Note that '=' is used for variable assignment (put 10 in revenue_A)\n",
    "revenue_A = 10"
   ]
  },
  {
   "cell_type": "code",
   "execution_count": 33,
   "id": "2efb7e6a-9c30-473b-8d9f-fca057e82a8d",
   "metadata": {},
   "outputs": [
    {
     "data": {
      "text/plain": [
       "10"
      ]
     },
     "execution_count": 33,
     "metadata": {},
     "output_type": "execute_result"
    }
   ],
   "source": [
    "revenue_A"
   ]
  },
  {
   "cell_type": "code",
   "execution_count": 34,
   "id": "c910acf8-d106-4f65-aff8-6f68d70dceec",
   "metadata": {},
   "outputs": [
    {
     "data": {
      "text/plain": [
       "False"
      ]
     },
     "execution_count": 34,
     "metadata": {},
     "output_type": "execute_result"
    }
   ],
   "source": [
    "# Not equal comparison operator is defined as follows: '!='\n",
    "\n",
    "revenue_A = 1000\n",
    "revenue_B = 1000\n",
    "revenue_A != revenue_B"
   ]
  },
  {
   "cell_type": "markdown",
   "id": "e4a7c358-391c-407f-87d1-4bb222dd9d09",
   "metadata": {},
   "source": [
    "**PRACTICE OPPORTUNITY:**\n",
    "- **1. Without executing the following code, what will this code generate?**\n",
    "\n",
    "```python\n",
    "    revenue_A = 2500\n",
    "    revenue_B = 2000\n",
    "\n",
    "    print(revenue_A == revenue_B) \n",
    "    print(revenue_A != revenue_B) \n",
    "    print(revenue_A > revenue_B)\n",
    "    print(revenue_A < revenue_B) \n",
    "```\n",
    "- **2. Run the code and confirm that you have the correct answer**"
   ]
  },
  {
   "cell_type": "code",
   "execution_count": 36,
   "id": "ed729185-cbd6-4707-ab22-2f8169ab2ef3",
   "metadata": {},
   "outputs": [
    {
     "name": "stdout",
     "output_type": "stream",
     "text": [
      "False\n",
      "True\n",
      "True\n",
      "False\n"
     ]
    }
   ],
   "source": [
    "# Additional information from: \"https://networklessons.com/python/python-comparison-operators\"\n",
    "revenue_A = 2500\n",
    "revenue_B = 2000\n",
    "\n",
    "print(revenue_A == revenue_B) \n",
    "print(revenue_A != revenue_B) \n",
    "print(revenue_A > revenue_B)\n",
    "print(revenue_A < revenue_B) "
   ]
  },
  {
   "attachments": {},
   "cell_type": "markdown",
   "id": "6023d4a2-1e08-4bed-9b8f-a31db5066f60",
   "metadata": {},
   "source": [
    "### LESSON 2.5 CONDITIONAL STATEMENTS\n",
    "Conditional statements, also known as if-else statements, contain a body of code that runs only when the condition in the if statement is true. If the condition is false, the else statement will be executed.\n",
    "\n",
    "In this lesson, you will:\n",
    "\n",
    "1. Understand conditional, or if-else, statements in Python,\n",
    "2. Develop a simple password authentication application, and\n",
    "3. Develop a Python application that can evaluate stocks and indicate whether they’re overvalued, fairly valued, or undervalued.\n",
    "\n",
    "Now that you have learned to branch using an if-else statement, try the practice opportunity:\n",
    "\n",
    "Consider a company, XYZ Inc., whose stock is currently trading at \\\\$64 per share. The company requires a 14\\% minimum rate of return $(r)$ and pays a dividend of \\\\$2 dividend per share this year $(D_0)$, which is expected to increase by 10% annually $(g)$.\n",
    "\n",
    "* Review the dividend discount model, and write down the formula.\n",
    "* Calculate the intrinsic value (P) of the stock.\n",
    "* Assume that you are evaluating whether to invest in XYZ Inc. or not. Write a Python code that compares the current intrinsic value with the stock price and prints out one of the following recommendations: overvalued, undervalued, or fairly valued.\n",
    "* Expand the code so users can enter the current stock price, minimum rate of return, current dividend, * and annual growth and print out the recommendation to the screen.\n",
    "* Sample code output:\n",
    "\n",
    "```\n",
    "Enter this year’s dividend: 2\n",
    "Enter the company’s expected dividend growth: 0.1\n",
    "Enter the company’s cost of equity: 0.14\n",
    "Enter the current stock price: 64\n",
    "The company value based on the dividend discount model = $55.0\n",
    "The stock is overvalued; you should not invest in this company stock.\n",
    "```\n",
    "\n",
    "<img src=\"https://github.com/PachaTech/CFA-Level-1/blob/main/Practical%20skills%20python/-%20pics/-ifelse.png?raw=true\">\n",
    "<img src=\"https://github.com/PachaTech/CFA-Level-1/blob/main/Practical%20skills%20python/-%20pics/-ifelse2.png?raw=true\">"
   ]
  },
  {
   "cell_type": "code",
   "execution_count": 37,
   "id": "6dbc65b1-04a1-4fca-9d2a-90eb956b7259",
   "metadata": {},
   "outputs": [
    {
     "name": "stdout",
     "output_type": "stream",
     "text": [
      "Company A generates equal revenue to Company B\n"
     ]
    }
   ],
   "source": [
    "# Let's assume that we want to compare two companies' revenue - company A and company B\n",
    "# Note that you will need to validate each branch in the If-else condition\n",
    "\n",
    "revenue_A = 2000\n",
    "revenue_B = 2000\n",
    "\n",
    "if revenue_A > revenue_B:\n",
    "    print('Company A generates more revenue compared to Company B')\n",
    "elif revenue_A < revenue_B:\n",
    "    print('Company B generates more revenue compared to Company B')\n",
    "else:\n",
    "    print('Company A generates equal revenue to Company B')"
   ]
  },
  {
   "cell_type": "code",
   "execution_count": 38,
   "id": "1d30245c-1f17-4dad-9589-1ec521335315",
   "metadata": {},
   "outputs": [
    {
     "name": "stdin",
     "output_type": "stream",
     "text": [
      "Please enter an integer from 1 to 1000:  5\n"
     ]
    },
    {
     "name": "stdout",
     "output_type": "stream",
     "text": [
      "Number is odd\n"
     ]
    }
   ],
   "source": [
    "# A code that indicates if a number is even or odd \n",
    "# Note that the mod % is used to calculate the remainder from the division operation \n",
    "x = int(input(\"Please enter an integer from 1 to 1000: \"))\n",
    "\n",
    "if x % 2 == 0:\n",
    "    print('Number is even')\n",
    "else:\n",
    "    print('Number is odd')"
   ]
  },
  {
   "cell_type": "code",
   "execution_count": 39,
   "id": "ee64689e-a025-49cb-aa74-51433714265f",
   "metadata": {},
   "outputs": [
    {
     "name": "stdin",
     "output_type": "stream",
     "text": [
      "Welcome to the bank, please enter your username: Michael E\n",
      "please enter your password: sdcjnsdcjnde\n"
     ]
    },
    {
     "name": "stdout",
     "output_type": "stream",
     "text": [
      "Access denied, please try again\n"
     ]
    }
   ],
   "source": [
    "# You can also compare two strings \n",
    "# Let's develop a username and password authentication code \n",
    "# The code obtains the username and password from the user and grants or denies access accordingly\n",
    "\n",
    "username = input('Welcome to the bank, please enter your username:')\n",
    "password = input('please enter your password:')\n",
    "\n",
    "# Note that \"and\" is a logical operator that generates \"True\" of both conditions are \"True\"\n",
    "if username == 'RyanAhmed' and password =='123$abc':\n",
    "    print(\"Access granted\")\n",
    "else:\n",
    "    print(\"Access denied, please try again\")"
   ]
  },
  {
   "attachments": {},
   "cell_type": "markdown",
   "id": "85991de3-f016-424c-897c-5560eb1b58c6",
   "metadata": {},
   "source": [
    "**PRACTICE OPPORTUNITY:**\n",
    "- **Consider a company XYZ Inc. whose stock is currently trading at \\\\$64 per share. The company requires a 14\\% minimum rate of return $(r)$ and pays a dividend of \\\\$2 dividend per share this year $(D0)$, which is expected to increase by 10\\% annually $(g)$.**\n",
    "\n",
    "    - **1. Review the Dividend Discount Model and write down the formula**\n",
    "    - **2. Calculate the intrinsic value $(P)$ of the stock**\n",
    "    - **3. Assume that you are evaluating whether to invest in XYZ Inc. or not. Write a Python code that compares the current intinsic value to the stock price and prints out one of the following recommendations: overvalued, undervalued, or fairly valued** \n",
    "    - **4. Expand the code so users can enter the current stock price, minimum rate of return, current dividend, and annual growth and print out the recommendation to the screen**\n",
    "    \n",
    "    \n",
    "- **A sample code output is as shown below:**\n",
    "    - Enter this year's dividend: 2\n",
    "    - Enter the company's expected dividend growth: 0.1\n",
    "    - Enter the company's cost of equity: 0.14\n",
    "    - Enter the current stock price: 64\n",
    "    - The stock value based on the Dividend Discount Model = $55.0\n",
    "    - Stock is overvalued, you should not invest in this stock\n",
    "\n",
    "<img src=\"https://github.com/PachaTech/CFA-Level-1/blob/main/Practical%20skills%20python/-%20pics/-ifelse3.png?raw=true\">"
   ]
  },
  {
   "cell_type": "code",
   "execution_count": 52,
   "id": "5f22da5e-2a70-45c8-9bd8-59444924bcf6",
   "metadata": {},
   "outputs": [],
   "source": [
    "# Enter recent MOC stock price.\n",
    "P = 64"
   ]
  },
  {
   "cell_type": "markdown",
   "id": "ab5b7b85-99a9-45a1-9da1-25598de32254",
   "metadata": {},
   "source": [
    "$P = \\Large\\frac{D_1}{(r-g)} = \\frac{D_0(1+g)}{r-g}$"
   ]
  },
  {
   "cell_type": "code",
   "execution_count": 51,
   "id": "03fc3478-7391-4fcd-95d6-4039c1e334f0",
   "metadata": {},
   "outputs": [
    {
     "name": "stdout",
     "output_type": "stream",
     "text": [
      "The stock value based on the Dividend Discount Model = $55.0\n"
     ]
    }
   ],
   "source": [
    "# Inputs for Dividend discount model (above)\n",
    "\n",
    "# Dividend D0\n",
    "D0 = 2\n",
    "\n",
    "# costant g price increase or expected dividend price increase (pct)\n",
    "g = 0.1\n",
    "\n",
    "# cost of equity\n",
    "r = 0.14\n",
    "\n",
    "# Calculate next year's dividend D1\n",
    "D1 = D0 * (1 + g)\n",
    "\n",
    "# Dividend Discount Model to calculate next year's dividend (D1)\n",
    "D11 = D1/(r-g)\n",
    "\n",
    "# Print clean output\n",
    "print(\"The stock value based on the Dividend Discount Model = ${}\".format(round(D11, 2)))"
   ]
  },
  {
   "cell_type": "code",
   "execution_count": 53,
   "id": "82fc24d6-07e9-4088-82b5-a669fe461324",
   "metadata": {},
   "outputs": [
    {
     "name": "stdout",
     "output_type": "stream",
     "text": [
      "Stock is overvalued, you Should not invest in this stock\n"
     ]
    }
   ],
   "source": [
    "if P > D11:\n",
    "    print(\"Stock is overvalued, you Should not invest in this stock\")\n",
    "\n",
    "elif P < D11:\n",
    "    print(\"Stock is undervalued, you Should invest in this stock\")\n",
    "    \n",
    "else:\n",
    "    print('Stock is fairly valued')"
   ]
  },
  {
   "cell_type": "code",
   "execution_count": 59,
   "id": "09656dbc-2119-4288-a167-0b76966d8c05",
   "metadata": {},
   "outputs": [
    {
     "name": "stdin",
     "output_type": "stream",
     "text": [
      "Enter this year's dividend:  100\n",
      "Enter the company's expected dividend growth:  1\n",
      "Enter the company's cost of equity:  .14\n",
      "Enter the current stock price:  55\n"
     ]
    },
    {
     "name": "stdout",
     "output_type": "stream",
     "text": [
      "The stock value based on the Dividend Discount Model = $200.0\n",
      "Stock is undervalued, you Should invest in this stock\n"
     ]
    }
   ],
   "source": [
    "# Used help from solutions because confused about float\n",
    "\n",
    "# Note that float has been used instead of integer (int) datatype since user inputs could have decimal points\n",
    "D0 = float(input(\"Enter this year's dividend: \"))\n",
    "g  = float(input(\"Enter the company's expected dividend growth: \"))\n",
    "r  = float(input(\"Enter the company's cost of equity: \"))\n",
    "P  = float(input(\"Enter the current stock price: \"))\n",
    "\n",
    "\n",
    "# Let's calculate next year's dividend dividend_1\n",
    "D1 = D0 * (1 + g)\n",
    "\n",
    "\n",
    "# Perform stock valuation using the dividend discount model \n",
    "D11 = D1 / (r - g) \n",
    "print(\"The stock value based on the Dividend Discount Model = ${}\".format(round(D1, 2)))\n",
    "\n",
    "\n",
    "# Compare the stock valuation (based on the dividend growth model) to the current stock price\n",
    "\n",
    "if P > D1:\n",
    "    print(\"Stock is overvalued, you Should not invest in this stock\")\n",
    "\n",
    "elif P < D1:\n",
    "    print(\"Stock is undervalued, you Should invest in this stock\")\n",
    "\n",
    "else:\n",
    "    print('Stock is fairly valued')\n",
    "    "
   ]
  },
  {
   "cell_type": "markdown",
   "id": "5e362f57-0c91-4693-b8af-0edc455e4088",
   "metadata": {},
   "source": [
    "<hr>\n",
    "\n",
    "### UNIT 3 INTRODUCTION AND WELCOME MESSAGE\n",
    "Welcome to this unit on Python Programming Fundamentals Part 3.\n",
    "\n",
    "So far, we have learned how to obtain data from the user using the `input()` function, perform math operations, and print data to the screen using the `print()` function. We also learned about the syntax and use cases of Python lists, dictionaries, and strings and how to make decisions using `if-else` statements.\n",
    "\n",
    "In this unit, we will cover key Python programming fundamentals, such as loops and functions. Loops allow us to write a block of code once and then repeat it as many times as needed. Functions represent blocks of code that perform specific tasks, and you can call them, send them arguments, and receive data from them.\n",
    "\n",
    "There are five lessons in this unit:\n",
    "\n",
    "* Lesson 3.1 - `“For”` Loops\n",
    "* Lesson 3.2 - Python `Range()` Function\n",
    "* Lesson 3.3 - `“While”` Loops\n",
    "* Lesson 3.4 - Functions\n",
    "* Lesson 3.5 - Python Built-In Functions\n",
    "\n",
    "In this unit, you will learn to:\n",
    "\n",
    "1. Describe the syntax and use cases of \"for\" and \"while\" loops in Python;\n",
    "2. Describe the use case of the range() function and how it could be used with for loops;\n",
    "3. Describe the syntax and use cases of functions in Python;\n",
    "4. Learn how to call Python functions, send them arguments, and receive data from them;\n",
    "5. Develop a function that calculates the future value of money given the present value, annual interest rate, number of years, and number of compounding periods; and\n",
    "6. Leverage pre-defined Python built-in functions.\n"
   ]
  },
  {
   "attachments": {},
   "cell_type": "markdown",
   "id": "bc37be74-4bc6-4c7b-a73d-62025ff7d69d",
   "metadata": {},
   "source": [
    "### LESSON 3.1 “FOR” LOOPS\n",
    "Welcome to this lesson on \"for\" loops. Python loops are powerful because they allow coders to shorten thousands of lines of code to just a few lines. Loops allow us to write a block of code once and then repeat it as many times as needed.\n",
    "\n",
    "This lesson will help you:\n",
    "\n",
    "* Understand the syntax of \"for\" loops in Python,\n",
    "* Write \"for\" loops that iterate over Python lists, and\n",
    "* Use \"for\" loops to iterate over characters of a Python string.\n",
    "\n",
    "Now that you have met the Python \"for\" loop, attempt the following practice opportunity.\n",
    "\n",
    "* Write some Python code that performs the following tasks:\n",
    "    * Defines a list named “my_list” that contains the following values: 10, 5, 3.\n",
    "    * Multiplies all elements in the list using \"for\" loops.\n",
    "\n",
    "* Confirm your answer by leveraging the multiplication operation defined in the math module. (External research is required.)\n",
    "\n",
    "<img src=\"https://github.com/PachaTech/CFA-Level-1/blob/main/Practical%20skills%20python/-%20pics/-forloops.png?raw=true\">"
   ]
  },
  {
   "cell_type": "code",
   "execution_count": 72,
   "id": "f53de65e-f06b-46d9-b0b6-7cd2c9e1d6fe",
   "metadata": {},
   "outputs": [
    {
     "data": {
      "text/plain": [
       "['Company A', 'Company B', 'Company C', 'Company D']"
      ]
     },
     "execution_count": 72,
     "metadata": {},
     "output_type": "execute_result"
    }
   ],
   "source": [
    "# Let's define a python list that contains 4 different company names - A, B, C, and D  \n",
    "company_names = ['Company A', 'Company B', 'Company C', 'Company D']\n",
    "company_names"
   ]
  },
  {
   "cell_type": "code",
   "execution_count": 73,
   "id": "64a80dda-3ac3-4e14-9bc8-2c79d5929d18",
   "metadata": {},
   "outputs": [
    {
     "name": "stdout",
     "output_type": "stream",
     "text": [
      "Company A\n",
      "Company B\n",
      "Company C\n",
      "Company D\n"
     ]
    }
   ],
   "source": [
    "# Now we want to print all company names listed in \"company_names\" list\n",
    "# We can repeat the print function several times as shown below \n",
    "# This strategy involves writing many lines of code that perform the same \"print\" operation\n",
    "# Recall that python lists start with index = 0 \n",
    "print(company_names[0])\n",
    "print(company_names[1])\n",
    "print(company_names[2])\n",
    "print(company_names[3])"
   ]
  },
  {
   "cell_type": "code",
   "execution_count": 74,
   "id": "5fa4b171-f0b4-47d5-8bca-20928dd6da86",
   "metadata": {},
   "outputs": [
    {
     "name": "stdout",
     "output_type": "stream",
     "text": [
      "Company A\n",
      "Company B\n",
      "Company C\n",
      "Company D\n"
     ]
    }
   ],
   "source": [
    "# Alternatively, we can use loops to generate the same output\n",
    "# We can loop over company_names list and print them to the screen using for loops \n",
    "# Note that \"i\" is a temporary variable that is used within the \"For\" loop to carry company names\n",
    "for i in company_names:\n",
    "    print(i)"
   ]
  },
  {
   "cell_type": "code",
   "execution_count": 75,
   "id": "b7052c85-a986-4f27-bf5c-1669068ed37d",
   "metadata": {},
   "outputs": [
    {
     "data": {
      "text/plain": [
       "[600000, 900000, 1000000, 1100000]"
      ]
     },
     "execution_count": 75,
     "metadata": {},
     "output_type": "execute_result"
    }
   ],
   "source": [
    "# We can also loop over a Python list that contains integers or floating points \n",
    "# Let's define another python list that contains revenues from companies listed in \"company_names\" list \n",
    "# i.e.: Company A revenue is 600000 \n",
    "# i.e.: Company D revenue is 1100000\n",
    "company_revenues = [600000, 900000, 1000000, 1100000]\n",
    "company_revenues"
   ]
  },
  {
   "cell_type": "code",
   "execution_count": 76,
   "id": "2aa30ca5-4a51-46a2-b29e-031ba241a45c",
   "metadata": {},
   "outputs": [
    {
     "data": {
      "text/plain": [
       "3600000"
      ]
     },
     "execution_count": 76,
     "metadata": {},
     "output_type": "execute_result"
    }
   ],
   "source": [
    "# Let's loop over all company revenues and add them up\n",
    "# We can do this using \"For\" loops as well \n",
    "\n",
    "# Define an accumulator and initialize it to zero\n",
    "total_revenue = 0\n",
    "\n",
    "for i in company_revenues:\n",
    "    total_revenue = total_revenue + i\n",
    "    \n",
    "total_revenue"
   ]
  },
  {
   "cell_type": "code",
   "execution_count": 77,
   "id": "9b818b36-255a-401f-8651-c6ed22563661",
   "metadata": {},
   "outputs": [
    {
     "data": {
      "text/plain": [
       "3600000"
      ]
     },
     "execution_count": 77,
     "metadata": {},
     "output_type": "execute_result"
    }
   ],
   "source": [
    "# Note that alternatively we can use the sum function to sum up all elements in the list \n",
    "sum(company_revenues)"
   ]
  },
  {
   "cell_type": "code",
   "execution_count": 78,
   "id": "3232585a-5968-4ee6-8371-2257a0bde6ee",
   "metadata": {},
   "outputs": [
    {
     "name": "stdout",
     "output_type": "stream",
     "text": [
      "W\n",
      "e\n",
      "l\n",
      "c\n",
      "o\n",
      "m\n",
      "e\n",
      " \n",
      "t\n",
      "o\n",
      " \n",
      "P\n",
      "y\n",
      "t\n",
      "h\n",
      "o\n",
      "n\n",
      " \n",
      "P\n",
      "r\n",
      "o\n",
      "g\n",
      "r\n",
      "a\n",
      "m\n",
      "m\n",
      "i\n",
      "n\n",
      "g\n",
      " \n",
      "F\n",
      "u\n",
      "n\n",
      "d\n",
      "a\n",
      "m\n",
      "e\n",
      "n\n",
      "t\n",
      "a\n",
      "l\n",
      "s\n",
      " \n",
      "C\n",
      "o\n",
      "u\n",
      "r\n",
      "s\n",
      "e\n"
     ]
    }
   ],
   "source": [
    "# We can also use \"For\" loops to iterate over characters of a Python string\n",
    "message = 'Welcome to Python Programming Fundamentals Course'\n",
    "for character in message:\n",
    "    print(character)"
   ]
  },
  {
   "cell_type": "markdown",
   "id": "2ecabcb8-b408-4c40-a8fe-bcb282d63872",
   "metadata": {},
   "source": [
    "**PRACTICE OPPORTUNITY:** \n",
    "- **Write a python code that performs the following tasks:** \n",
    "    - **1. Defines a list named \"my_list\" that contains the following values: 10, 5, 3**\n",
    "    - **2. Multiplies all elements in the list using for loops**\n",
    "    - **3. Confirm your answer by leveraging the multiplication operation defined in the math module [External Research is Required]**"
   ]
  },
  {
   "cell_type": "code",
   "execution_count": 80,
   "id": "ad17cf7d-ffcf-48f5-84ff-4fa9e05a25c2",
   "metadata": {},
   "outputs": [
    {
     "data": {
      "text/plain": [
       "[10, 5, 3]"
      ]
     },
     "execution_count": 80,
     "metadata": {},
     "output_type": "execute_result"
    }
   ],
   "source": [
    "# Define my_list\n",
    "my_list = [10, 5, 3]\n",
    "my_list"
   ]
  },
  {
   "cell_type": "markdown",
   "id": "27679214-5aca-4b53-8619-9be0442b2682",
   "metadata": {},
   "source": [
    "**The anatomy of the accumulation pattern includes:**\n",
    "* initializing an “accumulator” variable to an initial value (such as 0 if accumulating a sum)\n",
    "* iterating (e.g., traversing the items in a sequence)\n",
    "* updating the accumulator variable on each iteration  (i.e., when processing each item in the sequence)\n",
    "\n",
    "`source:` https://runestone.academy/ns/books/published/fopp/Iteration/TheAccumulatorPattern.html\n"
   ]
  },
  {
   "cell_type": "code",
   "execution_count": 95,
   "id": "ac42a57c-9794-4fdb-ba10-de58a8279ed1",
   "metadata": {},
   "outputs": [
    {
     "data": {
      "text/plain": [
       "150"
      ]
     },
     "execution_count": 95,
     "metadata": {},
     "output_type": "execute_result"
    }
   ],
   "source": [
    "# The anatomy of the accumulation pattern includes:\n",
    "# initializing an “accumulator” variable to an initial value (such as 0 if accumulating a sum)\n",
    "# iterating (e.g., traversing the items in a sequence)\n",
    "# updating the accumulator variable on each iteration (i.e., when processing each item in the sequence)\n",
    "# source: https://runestone.academy/ns/books/published/fopp/Iteration/TheAccumulatorPattern.html\n",
    "\n",
    "# Initialize the iteration step to 1 (accumulator)\n",
    "accumulator = 1  # if set to 0 everything goes to 0\n",
    "\n",
    "# iterate i in my_list\n",
    "for i in my_list:\n",
    "    accumulator = accumulator * i\n",
    "\n",
    "accumulator"
   ]
  },
  {
   "cell_type": "markdown",
   "id": "258edd21-2bac-4816-9efa-fd1ecb7eaf9a",
   "metadata": {},
   "source": [
    "The `math.prod` function calculates the product of all elements of the iterable included as the first argument. The start parameter determines the first value to consider in the multiplication.\n",
    "\n",
    "If the iterable is empty, the value start is returned.\n",
    "\n",
    "**PARAMETERS**\n",
    "* iterable: Iterable whose elements you want to multiply. These can be whole, real, or complex numbers.\n",
    "\n",
    "* start: First value to consider in the multiplication. By default it takes the value 1.\n",
    "\n",
    "```python\n",
    "math.prod(iterable, start = 1)\n",
    "```"
   ]
  },
  {
   "cell_type": "code",
   "execution_count": 90,
   "id": "1acaa7f1-ea92-45c7-9dd8-f7b531b5bf51",
   "metadata": {},
   "outputs": [
    {
     "data": {
      "text/plain": [
       "150"
      ]
     },
     "execution_count": 90,
     "metadata": {},
     "output_type": "execute_result"
    }
   ],
   "source": [
    "import math\n",
    "math.prod(my_list)"
   ]
  },
  {
   "cell_type": "markdown",
   "id": "8a41d7d7-96e3-4a26-ac2d-4d56a437cc5d",
   "metadata": {},
   "source": [
    "### LESSON 3.2 PYTHON `RANGE()` FUNCTION\n",
    "The `range()` function generates a sequence of numbers that starts with 0 by default, increases by increments of 1, and stops before a specified number.\n",
    "\n",
    "For example, if I say `range(5)`, the function will generate a sequence of numbers from `0` to (but not including) `5`, so: `0, 1, 2, 3,` and `4`.\n",
    "\n",
    "The `range()` function works well with \"for\" loops. Because `range()` generates a list of numbers, we iterate over them using \"for\" loops.\n",
    "\n",
    "In this lesson, you will:\n",
    "\n",
    "1. Understand the use case of the `range()` function and how it can be used with `\"for\"` loops,\n",
    "2. Learn how to generate a reversed list of numbers, and\n",
    "3. Learn how to change the step size in the `range()` function.\n",
    "\n",
    "Now that you have explored how to use the range() function, try the range() function practice opportunity:\n",
    "\n",
    "* Write some Python code that performs the following tasks:\n",
    "\n",
    "    * Defines the following two lists:\n",
    "```python    \n",
    "stocks_names = ['Apple', 'Samsung', 'Alibaba', 'Novo Nordisk', 'Naspers']\n",
    "stock_prices = [142, 45, 12, 125, 30]\n",
    "```\n",
    "\n",
    "* Obtains the total number of elements in the `“stock_names”` list.\n",
    "* Prints out stock names along with their corresponding prices in reversed order. The code should leverage `\"for\"` loops and the range() function. (*External research is required.*)\n",
    "\n",
    "* The output should be as follows:\n",
    "\n",
    "```python\n",
    "index = 4\n",
    "The price of Naspers stock = $30\n",
    "index = 3\n",
    "The price of Novo Nordisk stock = $125\n",
    "index = 2\n",
    "The price of Alibaba stock = $12\n",
    "index = 1\n",
    "The price of Samsung stock = $45\n",
    "index = 0\n",
    "The price of Apple stock = $142\n",
    "```\n",
    "\n",
    "* Prints out stock names and prices that are located in even index positions only and in reverse order. The code output should be as follows:\n",
    "\n",
    "```python\n",
    "index = 4\n",
    "The price of Naspers stock = $30\n",
    "index = 2\n",
    "The price of Alibaba stock = $12\n",
    "index = 0\n",
    "The price of Apple stock = $142\n",
    "```"
   ]
  },
  {
   "attachments": {},
   "cell_type": "markdown",
   "id": "afbce315-b45c-4f1d-8c1c-d58d2e55940b",
   "metadata": {},
   "source": [
    "<img src=\"https://github.com/PachaTech/CFA-Level-1/blob/main/Practical%20skills%20python/-%20pics/-range.png?raw=true\">"
   ]
  },
  {
   "cell_type": "code",
   "execution_count": 96,
   "id": "79bc2b01-da12-4454-bb79-0138c26141c5",
   "metadata": {},
   "outputs": [
    {
     "name": "stdout",
     "output_type": "stream",
     "text": [
      "0\n",
      "1\n",
      "2\n",
      "3\n"
     ]
    }
   ],
   "source": [
    "# range() generates a list of numbers that are used to iterate over \"For\" loops\n",
    "# The last integer generated by range() is up to, but not including, the last element\n",
    "# Example: range(0, 4) generates integers from 0 up to, but not including, 4\n",
    "for i in range(0, 4):\n",
    "    print(i)"
   ]
  },
  {
   "cell_type": "code",
   "execution_count": 97,
   "id": "53bb7eb9-33cf-40b9-b536-65f1393b1f71",
   "metadata": {},
   "outputs": [
    {
     "name": "stdout",
     "output_type": "stream",
     "text": [
      "0\n",
      "1\n",
      "2\n",
      "3\n"
     ]
    }
   ],
   "source": [
    "# Note that range indexing starts at 0 by default\n",
    "# range() is 0-indexed based meaning that numbers start at 0 and not 1. \n",
    "for i in range(4):\n",
    "    print(i)"
   ]
  },
  {
   "cell_type": "code",
   "execution_count": 98,
   "id": "f9cba10f-864f-4a19-a736-cfd68ff89dff",
   "metadata": {},
   "outputs": [
    {
     "name": "stdout",
     "output_type": "stream",
     "text": [
      "0\n",
      "2\n"
     ]
    }
   ],
   "source": [
    "# Note that you can also add an optional parameter to indicate the step size \n",
    "for i in range(0, 4, 2):  # Step size 2\n",
    "    print(i)"
   ]
  },
  {
   "cell_type": "code",
   "execution_count": 99,
   "id": "25789d85-5326-407b-a055-11302b94d160",
   "metadata": {},
   "outputs": [],
   "source": [
    "# Let's define two lists containing the company names along with their corresponding revenues for a given year\n",
    "company_names    = ['Company A', 'Company B', 'Company C','Company D']\n",
    "company_revenues = [600000, 900000, 1000000, 1100000]"
   ]
  },
  {
   "cell_type": "code",
   "execution_count": 100,
   "id": "7d3e184c-2bda-4ad6-96c9-67cbe32b376b",
   "metadata": {},
   "outputs": [
    {
     "name": "stdout",
     "output_type": "stream",
     "text": [
      "The revenue of Company A is = $600000\n"
     ]
    }
   ],
   "source": [
    "# Let's print out the first company name along with its corresponding revenue \n",
    "# Recall that indexing in Python lists starts with 0 and not 1\n",
    "print('The revenue of {} is = ${}'.format(company_names[0], company_revenues[0]))"
   ]
  },
  {
   "cell_type": "code",
   "execution_count": 101,
   "id": "49220b98-98b9-4348-90a7-722626b84af5",
   "metadata": {},
   "outputs": [
    {
     "name": "stdout",
     "output_type": "stream",
     "text": [
      "4\n"
     ]
    }
   ],
   "source": [
    "# When we use range(), we need to know the length of the Python list that we would be iterating over\n",
    "print(len(company_names))"
   ]
  },
  {
   "cell_type": "code",
   "execution_count": 102,
   "id": "16d88c70-47d7-4859-80d3-f761b823d4ce",
   "metadata": {},
   "outputs": [
    {
     "name": "stdout",
     "output_type": "stream",
     "text": [
      "index = 0\n",
      "The Revenue of Company A is = $600000\n",
      "index = 1\n",
      "The Revenue of Company B is = $900000\n",
      "index = 2\n",
      "The Revenue of Company C is = $1000000\n",
      "index = 3\n",
      "The Revenue of Company D is = $1100000\n"
     ]
    }
   ],
   "source": [
    "# Let's use range() to print out the company names and their corresponding revenues \n",
    "for i in range(len(company_names)):\n",
    "    print('index = {}'.format(i))\n",
    "    print('The Revenue of {} is = ${}'.format(company_names[i], company_revenues[i]))"
   ]
  },
  {
   "cell_type": "code",
   "execution_count": 103,
   "id": "03484003-72cc-4ff0-b100-a37b325094af",
   "metadata": {},
   "outputs": [
    {
     "name": "stdout",
     "output_type": "stream",
     "text": [
      "index = 0\n",
      "The Revenue of Company A is = $600000\n",
      "index = 2\n",
      "The Revenue of Company C is = $1000000\n"
     ]
    }
   ],
   "source": [
    "# Let's assume we want to print companies that only have even index within the list\n",
    "for i in range(0, len(company_names), 2):\n",
    "    print('index = {}'.format(i))\n",
    "    print('The Revenue of {} is = ${}'.format(company_names[i], company_revenues[i]))"
   ]
  },
  {
   "cell_type": "markdown",
   "id": "15a9e577-03cd-4d67-9402-502c7c39fa67",
   "metadata": {},
   "source": [
    "**PRACTICE OPPORTUNITY:** \n",
    "- **Write a python code that performs the following tasks:** \n",
    "     - **1. Defines the two lists below:**   \n",
    "            stocks_names = ['Apple', 'Samsung', 'Alibaba', 'Novo Nordisk', 'Naspers']\n",
    "            stock_prices = [142, 45, 12, 125, 30]\n",
    "     - **2. Obtains the total number of elements in the \"stock_names\" list**\n",
    "     - **3. Prints out stock names along with their corresponding prices in reversed order. The code should leverage \"for\" loops and range() function. The output should be as follows [External research is required]:**\n",
    "            \n",
    "            index = 4\n",
    "            The price of Naspers stock = $30\n",
    "            \n",
    "            index = 3\n",
    "            The price of Novo Nordisk stock = $125\n",
    "            \n",
    "            index = 2\n",
    "            The price of Alibaba stock = $12\n",
    "            \n",
    "            index = 1\n",
    "            The price of Samsung stock = $45\n",
    "            \n",
    "            index = 0\n",
    "            The price of Apple stock = $142\n",
    "            \n",
    "     - **4. Prints out stock names and prices that are located in even index positions only and in reversed order. The code output should be as follows:**\n",
    "\n",
    "            index = 4\n",
    "            The price of Naspers stock = $30\n",
    "            \n",
    "            index = 2\n",
    "            The price of Alibaba stock = $12\n",
    "            \n",
    "            index = 0\n",
    "            The price of Apple stock = $142"
   ]
  },
  {
   "cell_type": "code",
   "execution_count": 110,
   "id": "e821dfe0-6790-47e6-a1b1-0a394f92b10c",
   "metadata": {},
   "outputs": [],
   "source": [
    "# Define stock names\n",
    "stock_names = ['Apple', 'Samsung', 'Alibaba', 'Novo Nordisk', 'Naspers']\n",
    "stock_prices = [142, 45, 12, 125, 30]"
   ]
  },
  {
   "cell_type": "code",
   "execution_count": 112,
   "id": "eb9f7094-272d-4caa-a182-5bee7a67cdf4",
   "metadata": {},
   "outputs": [
    {
     "data": {
      "text/plain": [
       "5"
      ]
     },
     "execution_count": 112,
     "metadata": {},
     "output_type": "execute_result"
    }
   ],
   "source": [
    "len(stock_names)"
   ]
  },
  {
   "cell_type": "code",
   "execution_count": 130,
   "id": "c8bc6adf-007b-4d01-a1e9-72d84e071008",
   "metadata": {
    "scrolled": true
   },
   "outputs": [
    {
     "name": "stdout",
     "output_type": "stream",
     "text": [
      "index = 0\n",
      "The Revenue of Apple is = $142\n",
      "index = 1\n",
      "The Revenue of Samsung is = $45\n",
      "index = 2\n",
      "The Revenue of Alibaba is = $12\n",
      "index = 3\n",
      "The Revenue of Novo Nordisk is = $125\n",
      "index = 4\n",
      "The Revenue of Naspers is = $30\n"
     ]
    }
   ],
   "source": [
    "# Let's use range() to print out the company names and their corresponding stock prices \n",
    "for i in range(len(stock_names)):\n",
    "    print('index = {}'.format(i))\n",
    "    print('The Revenue of {} is = ${}'.format(stock_names[i], stock_prices[i]))"
   ]
  },
  {
   "cell_type": "markdown",
   "id": "b6156612-64fa-4aaa-a4df-e4a6087af0e1",
   "metadata": {},
   "source": [
    "**What is Backward Iteration?**\n",
    "Backward iteration in Python refers to the process of iterating through a sequence or collection in reverse order, moving from the last element to the first. This is often useful when we need to access elements in the opposite order of their original arrangement. Python provides various mechanisms for backward iteration, such as using negative indexing or employing built-in functions like \n",
    "```python \n",
    "reversed()\n",
    "```\n",
    "\n",
    "Sources:  \n",
    "* $^1$ https://www.geeksforgeeks.org/backward-iteration-in-python/\n",
    "* $^2$ https://stackoverflow.com/questions/529424/traverse-a-list-in-reverse-order-in-python"
   ]
  },
  {
   "cell_type": "code",
   "execution_count": 131,
   "id": "b2335ab4-8525-4cfd-8ab3-8587b25c400a",
   "metadata": {},
   "outputs": [
    {
     "name": "stdout",
     "output_type": "stream",
     "text": [
      "index = 4\n",
      "The Revenue of Naspers is = $30\n",
      "index = 3\n",
      "The Revenue of Novo Nordisk is = $125\n",
      "index = 2\n",
      "The Revenue of Alibaba is = $12\n",
      "index = 1\n",
      "The Revenue of Samsung is = $45\n",
      "index = 0\n",
      "The Revenue of Apple is = $142\n"
     ]
    }
   ],
   "source": [
    "# Prints out stock names and prices that are located in even index positions only and in reversed order.\n",
    "#The code output should be as follows:\n",
    "\n",
    "for i in reversed(range(len(stock_names))):\n",
    "    print('index = {}'.format(i))\n",
    "    print('The Revenue of {} is = ${}'.format(stock_names[i], stock_prices[i]))"
   ]
  },
  {
   "cell_type": "code",
   "execution_count": 132,
   "id": "b5e3e558-14ee-485d-bb39-f9184c73a7d5",
   "metadata": {},
   "outputs": [
    {
     "name": "stdout",
     "output_type": "stream",
     "text": [
      "index = 0\n",
      "The Revenue of Apple is = $142\n",
      "index = 2\n",
      "The Revenue of Alibaba is = $12\n",
      "index = 4\n",
      "The Revenue of Naspers is = $30\n"
     ]
    }
   ],
   "source": [
    "# Prints out stock names and prices that are located in even index positions only and in reversed order.\n",
    "#The code output should be as follows:\n",
    "for i in range(0, len(stock_names), 2):\n",
    "    print('index = {}'.format(i))\n",
    "    print('The Revenue of {} is = ${}'.format(stock_names[i], stock_prices[i]))"
   ]
  },
  {
   "attachments": {},
   "cell_type": "markdown",
   "id": "e8aa798d-71cb-4862-9627-6b7aa1bf40f2",
   "metadata": {},
   "source": [
    "### LESSON 3.3 “WHILE” LOOPS\n",
    "\"While\" loops continuously repeat a block of code as long as a given condition is held true. When the condition in the \"while\" loop becomes false, the program control passes to the code line immediately following the loop.\n",
    "\n",
    "In this lesson, you will:\n",
    "\n",
    "1. Understand the syntax and use cases of \"while\" loops.\n",
    "2. Learn how to use the break keyword to exit \"while\" loops.\n",
    "3. Learn how to generate an infinite \"while\" loop.\n",
    "\n",
    "\n",
    "Now that you have an understanding of how to create \"while\" loops, try the following practice opportunity.\n",
    "\n",
    "* Write some Python code that performs the following tasks:\n",
    "\n",
    "    * Takes in the present value, annual interest rate, and expected future value from the user.\n",
    "    * Calculates the total number of years it would take to reach a given expected future value, rounds your answer to the nearest year, and prints it to the screen.\n",
    "    * Prints the future value at the end of each year as shown below.\n",
    "\n",
    "* Perform a sanity check using an online financial calculator (example: [Link calculator](https://www.calculator.net/finance-calculator.html).\n",
    "\n",
    "Sample expected output:\n",
    "\n",
    "```python\n",
    "Enter the amount of funds you would like to invest today in dollars (Present Value, or PV): 1000\n",
    "Enter the annual interest rate: 0.1\n",
    "Enter the total dollar amount you would like to have in the future (Future Value, or FV): 2000\n",
    "\n",
    "PV in Year 0 (now) = $1000.0\n",
    "FV in Year 1 = $1100.0\n",
    "FV in Year 2 = $1210.0\n",
    "FV in Year 3 = $1331.0\n",
    "FV in Year 4 = $1464.1\n",
    "FV in Year 5 = $1610.5\n",
    "FV in Year 6 = $1771.6\n",
    "FV in Year 7 = $1948.7\n",
    "FV in Year 8 = $2143.6\n",
    "\n",
    "It would take around eight years to reach a future value greater than $2,000.00.\n",
    "```\n",
    "<img src=\"https://github.com/PachaTech/CFA-Level-1/blob/main/Practical%20skills%20python/-%20pics/-whyloops.png?raw=true\">"
   ]
  },
  {
   "cell_type": "code",
   "execution_count": 140,
   "id": "87ec1604-74dd-4099-b5ea-d492a5ad0390",
   "metadata": {},
   "outputs": [
    {
     "name": "stdout",
     "output_type": "stream",
     "text": [
      "0\n",
      "1\n",
      "2\n",
      "3\n"
     ]
    }
   ],
   "source": [
    "# \"While\" loops continuously repeat a block of code as long as a given condition is held “True”\n",
    "# Let's initialize a counter \"i\" by placing zero in it\n",
    "i = 0 # Less than or = to 3\n",
    "\n",
    "while i <= 3:  # if 100 it iterates to 100 --- stops at 3 here.\n",
    "    print(i)\n",
    "    i = i + 1"
   ]
  },
  {
   "cell_type": "markdown",
   "id": "d3eaaa53-e4ef-4f10-a4d3-77124cac8a24",
   "metadata": {},
   "source": [
    "$FV = PV + (I/Y \\times PV)$\n",
    "\n",
    "$FV = 1000 + (0.1 \\times 1000)$ "
   ]
  },
  {
   "cell_type": "code",
   "execution_count": 143,
   "id": "a2df24fc-4c9f-4042-9610-431acfdbf099",
   "metadata": {},
   "outputs": [
    {
     "name": "stdout",
     "output_type": "stream",
     "text": [
      "1100.0\n"
     ]
    }
   ],
   "source": [
    "# Let's calculate the Future Value (FV) of a lump sum of money \n",
    "# Assume that today we put $1000 in an account that pays 10% annually  \n",
    "# We leave this money to grow for one year\n",
    "# Note that the interest rate of 10% is represented in code as 0.1\n",
    "\n",
    "# Let's define the Present Value \"PV\" and the annual interest rate \"interest_rate\"\n",
    "PV = 1000\n",
    "interest_rate = 0.1\n",
    "\n",
    "# Calculate the future value (FV) as follows:\n",
    "FV = PV + (interest_rate * PV)\n",
    "print(FV)"
   ]
  },
  {
   "cell_type": "code",
   "execution_count": 149,
   "id": "86212cc2-2bb4-4eac-99cb-43ccaa902f5a",
   "metadata": {},
   "outputs": [
    {
     "name": "stdout",
     "output_type": "stream",
     "text": [
      "The Future value in year 1 = $1100.0\n",
      "The Future value in year 2 = $1210.0\n",
      "The Future value in year 3 = $1331.0\n"
     ]
    }
   ],
   "source": [
    "# Now let's assume that we put the same $1000 in an account that pays 10% annually and leave it for 3 years\n",
    "# We would like to see what would be the future value after each year\n",
    "# We can use while loops to iterate over a pre-defined number of years\n",
    "# You can confirm your answer using the future value calculator: https://www.calculator.net/future-value-calculator.html\n",
    "\n",
    "years         = 1 # initial value\n",
    "amount        = 1000\n",
    "interest_rate = 0.1\n",
    "\n",
    "while years <= 3:  # Add on years to see interest iterated\n",
    "    amount = amount + (interest_rate * amount)\n",
    "    print('The Future value in year {} = ${}'.format(years, amount))\n",
    "    years = years + 1"
   ]
  },
  {
   "cell_type": "code",
   "execution_count": null,
   "id": "a149bfe8-6ef8-415d-840a-0f34ba46181b",
   "metadata": {},
   "outputs": [],
   "source": [
    "# Now let's assume that we put the same $1000 in an account that pays 10% annually and leave it for 3 years\n",
    "# We would like to see what would be the future value after each year\n",
    "# We can use while loops to iterate over a pre-defined number of years\n",
    "# You can confirm your answer using the future value calculator: https://www.calculator.net/future-value-calculator.html\n",
    "\n",
    "years         = 1 # initial value\n",
    "amount        = 1000\n",
    "interest_rate = 0.1\n",
    "\n",
    "while years <= 3:\n",
    "    amount = amount + (interest_rate * amount)\n",
    "    print('The Future value in year {} = ${}'.format(years, amount))\n",
    "    years = years + 1"
   ]
  },
  {
   "cell_type": "code",
   "execution_count": null,
   "id": "768be683-ffdc-4a40-bef8-9256aad9695b",
   "metadata": {},
   "outputs": [],
   "source": [
    "# \"While True\" could be used to repeat a block of code forever! \n",
    "# \"break\" is used to break the loop\n",
    "# Let's assume we want to keep doubling a variable with every iteration until the total value reaches $1000 and then we exit\n",
    "\n",
    "# Define the starting dollar amount = 1 \n",
    "\n",
    "x = 1\n",
    "\n",
    "while True:\n",
    "    x = x * 2 # Double the amount\n",
    "    print('Value = {}'.format(x))\n",
    "    if x > 1000:\n",
    "        break"
   ]
  },
  {
   "cell_type": "markdown",
   "id": "496b0fd9-6aa5-4b7a-acd6-7b387447fb33",
   "metadata": {},
   "source": [
    "**PRACTICE OPPORTUNITY SOLUTION:**\n",
    "\n",
    "- **Write a Python code that performs the following tasks:** \n",
    "     - **1. Takes in the present value, annual interest rate and expected future value from the user.** \n",
    "     - **2. Calculates the total number of years it would take to reach a given expected future value. Round your answer to the nearest year and print it to the screen.**\n",
    "     - **3. Prints the future value at the end of each year as shown below.**\n",
    "     - **4. Perform a sanity check using an online financial calculator. Example: https://www.calculator.net/finance-calculator.html**\n",
    "     \n",
    "     \n",
    "- **Sample Expected Output:** \n",
    "    \n",
    "        Enter the amount of funds you would like to invest today in dollars (Present Value (PV)): 1000\n",
    "        Enter the annual interest rate: 0.1\n",
    "        Enter the total dollar amount you would like to have in the future (Future Value (FV)): 2000\n",
    "        \n",
    "        The Present Value (PV) in year 0 (now) = $1000.0\n",
    "        \n",
    "        Future Value (FV) in year 1 = $1100.0\n",
    "        \n",
    "        Future Value (FV) in year 2 = $1210.0\n",
    "        \n",
    "        Future Value (FV) in year 3 = $1331.0\n",
    "        \n",
    "        Future Value (FV) in year 4 = $1464.1\n",
    "        \n",
    "        Future Value (FV) in year 5 = $1610.5\n",
    "        \n",
    "        Future Value (FV) in year 6 = $1771.6\n",
    "        \n",
    "        Future Value (FV) in year 7 = $1948.7\n",
    "        \n",
    "        Future Value (FV) in year 8 = $2143.6\n",
    "        \n",
    "        It would take around 8 years to reach a future value greater than 2000.0"
   ]
  },
  {
   "cell_type": "code",
   "execution_count": null,
   "id": "3450d0e9-b0d2-471e-a574-26c6d5bdec89",
   "metadata": {},
   "outputs": [],
   "source": [
    "# Note that amount is the Present Value \n",
    "# You can name the variable \"present_value\" instead of \"amount\"\n",
    "\n",
    "amount = float(input(\"Enter the amount of funds you would like to invest today in dollars (Present Value (PV)): \"))\n",
    "interest = float(input(\"Enter the annual interest rate: \"))\n",
    "future_value = float(input(\"Enter the total dollar amount you would like to have in the future (Future Value (FV)): \"))\n",
    "\n",
    "years = 1\n",
    "\n",
    "print('The Present Value (PV) in year 0 (Now) = ${}'.format(round(amount, 1)))\n",
    "\n",
    "\n",
    "while True:\n",
    "    amount = amount + (interest * amount)\n",
    "    print('Future Value (FV) in year {} = ${}'.format(years, round(amount, 1)))\n",
    "    \n",
    "    # Condition to break the loop here\n",
    "    if amount > future_value:\n",
    "        print('It would take around {} years to reach a future value greater than {}'.format(years, future_value))\n",
    "        break\n",
    "    years = years + 1"
   ]
  },
  {
   "attachments": {},
   "cell_type": "markdown",
   "id": "34f89ed7-1a48-49f8-ab0b-86110d1819a8",
   "metadata": {},
   "source": [
    "### LESSON 3.4 FUNCTIONS\n",
    "In Python, functions represent a block of code that performs a specific task. You can call a Python function, send it data, and receive results from it.\n",
    "\n",
    "Functions are extremely powerful, and they are an essential part of the Python programming language. They offer many advantages because they allow users to create a reusable code that can be called multiple times and executed when needed, thereby improving code efficiency. They can break down long code scripts into smaller ones for better code structure, readability, management, and debugging.\n",
    "\n",
    "This lesson will help you:\n",
    "\n",
    "1. Understand the syntax of writing functions in Python;\n",
    "2. Learn how to set default function arguments;\n",
    "3. Call functions, send them arguments, and receive data from them; and\n",
    "4. Develop a simple function that calculates the future value of money given the present value, annual interest rate, number of years, and the number of compounding periods.\n",
    "\n",
    "\n",
    "Now that you have learned to harness the power of functions in Python, try the following practice opportunity.\n",
    "\n",
    "Assume that you have been tasked to develop a Python function that calculates the effective annual rate (EAR) of return. EAR considers the effect of compounding within the year and can be calculated from the nominal (or stated) annual rate of return (𝑖) using the following formula:\n",
    "\n",
    "$\\Large\\text{EAR} = (1 + i/m)^m - 1,$\n",
    "\n",
    "\n",
    "where $𝑚$ represents the number of compounding periods per year.\n",
    "\n",
    "**Complete the following tasks:**\n",
    "\n",
    "1. Define a Python function that calculates the effective annual rate of return. The function should receive the nominal (stated) annual rate and the number of compounding periods per year.\n",
    "2. Assume that you deposited \\\\$1,000 today into an account paying 10\\% compounded quarterly. Calculate the effective annual rate of return using the function defined in Task 1. Round your answer to four decimal places.\n",
    "3. Calculate the amount of interest you would have earned by the end of the year. Round your answer to four decimal places.\n",
    "4. Repeat Tasks 2 and 3, but with interest compounded monthly.\n",
    "\n",
    "<img src=\"https://github.com/PachaTech/CFA-Level-1/blob/main/Practical%20skills%20python/-%20pics/-functions.png?raw=true\">"
   ]
  },
  {
   "cell_type": "code",
   "execution_count": 1,
   "id": "08778a90-a585-4acd-a760-1647d2ac8160",
   "metadata": {},
   "outputs": [],
   "source": [
    "# Define a function named \"my_sum\"\n",
    "# The function receives two numbers and adds them up \n",
    "# def is the keyword used to create a function followed by the name of the function\n",
    "\n",
    "def my_sum(x, y):\n",
    "    z = x + y\n",
    "    return z"
   ]
  },
  {
   "cell_type": "code",
   "execution_count": 2,
   "id": "63e371fb-4443-49ba-86db-44bfbff68eec",
   "metadata": {},
   "outputs": [
    {
     "data": {
      "text/plain": [
       "12"
      ]
     },
     "execution_count": 2,
     "metadata": {},
     "output_type": "execute_result"
    }
   ],
   "source": [
    "# Function call\n",
    "my_sum(5, 7)"
   ]
  },
  {
   "attachments": {},
   "cell_type": "markdown",
   "id": "ca3267f9-0a59-4c05-b0dc-60016ba9b78a",
   "metadata": {},
   "source": [
    "<img src=\"https://github.com/PachaTech/CFA-Level-1/blob/main/Practical%20skills%20python/-%20pics/-FV.png?raw=true\">"
   ]
  },
  {
   "cell_type": "code",
   "execution_count": 19,
   "id": "c6d056fb-50df-48df-a318-52fd5dec2a68",
   "metadata": {},
   "outputs": [],
   "source": [
    "# Let's define a function named \"calculate_FV\" that takes in: \n",
    "    # 1. present value\n",
    "    # 2. interest rate\n",
    "    # 3. number of years \n",
    "    # 4. number of compounding periods per year \n",
    "\n",
    "# The function returns the future value\n",
    "def calculate_FV(PV, i, n, m):\n",
    "    return PV * ( 1 + (i / m)) ** (m * n)"
   ]
  },
  {
   "cell_type": "code",
   "execution_count": 27,
   "id": "37facb16-c1fa-44a8-870b-a6de52309d44",
   "metadata": {},
   "outputs": [
    {
     "name": "stdin",
     "output_type": "stream",
     "text": [
      "Enter the present value:  100000\n",
      "Enter the annual interest rate:  .1\n",
      "Enter the number of years:  5\n",
      "Enter the number of compounding periods:  1\n"
     ]
    }
   ],
   "source": [
    "# Let's calculate the future value of money given: \n",
    "    # present value = $100,000 \n",
    "    # interest rate (i) = 10%\n",
    "    # number of years (n) = 5 \n",
    "    # interest is compounded annually (ie: m = 1)\n",
    "\n",
    "# Let's confirm our answer using this online calculator: \n",
    "# https://www.calculatorsoup.com/calculators/financial/future-value-investment-calculator.php\n",
    "# Test the function using a different interest rate of 15%\n",
    "\n",
    "PV = float(input(\"Enter the present value: \")) \n",
    "i = float(input(\"Enter the annual interest rate: \"))\n",
    "n = float(input(\"Enter the number of years: \"))\n",
    "m = float(input(\"Enter the number of compounding periods: \"))"
   ]
  },
  {
   "cell_type": "code",
   "execution_count": 28,
   "id": "e8a04acc-8d2f-4717-a718-ec1a96f68e28",
   "metadata": {},
   "outputs": [
    {
     "name": "stdout",
     "output_type": "stream",
     "text": [
      "The FV of $100000.0 after 5.0 years and 1.0 compounding periods per year at 10.0% interest rate = $161051.0\n"
     ]
    }
   ],
   "source": [
    "# This is the function call\n",
    "FV = calculate_FV(PV, i, n, m,)\n",
    "print('The FV of ${} after {} years and {} compounding periods per year at {}% interest rate = ${}'.format(PV, \n",
    "                                                                                                     n,\n",
    "                                                                                                     m,\n",
    "                                                                                                     i * 100, \n",
    "                                                                                                     round(FV, 2)))\n"
   ]
  },
  {
   "cell_type": "code",
   "execution_count": 25,
   "id": "0c989187-7461-46e6-a522-7b2b34753802",
   "metadata": {},
   "outputs": [
    {
     "name": "stdout",
     "output_type": "stream",
     "text": [
      "The FV of $100000 after 5 years and 12 compounding periods per year at 10.0% interest rate = $164530.89\n"
     ]
    }
   ],
   "source": [
    "FV = calculate_FV(PV = 100000, i =.1, n=5, m=12,)\n",
    "\n",
    "print('The FV of ${} after {} years and {} compounding periods per year at {}% interest rate = ${}'.format(PV, \n",
    "                                                                                                     n,\n",
    "                                                                                                     m,\n",
    "                                                                                                     i * 100, \n",
    "                                                                                                     round(FV, 2)))"
   ]
  },
  {
   "cell_type": "markdown",
   "id": "baee1103-8958-474f-b42f-2a2b69d82a0e",
   "metadata": {},
   "source": [
    "**PRACTICE OPPORTUNITY:** \n",
    "- **Assume that you have been tasked to develop a Python function that calculates the Effective Annual Rate (EAR) of return. EAR considers the effect of compounding within the year and can be calculated from nominal (or stated) annual rate of return ($i$) using the following formula:**\n",
    "\n",
    "$$EAR = (1+i/m)^m -1$$\n",
    "\n",
    "- **Where $m$ represents the number of compounding periods per year.**\n",
    "\n",
    "- **Complete the following tasks:**\n",
    "    - **1. Define a Python function that calculates the effective annual rate of return. The function should receive the nominal (stated) annual rate and the number of compounding periods per year.** \n",
    "    - **2. Assume that you deposited $1,000 today into an account paying 10% compounded quarterly. Calculate the effective annual rate of return using the function defined in task 1. Round your answer to 4 decimal places.** \n",
    "    - **3. Calculate the amount of interest you would have earned by the end of the year. Round your answer to 4 decimal places.**\n",
    "    - **4. Repeat steps 2 and 3 if interest is compounded monthly.**"
   ]
  },
  {
   "cell_type": "markdown",
   "id": "dc43bd8d-4c65-4f13-9292-719cc7a218f3",
   "metadata": {},
   "source": [
    "<img src=\"https://github.com/PachaTech/CFA-Level-1/blob/main/Practical%20skills%20python/-%20pics/--ear1.png?raw=true\">"
   ]
  },
  {
   "cell_type": "code",
   "execution_count": 2,
   "id": "affe2f9f-a653-4b95-b0dd-11edf2c686fb",
   "metadata": {},
   "outputs": [],
   "source": [
    "# Let's define a function named \"EAR\"\n",
    "\n",
    "\n",
    "# The function returns the future value\n",
    "def EAR (i, m):\n",
    "    return ((1 + (i/m))** m) - 1"
   ]
  },
  {
   "cell_type": "code",
   "execution_count": 105,
   "id": "7af47f42-f935-461c-bbab-fd959527f461",
   "metadata": {},
   "outputs": [
    {
     "name": "stdout",
     "output_type": "stream",
     "text": [
      "Total amount invested = $1000.0\n",
      "nominal annual return rate = 0.1%\n",
      "Effective annual rate = 10.38%\n",
      "Total interest earned = $103.8129\n"
     ]
    }
   ],
   "source": [
    "amount_invested = float(1000)\n",
    "nominal_rate =  float(0.1)\n",
    "m = float(4)\n",
    "\n",
    "effective_rate = EAR(i, m)\n",
    "print(\"Total amount invested = ${}\".format(amount_invested))\n",
    "print(\"nominal annual return rate = {}%\".format(nominal_rate))\n",
    "print('Effective annual rate = {}%'.format(round(effective_rate, 4) * 100))\n",
    "print('Total interest earned = ${}'.format(round(effective_rate*amount_invested,4)))"
   ]
  },
  {
   "cell_type": "code",
   "execution_count": 106,
   "id": "78b28ffa-c0c9-4a4c-91e5-142b17c360d6",
   "metadata": {},
   "outputs": [
    {
     "name": "stdin",
     "output_type": "stream",
     "text": [
      "Enter the total amount you would like to invest today in dollars:  1000\n",
      "Enter the nominal (stated) annual rate of return:  .1\n",
      "Enter the number of compounding periods per year:  12\n"
     ]
    },
    {
     "name": "stdout",
     "output_type": "stream",
     "text": [
      "The effective annual interest rate = 10.47%\n",
      "The total interest earned by the end of the year = $104.7131\n"
     ]
    }
   ],
   "source": [
    "# Obtain data from the user\n",
    "# Note that the 10% interest rate is represented in code as 0.1\n",
    "amount_invested = float(input(\"Enter the total amount you would like to invest today in dollars: \"))\n",
    "nominal_rate = float(input(\"Enter the nominal (stated) annual rate of return: \"))\n",
    "compounding_periods = float(input(\"Enter the number of compounding periods per year: \"))\n",
    "\n",
    "# Call the functions\n",
    "effective_rate = EAR(nominal_rate, compounding_periods)\n",
    "print('The effective annual interest rate = {}%'.format(round(effective_rate, 4) * 100)) \n",
    "print('The total interest earned by the end of the year = ${}'.format(round(effective_rate * amount_invested, 4)))"
   ]
  },
  {
   "attachments": {},
   "cell_type": "markdown",
   "id": "eba98322-ef4d-4aaa-acc0-94fb8a947783",
   "metadata": {},
   "source": [
    "<img src=\"https://github.com/PachaTech/CFA-Level-1/blob/main/Practical%20skills%20python/-%20pics/--ear2.png?raw=true\">\n",
    "<img src=\"https://github.com/PachaTech/CFA-Level-1/blob/main/Practical%20skills%20python/-%20pics/--ear3.png?raw=true\">\n"
   ]
  },
  {
   "attachments": {
    "11586648-de0e-4755-bcb8-95ed02d2cd63.png": {
     "image/png": "[encoded data removed]"
    }
   },
   "cell_type": "markdown",
   "id": "6b0aa8d2-7088-444a-b828-d18d6fb0f459",
   "metadata": {},
   "source": [
    "### LESSON 3.5 PYTHON BUILT-IN FUNCTIONS\n",
    "In previous lessons, we have learned that functions represent a block of code that performs a specific task. You can call a Python function, send it data, and receive results from it. Python has several built-in functions that can be directly called. Therefore, there is no need to define these functions beforehand.\n",
    "\n",
    "In this lesson, you will learn to:\n",
    "\n",
    "1. Leverage pre-defined Python built-in functions to obtain the minimum, maximum, and number of elements in a Python list;\n",
    "2. Learn how to sort values in lists using Python’s built-in functions; and\n",
    "3. Use built-in `round()` functions to round values to the nearest decimal place and `.abs()` to obtain the absolute value.\n",
    "\n",
    "Now that you have an understanding of how to use some of Python’s built-in functions, try the following practice opportunity.\n",
    "\n",
    "Using Python’s built-in functions, write a code that takes in the following two lists and calculates the absolute sum of all their elements |x+y|. Round your answer to the nearest whole number.\n",
    "```python\n",
    "    A = [ -10 -30 -80.6 70 21.9]\n",
    "    B = [ -3 7.3 4.7 6 8]\n",
    "```            \n",
    "\n",
    "![-builtin.png](attachment:11586648-de0e-4755-bcb8-95ed02d2cd63.png)\n",
    "\n",
    "<img src=\"https://github.com/PachaTech/CFA-Level-1/blob/main/Practical%20skills%20python/-%20pics/-builtin.png?raw=true\">"
   ]
  },
  {
   "cell_type": "markdown",
   "id": "a8b61b8d-925b-413c-9312-d998e0d54f17",
   "metadata": {},
   "source": []
  },
  {
   "cell_type": "code",
   "execution_count": null,
   "id": "c0319caf-04a2-48a1-a684-41109df7352a",
   "metadata": {},
   "outputs": [],
   "source": []
  },
  {
   "cell_type": "code",
   "execution_count": null,
   "id": "78b0949e-910c-4426-b89c-bf454cf774dd",
   "metadata": {},
   "outputs": [],
   "source": []
  },
  {
   "cell_type": "code",
   "execution_count": null,
   "id": "95942136-9525-49dc-a1fa-e480c7e20e0d",
   "metadata": {},
   "outputs": [],
   "source": []
  },
  {
   "cell_type": "code",
   "execution_count": null,
   "id": "11ad6249-cc4d-4744-bc07-1d5e473277cb",
   "metadata": {},
   "outputs": [],
   "source": []
  },
  {
   "cell_type": "code",
   "execution_count": null,
   "id": "3b0a226b-b73d-43b9-975f-e3e3b5cc6049",
   "metadata": {},
   "outputs": [],
   "source": []
  },
  {
   "cell_type": "code",
   "execution_count": null,
   "id": "8e40a01b-5e72-444a-b3e0-4dec36305cf7",
   "metadata": {},
   "outputs": [],
   "source": []
  }
 ],
 "metadata": {
  "kernelspec": {
   "display_name": "Python 3 (ipykernel)",
   "language": "python",
   "name": "python3"
  },
  "language_info": {
   "codemirror_mode": {
    "name": "ipython",
    "version": 3
   },
   "file_extension": ".py",
   "mimetype": "text/x-python",
   "name": "python",
   "nbconvert_exporter": "python",
   "pygments_lexer": "ipython3",
   "version": "3.11.5"
  }
 },
 "nbformat": 4,
 "nbformat_minor": 5
}
