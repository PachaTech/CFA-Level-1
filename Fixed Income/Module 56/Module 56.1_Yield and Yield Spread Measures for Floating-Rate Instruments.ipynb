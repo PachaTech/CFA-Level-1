{
 "cells": [
  {
   "cell_type": "code",
   "execution_count": 1,
   "id": "7cfbfb80",
   "metadata": {},
   "outputs": [],
   "source": [
    "# Import libraries\n",
    "import math\n",
    "import numpy_financial as npf\n",
    "import numpy as np"
   ]
  },
  {
   "cell_type": "markdown",
   "id": "22705ffc",
   "metadata": {},
   "source": [
    "# Module 56.1: Yield and Yield Spread Measures for Floating-Rate Instruments\n",
    "\n",
    "<hr>\n",
    "\n",
    "## LOS 56.a: Calculate and interpret yield spread measures for floating-rate instruments.\n",
    "\n",
    "### Floating-Rate Note Yields\n",
    "\n",
    "The values of <u>floating-rate notes (FRNs)</u> are more stable than those of fixed-rate debt of similar maturity because the coupon rate is reset periodically based on a variable market reference rate `(MRR) = LIBOR or SOFR or Fed Funds Rate`. Recall that the coupon rate on an FRN consists of a relatively risk-free (usually interbank) MRR plus a **fixed margin** based on the credit risk of the issuer (at the time of issuance) relative to the credit risk of the MRR. The `fixed margin` is kind of like the `coupon` that is payed.\n",
    "\n",
    "The coupon rate for the next period is set using the current MRR for the reset period, and the payment at the end of the period is based on this rate. For this reason, we say that interest is paid in *arrears*.\n",
    "\n",
    "If an FRN is issued by a company that has more (less) credit risk than the financial institutions from which the MRR is derived, a margin is added to (subtracted from) the MRR. The liquidity of an FRN and its tax treatment can also affect the margin.\n",
    "\n",
    "The fixed margin above the MRR actually paid in the coupon is referred to as the **quoted margin (QM)**. The margin required to price the FRN at par is called the **required margin** or the **discount margin (DM)**.\n",
    "\n",
    "FRNs are usually issued at par with the QM equal to the DM at issuance. If the credit quality of an FRN remains unchanged after issuance, the QM will remain equal to the DM and the FRN will trade at par on its coupon reset dates.\n",
    "\n",
    "If the credit quality of the issuer decreases after issuance of the FRN, investors will demand a higher DM in compensation for increased credit risk. This will cause the DM to be greater than the fixed QM, and the FRN will trade at a discount to its par value. Similarly, if the issuer's credit quality improves during an FRN's life, the DM will be less than the fixed QM, and the FRN will sell at a premium to its par value.\n",
    "\n",
    "> **Professor's Note**  \n",
    "This is analogous to the relationship between the coupon and yield for fixed-coupon instruments. If investors demand more yield from a fixed-coupon bond than the regular coupon, then the coupon is said to be deficient, and the bond trades at a discount to par. With an FRN, the bond pays a coupon of `MRR + QM` and investors demand a yield of `MRR + DM`. When the `MRR + DM` is greater than `MRR + QM`, the `QM` is deficient and the FRN will trade below par.\n",
    "\n",
    "A simplified way of calculating the value of an FRN on a reset date is to use the current MRR plus the QM to estimate the future cash flows for the FRN, and discount these future cash flows at the MRR + DM. More complex models produce better estimates of value.\n",
    "\n",
    "<hr>\n",
    "\n",
    "**Example: Valuation of an FRN**\n",
    "\n",
    "A \\\\$100,000 FRN with a semiannual coupon pays a 180-day MRR plus a quoted margin of 120 basis points. On a reset date with five years remaining to maturity, the 180-day MRR is quoted as 3.0\\% (annualized), and the discount margin (based on the issuer's current credit rating) is 1.5\\% (annualized). Estimate the value of the FRN."
   ]
  },
  {
   "cell_type": "code",
   "execution_count": 227,
   "id": "321b9472",
   "metadata": {},
   "outputs": [
    {
     "name": "stdout",
     "output_type": "stream",
     "text": [
      "-98670.07\n",
      "\n",
      "Estimated current value of $100,000, 180-day FRN = $ 98670.07\n",
      "The difference in the FV and estimated PV is     = $ 1330\n",
      "\n",
      "PV = 98.67% of it's 100% face value, 10 coupon payments of 2.1%, and a discount rate per period of 2.25%\n"
     ]
    }
   ],
   "source": [
    "# Calculate PV of 100 using numpyfinance \n",
    "PV_FRN = npf.pv(rate = 0.0225, nper=10, pmt= 2100,fv= 100000)\n",
    "\n",
    "\n",
    "# Print PV of the $100 note\n",
    "print(round(PV_FRN,2))\n",
    "print(\"\")\n",
    "\n",
    "# Print PV of the $100 note multiplied by 100,000\n",
    "print(\"Estimated current value of $100,000, 180-day FRN = $\",round(PV_FRN,2)*-1)\n",
    "print(\"The difference in the FV and estimated PV is     = $\",(100000 - 98670))\n",
    "print(\"\")\n",
    "print(\"PV = 98.67% of it's 100% face value, 10 coupon payments of 2.1%, and a discount rate per period of 2.25%\")"
   ]
  },
  {
   "cell_type": "markdown",
   "id": "21cdc526",
   "metadata": {},
   "source": [
    "**Answer:**\n",
    "\n",
    "The current annualized coupon rate on the note is `3.0% + 1.2% = 4.2%`, \\\n",
    "so the next semiannual coupon payment will be `4.2% / 2 = 2.1%` of face value. \n",
    "\n",
    "The required return in the market (MRR + discount margin)\n",
    "as an effective 180-day discount rate is `4.5% / 2 = 2.25%`.\n",
    "\n",
    "Using a face value of 100%, 10 coupon payments of 2.1%, and a discount rate per period of 2.25%, we can calculate the present value of the FRN as:\n",
    "\n",
    ">`N = 10; I/Y = 2.25; FV = 100,000; PMT = 2,100; CPT → PV = -98,670`\n",
    "\n",
    "By this method, we can estimate current value of the note as 98.67% of its face value, or \\\\$98,670.\n",
    "\n",
    "> The FRN PV of 98,670 is trading below par, because the effective yield has risen, and we have a deficient coupon\n"
   ]
  },
  {
   "cell_type": "markdown",
   "id": "0d3e719b",
   "metadata": {},
   "source": []
  },
  {
   "cell_type": "markdown",
   "id": "d5c2c7dc",
   "metadata": {},
   "source": [
    "### LOS 56.b: Calculate and interpret yield measures for money market instruments.\n",
    "\n",
    "For money market securities (debt securities maturing in a year or less), yields are quoted using various conventions. Some yield quotes are based on a 360-day year, while others are based on a 365-day year. Some yield quotes are add-on yields, and others are discount yields. Add-on yields are simply the interest to be earned on the amount paid or deposited today. Discount yields are annualized current discounts from the face values of money market securities received at maturity.\n",
    "\n",
    "Bank CDs, repos, and market reference rates are typically quoted as annualized add-on rates. U.S. Treasury bills (T-bills) and commercial paper are quoted as their annualized discount from face value, based on a 360-day year.\n",
    "\n",
    "The relation between a security's yield quoted as an annualized add-on yield based on a 365-day year and its holding period yield (HPY) is as follows:\n",
    "\n",
    "    quoted add-on yield = HPY × 365 / days to maturity\n",
    "\n",
    "Consider a 100-day bank CD with an add-on yield (annualized) of 1.5\\%, based on a 365-day year. We can calculate the HPY of the CD as the quoted yield of 1.5\\% × 100 / 365 = 0.41\\%. The purchase of a \\\\$1,000 CD would provide a payment of \\\\$1,004.10 in 100 days.\n",
    "\n",
    "The relation between a quoted discount and the actual unannualized discount based on a 360-day year is as follows:\n",
    "\n",
    "    quoted discount yield = actual discount on the security × 360 / days to maturity\n",
    "\n",
    "Consider a 180-day U.S. T-bill quoted at a 2.2\\% (annualized) discount yield based on a 360-day year. The actual discount from face value on the T-bill is 180 / 360 × 2.2\\% = 1.1\\%. A \\\\$1,000 T-bill would be priced at (1 – 0.011) × 1,000 = \\\\$989. The HPY of the T-bill is 1,000 / 989 – 1 = 1.11\\%, slightly higher than its discount from face value of 1.1\\%.\n",
    "\n",
    "An analyst should be able to convert the yield of a security calculated on one basis to its yield on another basis. Such adjustments allow us to compare the yields of two money market securities for which quoted yields are calculated differently. The following provides some examples of converting a yield to one based on a different convention.\n"
   ]
  },
  {
   "cell_type": "markdown",
   "id": "f3ce13ba",
   "metadata": {},
   "source": [
    "**EXAMPLE 1: Money market yields** \\\n",
    "A \\\\$1,000, 90-day T-bill is priced with an annualized discount of 1.2\\%. Calculate its <span style=\"color:red\">market price</span> and its <span style=\"color:red\">annualized add-on yield</span> also known as the BEY (Bond Equivalent Yield) based on a <u>365-day</u> year."
   ]
  },
  {
   "cell_type": "code",
   "execution_count": 80,
   "id": "8a6d891a",
   "metadata": {},
   "outputs": [
    {
     "name": "stdout",
     "output_type": "stream",
     "text": [
      "Unadjusted 90-day T-bill FV = $ 1000\n",
      "90-day discount amount = $ -3.0\n",
      "Current Market price of our Discounted 90 day, T-bill = $ 997.0\n",
      "Calculated 90 day add-on yield = % 0.3009\n",
      "Adjusted for 365/90 date, annualized add-on yield = % 1.2203\n"
     ]
    }
   ],
   "source": [
    "# Money Market Yields Example \n",
    "# They want us to convert a $1000, 90-day T-bill at 1.2% from 360 to 365 actualized date\n",
    "# Example 1: using the 360 day convention\n",
    "\n",
    "# T-bill of $1,000\n",
    "Tbill = 1000\n",
    "print(\"Unadjusted 90-day T-bill FV = $\", Tbill)\n",
    "\n",
    "# 90 day discount factor of 360 days\n",
    "Discount90_360 = 0.012 * (90 / 360) * 1000\n",
    "print(\"90-day discount amount = $\", Discount90_360*-1)\n",
    "\n",
    "\n",
    "# Current Market price of our Discounted 90 day, T-bill \n",
    "DiscountedT = Tbill - Discount90_360\n",
    "print(\"Current Market price of our Discounted 90 day, T-bill = $\", DiscountedT)\n",
    "\n",
    "# Calculate 90 day add-on yield\n",
    "AddYield90_360 = round(Discount90_360 / DiscountedT * 100,5)\n",
    "print(\"Calculated 90 day add-on yield = %\", AddYield90_360)\n",
    "\n",
    "# Adjust for 365/90 date convention\n",
    "Adjust365 = round(365 / 90 * AddYield90_360,4)\n",
    "print(\"Adjusted for 365/90 date, annualized add-on yield = %\", Adjust365)"
   ]
  },
  {
   "cell_type": "markdown",
   "id": "a63b7dcd",
   "metadata": {},
   "source": [
    "**Answer 1** \\\n",
    "The discount from face value is 1.2\\% × 90 / 360 × 1,000 = \\\\$3, so the current price is 1,000 – 3 = $997.\n",
    "\n",
    "The equivalent add-on yield for 90 days is 3 / 997 = 0.3009\\%. The <span style=\"color:red\">annualized add-on yield</span> based on a 365-day year is 365 / 90 × 0.3009\\% = 1.2203\\%. This add-on yield based on a 365-day year is referred to as the bond equivalent yield for a money market security."
   ]
  },
  {
   "cell_type": "markdown",
   "id": "026dc838",
   "metadata": {},
   "source": [
    "**Example 2: Converting Yields to Different Conventions**\n",
    "\n",
    "A \\\\$1 million negotiable CD with 120 days to maturity is quoted with an add-on yield of 1.4\\% based on a 365-day year.\n",
    "\n",
    "Calculate the <span style=\"color:red\">payment at maturity</span> for this CD and its <span style=\"color:red\">bond equivalent yield (BEY)</span>."
   ]
  },
  {
   "cell_type": "code",
   "execution_count": 110,
   "id": "b849f4b9",
   "metadata": {},
   "outputs": [
    {
     "name": "stdout",
     "output_type": "stream",
     "text": [
      "The 1-million dollar, 120 day CD at time T_0     = $ 1000000\n",
      "120 day add-on interest of 1.4% at 120/365       = % 0.46030000000000004\n",
      "The CD principal + Interest at Maturity 120 days = $ 1004603.0\n"
     ]
    }
   ],
   "source": [
    "# Example 2: Converting Yields to Different Conventions\n",
    "\n",
    "# The 1-million dollar, 120 day CD at time T_0\n",
    "CD_T0 = 1000000\n",
    "print(\"The 1-million dollar, 120 day CD at time T_0     = $\", CD_T0)\n",
    "\n",
    "# 120 day add-on interest of 1.4% at 120/365 \n",
    "AddInt = round(0.014 * (120/365),6)\n",
    "print(\"120 day add-on interest of 1.4% at 120/365       = %\",AddInt*100)\n",
    "\n",
    "# At Maturity, the CD pays\n",
    "CD_TM = CD_T0 + (CD_T0 * AddInt)\n",
    "print(\"The CD principal + Interest at Maturity 120 days = $\",CD_TM)"
   ]
  },
  {
   "cell_type": "markdown",
   "id": "85b5eb4a",
   "metadata": {},
   "source": [
    "**Answer 2** \\\n",
    "The add-on interest for the 120-day period is 120 / 365 × 1.4% = 0.4603%.\n",
    "\n",
    "At maturity, the CD will pay \\\\$1 million × (1 + 0.004603) = \\\\$1,004,603.\n",
    "\n",
    "The quoted yield on the CD of 1.4/% is already a <span style=\"color:red\">bond equivalent yield</span> by definition, because it is an add-on yield annualized based on a 365-day year."
   ]
  },
  {
   "cell_type": "markdown",
   "id": "345cd0f3",
   "metadata": {},
   "source": [
    "**EXAMPLE 3:** \\\n",
    "Consider a bank deposit for <u>100</u> days is quoted with an add-on yield of 1.5\\% based on a *360-day* year.\n",
    "\n",
    "Calculate the <span style=\"color:red\">bond equivalent yield</span> and the yield on a <span style=\"color:red\">semiannual bond basis</span>."
   ]
  },
  {
   "cell_type": "code",
   "execution_count": 232,
   "id": "90a6fde5",
   "metadata": {},
   "outputs": [
    {
     "name": "stdout",
     "output_type": "stream",
     "text": [
      "Addon yield_365 (BEY)   = % 1.5208\n",
      "------------------------------------------------\n",
      "Semiannual bond yield and semiannual bond basis:\n",
      "------------------------------------------------\n",
      "100-day HPY             = % 0.4167\n",
      "Eff Ann Yield           = % 1.5294\n",
      "Semiannual Yield        = % 0.7618\n",
      "Semiannual bond basis   = % 1.5236\n"
     ]
    }
   ],
   "source": [
    "# Consider a bank deposit for 100 days is quoted with an add-on yield of 1.5% based on a 360-day year.\n",
    "\n",
    "# Add-on Yield of 1.5% based on 360-day year\n",
    "Addon_Yield_365 = 0.015 * (365/360) * 100\n",
    "print(\"Addon yield_365 (BEY)   = %\", round(Addon_Yield_365,4))\n",
    "\n",
    "# Semiannual bond yield and semiannual bond basis:\n",
    "print(\"------------------------------------------------\")\n",
    "print(\"Semiannual bond yield and semiannual bond basis:\")\n",
    "print(\"------------------------------------------------\")\n",
    "# 100-day HPY\n",
    "HPY_100d = 1.5 * (100 / 360)\n",
    "print(\"100-day HPY             = %\", round(HPY_100d,4))\n",
    "\n",
    "# Effective annual yield\n",
    "eff_annual_yield =  1.004167**(365/100)-1\n",
    "print(\"Eff Ann Yield           = %\", round(eff_annual_yield*100,4))\n",
    "\n",
    "# Semiannual Yield\n",
    "semi_ann_yield = (1.015294)**(1/2)-1\n",
    "print(\"Semiannual Yield        = %\", round(semi_ann_yield*100,4))\n",
    "\n",
    "# Semiannual bond basis\n",
    "bond_basis = 2 * round(semi_ann_yield*100,4)\n",
    "print(\"Semiannual bond basis   = %\", bond_basis)"
   ]
  },
  {
   "cell_type": "markdown",
   "id": "f92573d1",
   "metadata": {},
   "source": [
    "**Answer 3**\n",
    "\n",
    "Because the yield of 1.5\\% is an annualized yield calculated based on a 360-day year, the bond equivalent yield, which is based on a 365-day year, is:   \n",
    "\n",
    "$\\qquad(365/360) \\times 1.5 \\% = 1.5208\\%$\n",
    "\n",
    "We may want to compare the yield on a money market security to the YTM of a semiannual-pay bond. The method is to convert the money market security's holding period return to an effective semiannual yield, and then double it.\n",
    "\n",
    "Because the quoted yield of 1.5% is calculated as the add-on yield for 100 days times 360 / 100, the 100-day holding period return is 1.5% × (100 / 360) = 0.4167%. The effective annual yield is $1.004167^{365/100} − 1 = 1.5294\\%$, the equivalent semiannual yield is $1.015294^{1/2} − 1 = 0.7618\\%$, and the annual yield on a semiannual bond basis is 2 × 0.7618\\% = 1.5236\\%.\n",
    "\n",
    "Because the periodicity of the money market security, 365 / 100, is greater than the periodicity of 2 for a semiannual-pay bond, the simple annual rate for the money market security, 1.5%, is less than the yield on a semiannual bond basis."
   ]
  },
  {
   "cell_type": "markdown",
   "id": "88099ad3",
   "metadata": {},
   "source": [
    "## Reading 56: Key Concepts\n",
    "\n",
    "\n",
    "### LOS 56.a\n",
    "\n",
    "Floating-rate notes (FRNs) pay a coupon equal to a fixed quoted margin relative over a market reference rate (MRR). The required margin (or discount margin) on an FRN is the extra return over MRR demanded by investors due to credit and liquidity risk of the issuer. At issuance, FRNs usually have a quoted margin equal to the discount margin; hence, the FRN is issued at par value.\n",
    "\n",
    "When credit conditions deteriorate and the discount margin rises above the quoted margin, the FRN will trade below par.\n",
    "\n",
    "When credit conditions improve and the discount margin falls below the quoted margin, the FRN will trade above par.\n",
    "\n",
    "### LOS 56.b\n",
    "\n",
    "For money market instruments, yields may be quoted on a discount basis or an add-on basis, and they may use 360-day or 365-day years. A bond equivalent yield is an add-on yield based on a 365-day year.\n",
    "\n"
   ]
  },
  {
   "cell_type": "markdown",
   "id": "502c9927",
   "metadata": {},
   "source": [
    "## QBANK Quiz\n",
    "<hr>\n",
    "\n",
    "1. A bond-equivalent yield for a money market instrument is a(n):\n",
    "\n",
    "    **Answers**\n",
    "    add-on yield based on a 365-day year.\n",
    "\n",
    "    **Explanation**\n",
    "    A bond-equivalent yield is an add-on yield based on a 365-day year.\n",
    "\n",
    "<br>\n",
    "\n",
    "2. A company issues a \\\\$1 million annual coupon floating-rate note (FRN) with a quoted annual market reference rate (MRR) of 3.5/% plus a quoted margin (QM) of 80 basis points. With three years remaining until maturity, the MRR is quoted at the same 3.5% with a discount margin equal to 50 basis points. The estimated value of the FRN is closest to::\n",
    "\n",
    "    **Answers**\n",
    "    \\\\$1,008,325.\n",
    "\n",
    "    **Explanation**\n",
    "    The coupon payments will be based on a rate of 4.3% (3.5\\% + 0.8\\0%), and the discount rate will be equal to 4.0\\% (3.5\\% + 0.5\\%). Using a financial calculator, N = 3, I/Y = 4.0, FV = 1,000,000, PMT = 43,000 (4.3% of 1,000,000), and the computed PV = 1,008,325. \n",
    "    (Module 56.1, LOS 56.a)\n",
    "\n",
    "    \n",
    "<br>\n",
    "\n",
    "    \n",
    "3. As a floating-rate note (FRN) gets closer to maturity, assuming no change in credit quality since the original issuance, the quoted margin (QM) will:\n",
    "\n",
    "    **Answers**\n",
    "    equal the discount margin.\n",
    "\n",
    "    **Explanation**\n",
    "    If there has been no change to the credit quality of the note since issuance, even as the note gets closer to maturity, the QM and the discount margin will remain the same. \n",
    "    (Module 56.1, LOS 56.a)\n",
    "\n",
    "<br>\n",
    "   \n",
    "    \n",
    "4. The relationship between the quoted margin and the discount margin on a floating-rate note (FRN) is such that if the note is priced below par, it must be a case that the discount margin is:\n",
    "\n",
    "    **Answers**\n",
    "    greater than the quoted margin.\n",
    "\n",
    "    **Explanation**\n",
    "    The quoted margin (QM) on an FRN is the amount above (or below) the market reference rate (MRR) that determines the actual coupon payment itself. The discount (required) margin (DM) is the required return on the note for it to be priced at par. If the DM is greater than the QM, this means that investors are requiring a higher yield than currently being offered, causing the note to trade below par.\n",
    "    (Module 56.1, LOS 56.a).    "
   ]
  }
 ],
 "metadata": {
  "kernelspec": {
   "display_name": "Python 3 (ipykernel)",
   "language": "python",
   "name": "python3"
  },
  "language_info": {
   "codemirror_mode": {
    "name": "ipython",
    "version": 3
   },
   "file_extension": ".py",
   "mimetype": "text/x-python",
   "name": "python",
   "nbconvert_exporter": "python",
   "pygments_lexer": "ipython3",
   "version": "3.11.5"
  }
 },
 "nbformat": 4,
 "nbformat_minor": 5
}
