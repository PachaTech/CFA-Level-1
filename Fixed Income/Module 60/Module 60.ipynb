{
 "cells": [
  {
   "cell_type": "markdown",
   "id": "07068800",
   "metadata": {},
   "source": [
    "# Module 60.1: Yield-Based Bond Convexity and Portfolio Properties\n",
    "<hr>"
   ]
  },
  {
   "cell_type": "markdown",
   "id": "bc8df1cf",
   "metadata": {},
   "source": [
    "### LOS 60.a: Calculate and interpret convexity and describe the convexity adjustment.\n",
    "\n",
    "In our reading on Yield-Based Bond Duration Measures and Properties, we showed that modified duration is a linear approximation of the price-yield relationship. Because the true relationship is convex, duration-based estimates of a bond's full price will be increasingly different from actual prices as we increase the changes in yield. This is illustrated in  Price-Yield Curve for an Option-Free, 8%, 20-Year **Semiannual-Pay Bond**. Duration-based price estimates for a decrease and for an increase in YTM are shown as Est.– and Est.+.\n",
    "\n",
    "*Price-Yield Curve for an Option-Free, 8%, 20-Year Semiannual-Pay Bond*\n",
    "\n",
    "<img src=\"https://github.com/PachaTech/CFA-Level-1/blob/main/Fixed%20Income/Module%2060/pics/par.jpeg?raw=true\"></img>\n",
    "\n",
    "We can improve our estimates of the price impact of a change in yield by introducing a second term. Convexity is a measure of the curvature of the price-yield relation. The more curved it is, the greater the convexity adjustment.\n",
    "\n",
    "One way to calculate convexity is by considering each of a bond's cash flows separately. The convexity of a single cash flow at period t is given by the following:\n",
    "\n",
    "$\\text{convexity of cash flow at period } t = t×t+1(1+r)^2$\n",
    "\n",
    "where $r$ is the periodic yield of the cash flow $\\large\\frac{\\text{YTM}}{\\text{periodicity}}$\n",
    "\n",
    "The convexity of a coupon-paying bond can then be calculated as the weighted average convexity of its individual cash flows, using the present value of cash flows as the weights (the same weighting we use to calculate Macaulay duration).\n",
    "\n",
    "For a 5-year, 11% annual coupon bond priced at 86.59 (a 15% yield to maturity), the convexity of the coupon at \n",
    "\n",
    "`Time 1 is (1 × 2) / 1.152 = 1.512`, \n",
    "\\\n",
    "and the convexity of the coupon at \n",
    "\\\n",
    "`Time 2 is (2 × 3) / 1.152 = 4.537`. \n",
    "\n",
    "The following table completes the calculations for all five of the bond's cash flows:\n",
    "\n",
    "<img src=\"https://github.com/PachaTech/CFA-Level-1/blob/main/Fixed%20Income/Module%2060/pics/1.png?raw=true\"></img>"
   ]
  },
  {
   "cell_type": "code",
   "execution_count": null,
   "id": "3e5a7ced",
   "metadata": {},
   "outputs": [],
   "source": []
  }
 ],
 "metadata": {
  "kernelspec": {
   "display_name": "Python 3 (ipykernel)",
   "language": "python",
   "name": "python3"
  },
  "language_info": {
   "codemirror_mode": {
    "name": "ipython",
    "version": 3
   },
   "file_extension": ".py",
   "mimetype": "text/x-python",
   "name": "python",
   "nbconvert_exporter": "python",
   "pygments_lexer": "ipython3",
   "version": "3.11.5"
  }
 },
 "nbformat": 4,
 "nbformat_minor": 5
}
