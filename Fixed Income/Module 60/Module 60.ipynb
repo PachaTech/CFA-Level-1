{
 "cells": [
  {
   "cell_type": "markdown",
   "id": "07068800",
   "metadata": {},
   "source": [
    "# Module 60.1: Yield-Based Bond Convexity and Portfolio Properties\n",
    "<hr>"
   ]
  },
  {
   "cell_type": "markdown",
   "id": "bc8df1cf",
   "metadata": {},
   "source": [
    "### LOS 60.a: Calculate and interpret convexity and describe the convexity adjustment.\n",
    "\n",
    "In our reading on Yield-Based Bond Duration Measures and Properties, we showed that modified duration is a linear approximation of the price-yield relationship. Because the true relationship is convex, duration-based estimates of a bond's full price will be increasingly different from actual prices as we increase the changes in yield. This is illustrated in  Price-Yield Curve for an Option-Free, 8%, 20-Year **Semiannual-Pay Bond**. Duration-based price estimates for a decrease and for an increase in YTM are shown as Est.– and Est.+.\n",
    "\n",
    "*Price-Yield Curve for an Option-Free, 8%, 20-Year Semiannual-Pay Bond*\n",
    "\n",
    "# <IMG SRC =>\n"
   ]
  },
  {
   "cell_type": "code",
   "execution_count": null,
   "id": "3e5a7ced",
   "metadata": {},
   "outputs": [],
   "source": []
  }
 ],
 "metadata": {
  "kernelspec": {
   "display_name": "Python 3 (ipykernel)",
   "language": "python",
   "name": "python3"
  },
  "language_info": {
   "codemirror_mode": {
    "name": "ipython",
    "version": 3
   },
   "file_extension": ".py",
   "mimetype": "text/x-python",
   "name": "python",
   "nbconvert_exporter": "python",
   "pygments_lexer": "ipython3",
   "version": "3.11.5"
  }
 },
 "nbformat": 4,
 "nbformat_minor": 5
}
