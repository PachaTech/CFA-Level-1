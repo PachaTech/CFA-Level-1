{
 "cells": [
  {
   "cell_type": "markdown",
   "id": "07068800",
   "metadata": {},
   "source": [
    "# Module 60.1: Yield-Based Bond Convexity and Portfolio Properties\n",
    "<hr>"
   ]
  },
  {
   "cell_type": "code",
   "execution_count": 25,
   "id": "664e1cf3",
   "metadata": {},
   "outputs": [],
   "source": [
    "# Import libraries\n",
    "import math\n",
    "import pandas as pd\n",
    "import numpy as np\n",
    "import numpy_financial as npf\n",
    "# import matplotlib.pyplot as plt\n",
    "# import seaborn as sns\n",
    "# from sklearn.model_selection import train_test_split\n",
    "# from pandas.core.common import random_state\n",
    "# from sklearn.linear_model import LinearRegression"
   ]
  },
  {
   "cell_type": "markdown",
   "id": "bc8df1cf",
   "metadata": {},
   "source": [
    "### LOS 60.a: Calculate and interpret convexity and describe the convexity adjustment.\n",
    "\n",
    "In our reading on Yield-Based Bond Duration Measures and Properties, we showed that modified duration is a linear approximation of the price-yield relationship. Because the true relationship is convex, duration-based estimates of a bond's full price will be increasingly different from actual prices as we increase the changes in yield. This is illustrated in  Price-Yield Curve for an Option-Free, 8%, 20-Year **Semiannual-Pay Bond**. Duration-based price estimates for a decrease and for an increase in YTM are shown as Est.– and Est.+.\n",
    "\n",
    "*Price-Yield Curve for an Option-Free, 8%, 20-Year Semiannual-Pay Bond*\n",
    "\n",
    "<img src=\"https://github.com/PachaTech/CFA-Level-1/blob/main/Fixed%20Income/Module%2060/pics/par.jpeg?raw=true\"></img>\n",
    "\n",
    "We can improve our estimates of the price impact of a change in yield by introducing a second term. Convexity is a measure of the curvature of the price-yield relation. The more curved it is, the greater the convexity adjustment.\n",
    "\n",
    "One way to calculate convexity is by considering each of a bond's cash flows separately. The convexity of a single cash flow at period t is given by the following:\n",
    "\n",
    "$\\text{convexity of cash flow at period } t = t×t+1(1+r)^2$\n",
    "\n",
    "where $r$ is the periodic yield of the cash flow $\\large\\frac{\\text{YTM}}{\\text{periodicity}}$\n",
    "\n",
    "The convexity of a coupon-paying bond can then be calculated as the weighted average convexity of its individual cash flows, using the present value of cash flows as the weights (the same weighting we use to calculate Macaulay duration).\n",
    "\n",
    "For a 5-year, 11% annual coupon bond priced at 86.59 (a 15% yield to maturity), the convexity of the coupon at \n",
    "\n",
    "`Time 1 is (1 × 2) / 1.152 = 1.512`, \n",
    "\\\n",
    "and the convexity of the coupon at \n",
    "\\\n",
    "`Time 2 is (2 × 3) / 1.152 = 4.537`. \n",
    "\n",
    "The following table completes the calculations for all five of the bond's cash flows:\n",
    "\n",
    "<img src=\"https://github.com/PachaTech/CFA-Level-1/blob/main/Fixed%20Income/Module%2060/pics/1.png?raw=true\"></img>\n",
    "\n",
    "\n",
    "Using the weights given in the table, we can calculate the convexity for this bond as follows:\n",
    "\n",
    "$$\n",
    "0.1105(1.512) + 0.0961(4.537) + 0.0835(9.074) + 0.0726(15.123) + 0.6373(22.684) = 16.915\n",
    "$$\n",
    "\n",
    "For bonds with non-annual coupons, convexity needs to be divided by the number of periods per year *squared to annualize* the measure. For a semiannual coupon bond, the final convexity figure would be annualized by dividing by $2^2 = 4$.\n",
    "\n",
    "In a similar way to how we approximated modified duration, we can also determine a bond's approximate convexity using the following formula:\n",
    "\n",
    "$$\n",
    "\\text{approximate convexity} = \\frac{V_−+V_+−2V_0}{(\\Delta \\text{YTM})^2 V_0}\n",
    "$$\n",
    "\n",
    "where:\n",
    "\n",
    "$V_{–}$ = price of the bond if YTM is decreased by $\\Delta$ YTM\n",
    "\n",
    "$V_{+}$ = price of the bond if the YTM is increased by $\\Delta$ YTM\n",
    "\n",
    "$V_{0}$ = current price of the bond"
   ]
  },
  {
   "cell_type": "markdown",
   "id": "ab6042ce",
   "metadata": {},
   "source": [
    "**Example: Calculating approximate convexity**\n",
    "\n",
    "Consider our 5-year, 11% annual coupon bond priced at 86.59138 to yield 15% to maturity. If its YTM increases by 50 basis points, its price will decrease to 85.09217. If its YTM decreases by 50 basis points, its price will increase to 88.12721. Calculate the approximate convexity of the bond."
   ]
  },
  {
   "cell_type": "code",
   "execution_count": 64,
   "id": "09341e85",
   "metadata": {},
   "outputs": [
    {
     "name": "stdout",
     "output_type": "stream",
     "text": [
      "0.03661999999999921\n",
      "0.0021647845\n",
      "Bond approximate convexity is:  16.916\n"
     ]
    }
   ],
   "source": [
    "# Example: Calculating approximate convexity\n",
    "\n",
    "print(float(88.12721 + 85.09217) - (2*86.59138))\n",
    "print(float(86.59138 * (0.005**2)))\n",
    "v = float(0.03661999999999921/0.0021647845)\n",
    "\n",
    "print(\"Bond approximate convexity is: \", round(v,3))"
   ]
  },
  {
   "cell_type": "markdown",
   "id": "0e511bdb",
   "metadata": {},
   "source": [
    "**Answer:**\n",
    "\n",
    "The approximate convexity is: \n",
    "$\\large\\frac{88.12721+85.09217–(2×86.59138)}{86.59138×0.005^2}\\small=16.916$\n",
    "\n",
    "This result is nearly the same as the convexity measure we calculated by considering each cash flow separately.\n",
    "\n",
    "A bond's convexity is increased or decreased by the same bond characteristics that affect duration. A longer maturity, a lower coupon rate, or a lower YTM will all increase convexity, and vice versa. For two bonds with equal duration, the one with cash flows that are more dispersed over time will have more convexity."
   ]
  },
  {
   "cell_type": "markdown",
   "id": "e68dbeab",
   "metadata": {},
   "source": [
    "### LOS 60.b: Calculate the percentage price change of a bond for a specified change in yield, given the bond's duration and convexity.\n",
    "\n",
    "By taking account of both a bond's duration (first-order effects) and convexity (second-order effects), we can improve an estimate of the effects of a change in yield on a bond's value, especially for larger changes in yield:\n",
    "\n",
    "$$\n",
    "\\text{percent change in full bond price} = \\text{–annual modified duration} (\\Delta \\text{YTM}) + \\frac{1}{2} \\text{annual convexity} (\\Delta \\text{YTM})^2\n",
    "$$\n",
    "\n",
    "<hr>\n",
    "\n",
    "**Example: Estimating price changes with duration and convexity**\n",
    "\n",
    "Consider our 5-year, 11% annual coupon bond priced at 86.59138 to yield 15% to maturity. We have calculated the modified duration to be 3.50 and the convexity of the bond to be 16.9. Estimate the new price of the bond if its yield decreases by 50 basis points.\n"
   ]
  },
  {
   "cell_type": "code",
   "execution_count": 44,
   "id": "3c351b61",
   "metadata": {},
   "outputs": [
    {
     "name": "stdout",
     "output_type": "stream",
     "text": [
      "0.0175\n",
      "0.0211\n",
      "1.7711\n",
      "88.125\n"
     ]
    }
   ],
   "source": [
    "# Estimating price changes with duration and convexity\n",
    "\n",
    "# The duration effect\n",
    "dur_effect = 3.50 * 0.005\n",
    "print(dur_effect)\n",
    "\n",
    "# The convexity effect is\n",
    "conv_effect = 0.5 * 16.9 * (0.005**2) *100\n",
    "print(round(conv_effect,4))\n",
    "\n",
    "# The expected change in bond price is \n",
    "exp_change =  (.0175 + .000211) *100\n",
    "print(round(exp_change,4))\n",
    "\n",
    "# The new price of the bond is estimated to be\n",
    "bond_newp = 86.59138 * 1.017711\n",
    "print(round(bond_newp,4))\n",
    "\n"
   ]
  },
  {
   "cell_type": "markdown",
   "id": "b91f2a5e",
   "metadata": {},
   "source": [
    "\n",
    "**Answer:**\n",
    "\n",
    "The duration effect is –3.50 × –0.005 = 1.75%.\n",
    "\n",
    "The convexity effect is 12×16.9×(−0.005)2=0.000211=0.0211%.\n",
    "\n",
    "The expected change in bond price is (1.75% + 0.0211%) = 1.7711%.\n",
    "\n",
    "The new price of the bond is estimated to be 86.59138 × 1.017711 = 88.125.\n",
    "\n",
    "Analogous to money duration (`MoneyDur`), the money convexity (`MoneyCon`) of a bond position is expressed in currency units:\n",
    "\n",
    "$\\text{money convexity} = \\text{annual convexity} × \\text{full price of bond position}$\n",
    "\n",
    "We can use money duration and money convexity to estimate the change in price of a bond as follows:\n",
    "\n",
    "$\\text{change in full price of bond} = \\text{–(MoneyDur } x  \\Delta \\text{(YTM)} + \\frac{1}{2} x \\text{ MoneyCon } x \\Delta\\text{YTM)}^2)$\n",
    "\n",
    "\n",
    "<hr>\n",
    "\n",
    "**Example: Estimating price changes with duration and convexity**\n",
    "\n",
    "For the bond in our previous examples, calculate the money duration and money convexity of a $10 million par position in the bond and estimate the new price of the bond for a 50 basis point decrease in yield. Recall that the modified duration of the bond is 3.50 and its convexity is 16.9.\n"
   ]
  },
  {
   "cell_type": "code",
   "execution_count": 76,
   "id": "15e1be68",
   "metadata": {},
   "outputs": [
    {
     "name": "stdout",
     "output_type": "stream",
     "text": [
      "The market value of the position is   = $ 8659138.0\n",
      "The money duration of the position is = $ 30306983.0\n",
      "The money convexity of the bond is    = $ 146339432.2\n",
      "The duration effect is                = $ 151534.92\n",
      "The convexity effect is               = $ 1829.24\n",
      "The expected change in bond price is  = $ 153364.17\n",
      "The new estimated value of the bond   = $ 8812502.17\n"
     ]
    }
   ],
   "source": [
    "# The market value of the position is \n",
    "print(\"The market value of the position is   = $\",0.8659138 * 10000000)\n",
    "\n",
    "# The money duration of the position is \n",
    "print(\"The money duration of the position is = $\",3.50 * 8659138)\n",
    "\n",
    "# The money convexity of the bond is \n",
    "print(\"The money convexity of the bond is    = $\",16.9 * 8659138)\n",
    "\n",
    "# The duration effect is \n",
    "print(\"The duration effect is                = $\",round(-(30306983 * -0.005),2))\n",
    "\n",
    "# The convexity effect is  \n",
    "print(\"The convexity effect is               = $\",round(0.5*146339432 * (0.005**2),2)) \n",
    "\n",
    "# The expected change in bond price is \n",
    "print(\"The expected change in bond price is  = $\",151534.92 + 1829.25)\n",
    "\n",
    "# The new value of the bond is estimated to be \n",
    "print(\"The new estimated value of the bond   = $\",8659138 + 153364.17)"
   ]
  },
  {
   "cell_type": "markdown",
   "id": "5b9db4f8",
   "metadata": {},
   "source": [
    "**Answer:**\n",
    "\n",
    "The market value of the position is \\\\$0.8659138 × 10,000,000 = \\\\$8,659,138.\n",
    "\n",
    "The money duration of the position is \\\\$3.50 × \\\\$8,659,138 = \\\\$30,306,983.\n",
    "\n",
    "The money convexity of the bond is \\\\$16.9 × \\\\$8,659,138 = \\\\$146,339,432$.\n",
    "\n",
    "The duration effect is –(\\\\$30,306,983 × –0.005) = \\\\$151,534.92.\n",
    "\n",
    "The convexity effect is $\\frac{1}{2} × \\$146,339,432 × (–0.005)^2 = \\$1,829.25$\n",
    "\n",
    "The expected change in bond price is (\\\\$151,534.92 + \\\\$1,829.25) = \\\\$153,364.17.\n",
    "\n",
    "The new value of the bond is estimated to be \\\\$8,659,138 + \\\\$153,364.17 = \\\\$8,812,502. This is consistent with the estimate for new price of 88.125 in the previous example. Both methods are doing the same thing in a slightly different way.\n",
    "\n",
    "The convexity adjustment to the price change is the same for either an increase or a decrease in yield. As illustrated in  **Duration-Based Price Estimates vs. Actual Bond Prices**, the duration-only based estimate of the increase in price resulting from a decrease in yield is too low for a bond with positive convexity, and it is improved by a positive adjustment for convexity. The duration-only based estimate of the decrease in price resulting from an increase in yield is larger than the actual decrease, so it is also improved by a positive adjustment for convexity.\n",
    "\n",
    "\n",
    "*Duration-Based Price Estimates vs. Actual Bond Prices*\n",
    "\n",
    "<center>\n",
    "<img src=\"https://github.com/PachaTech/CFA-Level-1/blob/main/Fixed%20Income/Module%2060/pics/2.jpeg?raw=true\"></img>\n",
    "</center>"
   ]
  },
  {
   "cell_type": "markdown",
   "id": "1a1c7bc3",
   "metadata": {},
   "source": [
    "### LOS 60.c: Calculate portfolio duration and convexity and explain the limitations of these measures.\n",
    "\n",
    "There are two approaches to estimating the duration and convexity of a portfolio. The first is to base a single duration and convexity calculation on the portfolio's aggregate cash flows across all bonds. The second approach is to calculate the duration and convexity of each bond in the portfolio, then take a weighted average of these based on the weight of the bond in the portfolio.\n",
    "\n",
    "The first approach is theoretically correct; however, the second approach is typically used in practice because it is often easier to apply. The second approach can be formulated as follows:\n",
    "\n",
    "$$\n",
    "\\text{portfolio duration} = W_1 D_1 + W_2 D_2 + \\ldots + W_N D_N\n",
    "$$\n",
    "\n",
    "where:\n",
    "\n",
    "$W_i$ = full price of bond $i$ divided by the total value of the portfolio\n",
    "\n",
    "$D_i$ = duration of bond $i$\n",
    "\n",
    "$N$ = number of bonds in the portfolio\n",
    "\n",
    "One limitation of this approach is that it assumes the YTM of every bond (of any maturity) in the portfolio must change by the same amount. Only under this assumption of a **parallel shift** in the yield curve will portfolio duration and convexity calculated with this approach produce the percentage change in portfolio value per 1/% change in YTM.\n",
    "\n",
    "Changes in the yield curve are rarely a simple parallel shift. Changes in shape, such as a steepening or twist, are common."
   ]
  },
  {
   "cell_type": "markdown",
   "id": "b4ff4a65",
   "metadata": {},
   "source": [
    "## Reading 60: Key Concepts:\n",
    "\n",
    "<hr>\n",
    "\n",
    "### LOS 60.a\n",
    "\n",
    "Convexity refers to the curvature of a bond's price-yield relationship.\n",
    "\n",
    "The convexity of a single cash flow at period t is given by the following:\n",
    "\n",
    "convexity of cash flow at period $t = \\Large\\frac{t×(t+1)}{(1+r)^2}$\n",
    "\n",
    "where:\n",
    "\n",
    "$t$ = period at which the cash flow occurs\n",
    "\n",
    "$r$ = periodic yield of the bond (YTM/periodicity)\n",
    "\n",
    "The convexity of a coupon-paying bond is the weighted average convexity of its cash flows.\n",
    "\n",
    "To annualize convexity for non-annual coupons, divide by periodicity squared.\n",
    "\n",
    "Convexity can be approximated using the following formula:\n",
    "\n",
    "approximate convexity=V−+V+−2V0(ΔYTM)2V0\n",
    "\n",
    "where:\n",
    "\n",
    "$V_–$ = price of the bond if YTM is decreased by ΔYTM\n",
    "\n",
    "$V_+$ = price of the bond if the YTM is increased by ΔYTM\n",
    "\n",
    "$V_0$ = current price of the bond\n",
    "\n",
    "### LOS 60.b\n",
    "\n",
    "Given values for approximate annual modified duration and approximate annual convexity, the percentage change in the full price of a bond can be estimated as follows:\n",
    "\n",
    "$$\n",
    "\\%\\Delta \\text{full bond price  } = \\text{-annual modified duration (VYTM)} + \\frac{1}{2} \\text{  annual convexity (VYTM)}^2\n",
    "$$\n",
    "\n",
    "Money convexity is stated in currency units and is sometimes expressed per 100 of bond value:\n",
    "\n",
    "money convexity = annual convexity × full price of bond position\n",
    "\n",
    "Using money duration and money convexity to directly estimate the change in price of a bond, this is the equation:\n",
    "\n",
    "$$\n",
    "\\text{change in full price of bond} = \\big(\\text{-MoneyDur} × \\Delta \\text{YTM}\\big)+ \\Big(\\frac{1}{2} × \\text{MoneyCon} × \\Delta \\text{YTM}^2\\Big)\n",
    "$$\n",
    "\n",
    "### LOS 60.c\n",
    "\n",
    "There are two methods for calculating portfolio duration and convexity:\n",
    "\n",
    "1. Calculate a single duration and convexity measure based on the aggregate cash flows of the bond portfolio.\n",
    "2. Calculate the weighted average of durations of bonds in the portfolio. This method is used most often in practice, but it assumes a parallel shift of the yield curve."
   ]
  },
  {
   "cell_type": "markdown",
   "id": "1bf21ae4",
   "metadata": {},
   "source": [
    "## Module 60.1: Yield-Based Bond Convexity and Portfolio Properties Quiz\n",
    "\n",
    "<hr>"
   ]
  },
  {
   "cell_type": "markdown",
   "id": "5f6d2fe9",
   "metadata": {},
   "source": [
    "#### QUESTION 1 OF 5\n",
    "**Note** -- this is also another question using a Macauly table (Matrix) unlikely used on the exam.\n",
    "\n",
    "\n",
    "The annualized convexity of a 2-year, annual-pay, 10% coupon bond trading at par is closest to:\n",
    "\n",
    "\n",
    "* **ANSWER:** \\\n",
    "4.66.\n",
    "\n",
    "* **EXPLANATION** \\\n",
    "Because the bond is trading at par, its yield is equal to its coupon of 10%. The convexity of the first cash flow at Time 1 is (1 × 2) / (1.10)2 = 1.653. The convexity of the second cash flow is (2 × 3) / (1.10)2 = 4.959. The weights for each cash flow time are calculated as follows:\n",
    "+ The convexity of the bond is 0.09091(1.653) + 0.90909(4.959) = 4.66.\n",
    "\n"
   ]
  },
  {
   "cell_type": "code",
   "execution_count": 60,
   "id": "40ded668",
   "metadata": {},
   "outputs": [
    {
     "name": "stdout",
     "output_type": "stream",
     "text": [
      "1.653\n",
      "4.959\n",
      "\n",
      "The Annualized convexity of the bond is = 4.658\n"
     ]
    }
   ],
   "source": [
    "# Question 1 of 5 - Annualized convexity question\n",
    "\n",
    "t1 = (1*2)/(1.10**2)\n",
    "t2 = (2*3)/(1.10**2)\n",
    "\n",
    "Q1convexity = (0.09091 * t1) + (0.90909 * t2)\n",
    "\n",
    "print(round(t1,3))\n",
    "print(round(t2,3))\n",
    "print(\"\")\n",
    "print(\"The Annualized convexity of the bond is =\",round(Q1convexity,3))"
   ]
  },
  {
   "cell_type": "markdown",
   "id": "26028803",
   "metadata": {},
   "source": [
    "#### QUESTION 2 OF 5\n",
    "\n",
    "A bond is trading at a price of 104.4518. If its yield increases by 10 basis points, its price will decrease to 103.9954. If its yield decreases by 10 basis points, its prices will increase to 104.9108. The approximate convexity of this bond is closest to:\n",
    "\n",
    "\n",
    "* **ANSWER:** \\\n",
    "24.89.\n",
    "\n",
    "* **EXPLANATION** \\\n",
    "The approximate convexity of the bond is calculated as follows:\n",
    "$$\n",
    "\\text{approximate convexity} = \\frac{V_−+V_+−2V_0}{(\\Delta \\text{YTM})^2 V_0}\n",
    "$$\n",
    "\n",
    "where:\n",
    "\n",
    "$V_{–}$ = price of the bond if YTM is decreased by $\\Delta$ YTM\n",
    "\n",
    "$V_{+}$ = price of the bond if the YTM is increased by $\\Delta$ YTM\n",
    "\n",
    "$V_{0}$ = current price of the bond\n",
    "\n",
    "In this case, \n",
    "\n",
    "$$\n",
    "\\text{approximate convexity} = \\frac{104.9108+103.9954 - 2\\times(104.4518)}{0.001^2 \\times 104.4518} = 24.98 \n",
    "$$"
   ]
  },
  {
   "cell_type": "code",
   "execution_count": 48,
   "id": "4e401633",
   "metadata": {},
   "outputs": [
    {
     "name": "stdout",
     "output_type": "stream",
     "text": [
      "0.002600000000001046\n",
      "0.0001044518\n",
      "\n",
      "the approximate convexity is =  24.89\n"
     ]
    }
   ],
   "source": [
    "# QUESTION 2 OF 5 - approximate convexity question\n",
    "\n",
    "a = 104.9108+103.9954-(2*(104.4518))\n",
    "b = (0.001**2)*104.4518\n",
    "solution = a/b\n",
    "\n",
    "print(104.9108+103.9954-(2*(104.4518)))\n",
    "print((0.001**2)*104.4518)\n",
    "print(\"\")\n",
    "print(\"the approximate convexity is = \", round(solution,2))"
   ]
  },
  {
   "cell_type": "markdown",
   "id": "0f620036",
   "metadata": {},
   "source": [
    "#### QUESTION 3 OF 5\n",
    "Note: This uses a Macauly matrix and it is unlikely on the level 1 exam.\n",
    "\n",
    "The annualized convexity of a 2-year, semiannual-pay, 10% coupon bond trading at par is closest to:\n",
    "\n",
    "\n",
    "* **ANSWER:** \\\n",
    "4.12.\n",
    "\n",
    "* **EXPLANATION** \\\n",
    "Because the bond is trading at par, its yield is equal to its coupon of 10\\%. Note that this is a semiannual coupon bond; hence, it has coupons of //$5 every six months and has a periodic six-month return of 5\\%. The weights for each cash flow time are calculated as follows:\n",
    "\n",
    "1. The convexity of the first cash flow at Time 1 is (1 × 2) / (1.05)2 = 1.8141.\n",
    "\n",
    "2. The convexity of the second cash flow is (2 × 3) / (1.05)2 = 5.4422.\n",
    "\n",
    "3. The convexity of the third cash flow is (3 × 4) / (1.05)2 = 10.8844.\n",
    "\n",
    "3. The convexity of the fourth cash flow is (4 × 5) / (1.05)2 = 18.1406.\n",
    "\n",
    "* The convexity of the bond is 0.0476(1.8141) + 0.0454(5.4422) + 0.0432(10.8844) + 0.8638(18.1406) = 16.47.\n",
    "\n",
    "* The annualized convexity is calculated by dividing convexity by the periodicity of the bond (2) squared.\n",
    "\n",
    "* Hence, annualized convexity = (16.47 / 2)^2 = 4.12.\n",
    "\n",
    "(Module 60.1, LOS 60.a)"
   ]
  },
  {
   "cell_type": "code",
   "execution_count": 33,
   "id": "d75efca8",
   "metadata": {},
   "outputs": [
    {
     "name": "stdout",
     "output_type": "stream",
     "text": [
      "16.47\n",
      "4.12\n"
     ]
    }
   ],
   "source": [
    "# Question 3 of 5\n",
    "\n",
    "convexity = 0.0476*(1.8141) + 0.0454*(5.4422) + 0.0432*(10.8844) + 0.8638*(18.1406)\n",
    "print(round(convexity,2))\n",
    "annualconvexity = (convexity / 2**2)\n",
    "print(round(annualconvexity,2))"
   ]
  },
  {
   "cell_type": "markdown",
   "id": "cec2638c",
   "metadata": {},
   "source": [
    "#### QUESTION 4 OF 5\n",
    "\n",
    "A bond has a convexity of 114.6. The convexity effect, if the yield decreases by <u>110 basis points</u>, is closest to:\n",
    "\n",
    "* **ANSWER:** \\\n",
    "+0.693\\%.\n",
    "\n",
    "* **EXPLANATION** \\\n",
    "$$\n",
    "\\text{The convexity effect} = 12 × \\text{convexity} × (\\Delta \\text{YTM})^2 \\\\\n",
    "= (0.5)(114.6)(-0.011)^2= \n",
    "0.00693= 0.693%.\n",
    "$$\n",
    "\\\n",
    "(Module 60.1, LOS 60.b)"
   ]
  },
  {
   "cell_type": "code",
   "execution_count": 14,
   "id": "f45da19f",
   "metadata": {},
   "outputs": [
    {
     "name": "stdout",
     "output_type": "stream",
     "text": [
      "0.693\n"
     ]
    }
   ],
   "source": [
    "# QUESTION 4 OF 5\n",
    "# A bond has a convexity of 114.6. \n",
    "# The convexity effect, if the yield decreases by 110 basis points, \n",
    "# is closest to:\n",
    "\n",
    "# USE CONVEXITY EFFECT FORMULA\n",
    "\n",
    "q4 = (0.5)*(114.6)*(-0.011**2)*-100 \n",
    "print(round(q4,3))"
   ]
  },
  {
   "cell_type": "markdown",
   "id": "0c3860c4",
   "metadata": {},
   "source": [
    "#### QUESTION 5 OF 5\n",
    "Portfolio duration based on weighted average durations of constituents of the portfolio assumes:\n",
    "\n",
    "\n",
    "* **ANSWER:** \\\n",
    "yields change uniformly across all maturities.\n",
    "\n",
    "* **EXPLANATION** \\\n",
    "Portfolio duration is limited as a measure of interest rate risk because it assumes parallel shifts in the yield curve; that is, the discount rate at each maturity changes by the same amount. \n",
    "\\\n",
    "(Module 60.1, LOS 60.c)\n"
   ]
  },
  {
   "cell_type": "markdown",
   "id": "5b958a51",
   "metadata": {},
   "source": [
    "## Reading 60 QBank 1\n",
    "\n",
    "<hr>\n"
   ]
  },
  {
   "cell_type": "markdown",
   "id": "6934b6ba",
   "metadata": {},
   "source": [
    "#### QUESTION 1 OF 6\n",
    "The annual convexity of a bond is calculated as 12.35. If the full price of the bond position is \\\\$1.5 million and the bond matures in three years, the money convexity is *closest* to:\n",
    "\n",
    "\n",
    "* **ANSWER:** \\\n",
    "\\\\$18,525,000\n",
    "\n",
    "* **EXPLANATION** \\\n",
    "The money convexity of a bond is equal to its annual convexity times the full price of the bond position. With an annual convexity of 12.35 and the full price of the bond position of \\\\$1,500,000, the money convexity is equal to 12.35 × \\\\$1,500,000 = \\\\$18,525,000. The maturity of the bond does not impact the calculation.\n",
    "$12.34 \\times 1,500,000 = 18,525,000$\n",
    "(Module 60.1, LOS 60.b)\n",
    "\n"
   ]
  },
  {
   "cell_type": "code",
   "execution_count": 72,
   "id": "bc308a97",
   "metadata": {},
   "outputs": [
    {
     "name": "stdout",
     "output_type": "stream",
     "text": [
      "18510000.0\n"
     ]
    }
   ],
   "source": [
    "print(12.34 * 1500000)"
   ]
  },
  {
   "cell_type": "markdown",
   "id": "81516699",
   "metadata": {},
   "source": [
    "<hr>\n",
    "\n",
    "#### QUESTION 2 OF 6\n",
    "A fixed-income portfolio manager is estimating portfolio duration based on the weighted average of the durations of each bond in the portfolio. The manager should calculate duration using:\n",
    "\n",
    "\n",
    "* **ANSWER:** \\\n",
    "parallel shifts of the benchmark yield curve.\n",
    "\n",
    "* **EXPLANATION** \\\n",
    "Portfolio duration as a weighted average of the individual bonds' durations is calculated assuming parallel shifts in the yield curve. Cash flow yield is used to calculate duration based on the weighted average time until a bond portfolio's cash flows are scheduled to be received.\\\n",
    "(Module 60.1, LOS 60.c)."
   ]
  },
  {
   "cell_type": "markdown",
   "id": "c28d2365",
   "metadata": {},
   "source": [
    "#### QUESTION 3 OF 6\n",
    "An annual-pay bond is priced at 101.50. If its yield to maturity decreases 100 basis points, its price will increase to 105.90. If its yield to maturity increases 100 basis points, its price will decrease to 97.30. The bond's approximate modified convexity is closest to:\n",
    "\n",
    "\n",
    "* **ANSWER:** \\\n",
    "parallel shifts of the benchmark yield curve.\n",
    "\n",
    "* **EXPLANATION** \\\n",
    "The approximate convexity of the bond is calculated as follows:\n",
    "$$\n",
    "\\text{approximate convexity} = \\frac{V_−+V_+−2V_0}{(\\Delta \\text{YTM})^2 V_0}\n",
    "$$\n",
    "\n",
    "where:\n",
    "\n",
    "$V_{–}$ = price of the bond if YTM is decreased by $\\Delta$ YTM\n",
    "\n",
    "$V_{+}$ = price of the bond if the YTM is increased by $\\Delta$ YTM\n",
    "\n",
    "$V_{0}$ = current price of the bond\n",
    "\n",
    "In this case, \n",
    "\n",
    "$$\n",
    "\\text{modified convexity} = \\frac{105.90+97.30 - 2\\times(101.50)}{0.01^2 \\times 101.5} = 19.70\n",
    "$$\n",
    "\n"
   ]
  },
  {
   "cell_type": "code",
   "execution_count": 73,
   "id": "5ca0c8fc",
   "metadata": {},
   "outputs": [
    {
     "name": "stdout",
     "output_type": "stream",
     "text": [
      "0.19999999999998863\n",
      "0.010150000000000001\n",
      "\n",
      "the approximate convexity is =  19.7\n"
     ]
    }
   ],
   "source": [
    "# QUESTION 2 OF 5 - approximate convexity question\n",
    "\n",
    "a2 = 105.90+97.30-(2*(101.5))\n",
    "b2 = (0.01**2)*101.5\n",
    "solution2 = a2/b2\n",
    "\n",
    "print(a2)\n",
    "print(b2)\n",
    "print(\"\")\n",
    "print(\"the approximate convexity is = \", round(solution2,2))"
   ]
  },
  {
   "cell_type": "markdown",
   "id": "9ba4f747",
   "metadata": {},
   "source": [
    "<hr>\n",
    "\n",
    "#### QUESTION 3 OF 6\n",
    "A bond is priced at 95.80. Using a pricing model, an analyst estimates that a 25 bp parallel upward shift in the yield curve would decrease the bond's price to 94.75, while a 25 bp parallel downward shift in the yield curve would increase its price to 96.75. The bond's effective convexity is closest to:\n",
    "\n",
    "* **ANSWER:** \\\n",
    "-167.\n",
    "\n",
    "* **EXPLANATION** \\\n",
    "The approximate convexity of the bond is calculated as follows:\n",
    "$$\n",
    "\\text{approximate convexity} = \\frac{V_−+V_+−2V_0}{(\\Delta \\text{YTM})^2 V_0}\n",
    "$$\n",
    "\n",
    "where:\n",
    "\n",
    "$V_{–}$ = price of the bond if YTM is decreased by $\\Delta$ YTM\n",
    "\n",
    "$V_{+}$ = price of the bond if the YTM is increased by $\\Delta$ YTM\n",
    "\n",
    "$V_{0}$ = current price of the bond\n",
    "\n",
    "In this case, \n",
    "\n",
    "$$\n",
    "\\text{modified convexity} = \\frac{96.75 + 94.75 - 2\\times(95.80)}{0.0025^2 \\times 95.80} = 167.01\n",
    "$$"
   ]
  },
  {
   "cell_type": "code",
   "execution_count": 74,
   "id": "7f8d8ad5",
   "metadata": {},
   "outputs": [
    {
     "name": "stdout",
     "output_type": "stream",
     "text": [
      "-0.09999999999999432\n",
      "0.00059875\n",
      "\n",
      "the approximate convexity is =  -167.01\n"
     ]
    }
   ],
   "source": [
    "# QUESTION 3 OF 5 - approximate convexity question\n",
    "\n",
    "a3 = 96.75+94.75-(2*(95.80))\n",
    "b3 = (0.0025**2)*95.80\n",
    "solution3 = a3/b3\n",
    "\n",
    "print(a3)\n",
    "print(b3)\n",
    "print(\"\")\n",
    "print(\"the approximate convexity is = \", round(solution3,2))"
   ]
  },
  {
   "cell_type": "markdown",
   "id": "39f27444",
   "metadata": {},
   "source": [
    "<hr>\n",
    "\n",
    "#### QUESTION 5 OF 6\n",
    "Negative convexity is most likely to be observed in:\n",
    "\n",
    "* **ANSWER:** \\\n",
    "callable bonds.\n",
    "\n",
    "* **EXPLANATION** \\\n",
    "All noncallable bonds exhibit the trait of being positively convex. Callable bonds have negative convexity because once the yield falls below a certain point prices will rise at a decreasing rate, thus giving the price-yield relationship a negative convex shape.\\\n",
    "(Module 60.1, LOS 60.a)."
   ]
  },
  {
   "cell_type": "markdown",
   "id": "474668cc",
   "metadata": {},
   "source": [
    "<hr>\n",
    "\n",
    "#### QUESTION 6 OF 6\n",
    "Rather than using the annual modified duration and convexity numbers, a financial analyst plans to use money duration and money convexity to estimate the new price of a bond after a change in yield. Relative to the estimated price using the annual numbers, the \"money\" duration and convexity will produce an estimated bond price that is:\n",
    "\n",
    "* **ANSWER:** \\\n",
    "equivalent.\n",
    "\n",
    "* **EXPLANATION** \\\n",
    "Although the calculation incorporates different components, the estimated price change and new bond price will be equivalent under the approach that uses annual duration and convexity versus the approach that uses money duration and convexity. Any differences would be due to rounding.\n",
    "\\\n",
    "(Module 60.1, LOS 60.b)"
   ]
  },
  {
   "cell_type": "code",
   "execution_count": null,
   "id": "2aded76a",
   "metadata": {},
   "outputs": [],
   "source": []
  }
 ],
 "metadata": {
  "kernelspec": {
   "display_name": "Python 3 (ipykernel)",
   "language": "python",
   "name": "python3"
  },
  "language_info": {
   "codemirror_mode": {
    "name": "ipython",
    "version": 3
   },
   "file_extension": ".py",
   "mimetype": "text/x-python",
   "name": "python",
   "nbconvert_exporter": "python",
   "pygments_lexer": "ipython3",
   "version": "3.11.5"
  }
 },
 "nbformat": 4,
 "nbformat_minor": 5
}
