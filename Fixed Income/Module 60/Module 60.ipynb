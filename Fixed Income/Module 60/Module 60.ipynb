{
 "cells": [
  {
   "cell_type": "markdown",
   "id": "07068800",
   "metadata": {},
   "source": [
    "# Module 60.1: Yield-Based Bond Convexity and Portfolio Properties\n",
    "<hr>"
   ]
  },
  {
   "cell_type": "code",
   "execution_count": 7,
   "id": "664e1cf3",
   "metadata": {},
   "outputs": [],
   "source": [
    "# Import libraries\n",
    "import math\n",
    "import pandas as pd\n",
    "import numpy as np\n",
    "import numpy_financial as npf\n",
    "# import matplotlib.pyplot as plt\n",
    "# import seaborn as sns\n",
    "# from sklearn.model_selection import train_test_split\n",
    "# from pandas.core.common import random_state\n",
    "# from sklearn.linear_model import LinearRegression"
   ]
  },
  {
   "cell_type": "markdown",
   "id": "bc8df1cf",
   "metadata": {},
   "source": [
    "### LOS 60.a: Calculate and interpret convexity and describe the convexity adjustment.\n",
    "\n",
    "In our reading on Yield-Based Bond Duration Measures and Properties, we showed that modified duration is a linear approximation of the price-yield relationship. Because the true relationship is convex, duration-based estimates of a bond's full price will be increasingly different from actual prices as we increase the changes in yield. This is illustrated in  Price-Yield Curve for an Option-Free, 8%, 20-Year **Semiannual-Pay Bond**. Duration-based price estimates for a decrease and for an increase in YTM are shown as Est.– and Est.+.\n",
    "\n",
    "*Price-Yield Curve for an Option-Free, 8%, 20-Year Semiannual-Pay Bond*\n",
    "\n",
    "<img src=\"https://github.com/PachaTech/CFA-Level-1/blob/main/Fixed%20Income/Module%2060/pics/par.jpeg?raw=true\"></img>\n",
    "\n",
    "We can improve our estimates of the price impact of a change in yield by introducing a second term. Convexity is a measure of the curvature of the price-yield relation. The more curved it is, the greater the convexity adjustment.\n",
    "\n",
    "One way to calculate convexity is by considering each of a bond's cash flows separately. The convexity of a single cash flow at period t is given by the following:\n",
    "\n",
    "$\\text{convexity of cash flow at period } t = t×t+1(1+r)^2$\n",
    "\n",
    "where $r$ is the periodic yield of the cash flow $\\large\\frac{\\text{YTM}}{\\text{periodicity}}$\n",
    "\n",
    "The convexity of a coupon-paying bond can then be calculated as the weighted average convexity of its individual cash flows, using the present value of cash flows as the weights (the same weighting we use to calculate Macaulay duration).\n",
    "\n",
    "For a 5-year, 11% annual coupon bond priced at 86.59 (a 15% yield to maturity), the convexity of the coupon at \n",
    "\n",
    "`Time 1 is (1 × 2) / 1.152 = 1.512`, \n",
    "\\\n",
    "and the convexity of the coupon at \n",
    "\\\n",
    "`Time 2 is (2 × 3) / 1.152 = 4.537`. \n",
    "\n",
    "The following table completes the calculations for all five of the bond's cash flows:\n",
    "\n",
    "<img src=\"https://github.com/PachaTech/CFA-Level-1/blob/main/Fixed%20Income/Module%2060/pics/1.png?raw=true\"></img>\n",
    "\n",
    "\n",
    "Using the weights given in the table, we can calculate the convexity for this bond as follows:\n",
    "\n",
    "$$\n",
    "0.1105(1.512) + 0.0961(4.537) + 0.0835(9.074) + 0.0726(15.123) + 0.6373(22.684) = 16.915\n",
    "$$\n",
    "\n",
    "For bonds with non-annual coupons, convexity needs to be divided by the number of periods per year *squared to annualize* the measure. For a semiannual coupon bond, the final convexity figure would be annualized by dividing by $2^2 = 4$.\n",
    "\n",
    "In a similar way to how we approximated modified duration, we can also determine a bond's approximate convexity using the following formula:\n",
    "\n",
    "$$\n",
    "\\text{approximate convexity} = \\frac{V_−+V_+−2V_0}{(\\Delta \\text{YTM})^2 V_0}\n",
    "$$\n",
    "\n",
    "where:\n",
    "\n",
    "$V_{–}$ = price of the bond if YTM is decreased by $\\Delta$ YTM\n",
    "\n",
    "$V_{+}$ = price of the bond if the YTM is increased by $\\Delta$ YTM\n",
    "\n",
    "$V_{0}$ = current price of the bond"
   ]
  },
  {
   "cell_type": "markdown",
   "id": "ab6042ce",
   "metadata": {},
   "source": [
    "**Example: Calculating approximate convexity**\n",
    "\n",
    "Consider our 5-year, 11% annual coupon bond priced at 86.59138 to yield 15% to maturity. If its YTM increases by 50 basis points, its price will decrease to 85.09217. If its YTM decreases by 50 basis points, its price will increase to 88.12721. Calculate the approximate convexity of the bond."
   ]
  },
  {
   "cell_type": "code",
   "execution_count": 64,
   "id": "09341e85",
   "metadata": {},
   "outputs": [
    {
     "name": "stdout",
     "output_type": "stream",
     "text": [
      "0.03661999999999921\n",
      "0.0021647845\n",
      "Bond approximate convexity is:  16.916\n"
     ]
    }
   ],
   "source": [
    "# Example: Calculating approximate convexity\n",
    "\n",
    "print(float(88.12721 + 85.09217) - (2*86.59138))\n",
    "print(float(86.59138 * (0.005**2)))\n",
    "v = float(0.03661999999999921/0.0021647845)\n",
    "\n",
    "print(\"Bond approximate convexity is: \", round(v,3))"
   ]
  },
  {
   "cell_type": "markdown",
   "id": "0e511bdb",
   "metadata": {},
   "source": [
    "**Answer:**\n",
    "\n",
    "The approximate convexity is: \n",
    "$\\large\\frac{88.12721+85.09217–(2×86.59138)}{86.59138×0.005^2}\\small=16.916$\n",
    "\n",
    "This result is nearly the same as the convexity measure we calculated by considering each cash flow separately.\n",
    "\n",
    "A bond's convexity is increased or decreased by the same bond characteristics that affect duration. A longer maturity, a lower coupon rate, or a lower YTM will all increase convexity, and vice versa. For two bonds with equal duration, the one with cash flows that are more dispersed over time will have more convexity."
   ]
  },
  {
   "cell_type": "markdown",
   "id": "e68dbeab",
   "metadata": {},
   "source": [
    "### LOS 60.b: Calculate the percentage price change of a bond for a specified change in yield, given the bond's duration and convexity.\n",
    "\n",
    "By taking account of both a bond's duration (first-order effects) and convexity (second-order effects), we can improve an estimate of the effects of a change in yield on a bond's value, especially for larger changes in yield:\n",
    "\n",
    "$$\n",
    "\\text{percent change in full bond price} = \\text{–annual modified duration} (\\Delta \\text{YTM}) + \\frac{1}{2} \\text{annual convexity} (\\Delta \\text{YTM})^2\n",
    "$$\n",
    "\n",
    "<hr>\n",
    "\n",
    "**Example: Estimating price changes with duration and convexity**\n",
    "\n",
    "Consider our 5-year, 11% annual coupon bond priced at 86.59138 to yield 15% to maturity. We have calculated the modified duration to be 3.50 and the convexity of the bond to be 16.9. Estimate the new price of the bond if its yield decreases by 50 basis points.\n"
   ]
  },
  {
   "cell_type": "code",
   "execution_count": 44,
   "id": "3c351b61",
   "metadata": {},
   "outputs": [
    {
     "name": "stdout",
     "output_type": "stream",
     "text": [
      "0.0175\n",
      "0.0211\n",
      "1.7711\n",
      "88.125\n"
     ]
    }
   ],
   "source": [
    "# Estimating price changes with duration and convexity\n",
    "\n",
    "# The duration effect\n",
    "dur_effect = 3.50 * 0.005\n",
    "print(dur_effect)\n",
    "\n",
    "# The convexity effect is\n",
    "conv_effect = 0.5 * 16.9 * (0.005**2) *100\n",
    "print(round(conv_effect,4))\n",
    "\n",
    "# The expected change in bond price is \n",
    "exp_change =  (.0175 + .000211) *100\n",
    "print(round(exp_change,4))\n",
    "\n",
    "# The new price of the bond is estimated to be\n",
    "bond_newp = 86.59138 * 1.017711\n",
    "print(round(bond_newp,4))\n",
    "\n"
   ]
  },
  {
   "cell_type": "markdown",
   "id": "b91f2a5e",
   "metadata": {},
   "source": [
    "\n",
    "**Answer:**\n",
    "\n",
    "The duration effect is –3.50 × –0.005 = 1.75%.\n",
    "\n",
    "The convexity effect is 12×16.9×(−0.005)2=0.000211=0.0211%.\n",
    "\n",
    "The expected change in bond price is (1.75% + 0.0211%) = 1.7711%.\n",
    "\n",
    "The new price of the bond is estimated to be 86.59138 × 1.017711 = 88.125.\n",
    "\n",
    "Analogous to money duration (`MoneyDur`), the money convexity (`MoneyCon`) of a bond position is expressed in currency units:\n",
    "\n",
    "$\\text{money convexity} = \\text{annual convexity} × \\text{full price of bond position}$\n",
    "\n",
    "We can use money duration and money convexity to estimate the change in price of a bond as follows:\n",
    "\n",
    "$\\text{change in full price of bond} = \\text{–(MoneyDur } x  \\Delta \\text{(YTM)} + \\frac{1}{2} x \\text{ MoneyCon } x \\Delta\\text{YTM)}^2)$\n",
    "\n",
    "\n",
    "<hr>\n",
    "\n",
    "**Example: Estimating price changes with duration and convexity**\n",
    "\n",
    "For the bond in our previous examples, calculate the money duration and money convexity of a $10 million par position in the bond and estimate the new price of the bond for a 50 basis point decrease in yield. Recall that the modified duration of the bond is 3.50 and its convexity is 16.9.\n"
   ]
  },
  {
   "cell_type": "code",
   "execution_count": 76,
   "id": "15e1be68",
   "metadata": {},
   "outputs": [
    {
     "name": "stdout",
     "output_type": "stream",
     "text": [
      "The market value of the position is   = $ 8659138.0\n",
      "The money duration of the position is = $ 30306983.0\n",
      "The money convexity of the bond is    = $ 146339432.2\n",
      "The duration effect is                = $ 151534.92\n",
      "The convexity effect is               = $ 1829.24\n",
      "The expected change in bond price is  = $ 153364.17\n",
      "The new estimated value of the bond   = $ 8812502.17\n"
     ]
    }
   ],
   "source": [
    "# The market value of the position is \n",
    "print(\"The market value of the position is   = $\",0.8659138 * 10000000)\n",
    "\n",
    "# The money duration of the position is \n",
    "print(\"The money duration of the position is = $\",3.50 * 8659138)\n",
    "\n",
    "# The money convexity of the bond is \n",
    "print(\"The money convexity of the bond is    = $\",16.9 * 8659138)\n",
    "\n",
    "# The duration effect is \n",
    "print(\"The duration effect is                = $\",round(-(30306983 * -0.005),2))\n",
    "\n",
    "# The convexity effect is  \n",
    "print(\"The convexity effect is               = $\",round(0.5*146339432 * (0.005**2),2)) \n",
    "\n",
    "# The expected change in bond price is \n",
    "print(\"The expected change in bond price is  = $\",151534.92 + 1829.25)\n",
    "\n",
    "# The new value of the bond is estimated to be \n",
    "print(\"The new estimated value of the bond   = $\",8659138 + 153364.17)"
   ]
  },
  {
   "cell_type": "markdown",
   "id": "5b9db4f8",
   "metadata": {},
   "source": [
    "**Answer:**\n",
    "\n",
    "The market value of the position is \\\\$0.8659138 × 10,000,000 = \\\\$8,659,138.\n",
    "\n",
    "The money duration of the position is \\\\$3.50 × \\\\$8,659,138 = \\\\$30,306,983.\n",
    "\n",
    "The money convexity of the bond is \\\\$16.9 × \\\\$8,659,138 = \\\\$146,339,432$.\n",
    "\n",
    "The duration effect is –(\\\\$30,306,983 × –0.005) = \\\\$151,534.92.\n",
    "\n",
    "The convexity effect is $\\frac{1}{2} × \\$146,339,432 × (–0.005)^2 = \\$1,829.25$\n",
    "\n",
    "The expected change in bond price is (\\\\$151,534.92 + \\\\$1,829.25) = \\\\$153,364.17.\n",
    "\n",
    "The new value of the bond is estimated to be \\\\$8,659,138 + \\\\$153,364.17 = \\\\$8,812,502. This is consistent with the estimate for new price of 88.125 in the previous example. Both methods are doing the same thing in a slightly different way.\n",
    "\n",
    "The convexity adjustment to the price change is the same for either an increase or a decrease in yield. As illustrated in  **Duration-Based Price Estimates vs. Actual Bond Prices**, the duration-only based estimate of the increase in price resulting from a decrease in yield is too low for a bond with positive convexity, and it is improved by a positive adjustment for convexity. The duration-only based estimate of the decrease in price resulting from an increase in yield is larger than the actual decrease, so it is also improved by a positive adjustment for convexity.\n",
    "\n",
    "*Duration-Based Price Estimates vs. Actual Bond Prices*\n",
    "<img src=\"https://github.com/PachaTech/CFA-Level-1/blob/main/Fixed%20Income/Module%2060/pics/2.jpeg?raw=true\"></img>\n"
   ]
  },
  {
   "cell_type": "markdown",
   "id": "1a1c7bc3",
   "metadata": {},
   "source": [
    "### LOS 60.c: Calculate portfolio duration and convexity and explain the limitations of these measures.\n",
    "\n",
    "There are two approaches to estimating the duration and convexity of a portfolio. The first is to base a single duration and convexity calculation on the portfolio's aggregate cash flows across all bonds. The second approach is to calculate the duration and convexity of each bond in the portfolio, then take a weighted average of these based on the weight of the bond in the portfolio.\n",
    "\n",
    "The first approach is theoretically correct; however, the second approach is typically used in practice because it is often easier to apply. The second approach can be formulated as follows:\n",
    "\n",
    "$$\n",
    "\\text{portfolio duration} = W_1 D_1 + W_2 D_2 + \\ldots + W_N D_N\n",
    "$$\n",
    "\n",
    "where:\n",
    "\n",
    "$W_i$ = full price of bond $i$ divided by the total value of the portfolio\n",
    "\n",
    "$D_i$ = duration of bond $i$\n",
    "\n",
    "$N$ = number of bonds in the portfolio\n",
    "\n",
    "One limitation of this approach is that it assumes the YTM of every bond (of any maturity) in the portfolio must change by the same amount. Only under this assumption of a **parallel shift** in the yield curve will portfolio duration and convexity calculated with this approach produce the percentage change in portfolio value per 1/% change in YTM.\n",
    "\n",
    "Changes in the yield curve are rarely a simple parallel shift. Changes in shape, such as a steepening or twist, are common."
   ]
  },
  {
   "cell_type": "code",
   "execution_count": null,
   "id": "2fe28cd1",
   "metadata": {},
   "outputs": [],
   "source": []
  }
 ],
 "metadata": {
  "kernelspec": {
   "display_name": "Python 3 (ipykernel)",
   "language": "python",
   "name": "python3"
  },
  "language_info": {
   "codemirror_mode": {
    "name": "ipython",
    "version": 3
   },
   "file_extension": ".py",
   "mimetype": "text/x-python",
   "name": "python",
   "nbconvert_exporter": "python",
   "pygments_lexer": "ipython3",
   "version": "3.11.5"
  }
 },
 "nbformat": 4,
 "nbformat_minor": 5
}
