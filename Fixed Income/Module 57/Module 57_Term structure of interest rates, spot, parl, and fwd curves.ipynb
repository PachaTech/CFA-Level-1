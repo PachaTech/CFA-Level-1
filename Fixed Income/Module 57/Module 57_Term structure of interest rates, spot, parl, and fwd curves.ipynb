{
 "cells": [
  {
   "cell_type": "code",
   "execution_count": 4,
   "id": "fd869e3a",
   "metadata": {},
   "outputs": [],
   "source": [
    "# Import libraries\n",
    "import math\n",
    "import pandas as pd\n",
    "import numpy as np\n",
    "import numpy_financial as npf\n",
    "import matplotlib.pyplot as plt\n",
    "import seaborn as sns\n",
    "from sklearn.model_selection import train_test_split\n",
    "from pandas.core.common import random_state\n",
    "from sklearn.linear_model import LinearRegression"
   ]
  },
  {
   "cell_type": "markdown",
   "id": "49b79547",
   "metadata": {},
   "source": [
    "# Module 57.1: The Term Structure of Interest Rates: Spot, Par, and Forward Curves\n",
    "\n",
    "<hr>\n",
    "\n",
    "Spot rate - no arbitrage principle that a 3-year spot rate should be the same as investing for one year in three successive periods\n",
    "\n",
    "\n",
    "The following [Finding a Forward Rate](https://www.kaplanlearn.com/education/dashboard/index/6e0d53e6124eca676dff518e031311f3/course/89414904/node/cfaL1_topic_00439_3.dita#cfaL1_topic_00439_3/fig01_cfaL1_topic_00439_3) illustrates the problem.\n",
    "\n",
    "\n",
    "<center><i>Finding a Forward Rate</i></center>\n",
    "\n",
    "\n",
    "<img src=\"https://github.com/PachaTech/CFA-Level-1/blob/main/Fixed%20Income/Module%2057/pics/forward.jpeg?raw=true\"></img>"
   ]
  },
  {
   "cell_type": "markdown",
   "id": "d3402fb7",
   "metadata": {},
   "source": [
    "### LOS 57.a: Define spot rates and the spot curve, and calculate the price of a bond using spot rates.\n",
    "\n",
    "The yield to maturity of a bond is calculated as if the discount rate for every bond cash flow is the same. In reality, discount rates vary according to the time period in which a future cash flow is made. These discount rates for a single payment to be received in the future are called **spot rates** and can be observed by calculating the discount rates for zero-coupon bonds (hence, spot rates are sometimes referred to as *zero-coupon rates* or simply *zero rates*).\n",
    "\n",
    "To price a bond with spot rates, we sum the present values of the bond's payments, each discounted at the spot rate for the number of periods before it will be paid. The general equation for calculating a bond's value using spot rates $(S_i)$ is as follows:\n",
    "\n",
    "$PV= \\Large\\frac{\\text{CPN_1}}{1+S_1} + \\frac{CPN_2}{(1+S_2)^2} + ... + \\frac{CPN_N + FV_N}{(1+S_N)^N}$\n",
    "\n",
    "\n",
    "<hr>\n",
    "\n",
    "**EXAMPLE: VALUING A BOND USING SPOT RATES**\n",
    "\n",
    "Given the following spot rates, calculate the value of a 3-year, 5% annual coupon bond.\n",
    "\n",
    "Spot rates:\n",
    "\n",
    "1-year: 3%\n",
    "\n",
    "2-year: 4%\n",
    "\n",
    "3-year: 5%"
   ]
  },
  {
   "cell_type": "markdown",
   "id": "0da5a594",
   "metadata": {},
   "source": [
    "**Answer:**\n",
    "\n",
    "$\\Large\\frac{5}{(1.03)^1}+\\frac{5}{(1.04)^2}+\\frac{105}{(1.05)^3} = 100.180$\n",
    "\n",
    "* 3-year, 5% Annual-Pay\n",
    "* \\\\$100 Par \n",
    "\n",
    "<table>\n",
    "<thead>\n",
    "  <tr>\n",
    "    <th>Time</th>\n",
    "    <th>Cashflow</th>\n",
    "    <th>Discount Factor</th>\n",
    "    <th>Present Value</th>\n",
    "  </tr>\n",
    "</thead>\n",
    "<tbody>\n",
    "  <tr>\n",
    "    <td>1</td>\n",
    "    <td>5</td>\n",
    "    <td>1 / 1.03^1</td>\n",
    "    <td>4.854</td>\n",
    "  </tr>\n",
    "  <tr>\n",
    "    <td>2</td>\n",
    "    <td>5</td>\n",
    "    <td>1 / 1.04^2</td>\n",
    "    <td>4.623</td>\n",
    "  </tr>\n",
    "  <tr>\n",
    "    <td>3</td>\n",
    "    <td>105</td>\n",
    "    <td>1 / 1.05^3</td>\n",
    "    <td>90.703</td>\n",
    "  </tr>\n",
    "  <tr>\n",
    "    <td></td>\n",
    "    <td></td>\n",
    "    <td></td>\n",
    "    <td>100.180</td>\n",
    "  </tr>\n",
    "</tbody>\n",
    "</table>\n",
    "\n"
   ]
  },
  {
   "cell_type": "code",
   "execution_count": 86,
   "id": "0e3e9c4b",
   "metadata": {},
   "outputs": [
    {
     "name": "stdout",
     "output_type": "stream",
     "text": [
      "100.18\n"
     ]
    }
   ],
   "source": [
    "# EXAMPLE: VALUING A BOND USING SPOT RATES\n",
    "SR = (5 / (1.03)**1) + (5 / (1.04)**2) + (105 / (1.05)**3)\n",
    "print(round(SR,3))"
   ]
  },
  {
   "cell_type": "markdown",
   "id": "c974938d",
   "metadata": {},
   "source": [
    "This price, calculated using spot rates, is sometimes called the no-arbitrage price of a bond because if a bond is priced differently, there will be a profit opportunity from arbitrage among bonds.\n",
    "\n",
    "Because the bond value is slightly greater than its par value, we know its YTM is slightly less than its coupon rate of 5%. Using the price of 100.180, we can calculate the YTM for this bond as follows:\n",
    "\n",
    "    N = 3; PMT = 5; FV = 100; PV = –100.180; CPT → I/Y = 4.93%\n",
    "\n",
    "> **Professor's Note**\\\n",
    "It's useful to think of a spot rate as a return offered by a single cash flow occurring at a certain time in the future. A weighted average of these spot rates gives us an idea of what the yield is likely to be. For the bond in the previous example, we have the first coupon returning 3%, the second coupon returning 4%, and the third coupon and par payment returning 5%. Given that most of the cash flows occur at Time 3 when the par payment is made, the average is going to be heavily weighted to 5%. This means we can easily see that the yield must be just below 5%.\n",
    "\n",
    "The **spot curve** displays spot rates versus maturity for a particular type of bond or issuer (e.g., U.S. Treasury government spot rates). We will construct and use spot curves later in this reading."
   ]
  },
  {
   "cell_type": "code",
   "execution_count": 87,
   "id": "74ec105f",
   "metadata": {},
   "outputs": [
    {
     "name": "stdout",
     "output_type": "stream",
     "text": [
      "Bond YTM rate = % 4.934\n"
     ]
    }
   ],
   "source": [
    "# Calculate YTM bond rate of 100 using numpyfinance \n",
    "bond_rate = npf.rate(pv=-100.18, nper=3,fv= 100, pmt =5)\n",
    "\n",
    "\n",
    "# Print PV of the $100 note\n",
    "print(\"Bond YTM rate = %\",round(bond_rate,6)*100)"
   ]
  },
  {
   "cell_type": "markdown",
   "id": "0656b7e0",
   "metadata": {},
   "source": [
    "### LOS 57.b: Define par and forward rates, and calculate par rates, forward rates from spot rates, spot rates from forward rates, and the price of a bond using forward rates.\n",
    "\n",
    "#### Par Yields\n",
    "\n",
    "**Par yields** reflect the coupon rate that a hypothetical bond at each maturity would need to have to be priced at par, given a specific spot curve. Alternatively, they can be viewed as the YTM of a hypothetical par bond at each maturity.\n",
    "\n",
    "Consider a 3-year annual-pay bond and spot rates for one, two, and three years of S1, S2, and S3. The following equation can be used to calculate the coupon rate, PMT, necessary for the bond to be trading at par:\n",
    "\n",
    "$\\Large\\frac{\\text{PMT}}{1+S_1} + \\frac{PMT_2}{(1+S_2)^2} + ... + \\frac{PMT + 100}{(1+S_3)^3} = 100$\n",
    "\n",
    "\n",
    "With spot rates of 1%, 2%, and 3%, a 3-year annual par bond will have a payment that will satisfy the following:\n",
    "\n",
    "$\\Large\\frac{\\text{PMT}}{1.01} + \\frac{PMT_2}{(1.02)^2} + ... + \\frac{PMT + 100}{(1.03)^3} = 100$\n",
    "\n",
    "\n",
    "In this case, the payment is 2.96 and the par bond coupon rate is 2.96%.\n",
    "\n",
    ">**Professor's Note**\\\n",
    "If this type of calculation appears on the exam, the best tactic is to plug in the middle answer choice and see if it gives a value of 100. If it results in a value less than 100, the larger choice must be correct. If it produces a value greater than 100, the smaller choice must be correct. Algebraically solving for PMT can be done, but it takes much more time than simply trying the coupon rates in the answers.\n",
    "\n",
    "#### Forward Rates\n",
    "\n",
    "A forward rate is a borrowing/lending rate for a loan to be made at some future date. The notation used must identify both the start and length of the lending/borrowing period. The most common convention (and the one used on the Level I CFA exam) is to denote a forward period using two numbers, each followed by a letter indicating the compounding period (y for years, m for months). The first number represents the future period in which the loan begins, and the second denotes the length of the loan. Hence, 2y1y is the rate for a 1-year loan to be made two years from now; 3y2y is the 2-year forward rate three years from now; 1y1y is the rate for a 1-year loan one year from now; and so on.\n",
    "\n",
    "When linking forward rates to spot rates—say, for example, over the next three years—a key no-arbitrage idea is that borrowing for three years at the 3-year spot rate, or borrowing for one-year periods in three successive years, should have the same cost.\n",
    "\n",
    "This relation is illustrated as $\\large (1 + S_3)^3 = (1 + S_1)(1 + 1y1y)(1 + 2y1y)$.\n",
    "\n",
    "Thus, $\\Large S_3 = [(1 + S_1)(1 + 1y1y)(1 + 2y1y)]^{1/3} − 1$, which is a basic geometric mean periodic return.\n",
    "\n",
    "More generally, the spot rate earned between now and a future maturity must be equal to the compounded forward rates that apply to each period out to that maturity.\n",
    "\n",
    "<hr>\n",
    "\n",
    "**EXAMPLE: COMPUTING SPOT RATES FROM FORWARD RATES**\n",
    "\n",
    "If the current 1-year spot rate is 2%, the 1-year forward rate one year from today (1y1y) is 3%,\n",
    "\n",
    "and the 1-year forward rate two years from today (2y1y) is 4%, what is the 3-year spot rate?"
   ]
  },
  {
   "cell_type": "code",
   "execution_count": 88,
   "id": "ae3df4c0",
   "metadata": {},
   "outputs": [
    {
     "name": "stdout",
     "output_type": "stream",
     "text": [
      "S_3 is = % 2.997\n"
     ]
    }
   ],
   "source": [
    "# EXAMPLE: COMPUTING SPOT RATES FROM FORWARD RATES\n",
    "\n",
    "S_3 = (1.02 * 1.03 * 1.04)**(1/3) - 1\n",
    "print(\"S_3 is = %\", round(S_3,5)*100)"
   ]
  },
  {
   "cell_type": "markdown",
   "id": "fa918cb0",
   "metadata": {},
   "source": [
    "**Answer:**\n",
    "\n",
    "$\\Large S_3 = [(1.02)(1.03)(1.04)]^{1/3} − 1 = 2.997\\%$\n",
    "\n",
    "This can be interpreted to mean that a dollar compounded at 2.997% for three years would produce the same ending value as a dollar that earns compound interest of 2% the first year, 3% the next year, and 4% for the third year.\n",
    "\n",
    "\n",
    ">**Professor's Note**\\\n",
    "You can get a very good approximation of the 3-year spot rate with the simple average of the forward rates. In the previous example, we calculated 2.997%, and the simple average of the three annual rates is as follows:\n",
    "\n",
    "$\\qquad\\large\\frac{2+3+4}{3}=3\\%$\n",
    "\n",
    "We can use the same relationships we use to calculate spot rates from forward rates to calculate forward rates from spot rates.\n",
    "\n",
    "This is our basic relation between forward rates and spot rates (for two periods):\n",
    "\n",
    "$\\qquad(1 + S_2)^2 = (1 + S_1)(1 + 1y1y)$\n",
    "\n",
    "This again tells us that an investment has the same expected yield (borrowing has the same expected cost) whether we invest (borrow) for two periods at the 2-period spot rate, $S_2$, or for one period at the current 1-year rate, $S_1$, and for the next period at the forward rate, $1y1y$. Given two of these rates, we can solve for the othe\n",
    "\n",
    "<hr>\n",
    "\n",
    "**EXAMPLE: COMPUTING A FORWARD RATE FROM SPOT RATES**\n",
    "\n",
    "The 2-period spot rate, $S_2$, is 8%, and the 1-period spot rate, $S_1$, is 4%. Calculate the forward rate for one period, one period from now, $1y1y$."
   ]
  },
  {
   "cell_type": "code",
   "execution_count": 89,
   "id": "50c22377",
   "metadata": {
    "scrolled": true
   },
   "outputs": [
    {
     "name": "stdout",
     "output_type": "stream",
     "text": [
      "12.154\n"
     ]
    }
   ],
   "source": [
    "# EXAMPLE: COMPUTING A FORWARD RATE FROM SPOT RATES\n",
    "S_1y1y = (1.08)**2 / 1.04 - 1\n",
    "print(round(S_1y1y,5)*100)"
   ]
  },
  {
   "cell_type": "markdown",
   "id": "31f43b26",
   "metadata": {},
   "source": [
    "**Answer:**\n",
    "\n",
    "From our original equality, $\\large (1 + S_2)^2 = (1 + S_1)(1 + 1y1y)$, we can get:\n",
    "\n",
    "\n",
    "$\\Large\\frac{\\text{1+S_2}^2}{1+S_1} = (1+1y1y)$\n",
    "\n",
    "Or, because we know that both choices have the same payoff in two years:\n",
    "\n",
    "$(1.08)_2 = (1.04)(1 + 1y1y)$\n",
    "\n",
    "$\\qquad(1+1y1y)= \\large\\frac{{(1.08)^2}}{1.04}$\n",
    "\n",
    "$\\qquad(1+1y1y)= \\large\\frac{(1.08)^2}{1.04} -1 = \\frac{1.1664}{1.04}-1 = 12.154\\%$\n",
    "\n",
    "In other words, investors are willing to accept 4.0% on the 1-year bond today (when they could get 8.0% on the 2-year bond today) only because they can get 12.154% on a 1-year bond one year from today. This future rate that can be locked in today is a forward rate.\n",
    "\n",
    "Similarly, we can back other forward rates out of the spot rates. We know that:\n",
    "\n",
    "$(1 + S_3)^3 = (1 + S_1)(1 + 1y1y)(1 + 2y1y)$\n",
    "\n",
    "And that:\n",
    "\n",
    "$(1 + S_2)^2 = (1 + S_1)(1 + 1y1y)$, so we can write $(1 + S_3)^3 = (1 + S_2)^2(1 + 2y1y)$.\n",
    "\n",
    "This last equation says that investing for three years at the 3-year spot rate should produce the same ending value as investing for two years at the 2-year spot rate—and then for a third year at 2y1y, the 1-year forward rate, two years from now.\n",
    "\n",
    "Solving for the forward rate, $2y1y$, we get:\n",
    "\n",
    "$\\qquad\\large\\frac{(1+S_3)^3}{(1+S_2)^2}−1 = 2y1y$\n",
    "\n",
    "\n",
    "<hr>\n",
    "\n",
    "**EXAMPLE: FORWARD RATES FROM SPOT RATES**\n",
    "\n",
    "Let's extend the previous example to three periods. The current 1-year spot rate is 4.0%, the current 2-year spot rate is 8.0%, and the current 3-year spot rate is 12.0%. Calculate the 1-year forward rate two years from now."
   ]
  },
  {
   "cell_type": "code",
   "execution_count": 90,
   "id": "184d4a59",
   "metadata": {},
   "outputs": [
    {
     "name": "stdout",
     "output_type": "stream",
     "text": [
      "The 1-year forward rate, two years from now is = % 20.45\n",
      "S_3 is = % 12.0\n"
     ]
    }
   ],
   "source": [
    "# EXAMPLE: FORWARD RATES FROM SPOT RATES\n",
    "\n",
    "# (1 + S_3)^3 = (1 + S_2)^2 (1 + 2y1y)\n",
    "\n",
    "# Substituting values for S_3 and S_2, we have:\n",
    "# (1.12)^3 = (1.08)^2 * (1 + 2y1y)\n",
    "\n",
    "\n",
    "# This is so that the 1-year forward rate two years from now is\n",
    "f_rate_2y1y = (1 + 0.12)**3 / (1 + 0.08)**2 - 1\n",
    "print(\"The 1-year forward rate, two years from now is = %\", round(f_rate_2y1y,5)*100)\n",
    "\n",
    "\n",
    "# We can check our results by calculating:\n",
    "\n",
    "S_3 = (1.04  * 1.12154 * 1.2045)**(1/3) - 1\n",
    "print(\"S_3 is = %\", round(S_3,2)*100)"
   ]
  },
  {
   "cell_type": "markdown",
   "id": "d268c5c9",
   "metadata": {},
   "source": [
    "This may all seem a bit complicated, but the basic relation, that borrowing for successive periods at 1-period rates should have the same cost as borrowing at multiperiod spot rates, can be summed up as follows:\n",
    "\n",
    "$(1 + S_2)^2 = (1 + S_1)(1 + 1y1y)$ for <u>two periods</u>, and $(1 + S_3)^3 = (1 + S_2)^2(1 + 2y1y)$ for <u>three periods</u>\n",
    "\n",
    ">**Professor's Note**\\\n",
    "Simple averages also give decent approximations for calculating forward rates from spot rates (particularly when rates are small). In the preceding example, we had spot rates of 4% for one year and 8% for two years. Two years at 8% is 16%, so if the first-year rate is 4%, the second-year forward rate is close to 16 – 4 = 12% (actual is 12.154). Given a 2-year spot rate of 8% and a 3-year spot rate of 12%, we could approximate the 1-year forward rate from Time 2 to Time 3 as (3 × 12) – (2 × 8) = 20. That may be close enough (actual is 20.45) to answer a multiple-choice question—and, in any case, it serves as a good check to make sure the exact rate you calculate is reasonable.\n",
    "\n",
    "We can also calculate implied forward rates for loans for more than one period. Given spot rates (1-year = 5%, 2-year = 6%, 3-year = 7%, and 4-year = 8%), we can calculate 2y2y.\n",
    "\n",
    "\n",
    "The implied forward rate on a 2-year loan two years from now, 2y2y, is as follows:\n",
    "\n",
    "$\\qquad\\Biggr[\\large\\frac{(1+S_4)^4}{(1+S_2)^2}\\Biggr]^{1/2} - 1 = \\Bigg(\\large\\frac{1.08^4}{1.06^2}\\Bigg)^{1/2} -1 = 10.04\\%$\n",
    "\n",
    ">**Professor's Note**\\\n",
    "The approximation works for multiperiod forward rates as well. \n",
    "The difference between four years at 8% (= 32%) and two years at 6% (= 12%) is 20%. Because that difference is for two years, we divide by two to get an annual rate of 10%, $\\frac{(4×8−6×2)}{2}=10$, which is very close to the exact solution of 10.04%.\n",
    "\n",
    "<hr>\n",
    "\n",
    "**EXAMPLE: COMPUTING A BOND VALUE USING FORWARD RATES**\n",
    "\n",
    "The current 1-year rate, S1, is 4%, the 1-year forward rate for lending from time = 1 to time = 2 is 1y1y = 5%, and the 1-year forward rate for lending from time = 2 to time = 3 is 2y1y = 6%. Value a 3-year annual-pay bond with a 5% coupon and a par value of $1,000."
   ]
  },
  {
   "cell_type": "code",
   "execution_count": 91,
   "id": "e69c31c3",
   "metadata": {},
   "outputs": [
    {
     "name": "stdout",
     "output_type": "stream",
     "text": [
      "Bond Value computed using forward rates is = $ 1000.98\n"
     ]
    }
   ],
   "source": [
    "# EXAMPLE: COMPUTING A BOND VALUE USING FORWARD RATES\n",
    "\n",
    "# value = 50/(1+S1) + 50/(1+S1)(1+1y1y) + 1050/(1+S1)(1+1y1y)(1+2y1y)\n",
    "\n",
    "bond_value = 50/(1.04) + 50/(1.04*1.05) + 1050/(1.04*1.05*1.06)\n",
    "print(\"Bond Value computed using forward rates is = $\", round(bond_value,2))"
   ]
  },
  {
   "cell_type": "markdown",
   "id": "f7eafd6a",
   "metadata": {},
   "source": [
    ">**Professor's Note**\\\n",
    "\\\n",
    "If you think this looks a little like valuing a bond using spot rates, as we did\\\n",
    "for arbitrage-free valuation, you are correct. The discount factors are \n",
    "equivalent to spot rate discount factors.\\\n",
    "\\\n",
    "If we have a semiannual coupon bond, the calculation methods are the \\\n",
    "same, but we would use the semiannual discount rate rather than the \\\n",
    "annualized rate—and the number of periods would be the number of \\\n",
    "semiannual periods.\n",
    "\n"
   ]
  },
  {
   "cell_type": "markdown",
   "id": "5dd647f8",
   "metadata": {},
   "source": [
    "### LOS 57.c: Compare the spot curve, par curve, and forward curve.\n",
    "\n",
    "The spot rate yield curve (spot curve) for U.S. Treasury bonds, also referred to as the zero curve or the strip curve (because zero-coupon U.S. Treasury bonds are also called stripped Treasuries), is a plot of spot rates versus maturity.\n",
    "\n",
    "Usually, a spot curve is upward sloping, with higher spot rates for longer maturities (referred to as a normal yield curve), reflecting investor demand for higher returns over longer time frames. When spot rates are lower for longer-dated maturities, the spot curve is downward-sloping and is said to be inverted. Spot rates are usually quoted on a semiannual bond basis, so they are directly comparable to YTMs quoted for coupon government bonds.\n",
    "\n",
    "A **yield curve for coupon bonds** shows the YTMs for a similar type of actively traded coupon bonds at various maturities (e.g., U.S. Treasury bonds). Yields are calculated for several available maturities, and yields for bonds with maturities between these are estimated by linear interpolation. Yields are usually expressed on a semiannual bond basis.\n",
    "\n",
    "A practical issue with constructing yield curves directly from traded coupon bond prices is that distortions in yields can occur due to illiquidity and taxation differences between interest income and gains and losses from buying bonds at a discount or premium. To avoid the illiquidity issue, \"on-the-run\" (most recently issued) bond yields are used; however, there may not be enough on-the-run securities to construct a meaningful curve, and the ones that do exist may trade at a premium or discount to par, causing taxation distortions.\n",
    "\n",
    "To avoid these practical issues when constructing a coupon bond yield curve, a **par bond yield curve**, or *par curve*, can be constructed from spot curves. As we discussed earlier, par yields are hypothetical yields of bonds that would trade at par for a specific maturity. A par yield curve displays the yields of par bonds versus maturity.\n",
    "\n",
    "A **forward yield curve** shows forward rates for bonds or money market securities for annual periods in the future. Typically, the forward curve would show the yields of 1-year securities for each future year, quoted on a semiannual bond basis.\n",
    "\n",
    "As we have seen, the spot rate for a given maturity is a geometric average of the forward rates that apply to each period between now and that maturity. Therefore, when the forward curve is upward sloping, the spot curve is also upward sloping, but less so. We also saw earlier how a par yield at a certain maturity is a weighted average of the spot rates that apply to the individual cash flows of the bond (most heavily weighted toward the longest-dated spot rate when par payment takes place). Hence, par yields will also be upward sloping, and very close to spot rates (but slightly below them) in a normal (upward-sloping) forward curve environment.\n",
    "\n",
    ">**Professor's Note**\\\n",
    "\\\n",
    "It might be helpful, once again, to approximate using simple averages to \n",
    "get a clear picture. Assume the 1-year spot rate is 1% and the 1y1y forward rate is 3%. \n",
    "Note that we have rising periodic rates here (the forward curve is rising with maturity). \n",
    "The annualized 2-year spot is approximated as (1% + 3%) / 2 = 2%, so we can see the spot curve \n",
    "is also rising with maturity, but at a slower pace than forward rates. \n",
    "\\\n",
    "\\\n",
    "The yield of a 1-year annual coupon bond would be 1% because there would only be one cash flow at maturity for this bond, and it would therefore earn the 1-year spot rate. The 2-year yield would be a weighted average of the 1-year spot of 1% and the 2-year spot of 2%, but mostly 2% because that is where most of the 2-year bond's cash flows occur. So, we can see that par yields, too, are rising with maturity—and are close to, but slightly below, spot rates. The key takeaway here is that forward rates drive spot rates, which in turn drive par yields.\n",
    "\n",
    "\n",
    "Likewise, when the forward curve is downward sloping, the spot curve will also be downward sloping, but less so; and par yields will also be downward sloping, and close to spot rates (but slightly above them). One potential explanation for an inverted yield curve is that interest rates are expected to decrease.\n",
    "\n",
    "When forward rates are constant, it means that all future periodic rates are the same. This means that spot rates to all maturities will be the same—and therefore, bond yields will be the same for all maturities. We describe this as a flat yield curve environment."
   ]
  },
  {
   "cell_type": "markdown",
   "id": "6273431f",
   "metadata": {},
   "source": [
    "## Reading 57: Key Concepts\n",
    "\n",
    "<hr>\n",
    "\n",
    "### LOS 57.a\n",
    "\n",
    "Spot rates are market discount rates for single payments to be made in the future.\n",
    "\n",
    "The no-arbitrage price of a bond is calculated using no-arbitrage spot rates as follows:\n",
    "\n",
    "$\\qquad\\text{no-arbitrage price} = \\large\\frac{\\text{coupon}}{(1+S_1)} + \\frac{\\text{coupon}}{(1+S_2)^2} + \\ldots + \\frac{\\text{coupon + principal}}{(1+S_N)^N}$\n",
    "\n",
    "### LOS 57.b\n",
    "\n",
    "Spot curves can be used to derive the par yields of hypothetical bonds trading at par across different maturities. It is useful to interpret the par yield of a bond as a weighted average of the spot rates applying to each individual cash flow of the bond.\n",
    "\n",
    "Forward rates are current lending/borrowing rates for short-term loans to be made in future periods.\n",
    "\n",
    "A spot rate for a maturity of N periods is the geometric mean of forward rates over the N periods. The same relation can be used to solve for a forward rate given spot rates for two different periods.\n",
    "\n",
    "To value a bond using forward rates, discount the cash flows at Periods 1 to N by the product of one plus each forward rate for Periods 1 to N, and sum them.\n",
    "\n",
    "**This is for a 3-year annual-pay bond:**\n",
    "\n",
    "\n",
    "$\\quad\\text{price} = \\large\\frac{\\text{coupon}}{(1+S_1)} + \\frac{\\text{coupon}}{(1+S_1)(1+1y1y)}+\\frac{\\text{coupon + principal}}{(1+S_1)(1+1y1y)(1+2y1y)} $\n",
    "\n",
    "\n",
    "### LOS 57.c\n",
    "\n",
    "The spot curve plots spot rates versus maturity. It can be derived from the prices of instruments offering single payments in the future, such as zero-coupon bonds or stripped Treasury bonds.\n",
    "\n",
    "The par curve shows the coupon rates for bonds of various maturities that would result in bond prices equal to their par values.\n",
    "\n",
    "A forward curve is a yield curve composed of forward rates, such as 1-year rates, available at each year over a future period.\n",
    "\n",
    "In an upward-sloping (normal) yield curve environment, forward rates will be higher than spot rates, which will be higher than par yields. In a downward-sloping (inverted) yield curve environment, forward rates will be lower than spot rates, which will be lower than par yields. In a flat yield curve environment, forward rates will be equal to spot rates, which will be equal to par yields across all maturities."
   ]
  },
  {
   "cell_type": "markdown",
   "id": "dc2c48c3",
   "metadata": {},
   "source": [
    "# Module Quiz 57.1 Examples\n",
    "<hr>\n"
   ]
  },
  {
   "cell_type": "markdown",
   "id": "568ea1fa",
   "metadata": {},
   "source": [
    "**Question 1:** \n",
    "\n",
    "If spot rates are 3.2\\% for one year, 3.4\\% for two years, and 3.5\\% for three years, the price of a \\\\$100,000 face value, 3-year, annual-pay bond with a coupon rate of 4\\% is closest to:\n",
    "\n",
    "* **ANSWER:** \\\\$101,419.28\n",
    "\n",
    "* **EXPLANATION:**\n",
    "$$\n",
    "\\text{bond value}=\\frac{4,000}{1.032}+\\frac{4,000}{(1.034^2)}+\\frac{104,000}{(1.035^3)}= $101,419.28\n",
    "$$\n",
    "\\\n",
    "(Module 57.1, LOS 57.a)"
   ]
  },
  {
   "cell_type": "code",
   "execution_count": 8,
   "id": "80965e65",
   "metadata": {
    "scrolled": true
   },
   "outputs": [
    {
     "name": "stdout",
     "output_type": "stream",
     "text": [
      "101419.28\n"
     ]
    }
   ],
   "source": [
    "# Question 1\n",
    "b_value= 4000/(1.032) + 4000/(1.034**2) +104000/(1.035**3)\n",
    "print(round(b_value,2))"
   ]
  },
  {
   "cell_type": "markdown",
   "id": "e9665af8",
   "metadata": {},
   "source": [
    "**Question 2:** \n",
    "\n",
    "A market rate of discount for a single payment to be made in the future is a:\n",
    "\n",
    "* **ANSWER:** spot rate.\n",
    "* **EXPLANATION:** \\\n",
    "    A spot rate is a discount rate for a single future payment. Simple yield is a measure of a bond's yield that accounts for coupon interest and assumes straight-line amortization of a discount or premium. A forward rate is an interest rate for a future period, such as a 3-month rate six months from today.\\\n",
    "(Module 57.1, LOS 57.a)"
   ]
  },
  {
   "cell_type": "markdown",
   "id": "86c9383d",
   "metadata": {},
   "source": [
    "**Question 3:** \n",
    "\n",
    "Which of the following yield curves is *least likely* to consist of observed yields in the market?\n",
    "\n",
    "* **ANSWER:** Par bond yield curve.\n",
    "* **EXPLANATION** \n",
    "    Par bond yield curves are based on the theoretical yields that would cause bonds at each maturity to be priced at par. Coupon bond yields and forward interest rates can be observed directly from market transactions.\\\n",
    "(Module 57.1, LOS 57.b)"
   ]
  },
  {
   "cell_type": "markdown",
   "id": "30bbc26b",
   "metadata": {},
   "source": [
    "**Question 4:** \n",
    "\n",
    "The 4-year spot rate is 9.45%, and the 3-year spot rate is 9.85%. What is the 1-year forward rate three years from today?\n",
    "\n",
    "* **ANSWER:** \\\n",
    "8.258%\n",
    "* **EXPLANATION:**\n",
    "\n",
    "$$(1.0945)^4 =(1.0985)^3 × (1 + 3y1y)$$\n",
    "\n",
    "$$3y1y= \\frac{(1.0945)^4}{(1.0985)^3}−1 = 8.258\\%$$\n",
    "\n",
    "$\\text{approximate forward rate} = 4(0.0945) − 3(0.0985) = 0.0825$\n",
    "\n",
    "(Module 57.1, LOS 57.b)"
   ]
  },
  {
   "cell_type": "code",
   "execution_count": 93,
   "id": "153b0059",
   "metadata": {},
   "outputs": [
    {
     "name": "stdout",
     "output_type": "stream",
     "text": [
      "0.082587\n"
     ]
    }
   ],
   "source": [
    "# Question 4:\n",
    "# The 4-year spot rate is 9.45%, and the 3-year spot rate is 9.85%. \n",
    "# What is the 1-year forward rate three years from today?\n",
    "\n",
    "fr_3y1y = (1.0945**4)/(1.0985**3) - 1\n",
    "print(round(fr_3y1y,6))"
   ]
  },
  {
   "cell_type": "markdown",
   "id": "e2a5da09",
   "metadata": {},
   "source": [
    "**Question 5:** \\\n",
    "Given the following spot and forward rates:\n",
    "\n",
    "* Current 1-year spot rate is 5.5%.\n",
    "* 1-year forward rate one year from today is 7.63%.\n",
    "* 1-year forward rate two years from today is 12.18%.\n",
    "* 1-year forward rate three years from today is 15.5%.\n",
    "\n",
    "The value of a 4-year, 10% annual-pay, $1,000 par value bond is closest to:\n",
    "\n",
    "* **ANSWER:** \\\n",
    "8.258\\%\n",
    "\n",
    "* **EXPLANATION:** \n",
    "\n",
    "$$\n",
    "1y4y = \\frac{100}{1.055}+\\frac{100}{(1.055)(1.0763)}+\\frac{100}{(1.055)(1.0763)(1.1218)}+\\frac{1100}{(1.055)(1.0763)(1.1218)(1.155)} = $1009.03\n",
    "$$\n",
    "\n",
    "\\\n",
    "(Module 57.1, LOS 57.b)"
   ]
  },
  {
   "cell_type": "code",
   "execution_count": 9,
   "id": "2cf9733f",
   "metadata": {},
   "outputs": [
    {
     "name": "stdout",
     "output_type": "stream",
     "text": [
      "1009.03\n"
     ]
    }
   ],
   "source": [
    "## Question 5 Module 57.1 Quiz\n",
    "\n",
    "# Given the following spot and forward rates:\n",
    "\n",
    "# Current 1-year spot rate is 5.5%.\n",
    "# 1-year forward rate one year from today is 7.63%.\n",
    "# 1-year forward rate two years from today is 12.18%.\n",
    "# 1-year forward rate three years from today is 15.5%.\n",
    "# The value of a 4-year, 10% annual-pay, \n",
    "# $1,000 par value bond is closest to:\n",
    "\n",
    "FR_1y4y = (100 / 1.055) + (100 / (1.055 * 1.0763)) + (100/(1.055*1.0763*1.1218)) + (1100/(1.055*1.0763*1.1218*1.155))\n",
    "print(round(FR_1y4y,2))"
   ]
  },
  {
   "cell_type": "markdown",
   "id": "5fad82f7",
   "metadata": {},
   "source": [
    "**Question 6:** \n",
    "\n",
    "The 1-year spot rate is 1% and the 1y1y rate is 3%. Which of the following statements is most accurate?\n",
    "\n",
    "* **ANSWER:** \\\n",
    "    The 2-year spot is just below 2%, and the 2-year par yield is just below the 2-year spot rate.\n",
    "* **EXPLANATION:** \\\n",
    "    The 2-year spot rate must reflect the periodic rates of 1% in the first period and 3% in the second period—hence, the 2-year spot will be approximately 2%. Given that forward rates are rising with maturity, spot rates will be rising with maturity at a slower pace, and par yields will also be rising, but slightly below spot rates. So, the correct answer is that the 2-year spot is just below 2%, and the 2-year par yield is just below the 2-year spot rate. (Module 57.1, LOS 57.c)"
   ]
  },
  {
   "cell_type": "markdown",
   "id": "8d807b0a",
   "metadata": {},
   "source": [
    "<hr>\n",
    "\n",
    "# Module 57 Qbank \n",
    "\n",
    "<hr>"
   ]
  },
  {
   "cell_type": "markdown",
   "id": "5dd8ae22",
   "metadata": {},
   "source": [
    "**QUESTION 1/6:**\n",
    "The one-year spot rate is 5% and the two-year spot rate is 6.5%. What is the one-year forward rate starting one year from now?\n",
    "\n",
    "* **ANSWER:**  \\\n",
    "    8.02%\n",
    "* **EXPLANATION:** \\\n",
    "    The forward rate is computed as follows:\n",
    "$$\n",
    "\\text{One-year forward rate} = \\frac{1.065^2}{1.05} – 1 = 8.02\\%\n",
    "$$\n",
    "(Module 57.1, LOS 57.b)"
   ]
  },
  {
   "cell_type": "code",
   "execution_count": 10,
   "id": "b9719849",
   "metadata": {},
   "outputs": [
    {
     "name": "stdout",
     "output_type": "stream",
     "text": [
      "8.02\n"
     ]
    }
   ],
   "source": [
    "# Question 1 of 6\n",
    "Q1 = ((1.065**2) / 1.05) - 1\n",
    "print(round(Q1,4)*100)"
   ]
  },
  {
   "cell_type": "markdown",
   "id": "18db6fa5",
   "metadata": {},
   "source": [
    "**QUESTION 2/6:**\n",
    "\n",
    "Using the following spot rates, what is the price of a three-year bond with annual coupon payments of 5%?\n",
    "\n",
    "* One-year rate: 4.78%\n",
    "* Two-year rate: 5.56%\n",
    "* Three-year rate: 5.98%\n",
    "\n",
    "<hr>\n",
    "\n",
    "* **ANSWER:**  \\\n",
    "    \\\\$97.47\n",
    "* **EXPLANATION:** \\\n",
    "    The bond price is computed as follows:\n",
    "$$\n",
    "\\text{Bond price} = \\frac{5}{1.0478} + \\frac{5}{1.0556^2} + \\frac{105} {1.0598^3} = \\$97.47\n",
    "$$\n",
    "\\\n",
    "    (Module 57.1, LOS 57.a)"
   ]
  },
  {
   "cell_type": "code",
   "execution_count": 11,
   "id": "dc53d307",
   "metadata": {},
   "outputs": [
    {
     "ename": "NameError",
     "evalue": "name 'SR' is not defined",
     "output_type": "error",
     "traceback": [
      "\u001b[0;31m---------------------------------------------------------------------------\u001b[0m",
      "\u001b[0;31mNameError\u001b[0m                                 Traceback (most recent call last)",
      "Cell \u001b[0;32mIn[11], line 4\u001b[0m\n\u001b[1;32m      1\u001b[0m \u001b[38;5;66;03m# Question 2 of 6\u001b[39;00m\n\u001b[1;32m      2\u001b[0m \u001b[38;5;66;03m# EXAMPLE: VALUING A BOND USING SPOT RATES\u001b[39;00m\n\u001b[1;32m      3\u001b[0m SR_bond \u001b[38;5;241m=\u001b[39m (\u001b[38;5;241m5\u001b[39m \u001b[38;5;241m/\u001b[39m (\u001b[38;5;241m1.03\u001b[39m)\u001b[38;5;241m*\u001b[39m\u001b[38;5;241m*\u001b[39m\u001b[38;5;241m1\u001b[39m) \u001b[38;5;241m+\u001b[39m (\u001b[38;5;241m5\u001b[39m \u001b[38;5;241m/\u001b[39m (\u001b[38;5;241m1.04\u001b[39m)\u001b[38;5;241m*\u001b[39m\u001b[38;5;241m*\u001b[39m\u001b[38;5;241m2\u001b[39m) \u001b[38;5;241m+\u001b[39m (\u001b[38;5;241m105\u001b[39m \u001b[38;5;241m/\u001b[39m (\u001b[38;5;241m1.05\u001b[39m)\u001b[38;5;241m*\u001b[39m\u001b[38;5;241m*\u001b[39m\u001b[38;5;241m3\u001b[39m)\n\u001b[0;32m----> 4\u001b[0m \u001b[38;5;28mprint\u001b[39m(\u001b[38;5;28mround\u001b[39m(SR,\u001b[38;5;241m2\u001b[39m))\n",
      "\u001b[0;31mNameError\u001b[0m: name 'SR' is not defined"
     ]
    }
   ],
   "source": [
    "# Question 2 of 6\n",
    "# EXAMPLE: VALUING A BOND USING SPOT RATES\n",
    "SR_bond = (5 / (1.03)**1) + (5 / (1.04)**2) + (105 / (1.05)**3)\n",
    "print(round(SR,2))"
   ]
  },
  {
   "cell_type": "markdown",
   "id": "052d2b58",
   "metadata": {},
   "source": [
    "**QUESTION 3/6:**\n",
    "\n",
    "Given that the two-year spot rate is 5.89% and the one-year forward rate one-year from now is 6.05%, assuming annual compounding what is the one year spot rate?\n",
    "\n",
    "* **ANSWER:**  \\\n",
    "    5.73\\%\n",
    "* **EXPLANATION:** \\\n",
    "    The spot rate is computed as follows:\n",
    "$$\n",
    "\\text{spot-rate}_{0,1} = \\frac{\\text{1 + spot rate 0,1}}{\\text{1 + forward rate 1,2}^1} - 1 = \\frac{(1+0.0589)^2}{(1+0.0605)^1}\n",
    "-1 = 5.73\\%$$\n",
    "\\\n",
    "    (Module 57.1, LOS 57.a)"
   ]
  },
  {
   "cell_type": "code",
   "execution_count": 12,
   "id": "a512b37d",
   "metadata": {},
   "outputs": [
    {
     "name": "stdout",
     "output_type": "stream",
     "text": [
      "0.0573\n"
     ]
    }
   ],
   "source": [
    "# Question 3 of 6\n",
    "# Given that the two-year spot rate is 5.89% and \n",
    "# the one-year forward rate one-year from now is 6.05%, \n",
    "# assuming annual compounding what is the one year spot rate?\n",
    "\n",
    "sr01 = (1.0589**2)/(1.0605) - 1 \n",
    "\n",
    "print(round(sr01,4))"
   ]
  },
  {
   "cell_type": "markdown",
   "id": "54ff19c0",
   "metadata": {},
   "source": [
    "**QUESTION 4/6:**\n",
    "\n",
    "Given that the 2-year spot rate is 5.76% and the 3-year spot rate is 6.11%, what is the 1-year forward rate starting two years from now?\n",
    "\n",
    "* **ANSWER:**  \\\n",
    "    6.81\\%\n",
    "* **EXPLANATION:** \\\n",
    "    The spot rate is computed as follows:\n",
    "$$(1 + S_3)^3 = \\frac{(1 + S_2)^2}{(1 + 2y1y)}$$\n",
    "\n",
    "$$(1 + 2y1y) = \\frac{(1 + S_3)^3}{(1 + S_2)^2}$$\n",
    "\n",
    "$$(1 + 2y1y) = \\frac{(1.0611)^3}{(1.0576)^2} = 1.0681 $$\n",
    "\n",
    "$$= 2y1y = 6.81\\%$$\n",
    "\\\n",
    "    (Module 57.1, LOS 57.a)"
   ]
  },
  {
   "cell_type": "code",
   "execution_count": 13,
   "id": "f62389f5",
   "metadata": {},
   "outputs": [
    {
     "name": "stdout",
     "output_type": "stream",
     "text": [
      "6.81\n"
     ]
    }
   ],
   "source": [
    "# Question 4 of 6\n",
    "# Given that the 2-year spot rate is 5.76% and \n",
    "# the 3-year spot rate is 6.11%, what is the 1-year forward rate \n",
    "# starting two years from now?\n",
    "\n",
    "\n",
    "# EXAMPLE: COMPUTING A FORWARD RATE FROM SPOT RATES\n",
    "S_2y1y = (1.0611**3) / (1.0576**2) - 1\n",
    "print(round(S_2y1y,4)*100)"
   ]
  },
  {
   "cell_type": "markdown",
   "id": "a2d58d55",
   "metadata": {},
   "source": [
    "**QUESTION 5/6:**\n",
    "\n",
    "Given that the one-year spot rate is 6.05% and the two-year spot rate is 7.32%, assuming annual compounding what is the one-year forward rate starting one year from now?\n",
    "\n",
    "* **ANSWER:**  \\\n",
    "    8.61\\%\n",
    "* **EXPLANATION:** \\\n",
    "    The forward rate is computed as follows:\n",
    "$$\n",
    "\\text{forward-rate}_{1,2} = \\frac{\\text{1 + spot rate 0,2}^2}{\\text{1 + spot rate 0,1}^1} - 1 = \\frac{(1+0.0732)^2}{(1+0.0605)^1}\n",
    "-1 = 8.61\\%\n",
    "$$\n",
    "\n",
    "    \\\n",
    "    (Module 57.1, LOS 57.b)"
   ]
  },
  {
   "cell_type": "code",
   "execution_count": 14,
   "id": "c0c4d967",
   "metadata": {},
   "outputs": [
    {
     "name": "stdout",
     "output_type": "stream",
     "text": [
      "8.61\n"
     ]
    }
   ],
   "source": [
    "# Question 5 of 6\n",
    "\n",
    "# EXAMPLE: COMPUTING A FORWARD RATE FROM SPOT RATES\n",
    "fwd_1y1y = (1.0732)**2 / 1.0605 - 1\n",
    "print(round(fwd_1y1y,4)*100)"
   ]
  },
  {
   "cell_type": "markdown",
   "id": "0fb56a18",
   "metadata": {},
   "source": [
    "**QUESTION 6/6:**\n",
    "\n",
    "A 2-year option-free bond (par value of //$10,000) has an annual coupon of 15\\%. An investor determines that the spot rate of year 1 is 16\\% and the year 2 spot rate is 17\\%. The bond price is closest to:\n",
    "\n",
    "* **ANSWER:**  \\\n",
    "    \\\\$9,694.\n",
    "* **EXPLANATION:** \\\n",
    "    We can calculate the price of the bond by discounting each of the annual payments by the appropriate spot rate and finding the sum of the present values. \n",
    "    \n",
    "$$\n",
    "\\text{Price} = \\frac{1,500}{(1.16)^1} + \\frac{11,500}{(1.17)^2} = \\$9,694\n",
    "$$\n",
    "    \\\n",
    "    (Module 57.1, LOS 57.a)\n"
   ]
  },
  {
   "cell_type": "code",
   "execution_count": 15,
   "id": "da6cbc89",
   "metadata": {},
   "outputs": [
    {
     "name": "stdout",
     "output_type": "stream",
     "text": [
      "1500.0\n",
      "11500\n",
      "--------\n",
      "9694.01\n"
     ]
    }
   ],
   "source": [
    "# Question 6 of 6\n",
    "\n",
    "# Calculate the coupon\n",
    "print(10000 * 0.15)\n",
    "# Calculate the coupon + principal\n",
    "print(1500+10000)\n",
    "print(\"--------\")\n",
    "\n",
    "# EXAMPLE: VALUING A BOND USING SPOT RATES\n",
    "Q6 = (1500 / (1.16)**1) + (11500 / (1.17)**2)\n",
    "print(round(Q6,2))"
   ]
  },
  {
   "cell_type": "markdown",
   "id": "b2bcdf57",
   "metadata": {},
   "source": [
    "<hr>\n",
    "\n",
    "**Question 6/6 Alternative solution**\n",
    "\n",
    "Or, in keeping with the notion that each cash flow is a separate bond, sum the following transactions on your financial calculator:\n",
    "\n",
    "        N=1, I/Y=16.0, PMT=0, FV=1,500, CPT PV=1,293\n",
    "\n",
    "        N=2, I/Y=17.0, PMT=0, FV=11,500, CPT PV=8,401\n",
    "\n",
    "        Price = 1,293 + 8,401 = 9,694"
   ]
  },
  {
   "cell_type": "code",
   "execution_count": 16,
   "id": "cde8a353",
   "metadata": {},
   "outputs": [
    {
     "name": "stdout",
     "output_type": "stream",
     "text": [
      "-1293.1\n",
      "-8400.91\n",
      "9694.01\n"
     ]
    }
   ],
   "source": [
    "# Question 6/6 Alternative solution\n",
    "\n",
    "# Use NumpyFinancial to solve PV 1\n",
    "PV1_2 = npf.pv(nper=1, pmt=0, rate=0.16, fv=1500)\n",
    "print(round(PV1_2,2))\n",
    "\n",
    "# Use NumpyFinancial to solve PV 2\n",
    "PV2_2 = npf.pv(nper=2, pmt=0, rate=0.17, fv=11500)\n",
    "print(round(PV2_2,2))\n",
    "\n",
    "price = PV1_2*-1 + PV2_2*-1\n",
    "print(round(price,2))"
   ]
  }
 ],
 "metadata": {
  "kernelspec": {
   "display_name": "Python 3 (ipykernel)",
   "language": "python",
   "name": "python3"
  },
  "language_info": {
   "codemirror_mode": {
    "name": "ipython",
    "version": 3
   },
   "file_extension": ".py",
   "mimetype": "text/x-python",
   "name": "python",
   "nbconvert_exporter": "python",
   "pygments_lexer": "ipython3",
   "version": "3.11.5"
  }
 },
 "nbformat": 4,
 "nbformat_minor": 5
}
