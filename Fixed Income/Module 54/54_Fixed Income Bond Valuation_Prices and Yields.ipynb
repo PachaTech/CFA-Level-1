{
 "cells": [
  {
   "cell_type": "markdown",
   "id": "6f97fce8",
   "metadata": {},
   "source": [
    "# Reading 54: Fixed Income Bond Valuation: Prices and Yields\n",
    "<hr>\n"
   ]
  },
  {
   "cell_type": "markdown",
   "id": "46e7490f",
   "metadata": {},
   "source": [
    "### Notes \n",
    "\n",
    "Starting off this notebook with a problem I had memorizing the ``365/Actual`` day count by month, *e.g. how many days each month has for the entire year (excluding LEAP YEAR)*\n",
    "\n",
    "$\\qquad\\Large\\text{The Knuckle mnemonic}$\n",
    "\n",
    "![Knucklelogo](/assets/img/MarineGEO_logo.png \"MarineGEO logo\")\n",
    "\n"
   ]
  },
  {
   "cell_type": "markdown",
   "id": "ffff373e",
   "metadata": {},
   "source": [
    "#### Calculating Yield to Maturity\n",
    "\n",
    "Now let's calculate the stated yield of the same bond after changes in market conditions have caused the bond price to move to 105. (This price is stated as a percentage of par quote—in other words, investors will pay 105% of the par value they purchase. The easiest way to interpret this price is as the price of $100 of par.)\n",
    "\n",
    "We solve for the semiannual return of the bond using the following calculator inputs:\n",
    "\n",
    "N = 10; PMT = 5; FV = 100; PV = –105; CPT → I/Y = 4.37%\n",
    "\n",
    "This is the true semiannual return of the bond. To quote a YTM, we need to multiply by two to give a stated YTM of 4.37% × 2 = 8.74%. Also note the negative sign for the PV input: we must respect the direction of cash flows (negative for the cash outflow today, positive for the cash inflow later), or else the calculator will not be able to calculate a rate of return.\n",
    "\n",
    "To actually earn the YTM over the life of a bond, the investor must hold the bond to maturity, the issuer must make all the promised payments, and the investor must be able to reinvest the periodic cash flows and earn the same YTM.\n",
    "\n"
   ]
  },
  {
   "cell_type": "code",
   "execution_count": null,
   "id": "259aec83",
   "metadata": {},
   "outputs": [],
   "source": []
  }
 ],
 "metadata": {
  "kernelspec": {
   "display_name": "Python 3 (ipykernel)",
   "language": "python",
   "name": "python3"
  },
  "language_info": {
   "codemirror_mode": {
    "name": "ipython",
    "version": 3
   },
   "file_extension": ".py",
   "mimetype": "text/x-python",
   "name": "python",
   "nbconvert_exporter": "python",
   "pygments_lexer": "ipython3",
   "version": "3.11.5"
  }
 },
 "nbformat": 4,
 "nbformat_minor": 5
}
