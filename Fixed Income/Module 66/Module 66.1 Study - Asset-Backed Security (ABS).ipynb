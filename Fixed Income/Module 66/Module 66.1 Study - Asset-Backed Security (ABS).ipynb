{
 "cells": [
  {
   "cell_type": "markdown",
   "id": "b1796b11",
   "metadata": {},
   "source": [
    "\n",
    "# Module 66.1 Study - Asset-Backed Security (ABS)\n",
    "\n",
    "\n",
    "<hr>\n"
   ]
  },
  {
   "cell_type": "markdown",
   "id": "74c06b50",
   "metadata": {},
   "source": []
  }
 ],
 "metadata": {
  "kernelspec": {
   "display_name": "Python 3 (ipykernel)",
   "language": "python",
   "name": "python3"
  },
  "language_info": {
   "codemirror_mode": {
    "name": "ipython",
    "version": 3
   },
   "file_extension": ".py",
   "mimetype": "text/x-python",
   "name": "python",
   "nbconvert_exporter": "python",
   "pygments_lexer": "ipython3",
   "version": "3.11.5"
  }
 },
 "nbformat": 4,
 "nbformat_minor": 5
}
