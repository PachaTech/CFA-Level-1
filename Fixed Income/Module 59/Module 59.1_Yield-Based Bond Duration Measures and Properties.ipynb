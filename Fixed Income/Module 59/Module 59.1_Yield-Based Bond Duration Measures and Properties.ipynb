{
 "cells": [
  {
   "cell_type": "markdown",
   "id": "7b68f45e",
   "metadata": {},
   "source": [
    "# Module 59.1: Yield-Based Bond Duration Measures and Properties\n",
    "\n",
    "<hr>"
   ]
  },
  {
   "cell_type": "code",
   "execution_count": 44,
   "id": "b07448af",
   "metadata": {},
   "outputs": [],
   "source": [
    "# Import libraries\n",
    "import math\n",
    "import pandas as pd\n",
    "import numpy as np\n",
    "import numpy_financial as npf\n",
    "# import matplotlib.pyplot as plt\n",
    "# import seaborn as sns\n",
    "# from sklearn.model_selection import train_test_split\n",
    "# from pandas.core.common import random_state\n",
    "# from sklearn.linear_model import LinearRegression"
   ]
  },
  {
   "cell_type": "markdown",
   "id": "00186f08",
   "metadata": {},
   "source": [
    "### LOS 59.a: Define, calculate, and interpret modified duration, money duration, and the price value of a basis point (PVBP).\n",
    "\n",
    "Modified duration (ModDur) is calculated as Macaulay duration (MacDur) divided by one plus the bond's periodic rate of return YTM divided by periodicity).\n",
    "\n",
    "For an annual-pay bond, this is the general form of ModDur:\n",
    "\n",
    "$$\n",
    "\\text{ModDur} = \\frac{\\text{MacDur}}{(1 + YTM)}\n",
    "$$\n",
    "\n",
    ".\n",
    "\n",
    "For a semiannual-pay bond with a YTM quoted on a semiannual bond basis, this is the form:\n",
    "\n",
    "$$\n",
    "\\text{ModDurSEMI} = \\frac{\\text{MacDur_SEMI}}{(1 + YTM)\\div 2}\n",
    "$$\n"
   ]
  },
  {
   "cell_type": "markdown",
   "id": "585362a8",
   "metadata": {},
   "source": [
    "**EXAMPLE: MODIFIED DURATION**\n",
    "\n",
    "A 5-year, 11% annual coupon bond priced at 86.59 to yield 15% to maturity has a Macaulay duration of 4.03. Calculate the modified duration of this bond."
   ]
  },
  {
   "cell_type": "code",
   "execution_count": 10,
   "id": "22ad5463",
   "metadata": {},
   "outputs": [
    {
     "name": "stdout",
     "output_type": "stream",
     "text": [
      "3.5\n",
      "1.75\n",
      "-85.092\n"
     ]
    }
   ],
   "source": [
    "# Calculate the modified duration of this bond.\n",
    "\n",
    "Mac_Dur = 4.03\n",
    "ModDur = Mac_Dur / (1 + 0.15)\n",
    "print(round(ModDur,2))\n",
    "\n",
    "\n",
    "# Print PV of 0.5% increase in YTM (part 1)\n",
    "PV_ModDur1 = round(ModDur,2) * 0.5\n",
    "print(PV_ModDur1)\n",
    "\n",
    "# Print PV of 0.5% increase in YTM (part 2)\n",
    "PV_ModDur2 = round(npf.pv(nper=5, fv=100, pmt=11, rate=.155),3)\n",
    "print(PV_ModDur2)"
   ]
  },
  {
   "cell_type": "markdown",
   "id": "c270d021",
   "metadata": {},
   "source": [
    "**Answer:**\n",
    "\n",
    "Because it is an annual coupon bond (periodicity = 1), its modified duration can be calculated as follows:\n",
    "\n",
    "`ModDur = 4.03 / 1.15 = 3.50`\n",
    "\n",
    "Modified duration provides an estimate for the percentage change in a bond's price given a 1\\% change in YTM:\n",
    "\n",
    "$\\qquad\\text{approximate percentage change in bond price} = \\text{–ModDur} × \\Delta \\text{YTM}$\n",
    "\n",
    "Based on a `ModDur` of `3.50`, in response to an 0.5\\% increase in YTM the price of the bond should fall by approximately `3.50 × 0.5% = 1.75%`. The resulting price estimate of `86.59 × (1 – 0.0175) = 85.075` is close to the value of the bond calculated directly using a YTM of `15.5%`, which is `85.092`:\n",
    "\n",
    "`N = 5; I/Y = 15.5; FV = 100; PMT = 11; CPT → PV = –85.092`\n",
    "\n",
    "For a semiannual-pay bond, ModDurSEMI can be annualized (from semiannual periods to annual periods) by dividing by two, and then used as the approximate change in price for a 1% change in a bond's YTM."
   ]
  },
  {
   "cell_type": "markdown",
   "id": "4b5f1e38",
   "metadata": {},
   "source": [
    "#### Approximate Modified Duration\n",
    "\n",
    "We can approximate modified duration directly using bond values for an increase in YTM and for a decrease in YTM of the same size.\n",
    "\n",
    "The calculation of approximate ModDur is based on a given change in YTM. V– is the price of the bond if YTM is decreased by ΔYTM, and V+ is the price of the bond if the YTM is increased by ΔYTM. Approximate ModDur is given by the following:\n",
    "\n",
    "\\\n",
    "$\\text{approximate ModDur} = \\Large\\frac{V_{-} - V_{+}}{2 \\times \\text{V} × \\Delta \\text{YTM}}$\n",
    "\n",
    "Where:\n",
    "\n",
    "$V_{-}$ = Bond price at lower yield \\\n",
    "$V_{+}$ = Bond price at 1% higher yield \\\n",
    "$V$ = Bond price at current yield \\\n",
    "$\\Delta \\text{YTM}$ = Change in yield to maturity\n",
    "\n",
    "\n",
    "The formula uses the average of the magnitudes of the price increase and the price decrease, which is why $V_{–} − V_{+}$ in the numerator is divided by two in the denominator.\n",
    "\n",
    "$V_{0}$, the current price of the bond, is in the denominator to convert this average price change to a percentage, and the  $\\Delta \\text{YTM}$ term is in the denominator to scale the duration measure to a 1\\% change in yield by convention. Note that the $\\Delta \\text{YTM}$ term in the denominator must be entered as a decimal (rather than in a whole percentage) to properly scale the duration estimate"
   ]
  },
  {
   "cell_type": "markdown",
   "id": "6d65dbf3",
   "metadata": {},
   "source": [
    "**EXAMPLE: CALCULATING APPROXIMATE MODIFIED DURATION**\n",
    "\n",
    "Consider a 5-year, 11% annual coupon bond priced at 86.59 to yield 15\\% to maturity. If its YTM increases by 50 basis points, its price will decrease to 85.092. If its YTM decreases by 50 basis points, its price will increase to 88.127. Calculate the approximate `ModDur3`."
   ]
  },
  {
   "cell_type": "code",
   "execution_count": 31,
   "id": "5b241ddc",
   "metadata": {},
   "outputs": [
    {
     "name": "stdout",
     "output_type": "stream",
     "text": [
      "3.505\n"
     ]
    }
   ],
   "source": [
    "# EXAMPLE: CALCULATING APPROXIMATE MODIFIED DURATION\n",
    "Vminus =  88.127 \n",
    "Vplus =  85.092\n",
    "V = 86.59\n",
    "YTM = 0.005\n",
    "\n",
    "# ModDur3 = (88.127 - 85.092) / (2 * 86.59 * 0.005)\n",
    "ModDur3 = (Vminus - Vplus) / (2 * V * YTM)\n",
    "\n",
    "print(round(ModDur3,4))"
   ]
  },
  {
   "cell_type": "markdown",
   "id": "1c8eaf00",
   "metadata": {},
   "source": [
    "Modified duration is a *linear estimate* of the relation between a bond's price and YTM, whereas the actual relation is convex—not a straight line. This means that the modified duration measure provides good estimates of bond prices for small changes in yield, but increasingly poor estimates for larger changes in yield as the effect of the curvature of the price-yield curve is more pronounced. We illustrate this in  **Approximate ModDur**.\n",
    "\n",
    "*Approximate ModDur*\n",
    "\n",
    "<img src=\"https://github.com/PachaTech/CFA-Level-1/blob/main/Fixed%20Income/Module%2059/pics/duration_est.jpeg?raw=true\"></img>"
   ]
  },
  {
   "cell_type": "markdown",
   "id": "4b8ab53d",
   "metadata": {},
   "source": [
    "#### Money Duration\n",
    "\n",
    "The money duration of a bond position (also called dollar duration) is expressed in currency units:\n",
    "\n",
    "\n",
    "$$\n",
    "\\text{money duration} = \\text{annual ModDur} × \\text{full price of bond position}\n",
    "$$\n",
    "\n",
    "\n",
    "Multiplying the money duration of a bond by a given change in YTM (as a decimal) will provide an estimate for the change in bond value for that change in YTM.\n",
    "\n",
    "<hr>\n",
    "\n",
    "**EXAMPLE: MONEY DURATION**\n",
    "\n",
    "Calculate the money duration on a coupon date of a \\\\$ 2 million par value bond that has a ModDur of 7.42 and a full price of 101.32, expressed for the whole bond and per \\\\$100 of face value.\n",
    "What will be the impact on the value of the bond of a 25 basis point increase in its YTM?"
   ]
  },
  {
   "cell_type": "code",
   "execution_count": 42,
   "id": "010c845c",
   "metadata": {},
   "outputs": [
    {
     "name": "stdout",
     "output_type": "stream",
     "text": [
      "15035888\n",
      "751.7944\n",
      "751.7944\n",
      "37589.72\n",
      "The bond value decreases by $ 37589.72\n"
     ]
    }
   ],
   "source": [
    "# EXAMPLE: MONEY DURATION\n",
    "MoneyDur = 7.42 * 2000000 * 1.0132\n",
    "print(round(MoneyDur))\n",
    "\n",
    "# The money duration per $100 of par value is:\n",
    "print(7.42 * 101.32)\n",
    "\n",
    "# or Alternatively\n",
    "print(15035888 / (2000000 / 100))\n",
    "\n",
    "print(15035888 * 0.0025)\n",
    "print(\"The bond value decreases by $\",(15035888 * 0.0025))"
   ]
  },
  {
   "cell_type": "markdown",
   "id": "eef7151d",
   "metadata": {},
   "source": [
    "**Answer:**\n",
    "\n",
    "The money duration for the bond is ModDur times the full value of the bond:\n",
    "$7.42 × \\$2,000,000 × 101.32\\% = \\$15,035,888$\n",
    "\n",
    "The money duration per $100 of par value is:\n",
    "\n",
    "$7.42 × 101.32 = \\$751.79$\n",
    "\n",
    "Or, \n",
    "\n",
    "$\\large\\frac{\\$15,035,888}{(\\$2,000,000 \\div \\$100)} \\small = \\$751.79.$\n",
    "\n",
    "$\\$15,035,888 × 0.0025 = \\$37,589.72$\n",
    "\n",
    "The bond value decreases by $\\$37,589.72$\n",
    "\n",
    "<br>\n",
    "\n",
    "The **price value of a basis point (PVBP)** is the money change in the full price of a bond when its YTM changes by one basis point, or 0.01\\%. We can calculate the PVBP directly for a bond by calculating the average of the decrease in the full value of a bond when its YTM increases by one basis point, and the increase in the full value of the bond when its YTM decreases by one basis point.\n",
    "\n",
    "<br/>\n",
    "\n",
    "<hr>\n",
    "\n",
    "**EXAMPLE: CALCULATING THE PVBP**\n",
    "\n",
    "A newly issued, 20-year, 6\\% annual-pay straight bond is priced at 101.39. Calculate the `PVBP` for this bond, assuming it has a par value of \\$1 million.\n"
   ]
  },
  {
   "cell_type": "code",
   "execution_count": 75,
   "id": "034a00d4",
   "metadata": {},
   "outputs": [
    {
     "name": "stdout",
     "output_type": "stream",
     "text": [
      "5.88\n",
      "101.273\n",
      "101.507\n",
      "0.117\n",
      "1170\n"
     ]
    }
   ],
   "source": [
    "# EXAMPLE: CALCULATING THE PVBP\n",
    "\n",
    "# First, we need to find the YTM of the bond:\n",
    "bond_YTM = npf.rate(nper=20, pmt=6, pv= -101.39,fv=100) * 100\n",
    "print(round(bond_YTM,2))\n",
    "\n",
    "\n",
    "# Now, we need the values for the bond with YTMs of 5.89 and 5.87:\n",
    "V_plus = npf.pv(nper= 20,pmt=6, rate= 0.0589,fv=100) *-1\n",
    "print(round(V_plus,3))\n",
    "\n",
    "# I/Y = 5.87; CPT → PV = –101.507 (V–)\n",
    "V_minus = npf.pv(nper= 20,pmt=6, rate= 0.0587,fv=100) *-1\n",
    "print(round(V_minus,3))\n",
    "\n",
    "# PVBP (per $100 of par value) = (101.507 – 101.273) / 2 = 0.117\n",
    "PVBP = (V_minus - V_plus) / 2\n",
    "print(round(PVBP,3))\n",
    "\n",
    "print(round(1000000 * PVBP * 0.01))"
   ]
  },
  {
   "cell_type": "markdown",
   "id": "6112aad2",
   "metadata": {},
   "source": [
    "**Answer:**\n",
    "\n",
    "First, we need to find the YTM of the bond:\n",
    "\n",
    "    N = 20; PV = –101.39; PMT = 6; FV = 100; CPT→ I/Y = 5.88\n",
    "\n",
    "Now, we need the values for the bond with YTMs of 5.89 and 5.87:\n",
    "\n",
    "    I/Y = 5.89; CPT → PV = –101.273 (V+)\n",
    "\n",
    "    I/Y = 5.87; CPT → PV = –101.507 (V–)\n",
    "\n",
    "PVBP (per \\\\$100 of par value) = (101.507 – 101.273) / 2 = 0.117\n",
    "\n",
    "For the \\\\$1 million par value bond, each 1 basis point change in the YTM will change the bond's price by 0.117 × \\\\$1 million × 0.01 = \\\\$1,170.\n",
    "\n"
   ]
  },
  {
   "cell_type": "markdown",
   "id": "438a7c95",
   "metadata": {},
   "source": [
    "### LOS 59.b: Explain how a bond's maturity, coupon, and yield level affect its interest rate risk.\n",
    "\n",
    "Other things equal, bonds with *longer maturity* will (usually) have higher interest rate risk. The present values of payments made further in the future are more sensitive to changes in the discount rate used to calculate present value than are the present values of payments made sooner.\n",
    "\n",
    "We must say usually because there are instances where an increase in a discount coupon bond's maturity will decrease its Macaulay duration. For a discount bond, duration first increases with longer maturity and then decreases over a range of relatively long maturities until it approaches the duration of a perpetuity, which is `(1 + YTM) / YTM`.\n",
    "\n",
    "Between coupon dates, if the YTM of a coupon bond remains constant, its Macaulay duration decreases smoothly with the passage of time, and then goes back up slightly at each coupon payment date as the time to the next coupon resets to a full coupon period.\n",
    "\n",
    "Other things equal, a *higher coupon rate* on a bond will decrease its interest rate risk. For a given maturity and YTM, the duration of a zero-coupon bond will be greater than that of a coupon bond. Increasing the coupon rate means more of a bond's value will be from payments received sooner, so that the value of the bond will be less sensitive to changes in yield.\n",
    "\n",
    "For floating-rate notes (FRNs) where coupons are periodically reset to a market reference rate (MRR), when interest rates rise, the coupon will also rise, limiting the price risk of the bond. Macaulay duration for an FRN can be calculated as the time to the next coupon reset date at the end of the current coupon period.\n",
    "\n",
    "Other things equal, an *increase (decrease)* in a bond's YTM will decrease (increase) its interest rate risk. To understand this, we can look to the convexity of the price-yield curve and use its slope as our proxy for interest rate risk. At lower yields, the price-yield curve has a steeper slope, indicating that price is more sensitive to a given change in yield."
   ]
  },
  {
   "cell_type": "markdown",
   "id": "eb55578a",
   "metadata": {},
   "source": [
    "## Reading 59: Key Concepts\n",
    "\n",
    "<hr>\n",
    "\n",
    "### LOS 59.a\n",
    "\n",
    "Modified duration is a linear estimate of the percentage change in a bond's price that would result from a 1% change in its YTM:\n",
    "\n",
    "    ModDur = MacDur / (1 + periodic return of bond)\n",
    "\n",
    "For an expected change in yield, ΔYTM, the expected change in the bond's price is given by the following:\n",
    "\n",
    "approximate percentage change in bond price = –ModDur × ΔYTM\n",
    "\n",
    "Modified duration can be approximated by repricing the bond at different yields:\n",
    "\n",
    "$\\text{approximate ModDur} = \\Large\\frac{V_{-} - V_{+}}{2 \\times \\text{V} × \\Delta \\text{YTM}}$\n",
    "\n",
    "\n",
    "Money duration is stated in currency units and is sometimes expressed per 100 of bond value:\n",
    "\n",
    "    money duration = annual ModDur × full price of bond position\n",
    "\n",
    "The price value of a basis point is the change in the value of a bond, expressed in currency units, for a change in YTM of one basis point:\n",
    "\n",
    "    PVBP = [(V– − V+) / 2] × par value × 0.01\n",
    "\n",
    "PVBP can also be calculated as money duration × 0.0001.\n",
    "\n",
    "### LOS 59.b\n",
    "\n",
    "Holding other factors constant, the following are true:\n",
    "\n",
    "* Duration increases when maturity increases.\n",
    "* Duration decreases when the coupon rate increases.\n",
    "* Duration decreases when YTM increases.\n",
    "* Duration decreases as time passes, but increases slightly on coupon dates."
   ]
  },
  {
   "cell_type": "markdown",
   "id": "e4606d01",
   "metadata": {},
   "source": [
    "## Qbank 59.1 Quiz\n",
    "\n",
    "<hr>"
   ]
  },
  {
   "cell_type": "markdown",
   "id": "452361a8",
   "metadata": {},
   "source": [
    "**Question 1 of 4:** \n",
    "\n",
    "A 14% annual-pay coupon bond has six years to maturity. The bond is currently trading at par. Using a 25 basis point change in yield, the approximate modified duration of the bond is closest to:\n",
    "\n",
    "**ANSWER:** \\\n",
    "3.888\n",
    "\n",
    "**EXPLANATION:**\n",
    "\n",
    "$V_{–}$ = 100.979\n",
    "\n",
    "    N = 6; PMT = 14.00; FV = 100; I/Y = 13.75; CPT → PV = –100.979\n",
    "\n",
    "$V_{+}$ = 99.035\n",
    "\n",
    "$I/Y$ = 14.25; CPT → PV = –99.035\n",
    "\n",
    "$V_0$ = 100.000\n",
    "\n",
    "$\\Delta y$ = 0.0025\n",
    "\n",
    "So, approximate \n",
    "\n",
    "$$\n",
    "\\text{approximate ModDur} = \\frac{V_{-} - V_{+}}{2 \\times \\text{V} × \\Delta \\text{YTM}} = \\frac{100.979−99.035)}{2(100)(0.0025)}=3.888.\n",
    "$$\n",
    "\n",
    "\n",
    "\\\n",
    "(Module 59.1, LOS 59.a)\n"
   ]
  },
  {
   "cell_type": "code",
   "execution_count": 76,
   "id": "ab635f0a",
   "metadata": {},
   "outputs": [
    {
     "name": "stdout",
     "output_type": "stream",
     "text": [
      "3.888\n"
     ]
    }
   ],
   "source": [
    "# Question 1 of 4:\n",
    "\n",
    "ModDur4 = (100.979 - 99.035) / (2 * 100 * 0.0025)\n",
    "\n",
    "print(round(ModDur4,4))"
   ]
  },
  {
   "cell_type": "markdown",
   "id": "12117a4c",
   "metadata": {},
   "source": [
    "**Question 2 of 4:** \n",
    "\n",
    "The current price of a \\\\$1,000, 7-year, 5.5\\% semiannual coupon bond is \\\\$1,029.23. The bond's price value of a basis point is closest to:"
   ]
  },
  {
   "cell_type": "code",
   "execution_count": 132,
   "id": "c687a6d8",
   "metadata": {},
   "outputs": [
    {
     "name": "stdout",
     "output_type": "stream",
     "text": [
      "2.49998\n",
      "0.0499995\n",
      "1028.63\n",
      "0.6\n"
     ]
    }
   ],
   "source": [
    "# Question 2 of 4\n",
    "# EXAMPLE: CALCULATING THE PVBP\n",
    "\n",
    "# First, we need to find the YTM of the bond:\n",
    "bond_YTM1 = npf.rate(nper=14, pmt=27.5, pv= -1029.23,fv=1000) * 100\n",
    "print(round(bond_YTM1,5))\n",
    "\n",
    "# V_plus1 is the PV -1029.23 -> I/Y = 2.49998 x 2 = 4.99995.\n",
    "V_plus_rate = npf.rate(nper= 14,pmt=27.5, pv= -1029.23 ,fv=1000)*2\n",
    "print(round(V_plus_rate,7))\n",
    "\n",
    "# V_minusPV is rounded V_Plus to 5% + 1 bps divided by 2 = 2.505\n",
    "V_plusPV = npf.pv(nper= 14,pmt=27.5, rate= 0.02505,fv=1000) *-1\n",
    "print(round(V_plusPV,2))\n",
    "\n",
    "# PVBP (per $1000 of par) = (1029.23 – 1028.63)\n",
    "PVBP2 = 1029.23 - 1028.63 \n",
    "print(round(PVBP2,2))"
   ]
  },
  {
   "cell_type": "markdown",
   "id": "cbd6fee9",
   "metadata": {},
   "source": [
    "**ANSWER:** \\\n",
    "+8.657\\%.\n",
    "\n",
    "**EXPLANATION:** \\\n",
    "\\\n",
    "`PVBP = initial price – price if yield is changed by 1 basis point.`\n",
    "\n",
    "First, we need to calculate the yield so we can calculate the price of the bond with a 1 basis point change in yield. Using a financial calculator, `PV = –1,029.23; FV = 1,000; PMT = 27.5 = (0.055 × 1,000) / 2; N = 14 = 2 × 7 years`; and `CPT → I/Y = 2.49998`, multiplied by 2 = 4.99995, or 5.00\\%.\n",
    "\n",
    "Next, compute the price of the bond at a yield of 5.00\\% + 0.01\\%, or 5.01\\%. Using the calculator: `FV = 1,000; PMT = 27.5; N = 14; I/Y = 2.505 (5.01 / 2); CPT → PV = $1,028.63`.\n",
    "\n",
    "Finally, \n",
    "    `PVBP = $1,029.23 – $1,028.63 = $0.60`.\n",
    "\n",
    "(Module 59.1, LOS 59.a)"
   ]
  },
  {
   "cell_type": "markdown",
   "id": "6847acaa",
   "metadata": {},
   "source": [
    "**Question 3 of 4:** \n",
    "\n",
    "The modified duration of a bond is 7.87. The approximate percentage change in price using duration only for a yield decrease of 110 basis points is closest to:"
   ]
  },
  {
   "cell_type": "code",
   "execution_count": 136,
   "id": "fb23100c",
   "metadata": {},
   "outputs": [
    {
     "name": "stdout",
     "output_type": "stream",
     "text": [
      "8.657\n"
     ]
    }
   ],
   "source": [
    "# Question 3 of 4:\n",
    "\n",
    "Q3 = -7.87 * (-0.011) \n",
    "print(Q3 * 100)"
   ]
  },
  {
   "cell_type": "markdown",
   "id": "5205e159",
   "metadata": {},
   "source": [
    "**ANSWER:** \\\n",
    "+8.657\\%.\n",
    "\n",
    "**EXPLANATION:** \\\n",
    "–7.87 × (–1.10%) = 8.657\\%\n",
    "\\\n",
    "(Module 59.1, LOS 59.a)"
   ]
  },
  {
   "cell_type": "markdown",
   "id": "8cacc492",
   "metadata": {},
   "source": [
    "**Question 4 of 4:** \n",
    "\n",
    "All else equal, which of the following bonds is likely to have the highest price risk?\n",
    "\n",
    "**ANSWER:**\n",
    "\\\n",
    "A 2-year zero-coupon bond.\n",
    "\n",
    "**EXPLANATION:** \\\n",
    "The price risk of the FRN is very low because at the next coupon payment date, the coupons will reset to market rates, and the FRN price will reset to par. Lower coupons, all else equal, lead to greater price risk. Therefore the 2-year zero-coupon bond will have more price risk than the 2-year 10% semiannual-pay bond.\n",
    "\n",
    "(Module 59.1, LOS 59.b)"
   ]
  }
 ],
 "metadata": {
  "kernelspec": {
   "display_name": "Python 3 (ipykernel)",
   "language": "python",
   "name": "python3"
  },
  "language_info": {
   "codemirror_mode": {
    "name": "ipython",
    "version": 3
   },
   "file_extension": ".py",
   "mimetype": "text/x-python",
   "name": "python",
   "nbconvert_exporter": "python",
   "pygments_lexer": "ipython3",
   "version": "3.11.5"
  }
 },
 "nbformat": 4,
 "nbformat_minor": 5
}
