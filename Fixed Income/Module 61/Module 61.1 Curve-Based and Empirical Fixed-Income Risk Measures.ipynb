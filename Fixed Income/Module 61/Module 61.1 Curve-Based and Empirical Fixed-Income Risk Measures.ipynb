{
 "cells": [
  {
   "cell_type": "markdown",
   "id": "2472d21f",
   "metadata": {},
   "source": [
    "\n",
    "# Module 61.1: Curve-Based and Empirical Fixed-Income Risk Measures\n",
    "\n",
    "<hr>\n"
   ]
  },
  {
   "cell_type": "code",
   "execution_count": null,
   "id": "9bbe2a74",
   "metadata": {},
   "outputs": [],
   "source": [
    "# Import libraries\n",
    "import math\n",
    "import pandas as pd\n",
    "import numpy as np\n",
    "import numpy_financial as npf\n",
    "# import matplotlib.pyplot as plt\n",
    "# import seaborn as sns\n",
    "# from sklearn.model_selection import train_test_split\n",
    "# from pandas.core.common import random_state\n",
    "# from sklearn.linear_model import LinearRegression"
   ]
  },
  {
   "cell_type": "markdown",
   "id": "2a47b22f",
   "metadata": {},
   "source": [
    "### LOS 61.a: Explain why effective duration and effective convexity are the most appropriate measures of interest rate risk for bonds with embedded options.\n",
    "\n",
    "\n",
    "### LOS 61.b: Calculate the percentage price change of a bond for a specified change in benchmark yield, given the bond's effective duration and convexity.\n",
    "\n",
    "So far, all of our duration measures have been calculated using the YTM and prices of straight (option-free) bonds. This is straightforward because both the future cash flows and their timing are known. This is not the case with bonds that have embedded options, such as callable bonds, putable bonds, or a mortgage-backed security (MBS). Embedded options may bring about the early termination of a bond, either at the choice of the investor (for a putable bond) or at the choice of the issuer or underlying borrowers (for callable bonds and MBSs).\n",
    "\n",
    ">**Professor's Note**\n",
    "\\\n",
    "Recall that a callable bond gives the issuer the right to buy the bond back before maturity. As such, it is equivalent to a straight (option-free) bond and a short call option position. A putable bond gives the investor the right to sell the bond back to the issuer before maturity. As such, it is equivalent to a straight (option-free) bond and a long put option position.\n",
    "\\\n",
    "MBSs are similar to callable bonds because mortgage borrowers have the right to prepay their loans. We will explain MBSs in detail in our reading on Mortgage-Backed Security Instrument and Market Features.\n",
    "\n",
    "The fact that bonds with embedded options have uncertain future cash flows and redemption dates means they do not have a single well-defined yield. The yield of the bond will depend on whether the option embedded in the bond is exercised (recall that we can calculate a yield to maturity and a yield to each call date for a callable bond).\n",
    "\n",
    "Thus, analyzing interest rate risk for bonds with embedded options is based on shifts in the benchmark curve (e.g., government par rates), rather than changes in the bond's own yield. This measure of price sensitivity is referred to as **effective duration** (`EffDur`).\n",
    "\n",
    "Calculating effective duration is the same as calculating approximate modified duration, but we replace the change in YTM with $\\Delta$ Curve, the change in the benchmark yield curve (used with a bond pricing model to generate $V_−$ and $V_+$). The formula for calculating effective duration is as follows:\n",
    "\n",
    "$$\n",
    "\\text{effective duration} = \\frac{V_{−}+V_{+}-2V_{0}}{2V_{0}\\Delta \\text{Curve}}\n",
    "$$\n",
    "\n",
    "Another difference between effective duration and the methods we have discussed so far is that effective duration separates the effects of changes in benchmark yields from changes in the spread for credit and liquidity risk. Modified duration makes no distinction between changes in the benchmark yield and changes in the spread. Effective duration reflects only the sensitivity of the bond's value to changes in the benchmark yield curve and assumes all else (including spreads) remains the same.\n",
    "\n",
    "When calculating the convexity of bonds with embedded options, we use an analogous measure, **effective convexity** (`EffCon`), which is once again based on changes in the benchmark curve, rather than on changes in the bond's YTM:\n",
    "\n",
    "$$\n",
    "\\text{effective convexity} = \\frac{V_{−}+V_{+}-2V_{0}}{(\\Delta \\text{Curve})^2V_{0}}\n",
    "$$\n",
    "\n",
    "\n",
    "While the convexity of any option-free bond is positive, a callable bond can exhibit **negative convexity**. This is because at low yields, the call option becomes more valuable, and the call price puts an effective limit on increases in bond value, as shown in  **Price-Yield Function of Callable vs. Option-Free Bond With a Call Price of 102**. For a bond with negative convexity, the price increase that results from a decrease in YTM is smaller than the price decrease that results from equal-sized increase in YTM. This means the duration of a callable bond is less than that of an equivalent option-free bond at low yields."
   ]
  },
  {
   "cell_type": "markdown",
   "id": "4f62f4b6",
   "metadata": {},
   "source": [
    "*Price-Yield Function of Callable vs. Option-Free Bond With a Call Price of 102*\n",
    "\n",
    "# IMG SRC CONVEX\n",
    "\n",
    "A putable bond always has positive convexity. In  **Comparing the Price-Yield Curves for Option-Free and Putable Bonds**, we illustrate the price-yield relation for a putable bond. At higher yields, the put becomes more valuable, so that the value of the putable bond decreases less than that of an option-free bond as yield increases. This means the duration of a putable bond is less than that of an equivalent option-free bond at high yields.\n",
    "\n",
    "*Comparing the Price-Yield Curves for Option-Free and Putable Bonds*\n",
    "\n",
    "# IMG SRC CONVEX 2\n",
    "\n"
   ]
  },
  {
   "cell_type": "code",
   "execution_count": null,
   "id": "72f61543",
   "metadata": {},
   "outputs": [],
   "source": []
  }
 ],
 "metadata": {
  "kernelspec": {
   "display_name": "Python 3 (ipykernel)",
   "language": "python",
   "name": "python3"
  },
  "language_info": {
   "codemirror_mode": {
    "name": "ipython",
    "version": 3
   },
   "file_extension": ".py",
   "mimetype": "text/x-python",
   "name": "python",
   "nbconvert_exporter": "python",
   "pygments_lexer": "ipython3",
   "version": "3.11.5"
  }
 },
 "nbformat": 4,
 "nbformat_minor": 5
}
