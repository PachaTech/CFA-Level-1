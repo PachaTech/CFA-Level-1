{
 "cells": [
  {
   "cell_type": "markdown",
   "id": "2472d21f",
   "metadata": {},
   "source": [
    "\n",
    "# Module 61.1: Curve-Based and Empirical Fixed-Income Risk Measures\n",
    "\n",
    "<hr>\n"
   ]
  },
  {
   "cell_type": "code",
   "execution_count": 11,
   "id": "9bbe2a74",
   "metadata": {},
   "outputs": [],
   "source": [
    "# Import libraries\n",
    "import math\n",
    "import pandas as pd\n",
    "import numpy as np\n",
    "import numpy_financial as npf\n",
    "# import matplotlib.pyplot as plt\n",
    "# import seaborn as sns\n",
    "# from sklearn.model_selection import train_test_split\n",
    "# from pandas.core.common import random_state\n",
    "# from sklearn.linear_model import LinearRegression"
   ]
  },
  {
   "cell_type": "markdown",
   "id": "2a47b22f",
   "metadata": {},
   "source": [
    "### LOS 61.a: Explain why effective duration and effective convexity are the most appropriate measures of interest rate risk for bonds with embedded options.\n",
    "\n",
    "\n",
    "### LOS 61.b: Calculate the percentage price change of a bond for a specified change in benchmark yield, given the bond's effective duration and convexity.\n",
    "\n",
    "So far, all of our duration measures have been calculated using the YTM and prices of straight (option-free) bonds. This is straightforward because both the future cash flows and their timing are known. This is not the case with bonds that have embedded options, such as callable bonds, putable bonds, or a mortgage-backed security (MBS). Embedded options may bring about the early termination of a bond, either at the choice of the investor (for a putable bond) or at the choice of the issuer or underlying borrowers (for callable bonds and MBSs).\n",
    "\n",
    ">**Professor's Note**\n",
    "\\\n",
    "Recall that a callable bond gives the issuer the right to buy the bond back before maturity. As such, it is equivalent to a straight (option-free) bond and a short call option position. A putable bond gives the investor the right to sell the bond back to the issuer before maturity. As such, it is equivalent to a straight (option-free) bond and a long put option position.\n",
    "\\\n",
    "MBSs are similar to callable bonds because mortgage borrowers have the right to prepay their loans. We will explain MBSs in detail in our reading on Mortgage-Backed Security Instrument and Market Features.\n",
    "\n",
    "The fact that bonds with embedded options have uncertain future cash flows and redemption dates means they do not have a single well-defined yield. The yield of the bond will depend on whether the option embedded in the bond is exercised (recall that we can calculate a yield to maturity and a yield to each call date for a callable bond).\n",
    "\n",
    "Thus, analyzing interest rate risk for bonds with embedded options is based on shifts in the benchmark curve (e.g., government par rates), rather than changes in the bond's own yield. This measure of price sensitivity is referred to as **effective duration** (`EffDur`).\n",
    "\n",
    "Calculating effective duration is the same as calculating approximate modified duration, but we replace the change in YTM with $\\Delta$ Curve, the change in the benchmark yield curve (used with a bond pricing model to generate $V_−$ and $V_+$). The formula for calculating effective duration is as follows:\n",
    "\n",
    "$$\n",
    "\\text{effective duration} = \\frac{V_{−}+V_{+}-2V_{0}}{2V_{0}\\Delta \\text{Curve}}\n",
    "$$\n",
    "\n",
    "Another difference between effective duration and the methods we have discussed so far is that effective duration separates the effects of changes in benchmark yields from changes in the spread for credit and liquidity risk. Modified duration makes no distinction between changes in the benchmark yield and changes in the spread. Effective duration reflects only the sensitivity of the bond's value to changes in the benchmark yield curve and assumes all else (including spreads) remains the same.\n",
    "\n",
    "When calculating the convexity of bonds with embedded options, we use an analogous measure, **effective convexity** (`EffCon`), which is once again based on changes in the benchmark curve, rather than on changes in the bond's YTM:\n",
    "\n",
    "$$\n",
    "\\text{effective convexity} = \\frac{V_{−}+V_{+}-2V_{0}}{(\\Delta \\text{Curve})^2V_{0}}\n",
    "$$\n",
    "\n",
    "\n",
    "While the convexity of any option-free bond is positive, a callable bond can exhibit **negative convexity**. This is because at low yields, the call option becomes more valuable, and the call price puts an effective limit on increases in bond value, as shown in  **Price-Yield Function of Callable vs. Option-Free Bond With a Call Price of 102**. For a bond with negative convexity, the price increase that results from a decrease in YTM is smaller than the price decrease that results from equal-sized increase in YTM. This means the duration of a callable bond is less than that of an equivalent option-free bond at low yields."
   ]
  },
  {
   "cell_type": "markdown",
   "id": "4f62f4b6",
   "metadata": {},
   "source": [
    "*Price-Yield Function of Callable vs. Option-Free Bond With a Call Price of 102*\n",
    "\n",
    "<img src=\"https://github.com/PachaTech/CFA-Level-1/blob/main/Fixed%20Income/Module%2061/pics/convex.jpeg?raw=true\">\n",
    "\n",
    "A putable bond always has positive convexity. In  **Comparing the Price-Yield Curves for Option-Free and Putable Bonds**, we illustrate the price-yield relation for a putable bond. At higher yields, the put becomes more valuable, so that the value of the putable bond decreases less than that of an option-free bond as yield increases. This means the duration of a putable bond is less than that of an equivalent option-free bond at high yields.\n",
    "\n",
    "*Comparing the Price-Yield Curves for Option-Free and Putable Bonds*\n",
    "\n",
    "<img src=\"https://github.com/PachaTech/CFA-Level-1/blob/main/Fixed%20Income/Module%2061/pics/convex2.jpeg?raw=true\">\n",
    "\n",
    "\n",
    "For an option-free bond, small differences can be observed between modified duration (with respect to $\\Delta$ YTM) and effective duration (with respect to $\\Delta$ Curve). This may be surprising, because it seems natural to assume that any shift in government par yield curve would automatically flow through into a similar change in the yields of risky bonds. However, in a nonflat yield curve environment, a shift in the benchmark par yield curve will generate a *nonparallel* shift in the government spot curve. If we assume that credit spreads above government spot rates remain the same, this will mean the change in the risky bond's yield will be slightly different to the original shift in government par yield curves, causing `ModDur` to be slightly different to `EffDur`.\n",
    "\n",
    "\n",
    ">**Professor's Note**\n",
    "/\n",
    "Recall that bond yields are a weighted average of the spot rates that apply to the individual cash flows of the bond. When we shift the government par yield curve to calculate `EffDur`, we must also change the government spot rate curve that generates these yields. Not all spot rates have an equal weight in calculating a particular par yield; hence, spot rates change by different amounts (the spot curve undergoes a nonparallel shift). This nonparallel shift in spots means that the yields of risky bonds, assumed to offer a constant spread above government spot rates, may not move exactly in line with the original $\\Delta$ Curve shift. This is a fairly technical point, so for the exam just understand that for option-free bonds, `ModDur` and `EffDur` are not exactly the same for a given ∆Curve unless the yield curve is flat.\n",
    "\n",
    "\n",
    "We can estimate the expected price change for a bond with respect to an expected change in the yield curve using `EffDur` and `EffCon` in the same way we use modified duration and convexity with respect to $\\Delta$ YTM:\n",
    "\n",
    "$$\n",
    "\\textbf{change in full bond price} = \\\\\n",
    "\\text{-EffDur} × (\\Delta \\text{Curve}) + \\frac{1}{2} × \\text{EffCon} × (\\Delta \\text{Curve})^2 \n",
    "$$\n",
    "\n",
    "Unlike modified duration and convexity, effective duration and convexity do not necessarily provide better estimates of bond prices for smaller changes in yield. This is because for bonds with embedded options, considerations other than the level of government rates determine whether the option is likely to be exercised (e.g., the level of credit spreads on a corporate bond or the amount of principal outstanding on a mortgage).\n"
   ]
  },
  {
   "cell_type": "markdown",
   "id": "5ac2b6fc",
   "metadata": {},
   "source": [
    "### LOS 61.c: Define key rate duration and describe its use to measure price sensitivity of fixed-income instruments to benchmark yield curve changes.\n",
    "\n",
    "Recall that effective duration is an adequate measure of bond price risk only for parallel shifts in the benchmark yield curve. The impact of nonparallel shifts can be measured using a concept known as key rate duration. A **key rate duration**, also known as a **partial duration**, is defined as the sensitivity of the value of a bond or portfolio to changes in the benchmark yield for a *specific* maturity, holding other yields constant. The sum of a bond's key rate durations equals its effective duration.\n",
    "\n",
    "Key rate duration is particularly useful for measuring **shaping risk**, defined as the effect of a nonparallel shift in the yield curve on a bond portfolio. We can use the key rate duration for each maturity to compute the effect on the portfolio of a yield change at that maturity. The effect on the overall portfolio is the sum of these individual effects.\n",
    "\n",
    "The key rate duration of a cash flow in a portfolio is the cash flow's modified duration multiplied by its weight in the portfolio. This key rate duration can then be used to assess the impact of a nonparallel shift in the yield curve, as demonstrated in the following example.\n",
    "\n",
    "<hr>\n",
    "\n",
    "**EXAMPLE: KEY RATE DURATION**\n",
    "\n",
    "A portfolio has equally weighted investments in a 5-year zero-coupon bond yielding 5% and a 10-year bond yielding 6%. Yields are quoted on an annual coupon basis. What would be the performance of the portfolio if 5-year yields increase by 50 basis points and 10-year yields decrease by 25 basis points?"
   ]
  },
  {
   "cell_type": "code",
   "execution_count": 12,
   "id": "2a86eef9",
   "metadata": {},
   "outputs": [
    {
     "name": "stdout",
     "output_type": "stream",
     "text": [
      "For the 5-year cash flow:  4.762\n",
      "The 5-year key rate duration is ModDur x weight in portfolio:  2.381\n",
      "The impact of a 50 bp increase in the 5-year yield, therefore: 0.0119\n",
      "or equally expressed in percentage increased the 5-year yield: +1.19%\n",
      "For the 10-year cash flow the modified duration is:  9.434\n",
      "The 10-year key rate duration is:  4.717\n",
      "The impact of a 25 bp decrease in the 10-year yield is, therefore: 0.0118\n",
      "or equally expressed in percentage increased the 10-year yield: +1.18%\n",
      "-------------------------------------------------------------------------\n",
      "Overall, the portfolio value will change by -0.01%\n",
      "\n",
      "The portfolio value is expected to remain roughly unchanged \n",
      "in response to this nonparallel shift in yields.\n"
     ]
    }
   ],
   "source": [
    "# For the 5-year cash flow: \n",
    "ModDur = 5 / (1.05)\n",
    "print(\"For the 5-year cash flow: \", round(ModDur,3))\n",
    "\n",
    "# weight in portfolio\n",
    "weight = 0.5\n",
    "\n",
    "# The 5-year key rate duration is ModDur * weight in portfolio \n",
    "five_kr_duration = ModDur * weight\n",
    "print(\"The 5-year key rate duration is ModDur x weight in portfolio: \",\n",
    "      round(five_kr_duration,3))\n",
    "\n",
    "# The impact of a 50 bp increase in the 5-year yield is, therefore,\n",
    "fiftybpsincr = five_kr_duration * 0.0050\n",
    "print(\"The impact of a 50 bp increase in the 5-year yield, therefore:\",round(fiftybpsincr,5))\n",
    "print (\"or equally expressed in percentage increased the 5-year yield: +{:.02%}\".format(fiftybpsincr)) \n",
    "\n",
    "# For the 10-year cash flow: \n",
    "ModDur2 = 10 / (1.06)\n",
    "print(\"For the 10-year cash flow the modified duration is: \",round(ModDur2,3))\n",
    "\n",
    "# The 10-year key rate duration is \n",
    "ten_kr_duration = ModDur2 * weight\n",
    "print(\"The 10-year key rate duration is: \", round(ten_kr_duration,3))\n",
    "\n",
    "# The impact of a 25 bp decrease in the 10-year yield is, therefore, \n",
    "twentyfivebpsincr = ten_kr_duration * 0.0025\n",
    "print(\"The impact of a 25 bp decrease in the 10-year yield is, therefore:\",round(twentyfivebpsincr,4))\n",
    "print (\"or equally expressed in percentage increased the 10-year yield: +{:.02%}\".format(twentyfivebpsincr)) \n",
    "\n",
    "\n",
    "# Overall, the portfolio value will change by \n",
    "valchange = (fiftybpsincr*-1) + twentyfivebpsincr\n",
    "# print(round(valchange,3))\n",
    "print(\"-------------------------------------------------------------------------\")\n",
    "print (\"Overall, the portfolio value will change by {:.02%}\".format(valchange)) \n",
    "print()\n",
    "print(\"The portfolio value is expected to remain roughly unchanged \\nin response to this nonparallel shift in yields.\")"
   ]
  },
  {
   "cell_type": "markdown",
   "id": "6a74ae91",
   "metadata": {},
   "source": [
    "**Answer:**\n",
    "\n",
    "Recall that modified duration is equal to Macaulay duration divided by (1 + periodic yield). Also recall that the Macaulay duration of a single cash flow is equal to its maturity.\n",
    "\n",
    "For the 5-year cash flow: ModDur = 5 / (1.05) = 4.762\n",
    "\n",
    "The 5-year key rate duration is ModDur × weight in portfolio = 4.762 × 0.5 = 2.381.\n",
    "\n",
    "The impact of a 50 bp increase in the 5-year yield is, therefore, –2.381 × 0.0050 = –0.0119, or –1.19%.\n",
    "\n",
    "For the 10-year cash flow: ModDur = 10 / (1.06) = 9.434\n",
    "\n",
    "The 10-year key rate duration is ModDur × weight in portfolio = 9.434 × 0.5 = 4.717.\n",
    "\n",
    "The impact of a 25 bp decrease in the 10-year yield is, therefore, –4.717 × –0.0025 = 0.0118, or 1.18%.\n",
    "\n",
    "Overall, the portfolio value will change by –1.19% + 1.18% = –0.01%. \n",
    "\n",
    "The portfolio value is expected to remain roughly unchanged in response to this nonparallel shift in yields."
   ]
  },
  {
   "cell_type": "markdown",
   "id": "b517042c",
   "metadata": {},
   "source": [
    "### LOS 61.d: Describe the difference between empirical duration and analytical duration.\n",
    "\n",
    "The duration measures we have introduced so far, based on mathematical analysis, are often referred to as **analytical durations**. A different approach is to estimate **empirical duration**s using the actual observed historical relationship between benchmark yield changes and bond price changes.\n",
    "\n",
    "When we estimate corporate bond durations based on a shift in the benchmark (government) yield curve, we implicitly assume that the credit spread for the corporate bond remains unchanged (i.e., changes in the benchmark yield curve and a bond's yield spread are uncorrelated). When this assumption is not justified, estimates of empirical duration, based on the actual relationship between changes in the benchmark yield curve and bond values, may be more appropriate.\n",
    "\n",
    "An example of such a situation is an increase in market uncertainty during which investor demand shifts sharply toward bonds with low credit risk (a \"flight to quality\"). Yields on government bonds decrease, but credit spreads increase at the same time. As a result, government bond prices increase, but corporate bond prices increase by less or possibly even fall. For a corporate bond portfolio, an estimate of empirical duration that accounts for this effect would be lower (i.e., less price response to a decrease in benchmark yields) than an estimate of analytical duration would indicate. An analytical estimate of the duration of a portfolio consisting primarily of government debt securities, in this case, would still be appropriate, while an empirically derived estimate of duration would be more appropriate for a portfolio comprising corporate bonds (risky credits).\n",
    "\n"
   ]
  },
  {
   "cell_type": "markdown",
   "id": "788d0bf1",
   "metadata": {},
   "source": [
    "<hr>\n",
    "\n",
    "## Reading 61: Key Concepts\n",
    "\n",
    "<hr>\n",
    "\n",
    "### LOS 61.a\n",
    "\n",
    "Because bonds with embedded options have uncertain cash flows, they do not have a single well-defined yield. Therefore, effective duration and effective convexity must be calculated with respect to shifts in the benchmark curve rather than the bond's yield for bonds with embedded options.\n",
    "\n",
    "Effective duration is a linear estimate of the percentage change in a bond's price that would result from a 1% change in the benchmark yield curve:\n",
    "\n",
    "$$\n",
    "\\text{effective duration} = \\frac{V_{−}+V_{+}-2V_{0}}{2V_{0}\\Delta \\text{Curve}}\n",
    "$$\n",
    "\\\n",
    "\\\n",
    "$$\n",
    "\\text{effective convexity} = \\frac{V_{−}+V_{+}-2V_{0}}{(\\Delta \\text{Curve})^2V_{0}}\n",
    "$$\n",
    "\\\n",
    "Callable bonds and MBS may exhibit negative convexity at low yields.\n",
    "\n",
    "### LOS 61.b\n",
    "\n",
    "The expected price change for a bond with respect to an expected $\\Delta$Curve is estimated as follows:\n",
    "\n",
    "\\\n",
    "$$\n",
    "\\textbf{change in full bond price} = \\\\\n",
    "\\text{-EffDur} × (\\Delta \\text{Curve}) + \\frac{1}{2} × \\text{EffCon} × (\\Delta \\text{Curve})^2 \n",
    "$$\n",
    "\n",
    "### LOS 61.c\n",
    "\n",
    "Key rate duration is a measure of the price sensitivity of a bond or a bond portfolio to a change in yield for a specific maturity while other yields remain the same. Key rate durations of a bond or portfolio can be used to estimate price sensitivity to changes in the shape of the yield curve.\n",
    "\n",
    "### LOS 61.d\n",
    "\n",
    "Macaulay, modified, and effective duration are examples of analytical duration. Empirical duration is estimated from historical data using models. Empirical duration may be lower than analytical duration in interest rate environments where the assumptions underlying analytical duration may not hold, such as for credit-risky bonds in a flight-to-quality scenario.\n",
    "\n"
   ]
  },
  {
   "cell_type": "markdown",
   "id": "6bef8cba",
   "metadata": {},
   "source": [
    "<hr>\n",
    "\n",
    "## Module Quiz 60.1\n",
    "\n",
    "<hr>\n",
    "\n",
    "#### QUESTION 1 OF 5\n",
    "Effective duration is more appropriate than modified duration for estimating interest rate risk for bonds with embedded options because these bonds:\n",
    "\n",
    "\n",
    "* **ANSWER:** \\\n",
    "have uncertain cash flows that depend on the path of interest rate changes.\\\n",
    "\n",
    "* **EXPLANATION** \\\n",
    "Because bonds with embedded options have cash flows that are uncertain and depend on future interest rates, effective duration must be used.\\\n",
    "(Module 61.1, LOS 61.a)\n",
    "\n",
    "\n",
    "#### QUESTION 2 OF 5\n",
    "When an embedded option has significant value, relative to an equivalent option-free bond, the effective duration of a bond with an embedded option will *most likely* be:\n",
    "\n",
    "\n",
    "* **ANSWER:** \\\n",
    "lower.\n",
    "\n",
    "* **EXPLANATION** \\\n",
    "Embedded options decrease the duration of the bond relative to an equivalent option-free bond when the option has significant value.\\ \n",
    "(Module 61.1, LOS 61.b)\n",
    "\n",
    "\n",
    "#### QUESTION 3 OF 5\n",
    "Which of the following bonds is *most likely* to exhibit negative convexity?\n",
    "\n",
    "\n",
    "* **ANSWER:** \\\n",
    "Callable bonds in a low-yield environment.\n",
    "\n",
    "* **EXPLANATION** \\\n",
    "Negative convexity is exhibited only by callable bonds in a low-yield environment where the call price creates a ceiling on the price of the callable bond, causing the rate of price rises to decrease as yields fall. Putable bonds never exhibit negative convexity. \\\n",
    "(Module 61.1, LOS 61.b)\n",
    "\n",
    "\n",
    "#### QUESTION 4 OF 5\n",
    "A bond portfolio manager who wants to estimate the sensitivity of the portfolio's value to changes in the 5-year yield only should use a(n):\n",
    "\n",
    "* **ANSWER:** \\\n",
    "key rate duration.\n",
    "\n",
    "* **EXPLANATION** \\\n",
    "Key rate duration refers to the sensitivity of a bond or portfolio value to a change in one specific maturity yield.\\\n",
    "(Module 61.1, LOS 61.c)"
   ]
  },
  {
   "cell_type": "markdown",
   "id": "36ed297e",
   "metadata": {},
   "source": [
    "#### QUESTION 5 OF 5\n",
    "Assume that a bond has an effective duration of 10.5 and a convexity of 97.3. Using both of these measures, the estimated percentage change in price for this bond, in response to a decline in the yield curve of 200 basis points, is closest to:\n",
    "\n",
    "\n",
    "* **ANSWER:** \\\n",
    "22.95\\%\n",
    "\n",
    "* **EXPLANATION** \\\n",
    "$\\text{Total estimated price change} = (\\text{duration effect + convexity effect})$\n",
    "\\\n",
    "$= \\large[\\small–10.5 × (–0.02)\\large] \\small+ \\large[\\small\\frac{1}{2} × 97.3 × (–0.02)^2 \\large] \\\n",
    "\\small × 100 = 21.0% + 1.95\\% = 22.95\\%$\n",
    "\\\n",
    "\\\n",
    "(Module 61.1, LOS 61.b)"
   ]
  },
  {
   "cell_type": "code",
   "execution_count": 10,
   "id": "5c41c4d8",
   "metadata": {},
   "outputs": [
    {
     "name": "stdout",
     "output_type": "stream",
     "text": [
      "22.95%\n"
     ]
    }
   ],
   "source": [
    "# Total estimated price change=(duration effect + convexity effect) \n",
    "\n",
    "Q5 = (10.5 * (0.02)) + ((0.5) * (97.3) * (0.02**2))\n",
    "print(\"{:.02%}\".format(Q5))"
   ]
  },
  {
   "cell_type": "markdown",
   "id": "250b6455",
   "metadata": {},
   "source": [
    "<hr>\n",
    "\n",
    "# Qbank Module 61\n",
    "<hr>\n"
   ]
  },
  {
   "cell_type": "markdown",
   "id": "a7458fc7",
   "metadata": {},
   "source": [
    "<hr>\n",
    "\n",
    "**Question 1 of 8**\n",
    "\n",
    "**Answer**\\\n",
    "estimates of empirical and analytical durations should be similar.\n",
    "\n",
    "**Explanation**\\\n",
    "A portfolio consisting solely of short-term U.S. government bonds should closely resemble the performance of its government benchmark yield. As a result, estimates of empirical duration should be similar to the portfolio's analytical durations.\n",
    "\\\n",
    "\\\n",
    "(Module 61.1, LOS 61.d)"
   ]
  },
  {
   "cell_type": "markdown",
   "id": "542226d4",
   "metadata": {},
   "source": [
    "<hr>\n",
    "\n",
    "**Question 2 of 8**\n",
    "\n",
    "**Answer**\\\n",
    "\\\\$55\n",
    "\n",
    "**Explanation**\\\n",
    "Effective duration should be used for callable bonds as it takes into account the impact the embedded option has on the bond's cash flows.\n",
    "\n",
    "$\\text{Approximate percentage price change of a bond} = \\text{(-)(effective duration)}(\\Delta\\text{YTM})$\n",
    "\n",
    "$(–5)(1\\%) = –5\\%$\n",
    "\n",
    "The change in price is therefore $\\$1,000 \\times -5\\% = -\\$50$\n",
    "\n",
    "(Module 61.1, LOS 61.b)"
   ]
  },
  {
   "cell_type": "code",
   "execution_count": 41,
   "id": "bf198712",
   "metadata": {},
   "outputs": [
    {
     "name": "stdout",
     "output_type": "stream",
     "text": [
      "-5.00%\n",
      "$ -50.0\n"
     ]
    }
   ],
   "source": [
    "# Question 2 of 8\n",
    "QbankQ2 = (-5) * (0.01)\n",
    "print(\"{:.02%}\".format(QbankQ2))\n",
    "print(\"$\",QbankQ2 * 1000)"
   ]
  },
  {
   "cell_type": "markdown",
   "id": "8aec5870",
   "metadata": {},
   "source": [
    "<hr>\n",
    "\n",
    "**Question 3 of 8**\n",
    "\\\n",
    "\\\n",
    "An investor gathered the following information on two U.S. corporate bonds:\n",
    "\\\n",
    "* Bond J is callable with maturity of 5 years\n",
    "* Bond J has a par value of \\\\$10,000\n",
    "* Bond M is option-free with a maturity of 5 years\n",
    "* Bond M has a par value of \\\\$1,000\n",
    "* For each bond, which duration calculation should be applied?\n",
    "\\\n",
    "Bond J or Bond M\n",
    "\\\n",
    "\n",
    "**Answer**\\\n",
    "Bond J = Effective Duration\\\n",
    "Bond M = Modified Duration or Effective Duration\\\n",
    "\\\n",
    "\\\n",
    "**Explanation**\\\n",
    "Effective duration is that effective duration is used for bonds with embedded options. Modified duration assumes that all the cash flows on the bond will not change, while effective duration considers expected cash flow changes that may occur with embedded options.\n",
    "\\\n",
    "(Module 61.1, LOS 61.a)"
   ]
  },
  {
   "cell_type": "markdown",
   "id": "4aa7769a",
   "metadata": {},
   "source": [
    "<hr>\n",
    "\n",
    "**Question 4 of 8**\n",
    "\n",
    "**Answer**\\\n",
    "A bond priced at par ($1,000) has a modified duration of 8 and a convexity of 100. If interest rates fall 50 basis points, the new price will be closest to:\n",
    "\n",
    "**Explanation**\n",
    "\n",
    "$$\n",
    "\\Delta\\frac{P}{P}=−\\text{Duration}(\\Delta\\text{YTM})+\\frac{1}{2} \\text{Convexity} (\\Delta\\text{YTM})^2\n",
    "$$\n",
    "\\\n",
    "\\\n",
    "$\\Delta\\frac{P}{P}=(−8)(−0.005)+\\frac{1}{2}(100)(−0.005)^2 = +0.0400 + 0.00125 = +0.04125$\n",
    "\\\n",
    "\\\n",
    "\\\n",
    "or up 4.125\\%\n",
    "\\\n",
    "\\\n",
    "The price would thus be \\\\$1,000 × 1.04125 = \\\\$1,041.25.\n",
    "\\\n",
    "\\\n",
    "(Module 61.1, LOS 61.b)"
   ]
  },
  {
   "cell_type": "code",
   "execution_count": 30,
   "id": "ac2e976a",
   "metadata": {},
   "outputs": [
    {
     "name": "stdout",
     "output_type": "stream",
     "text": [
      "1041.25\n"
     ]
    }
   ],
   "source": [
    "# Total estimated price change=(duration effect + convexity effect) \n",
    "\n",
    "Qbank4Dur = (8 * (0.005)) + ((0.5) * (100) * (0.005**2))\n",
    "\n",
    "print(round(Qbank4Dur,6)*1000+1000)"
   ]
  },
  {
   "cell_type": "markdown",
   "id": "4858ee5a",
   "metadata": {},
   "source": [
    "<hr>\n",
    "\n",
    "**Question 5 of 8**\n",
    "\n",
    "A bond has the following characteristics:\n",
    "\\\n",
    "* Maturity of 30 years\n",
    "* Modified duration of 16.9 years\n",
    "* Yield to maturity of 6.5\\%\n",
    "* If the yield to maturity decreases by 0.75\\%, what will be the percentage change in the bond's price?\n",
    "\\\n",
    "\n",
    "**Answer**\\\n",
    "+12.675\\%.\n",
    "\n",
    "**Explanation**\n",
    "\n",
    "$\\text{Approximate percentage price change of a bond} = \\text{(-)(modified duration)}(\\Delta \\text{YTM})$\n",
    "\n",
    "$= (-16.9)(-0.75\\%) = +12.675\\%$\n",
    "\\\n",
    "\\\n",
    "(Module 61.1, LOS 61.b)"
   ]
  },
  {
   "cell_type": "code",
   "execution_count": 36,
   "id": "3d25102d",
   "metadata": {},
   "outputs": [
    {
     "name": "stdout",
     "output_type": "stream",
     "text": [
      "12.67%\n"
     ]
    }
   ],
   "source": [
    "# Question 5 of 8\n",
    "\n",
    "QbankQ5 = (-16.9) * (-0.0075)\n",
    "print(\"{:.02%}\".format(QbankQ5))"
   ]
  },
  {
   "cell_type": "markdown",
   "id": "92e90be2",
   "metadata": {},
   "source": [
    "<hr>\n",
    "\n",
    "**Question 6 of 8**\n",
    "\\\n",
    "A bond's duration is 4.5 and its convexity is 87.2. If interest rates rise 100 basis points, the bond's percentage price change is closest to:\n",
    "\n",
    "**Answer**\\\n",
    "-4.94\\%.\n",
    "\n",
    "**Explanation**\n",
    "\n",
    "Recall that the $\\text{percentage change in prices = }$\\\n",
    "$\\text{Duration effect + Convexity effect} = \\text{(-duration × (change in yields)} + (\\frac{1}{2} \\text{convexity × (change in yields})^2 = (-4.5)(0.01) + (\\frac{1}{2})(87.2)(0.01)^2 = -4.06\\%$. \n",
    "\\\n",
    "Remember that you must use the decimal representation of the change in interest rates when computing the duration and convexity adjustments\n",
    "\\\n",
    "\\\n",
    "(Module 61.1, LOS 61.b)"
   ]
  },
  {
   "cell_type": "code",
   "execution_count": 46,
   "id": "63650924",
   "metadata": {},
   "outputs": [
    {
     "name": "stdout",
     "output_type": "stream",
     "text": [
      "-4.063999999999999\n",
      "-4.06%\n"
     ]
    }
   ],
   "source": [
    "# Duration effect + Convexity effect = \n",
    "# (-duration × (change in yields)+(0.5 x convexity × (change in yields)^2\n",
    "\n",
    "QbankQ6 = (-4.5 * 0.01) + (0.5 * 87.2 * (0.01**2))\n",
    "print(QbankQ6*100)\n",
    "print(\"{:.02%}\".format(QbankQ6))"
   ]
  },
  {
   "cell_type": "markdown",
   "id": "4a704ad3",
   "metadata": {},
   "source": [
    "<hr>\n",
    "\n",
    "**Question 7 of 8**\n",
    "\\\n",
    "The approach to estimating duration that relies on using historical relationships between benchmark yield changes and bond price changes is:\n",
    "\n",
    "**Answer**\\\n",
    "empirical duration.\n",
    "\n",
    "**Explanation**\\\n",
    "Empirical duration is estimated by using historical data between benchmark yield changes and bond price changes. Analytical duration approaches based on mathematical analysis include Macaulay, modified, and effective durations.\n",
    "\\\n",
    "\\\n",
    "(Module 61.1, LOS 61.d)"
   ]
  },
  {
   "cell_type": "markdown",
   "id": "2b2d2b22",
   "metadata": {},
   "source": [
    "<hr>\n",
    "\n",
    "**Question 8 of 8**\n",
    "\\\n",
    "Key rate duration is best described as a measure of price sensitivity to a:\n",
    "\n",
    "**Answer**\\\n",
    "change in yield at a single maturity.\n",
    "\n",
    "**Explanation**\\\n",
    "Key rate duration is the price sensitivity of a bond or portfolio to a change in the interest rate at one specific maturity on the yield curve.\\\n",
    "\\\n",
    "(Module 61.1, LOS 61.c)"
   ]
  },
  {
   "cell_type": "code",
   "execution_count": null,
   "id": "be917c5e",
   "metadata": {},
   "outputs": [],
   "source": []
  }
 ],
 "metadata": {
  "kernelspec": {
   "display_name": "Python 3 (ipykernel)",
   "language": "python",
   "name": "python3"
  },
  "language_info": {
   "codemirror_mode": {
    "name": "ipython",
    "version": 3
   },
   "file_extension": ".py",
   "mimetype": "text/x-python",
   "name": "python",
   "nbconvert_exporter": "python",
   "pygments_lexer": "ipython3",
   "version": "3.11.5"
  }
 },
 "nbformat": 4,
 "nbformat_minor": 5
}
