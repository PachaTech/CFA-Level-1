{
 "cells": [
  {
   "cell_type": "markdown",
   "id": "a70d960f",
   "metadata": {},
   "source": [
    "# Fixed Income Market for Corporate Issuers\n",
    "\n",
    "### REPO Market calculations\n",
    "\n",
    "<hr>\n",
    "    \n",
    "<b><u>Repurchase Agreements Example</b></u>\n",
    "\n",
    "Here we don't know the **Initial Margin**\n",
    "    \n",
    "A 100 million dollar US 5-year Treasury note sold under a repo, for repurchase in 30 days at a repo rate of 0.25%, with an initial margin required of 102%\n",
    "    \n",
    "        * Borrower sells note today, recieving loan of 100,000,000 dollars.\n",
    "        * In 30 days, borrower will repurchase the note and pay the lender.\n",
    "    \n",
    "        * Typically post extra collateral above the loan amount *(Initial Margin)*\n",
    "            * (i.e., the loan will be at discount to the value of the security)\n",
    "            \n",
    "* $\\qquad\\text{Initial Margin} = \\large\\frac{\\text{security price}}{\\text{loan amount}}$\n",
    "\n",
    "<br>\n",
    "\n",
    "\n",
    "* $\\qquad\\text{Repo haircut} = \\large\\frac{\\text{security price - purchase price}}{\\text{security price}}$\n",
    "\n",
    "\n",
    "<hr>\n",
    "\n",
    "Buyer sells the note today, recieving a loan of:  "
   ]
  },
  {
   "cell_type": "code",
   "execution_count": 3,
   "id": "3e90fd38",
   "metadata": {},
   "outputs": [
    {
     "name": "stdout",
     "output_type": "stream",
     "text": [
      "Initial Price of Loan  at day 0   = $ 100000000\n",
      "Purchase Price of Loan at day 5   = $ 98039216.0\n",
      "30 day interest on Loan           = $ 20833.33\n",
      "Principal + Interest 30 day loan  = $ 100020833.33\n",
      "Repo Haircut of the Loan          = % 0.0196\n",
      "\n",
      "\n",
      "In 30 days, borrower will repurchase note & pay lender $100,020,833.33\n",
      "\n",
      "Loan of $98,039,216 had a 30 day interest of $20,833.33\n"
     ]
    }
   ],
   "source": [
    "# Calculate & Print the Initial Margin required\n",
    "init_margin = 1.02\n",
    "sec_price = 100000000\n",
    "buy_price = sec_price / init_margin\n",
    "\n",
    "\n",
    "# Calculate Repo haircut\n",
    "repo_haircut = (sec_price - buy_price) / sec_price\n",
    "\n",
    "\n",
    "# Calculate 30 day interest on the loan\n",
    "int_30 = sec_price * (0.0025 / 12)\n",
    "\n",
    "# Calculate the principal and interest on loan\n",
    "pr_int = sec_price + int_30\n",
    "\n",
    "\n",
    "## Print Results\n",
    "print(\"Initial Price of Loan  at day 0   = $\", round(sec_price, 2))\n",
    "print(\"Purchase Price of Loan at day 5   = $\", round(buy_price, 0))\n",
    "print(\"30 day interest on Loan           = $\", round(int_30, 2))\n",
    "print(\"Principal + Interest 30 day loan  = $\", round(pr_int,2))\n",
    "print(\"Repo Haircut of the Loan          = %\", round(repo_haircut, 4))\n",
    "\n",
    "\n",
    "print(\"\")\n",
    "print(\"\")\n",
    "print(\"In 30 days, borrower will repurchase note & pay lender $100,020,833.33\")\n",
    "print(\"\")\n",
    "print(\"Loan of $98,039,216 had a 30 day interest of $20,833.33\")\n"
   ]
  },
  {
   "cell_type": "markdown",
   "id": "6d0b92e0",
   "metadata": {},
   "source": [
    "Repo Haircut can also be calculated as $\\qquad\\text{Repo haircut} =\\large 1 - (\\frac{1}{\\text{initial margin}})$\n",
    "\n",
    "<br>\n",
    "\n",
    "$\\qquad\\text{Variation Margin} = \\text{(initial margin x adjusted purchase price) - market value of collateral}$"
   ]
  },
  {
   "cell_type": "markdown",
   "id": "7a1705f7",
   "metadata": {},
   "source": [
    "### Example 2: Repo mkt loan with collateral adjustment in 90 days\n",
    "\n",
    "To protect the lender against a potential decrease in the value of the securities posted as collateral, the borrower typically must post extra collateral above the loan amount (the purchase price) by an amount known as the initial margin. In practice this means the loan amount will be a discount to the value of the securities.\n",
    "\n",
    "\n",
    "#### Example 2:\n",
    "\n",
    "Consider a firm that wishes to borrow by entering into a repo agreement to sell a bond today with a market value of 1 million dollars and repurchase it back **90 days later** (**the repurchase date**). The lender requires a repo rate of 2% and initial margin of 103%.\n",
    "\n",
    "The initial purchase price (*the initial loan amount*) is calculated as the market value of the securities posted as collateral divided by the initial margin:\n",
    "\n",
    "* $\\qquad\\text{Purchase Price (loan amount)} = \\large\\frac{\\text{market value of securities}}{\\text{initial margin}} = \\frac{1,000,000}{1.03} = 970,874$\n"
   ]
  },
  {
   "cell_type": "code",
   "execution_count": 4,
   "id": "bbfeaf25",
   "metadata": {},
   "outputs": [
    {
     "name": "stdout",
     "output_type": "stream",
     "text": [
      "Purchase Price (loan amount) in dollars      = $ 970874.0\n",
      "Repurchase Price (loan amount) in dollars    = $ 975728.0\n",
      "Interest paid on the 90 day loan in dollars  = $ 4854.37\n",
      "Haircut percentage on the Purchase price     = % 0.0291\n"
     ]
    }
   ],
   "source": [
    "#### CALCULATE 90 day REPO LOAN, INTEREST, and RETURN + PRINCIPAL\n",
    "\n",
    "\n",
    "# Date conversion 90 days\n",
    "dateconv2 = (90/360)\n",
    "\n",
    "## Calculate Purchase Price (loan amount) & Repurchase price\n",
    "mkt_value = 1000000\n",
    "purchase_price90 = mkt_value / 1.03\n",
    "repurchase_price90 = purchase_price90 * (1 + (0.02 * dateconv2)) \n",
    "\n",
    "## Calculate Haircut\n",
    "haircut90 = (mkt_value - purchase_price90) / mkt_value\n",
    "\n",
    "## Calculate the interest on 90 days\n",
    "int90 = repurchase_price90 - purchase_price90\n",
    "\n",
    "#print(\"Market Value Price (loan amount) in dollars = $\", round(mkt_value,0))\n",
    "print(\"Purchase Price (loan amount) in dollars      = $\", round(purchase_price90,0))\n",
    "print(\"Repurchase Price (loan amount) in dollars    = $\", round(repurchase_price90,0))\n",
    "print(\"Interest paid on the 90 day loan in dollars  = $\", round(int90,2))\n",
    "print(\"Haircut percentage on the Purchase price     = %\", round(haircut90,4))"
   ]
  },
  {
   "cell_type": "markdown",
   "id": "55204085",
   "metadata": {},
   "source": [
    "The repurchase price after 90 days is calculated as the purchase price (loan amount) multiplied by one plus the de-annualized repo rate. Assuming a 360-day count convention, this is calculated as follows for our example:\n",
    "\n",
    "$\\qquad\\text{repurchase price} =  970,874 \\times \\big[1 + (0.02 \\times (\\frac{90}{360})\\big] = 975,728$\n",
    "\n",
    "The discount applied to the market value of collateral to get the purchase price is referred to as a haircut. In this example, the haircut is calculated as follows:\n",
    "\n",
    "$\\qquad\\text{haircut} = \\frac{(1,000,000 – 970,874)}{1,000,000} = 2.91\\%$"
   ]
  },
  {
   "cell_type": "markdown",
   "id": "e00d1332",
   "metadata": {},
   "source": [
    "The loan value increases during its life at the repo rate. Should the market value of the collateral fall below this value times the initial margin, the lender will ask the borrower for more collateral, known as variation margin.\n",
    "\n",
    "For example, given the repo details just listed, assume that after 30 days the market value of the bond has fallen to 990,000 dollars:\n",
    "\n",
    "adjusted loan amount after \n",
    "\n",
    "$\\text{30 days} = 970,874 \\times \\Big[1 + (0.02 \\times (\\frac{30}{360})\\Big] = 972,492$\n",
    "\n",
    "                =  972,492 × 1.03 = 1,001,667\n",
    "     \n",
    "Because the collateral value is less than this, the borrower must provide **variation margin**.\n",
    "\n",
    "    variation margin = (initial margin × adjusted purchase price) – market value of collateral\n",
    "\n",
    "                = 1,001,667 - 990,000 = 11,667"
   ]
  },
  {
   "cell_type": "code",
   "execution_count": 5,
   "id": "10c388fa",
   "metadata": {},
   "outputs": [
    {
     "name": "stdout",
     "output_type": "stream",
     "text": [
      "The Adjusted loan amount after 30 days in dollars     = $ 972492.0\n",
      "The Variation loan amount after 30 days in dollars    = $ 1001667.0\n",
      "The Variation margin of 30-days when falls below 990k = $ 11667 0\n"
     ]
    }
   ],
   "source": [
    "#### Calculate the loan variation margin of 30 days below mkt value of collateral\n",
    "\n",
    "## Set Date conversion\n",
    "dateconv3 = 30/360\n",
    "\n",
    "## Adjusted loan amount after 30 days\n",
    "var30_loan_amt = purchase_price90 * (1 + (0.02 * dateconv3))\n",
    "print(\"The Adjusted loan amount after 30 days in dollars     = $\", round(var30_loan_amt,0))\n",
    "\n",
    "## Because the collateral value is less than this, the borrower must provide variation margin\n",
    "var30_margin = var30_loan_amt * 1.03\n",
    "print(\"The Variation loan amount after 30 days in dollars    = $\", round(var30_margin,0))\n",
    "\n",
    "## Calculate the Variation Margin amount for a 30-day period when the collateral falls below $990,000\n",
    "var30_below = var30_margin-990000 \n",
    "print(\"The Variation margin of 30-days when falls below 990k = $\", round(var30_below),0)"
   ]
  }
 ],
 "metadata": {
  "kernelspec": {
   "display_name": "Python 3 (ipykernel)",
   "language": "python",
   "name": "python3"
  },
  "language_info": {
   "codemirror_mode": {
    "name": "ipython",
    "version": 3
   },
   "file_extension": ".py",
   "mimetype": "text/x-python",
   "name": "python",
   "nbconvert_exporter": "python",
   "pygments_lexer": "ipython3",
   "version": "3.11.5"
  }
 },
 "nbformat": 4,
 "nbformat_minor": 5
}
