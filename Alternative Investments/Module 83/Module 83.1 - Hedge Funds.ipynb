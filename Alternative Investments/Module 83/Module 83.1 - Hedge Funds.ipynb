{
 "cells": [
  {
   "cell_type": "markdown",
   "id": "00951fd9",
   "metadata": {},
   "source": [
    "<hr>\n",
    "\n",
    "# Module 83.1 - Hedge Funds\n",
    "\n",
    "<hr>"
   ]
  },
  {
   "cell_type": "markdown",
   "id": "e2e5a652",
   "metadata": {},
   "source": [
    "### LOS 83.a: Explain investment features of hedge funds and contrast them with other asset classes.\n",
    "\n",
    "Hedge funds are private pooled investment vehicles that are generally available only to qualified or accredited investors. While these funds were traditionally designed to use long and short exposures to generate positive returns in any market, they have evolved to pursue a wide variety of strategies. Unlike mutual funds, hedge funds tend to be lightly regulated, and their managers have great freedom in selecting investment strategies. The primary return drivers for hedge funds are market inefficiency and price volatility.\n",
    "\n",
    "Hedge funds invest in traditional asset classes (debt and equity), use leverage, and use derivatives in pursuit of their strategies. Hedge funds are often evaluated on a total return or risk-adjusted return basis, rather than against a benchmark.\n",
    "\n",
    "Hedge fund managers often invest their own money in their funds. Performance fees for hedge fund managers may be linked to a **high-water mark** requirement, whereby performance fees are payable only when the fund value exceeds its highest prior value.\n",
    "\n",
    "Mutual funds, REITs, and ETFs are all publicly traded, while hedge funds are privately held. Unlike private equity funds, hedge funds tend to invest mostly in liquid asset classes and have a shorter time horizon. Private equity funds require a longer time horizon, while hedge funds have periodic redemptions.\n",
    "\n",
    "#### Hedge Fund Categories\n",
    "We can classify hedge funds by the strategies they pursue. Here we list some examples of each.\n",
    "\n",
    "1. **Equity hedge fund strategies** seek to profit from long or short positions in publicly traded equities and derivatives with equities as their underlying assets. Short positions taken to reduce or remove overall market risk can be in a market index if a manager does not have a negative opinion on specific securities. Subcategories include the following:\n",
    "* **Fundamental long/short.** Use long positions in undervalued securities based on fundamental analysis while simultaneously having a short position in a portfolio of stocks or an index. This strategy seeks to capture alpha when a market correction occurs. Most managers have net long exposure (i.e., a long bias).\n",
    "    * **Fundamental growth.** Use fundamental analysis to find high-growth companies. Identify and buy equities of companies that are expected to sustain relatively high rates of capital appreciation, and short equities of companies expected to have low or no revenue growth. Typically, these funds have a net long bias.\n",
    "    * **Fundamental value.** Buy equity shares that are believed to be undervalued, and short equities believed to be overvalued, based on fundamental analysis. The performance of value stocks relative to growth stocks drives performance.\n",
    "    * **Market neutral.** Use technical or fundamental analysis to select undervalued equities to be held long and to select overvalued equities to be sold short, in approximately equal amounts to profit from their relative price movements without exposure to market risk. Leverage may be used.\n",
    "    * **Short bias.** Employ technical, quantitative, and fundamental analysis and take predominantly short positions in overvalued equities, possibly with smaller long positions but with negative market exposure overall. This is a contrarian strategy that focuses on the manager's skills at discerning flawed business strategies or accounting.\n",
    "\n",
    "2. **Event-driven strategies** are typically based on a corporate restructuring or acquisition that creates profit opportunities for long or short positions in common equity, preferred equity, or debt of a specific corporation. Event-driven funds are typically long biased. Subcategories are as follows:\n",
    "    * **Merger arbitrage.** Buy the shares of a firm being acquired and sell short the firm making the acquisition. Although the term arbitrage is used, such a strategy is not risk free because deal terms may change or an announced merger may not take place.\n",
    "    * **Distressed/restructuring.** Buy the securities of firms in financial distress when analysis indicates that value will be increased by a successful restructuring, and possibly short overvalued securities at the same time.\n",
    "    * **Activist shareholder.** Buy sufficient equity shares to influence a company's policies, with the goal of increasing company value (e.g., by restructuring, change in strategy or management, or return of capital to equity holders).\n",
    "    * **Special situations.** Invest in the securities of firms that are issuing or repurchasing securities, spinning off divisions, selling assets, or distributing capital.\n",
    "\n",
    "3. **Relative value strategies** involve buying a security and selling short a related security, with the goal of profiting when a perceived pricing discrepancy between the two is resolved. Subcategories include the following:\n",
    "    * **Convertible arbitrage fixed income.** Exploit pricing discrepancies between convertible * bonds and the common stock of the issuing companies and options on the common shares.\n",
    "    * **Specific fixed income (ABS/MBS/high yield).** Exploit pricing and quality discrepancies.\n",
    "    * **General fixed income.** Exploit pricing discrepancies among fixed-income securities of various issuers and types.\n",
    "    * **Multistrategy.** Exploit pricing discrepancies among securities within and across asset classes and markets.\n",
    "\n",
    "4. **Opportunistic strategies** focus on macro events and commodity trading. Often, these strategies are implemented using ETFs or derivatives in addition to individual securities. Subcategories include the following:\n",
    "    * **Macro strategies** are based on global economic trends and events and may involve long or short positions in equities, fixed income, currencies, or commodities. These funds benefit from heightened volatility surrounding major events. Smoothing of economic shocks by central bank actions reduce the attractiveness of these strategies.\n",
    "    * **Managed futures** funds may focus on trading commodity futures (these funds are known as commodity trading advisers, or CTAs) or incorporate financial futures. Commodity prices tend to behave differently than financial assets, in that high prices tend to decrease demand (which in turn decreases prices), while low prices reduce supply (which in turn increases prices).\n"
   ]
  },
  {
   "cell_type": "markdown",
   "id": "6d580048",
   "metadata": {},
   "source": [
    "#### Unique Characteristics of Hedge Fund Investing\n",
    "\n",
    "Hedge funds differ from other private investment vehicles, such as mutual funds and REITs:\n",
    "\n",
    "* They tend to be less regulated and have flexible mandates, allowing them freedom to deploy a wide range of strategies, use leverage, and choose from a larger universe of securities and derivatives.\n",
    "\n",
    "* Hedge funds are higher cost, as they charge higher fees in the form of an incentive fee on top of generally high management fees.\n",
    "\n",
    "* They have lower liquidity, including lockup periods and liquidity gates. A **lockup period** is the time after initial investment over which limited partners either cannot request redemptions or incur significant fees for redemptions (a soft lockup). A **notice period** is the amount of time a fund has to fulfill a redemption request made after the lockup period has passed. A **liquidity gate** is a partial restriction on redemptions (i.e., less than a full suspension of them).\n",
    "    \\\n",
    "    Hedge fund managers often incur significant transactions costs when they redeem shares. Redemption fees can offset these costs. Notice periods and liquidity gates allow time for managers to reduce positions in an orderly manner. Redemptions often increase when hedge fund performance is poor over a period, and the costs of honoring redemptions may further decrease the value of the remaining partnership interests.\n",
    "\n",
    "* There is reduced transparency about strategies followed and investments made by the fund to protect proprietary trading methods. This makes it difficult for investors and analysts to assign accurate values to a hedge fund's holdings.\n"
   ]
  },
  {
   "cell_type": "markdown",
   "id": "5cae6e71",
   "metadata": {},
   "source": [
    "### LOS 83.b: Describe investment forms and vehicles used in hedge fund investments.\n",
    "\n",
    "Hedge funds can be structured as commingled funds, whereby capital from many investors is pooled together, or as a **separately managed account (SMA)** for a single large investor.\n",
    "\n",
    "Commingled funds often have a **master-feeder structure** that is designed to be tax efficient, enjoys economies of scale, and allows for funding from global investors. Under such a structure, there are two feeder funds: offshore (in a tax haven) and onshore. Both funds flow into a master fund, which makes the investments. The master-feeder structure bypasses regional regulatory requirements.\n",
    "\n",
    "SMAs allow for a customized portfolio to meet an investor's risk/return objectives. One concern is that the manager has no stake in the fund, so the manager's interests are not as well aligned with those of the investor as they would be in a typical commingled fund. SMAs also require more operational oversight and thus are appropriate for larger or institutional investors. The benefit of lower negotiated fees in SMA structure is offset by the disadvantage of receiving allocations of only the fund manager's most liquid trades.\n",
    "\n",
    "Hedge funds are typically structured as limited partnerships or limited liability corporations. The general partner is the fund manager and receives compensation based on the fund's performance. The contractual relationships between the GP and LPs are laid out in the fund documents: partnership agreement, **private placement memorandum**, or articles of incorporation. Typically, a fund is structured to have an indefinite life, though most funds do wind down as they are liquidated on a regular basis.\n",
    "\n",
    "Recently, there has been market pressure to reduce hedge fund fees from the previous standard of 2% management fees and 20% performance fees. Some of the newer funds have 1% management fees plus 30% performance fees based on performance relative to a benchmark (as opposed to being based on total returns).\n",
    "\n",
    "#### Indirect Investment Forms\n",
    "\n",
    "A **fund-of-funds** is an investment company that invests in hedge funds. Fund-of-funds investing can give investors diversification among hedge fund strategies, offer a manager's expertise in selecting individual hedge funds, and provide smaller investors with access to hedge funds in which they may not be able to invest directly. These funds also have reduced lockup periods and greater exit liquidity.\n",
    "\n",
    "Fund-of-funds managers charge an additional layer of fees beyond the fees charged by the individual hedge funds in the portfolio. Historically, these additional fees have been a 1% management fee and a 10% incentive fee. Because these fees to the fund-of-funds manager are on top of fees charged by the individual funds, they can significantly reduce investors' net returns."
   ]
  },
  {
   "cell_type": "markdown",
   "id": "1fd5c532",
   "metadata": {},
   "source": [
    "### LOS 83.c: Analyze sources of risk, return, and diversification among hedge fund investments.\n",
    "\n",
    "Hedge fund returns come from three sources:\n",
    "\n",
    "1. *Market beta*. This is the return attributable to the broad market index. Investors can get this from passive investments in index funds.\n",
    "2. *Strategy beta*. This is the return attributable to specific sectors in which a fund has exposure.\n",
    "3. *Alpha*. This is the additional return that is delivered by the manager through security selection.\n",
    "\n",
    "Hedge fund managers use leverage to magnify the value added through strategy beta and alpha. High fees, however, act as a drag on performance.\n",
    "\n",
    "Hedge fund performance as measured by indexes is often overstated. These indexes compile results based on voluntary reporting of performance data by participating fund managers. This likely biases returns and correlations with traditional investment returns. Because index reporting is voluntary, poor-performing funds are less likely to report.\n",
    "\n",
    "* Index returns may exhibit **survivorship bias** because hedge funds might not be included until they have existed for a minimum time or reached a minimum size. In this case an index will not reflect the poor performance of funds that fail before reaching these minimums.\n",
    "\n",
    "* **Selection bias** may result from index providers assigning funds to categories inconsistently or having different requirements for including a fund.\n",
    "\n",
    "\n",
    "* **Backfill bias** refers to the effect on historical index returns of adding fund returns for prior years to index returns when a fund is added to an index. Like selection bias, this tends to overstate performance because funds with better historical returns are more likely to be added.\n",
    "\n",
    "\n",
    "Historical data show that while a hedge fund's performance is highly dependent on the time period over which the performance is measured, hedge funds as an asset class provide diversification benefits relative to portfolios that invest in traditional asset classes. Hedge funds tend to be more correlated with equities than with fixed income.\n"
   ]
  }
 ],
 "metadata": {
  "kernelspec": {
   "display_name": "Python 3 (ipykernel)",
   "language": "python",
   "name": "python3"
  },
  "language_info": {
   "codemirror_mode": {
    "name": "ipython",
    "version": 3
   },
   "file_extension": ".py",
   "mimetype": "text/x-python",
   "name": "python",
   "nbconvert_exporter": "python",
   "pygments_lexer": "ipython3",
   "version": "3.11.5"
  }
 },
 "nbformat": 4,
 "nbformat_minor": 5
}
