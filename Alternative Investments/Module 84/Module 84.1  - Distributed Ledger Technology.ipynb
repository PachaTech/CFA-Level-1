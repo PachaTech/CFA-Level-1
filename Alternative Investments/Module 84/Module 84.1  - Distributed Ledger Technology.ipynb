{
 "cells": [
  {
   "cell_type": "markdown",
   "id": "e7f58198",
   "metadata": {},
   "source": [
    "<hr>\n",
    "\n",
    "# Module 84.1 - Distributed Ledger Technology\n",
    "\n",
    "<hr>"
   ]
  },
  {
   "cell_type": "markdown",
   "id": "a63b6ae2",
   "metadata": {},
   "source": [
    "### LOS 84.a: Describe financial applications of distributed ledger technology.\n",
    "\n",
    "Digital assets are assets that can be electronically created, stored, and transferred. This relatively new alternative asset class includes cryptocurrencies, tokens, and digital collectibles. A digital asset is secured and validated using distributed ledger technology (DLT), also known as blockchain technology. Cryptocurrencies have their own blockchains, while crypto tokens are built on blockchains that already exist.\n",
    "\n",
    "A distributed ledger is a database shared among market participants. It maintains a record of all transactions, which allows each participant to have an identical copy of the database. DLT benefits include accuracy, transparency, and security; rapid ownership transfer; and peer-to-peer (P2P) interactions for creating, trading, and monitoring digital assets. DLT disadvantages include data protection concerns, potential privacy violations, and the large amount of computational power needed for verifying transactions.\n",
    "\n",
    "A DLT network consists of a digital ledger, a consensus mechanism, and a network of participants. A consensus mechanism establishes a common state of the ledger, which involves validating transactions and updating the ledger. These two steps generate records that are immutable (i.e., unchangeable) while providing transparency for all network participants. DLT uses cryptography to encrypt data, which prevents unauthorized parties from accessing data.\n",
    "\n",
    "DLT can also implement smart contracts, where a computer program self-executes based on predetermined terms and conditions. Automating contingent claims and collateral transfers during default events are examples of smart contract applications.\n",
    "\n",
    "A blockchain is a digital ledger that records information sequentially within blocks. These blocks are linked together (i.e., chained), and information is secured using cryptographic techniques. Blocks within the chain contain a group of transactions as well as a secure link (known as a hash) to the previous block. A newly created transaction is only added to a chain after it has been validated by authorized participants."
   ]
  },
  {
   "cell_type": "markdown",
   "id": "b090f534",
   "metadata": {},
   "source": [
    "### Consensus Protocols\n",
    "\n",
    "Consensus protocols determine how blocks are chained together. They are structured to protect against market manipulation. The main types of consensus protocols are proof of work and proof of stake.\n",
    "\n",
    "For the proof of work (PoW) protocol, when a transaction takes place, miners use computers to solve a cryptographic problem, which then verifies the transaction. Blocks are validated and locked into the blockchain thanks to powerful computers that use massive amounts of energy. This process rewards the miners with cryptocurrency. The resources required for mining impose substantial costs on any attempt to manipulate the blockchain's historical record. To do so would require one party to control most (i.e., 51%) of the network. For this reason, a blockchain is more likely to succeed when there is a large number of network participants. PoW is the most widely used consensus mechanism.\n",
    "\n",
    "The proof of stake (PoS) protocol is an emerging consensus mechanism in which certain network participants pledge collateral (a process known as staking) to guarantee the validity of a block. These participants, who are known as validators, use their stake to signal to the network that a transaction is ready to be added to the blockchain. Additional validators will then verify that the transaction is, indeed, authentic. Validators also protect the network from potential malicious attacks by controlling most of the network's computational power. Validators are rewarded with a return on their staked collateral.\n",
    "\n"
   ]
  },
  {
   "cell_type": "markdown",
   "id": "b11d6adc",
   "metadata": {},
   "source": [
    "### Permissionless and Permissioned Networks\n",
    "\n",
    "The two forms of DLT networks are permissionless and permissioned.\n",
    "\n",
    "In permissionless networks, transactions are visible to all users within the network, and any user can execute a transaction. In addition, all network functions can be performed by any network participant. Bitcoin is considered a permissionless network, as are many other types of cryptocurrency.\n",
    "\n",
    "An advantage of a permissionless (i.e., open) network is that transactions are confirmed or denied through consensus mechanisms rather than by a centralized authority. Blockchain transactions cannot be manipulated once they have been added to the ledger, which creates an immutable record of all transactions. Transacting parties do not have to trust each other in permissionless networks.\n",
    "\n",
    "In permissioned networks, users may be restricted from some network activities. Permissions (or controls) can modify the level of ledger accessibility. These levels range from adding transactions (for network participants) to viewing only the transaction history (for regulators). Because permissioned blockchains have stronger restrictions, they are more cost effective than open and decentralized permissionless networks.\n",
    "\n"
   ]
  },
  {
   "cell_type": "markdown",
   "id": "ccd1bd1d",
   "metadata": {},
   "source": [
    "### Digital Asset Categories\n",
    "\n",
    "DLT has many potential applications within the financial industry, including the creation of digital assets and the delivery of more efficient financial services.  Types of Digital Assets outlines the main types of digital assets currently available.\n",
    "\n",
    "IMG\n"
   ]
  },
  {
   "cell_type": "code",
   "execution_count": null,
   "id": "b27de445",
   "metadata": {},
   "outputs": [],
   "source": []
  }
 ],
 "metadata": {
  "kernelspec": {
   "display_name": "Python 3 (ipykernel)",
   "language": "python",
   "name": "python3"
  },
  "language_info": {
   "codemirror_mode": {
    "name": "ipython",
    "version": 3
   },
   "file_extension": ".py",
   "mimetype": "text/x-python",
   "name": "python",
   "nbconvert_exporter": "python",
   "pygments_lexer": "ipython3",
   "version": "3.11.5"
  }
 },
 "nbformat": 4,
 "nbformat_minor": 5
}
