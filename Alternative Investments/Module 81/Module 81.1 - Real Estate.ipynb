{
 "cells": [
  {
   "cell_type": "markdown",
   "id": "c67badac",
   "metadata": {},
   "source": [
    "<hr>\n",
    "\n",
    "# Module 81.1 - Real Estate\n",
    "\n",
    "<hr>"
   ]
  },
  {
   "cell_type": "markdown",
   "id": "e2e12861",
   "metadata": {},
   "source": [
    "### LOS 81.a: Explain features and characteristics of real estate.\n",
    "\n",
    "Real estate can provide income in the form of rent, as well as the potential for price appreciation. Investment in real estate can be made directly in properties or indirectly through limited partnerships and publicly traded securities. The types of real estate we will discuss here include single-family residential and commercial. The four largest subcategories of commercial real estate are office buildings, shopping, industrial/warehouse/distribution, and rental residential (single-family detached and multifamily apartment).\n",
    "\n",
    "As shown in  **Basic Forms of Real Estate Investments$^1$**, real estate investment can be described in terms of a quadrant. In the first (vertical) dimension, investment is differentiated between public and private real estate.\n",
    "\n",
    "* In the private market, ownership usually involves direct investment, such as purchasing property or lending money to a purchaser. Direct investments can be solely owned or indirectly owned through partnerships, where the general partner (GP) provides property management services and limited partners (LPs) are investors (e.g., pension plans).\n",
    "* The public market does not involve direct investment. Rather, ownership involves securities that serve as claims on the underlying assets. Public real estate investment includes ownership of real estate investment trust (REIT) shares, equity in a real estate company, exchange-traded funds (ETFs), residential mortgage-backed securities (MBSs), commercial mortgage-backed securities (CMBSs), mortgage REITs, and mortgage ETFs.\n",
    "\n",
    "*Basic Forms of Real Estate Investments*$^1$\n",
    "\n",
    "# < img \n",
    "\n",
    "The second (horizontal) dimension describes whether a real estate investment is in debt or equity.\n",
    "\n",
    "* An equity investor has an ownership interest in real estate or securities of an entity that owns real estate. Equity investors control decisions such as borrowing money, property management, and the exit strategy.\n",
    "* A debt investor is a lender that owns a mortgage or mortgage-backed securities. A mortgage is collateralized (secured) by the underlying real estate. The lender has a higher priority claim than an equity investor in the event of default. Because the lender must be repaid first, the value of an equity investor's interest is equal to the value of the property less the value of outstanding debt.\n",
    "\n",
    "Each of the basic forms has its own risk, expected returns, regulations, legal issues, and market structure. Private real estate investments are usually larger than public investments because real estate is indivisible and illiquid. With public real estate investments, the investors can divide ownership without having to divide the property. As a result, public real estate investments are liquid and enable investors to diversify by participating in more properties.\n",
    "\n",
    "Private real estate investment requires property management expertise on the part of the owner. In the case of publicly traded securities or private limited partnerships, the real estate is professionally managed."
   ]
  },
  {
   "cell_type": "markdown",
   "id": "01166c45",
   "metadata": {},
   "source": []
  }
 ],
 "metadata": {
  "kernelspec": {
   "display_name": "Python 3 (ipykernel)",
   "language": "python",
   "name": "python3"
  },
  "language_info": {
   "codemirror_mode": {
    "name": "ipython",
    "version": 3
   },
   "file_extension": ".py",
   "mimetype": "text/x-python",
   "name": "python",
   "nbconvert_exporter": "python",
   "pygments_lexer": "ipython3",
   "version": "3.11.5"
  }
 },
 "nbformat": 4,
 "nbformat_minor": 5
}
