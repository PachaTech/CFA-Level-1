{
 "cells": [
  {
   "cell_type": "markdown",
   "id": "8f10552a",
   "metadata": {},
   "source": [
    "<hr>\n",
    "\n",
    "# Module 19.1 - The Foreign Exchange Market\n",
    "\n",
    "<hr>\n",
    "\n",
    "<img src=\"https://github.com/PachaTech/CFA-Level-1/blob/main/Economics/Module%2019/pics/01.png?raw=true\">"
   ]
  },
  {
   "cell_type": "markdown",
   "id": "68c0428b",
   "metadata": {},
   "source": [
    "### LOS 19.a: Calculate and interpret currency cross-rates.\n",
    "\n",
    "A cross rate is the exchange rate between two currencies implied by their exchange rates with a common third currency. Cross-rates are necessary when there is no active FX market in a currency pair. The rate must be computed from the exchange rates between each of these two currencies and a third currency, usually the USD or EUR.\n",
    "\n",
    "Let's assume that we have the following quotations for Mexican pesos and Australian dollars: MXN/USD = 10.70 and USD/AUD = 0.60. The cross rate between Australian dollars and pesos (MXN/AUD) is as follows:\n",
    "\n",
    "    MXN/AUD = USD/AUD × MXN/USD = 0.60 × 10.70 = 6.42\n",
    "    \n",
    "    \n",
    "<img src=\"https://github.com/PachaTech/CFA-Level-1/blob/main/Economics/Module%2019/pics/02.png?raw=true\">    \n",
    "\n",
    "So, our MXN/AUD cross rate is 6.42 pesos per Australian dollar. The key to calculating cross-rates is to note that the basis of the quotations must be such that we get the desired result algebraically. If we had started with an AUD/USD quotation of 1.67, we would have taken the inverse to get the quotation into USD/AUD terms. Another approach is to divide through, as is illustrated in the following example."
   ]
  },
  {
   "cell_type": "code",
   "execution_count": 39,
   "id": "acc0ca6b",
   "metadata": {},
   "outputs": [
    {
     "name": "stdout",
     "output_type": "stream",
     "text": [
      " 6.42 MXN/AUD is the cross-rate between USD/AUD x MXN/USD \n"
     ]
    }
   ],
   "source": [
    "### LOS 19.a: Calculate and interpret currency cross-rates.\n",
    "### MXN/AUD = USD/AUD × MXN/USD\n",
    "MXNAUDcross = 0.60 * 10.70\n",
    "\n",
    "print(\"\", round(MXNAUDcross,5), \"MXN/AUD is the cross-rate between USD/AUD x MXN/USD \")"
   ]
  },
  {
   "cell_type": "markdown",
   "id": "9d478844",
   "metadata": {},
   "source": [
    "#### Example: Cross rate calculation\n",
    "\n",
    "The spot exchange rate between the Swiss franc (CHF) and the USD is CHF/USD = 1.7799, and the spot exchange rate between the New Zealand dollar (NZD) and the U.S. dollar is NZD/USD = 2.2529. Calculate the CHF/NZD spot rate.\n",
    "\n",
    "#### Answer:\n",
    "\n",
    "The CHF/NZD cross rate is (CHF/USD) / (NZD/USD) = 1.7799 / 2.2529 = 0.7900.\n",
    "\n",
    "<img src=\"https://github.com/PachaTech/CFA-Level-1/blob/main/Economics/Module%2019/pics/03.png?raw=true\">\n",
    "<img src=\"https://github.com/PachaTech/CFA-Level-1/blob/main/Economics/Module%2019/pics/04.png?raw=true\">\n",
    "<img src=\"https://github.com/PachaTech/CFA-Level-1/blob/main/Economics/Module%2019/pics/05.png?raw=true\">"
   ]
  },
  {
   "cell_type": "code",
   "execution_count": 38,
   "id": "c7954a8c",
   "metadata": {},
   "outputs": [
    {
     "name": "stdout",
     "output_type": "stream",
     "text": [
      " 0.79 CHF/NZD is the cross-rate (CHF/USD) divided by (NZD/USD)\n"
     ]
    }
   ],
   "source": [
    "### Example 2: Cross rate calculation\n",
    "# The spot exchange rate between the Swiss franc (CHF) \n",
    "# and the USD is CHF/USD = 1.7799, and the spot exchange \n",
    "# rate between the New Zealand dollar (NZD) and the U.S. \n",
    "# dollar is NZD/USD = 2.2529. Calculate the CHF/NZD spot rate.\n",
    "\n",
    "### Cross rate is (CHF/USD) divided by (NZD/USD)\n",
    "CHFNZDcross = (1.7799 / 2.2529)\n",
    "print(\"\", round(CHFNZDcross,4), \"CHF/NZD is the cross-rate (CHF/USD) divided by (NZD/USD)\")"
   ]
  },
  {
   "cell_type": "markdown",
   "id": "db9af511",
   "metadata": {},
   "source": [
    "### LOS 19.b: Explain the arbitrage relationship between spot and forward exchange rates and interest rates, calculate a forward rate using points or in percentage terms, and interpret a forward discount or premium.\n",
    "\n",
    "When currencies are freely traded and forward currency contracts exist, the percentage difference between forward and spot exchange rates is approximately equal to the difference between the two countries' interest rates. This is because there is an arbitrage trade with a riskless profit to be made when this relation does not hold.\n",
    "\n",
    "We call this a no-arbitrage condition because if it doesn't hold, there is an opportunity to make a profit without risk. The possible arbitrage is as follows: borrow Currency A at Interest Rate A, convert it to Currency B at the spot rate and invest it to earn Interest Rate B, and sell the proceeds from this investment forward at the forward rate to turn it back into Currency A. If the forward rate does not correctly reflect the difference between interest rates, such an arbitrage could generate a profit to the extent that the return from investing Currency B and converting it back to Currency A with a forward contract is greater than the cost of borrowing Currency A for the period.\n",
    "\n",
    "The no-arbitrage condition requires that \"you cannot earn more than your domestic riskless rate of interest by borrowing your domestic currency, converting it to a foreign currency to invest at the foreign riskless rate, and exchanging back to your domestic currency.\" So:\n",
    "\n",
    "$(1+r_{\\text{domestic}})= \\Large\\frac{1}{\\text{spot}_{\\text{d/f}}}(1+r_{\\text{ foreign}})\\text{ forward}_{\\text{d/f}}$\n",
    "\n",
    "The three terms on the right-hand side are equivalent to units of foreign currency for one unit of the domestic currency, growth if invested at the foreign interest rate, and then exchanged back to domestic currency at the forward rate.\n",
    "\n",
    "Equivalent relationships are as follows:\n",
    "\\\n",
    "\\\n",
    "$\\Large \\frac{\\text{Forward}_{\\text{d/f}}}{\\text{spot}_\\text{d/f}} = \\frac{(1 + r_{\\text{ domestic}})}{(1 + r_\\text{ foreign})}$\n",
    "\\\n",
    "\\\n",
    "$\\quad\\text{Forward}_{\\text{d/f}} =  \\Large\\frac{(1 + r_{\\text{ domestic}})}{(1 + r_\\text{ foreign})} \\small \\text{spot}_\\text{d/f} $\n",
    "\\\n",
    "\\\n",
    "$\\qquad\\text{spt}_{\\text{d/f}} =  \\Large\\frac{(1 + r_{\\text{ domestic}})}{(1 + r_\\text{ foreign})} \\small \\text{forward}_\\text{d/f} $\n"
   ]
  },
  {
   "cell_type": "markdown",
   "id": "7869f21b",
   "metadata": {},
   "source": [
    "#### Example: Calculating the arbitrage-free forward exchange rate\n",
    "\n",
    "Consider two currencies, the ABE and the DUB. The spot `ABE/DUB` exchange rate is `4.5671`, the 1-year riskless `ABE` rate is `5%`, and the 1-year riskless `DUB` rate is `3%`. What is the 1-year no-arbitrage forward exchange rate?\n",
    "\n",
    "#### Answer:\n",
    "\\\n",
    "\\\n",
    "$ \\text{forward}_\\text{A/D} = \\text{spot}_\\text{A/D}$ \n",
    "$\\large\\Bigg(\\frac{1+r_A}{1+r_D} \\Bigg)$\n",
    "\\\n",
    "\\\n",
    "$ \\text{forward}_\\text{A/D} = 4.5671_\\text{A/D}$ \n",
    "$\\large\\Bigg(\\frac{1.05}{1.03} \\Bigg) = \\small 4.6558_\\text{A/D}$\n",
    "\\\n",
    "\\\n",
    "\\\n",
    "Note that the forward rate is greater than the spot rate by `4.6558 / 4.5671 – 1 = 1.94%`. This is approximately equal to the interest rate differential of` 5% – 3% = 2%`. \n",
    "\n",
    "\n",
    "* The currency with the higher interest rate must depreciate over time by approximately the amount of the interest rate differential, to prevent arbitrage.\n",
    "\n",
    "* The country with the *higher* interest rate, $r$, will see its currency *depreciate* (i.e., trade at a forward discount)\n",
    "\n",
    "* The <FONT COLOR=\"#ff0000\">no-arbitrage forward rate</FONT> is driven by the the differences in the two countries' interest rates.\n",
    "\n",
    "* interest rate parity = no arbitrage here\n"
   ]
  },
  {
   "cell_type": "code",
   "execution_count": 58,
   "id": "e0ce72c8",
   "metadata": {},
   "outputs": [
    {
     "name": "stdout",
     "output_type": "stream",
     "text": [
      "4.6558 is the forward rate of ABE/DUB for 1 year\n",
      "Note that the forward rate is greater than the spot rate by 1.94 %\n",
      "Note that the forward rate approximation = 2% > 1.94%, arb oppurtunity?\n",
      "Often there is arbitrage oppurtunity and it's expoited here 0.060 %\n"
     ]
    }
   ],
   "source": [
    "FwdAD1 = round(4.5671 * (1.05/1.03),4)\n",
    "print(FwdAD1, \"is the forward rate of ABE/DUB for 1 year\")\n",
    "\n",
    "spotAD1 = ((4.6558 / 4.5671) - 1)*100\n",
    "print(\"Note that the forward rate is greater than the spot rate by\", round(spotAD1,2),\"%\")\n",
    "print(\"Note that the forward rate approximation = 2% > 1.94%, arb oppurtunity?\")\n",
    "print(\"Often there is arbitrage oppurtunity and it's expoited here 0.060 %\")"
   ]
  },
  {
   "cell_type": "markdown",
   "id": "1c5d14c8",
   "metadata": {},
   "source": [
    "### If we are calculating a 30-, 90-, or 180-day forward exchange rate, we need to use interest rates for 30-, 90-, and 180-day periods rather than annual rates. Note that these shorter-term rates are quoted as money market yields.\n",
    "\n"
   ]
  },
  {
   "cell_type": "markdown",
   "id": "4ae10b6e",
   "metadata": {},
   "source": [
    "#### Example: Calculating the arbitrage-free forward exchange rate with 90-day interest rates\n",
    "\n",
    "The spot `ABE/DUB` exchange rate is `4.5671`, the 90-day riskless `ABE` rate is `5%`, and the `90-day` riskless `DUB` rate is `3%`. \n",
    "\n",
    "What is the 90-day forward exchange rate that will prevent arbitrage profits?\n",
    "\n",
    "#### Answer:\n",
    "\n",
    "$\\qquad\\text{no-arbitrage forward} = 4.5671 \\Large \\Biggr[\\frac{1+(0.05\\frac{(90}{360)}}{1+(0.03\\frac{(90}{360)}}\\Biggr]$\n",
    "$= 4.5671 \\Large\\Big(\\frac{1.0125}{1.0075} \\Big)= \\small 4.5898 \\text{  ABE/DUB}$\n"
   ]
  },
  {
   "cell_type": "code",
   "execution_count": 66,
   "id": "df835b57",
   "metadata": {},
   "outputs": [
    {
     "name": "stdout",
     "output_type": "stream",
     "text": [
      "4.5898 is the 90 day forward exchange rate that prevents no arb profits\n"
     ]
    }
   ],
   "source": [
    "#### Example: Calculating the arbitrage-free forward exchange \n",
    "# rate with 90-day interest rates\n",
    "\n",
    "# The spot ABE/DUB exchange rate is 4.5671, \n",
    "# the 90-day riskless ABE rate is 5%, \n",
    "# and the 90-day riskless DUB rate is 3%.\n",
    "\n",
    "\n",
    "# What is the 90-day forward exchange rate that will \n",
    "# prevent arbitrage profits?\n",
    "\n",
    "# Define the spot rate\n",
    "ABEDUB = 4.5671\n",
    "\n",
    "# Change from 1 yr 360 to 90 day adjustment\n",
    "ABEDUBNoarb90 = (1+(.05*(90/360)))/(1+(.03*(90/360))) * ABEDUB \n",
    " \n",
    "print(round(ABEDUBNoarb90,4), \"is the 90 day forward exchange rate that prevents no arb profits\")"
   ]
  },
  {
   "cell_type": "markdown",
   "id": "eb3fbc90",
   "metadata": {},
   "source": [
    "<img src=\"https://github.com/PachaTech/CFA-Level-1/blob/main/Economics/Module%2019/pics/08.png?raw=true\">\n",
    "<img src=\"https://github.com/PachaTech/CFA-Level-1/blob/main/Economics/Module%2019/pics/06.png?raw=true\">\n",
    "<img src=\"https://github.com/PachaTech/CFA-Level-1/blob/main/Economics/Module%2019/pics/07.png?raw=true\">\n"
   ]
  },
  {
   "cell_type": "markdown",
   "id": "d770ac03",
   "metadata": {},
   "source": [
    "#### No-Arbitrage and Interest Rate Parity\n",
    "\n",
    "* if forward rates deviate from **no-arbitrage-condition**, an arbitrage profit may be earned.\n",
    "\n",
    "* Arbitrageurs will pursue this oppurtunity until the no-arbitrage condition is restored.\n",
    "\n",
    "* In some markets, frictions, restrictions, and regulations make arbritrage more diffucult to implement."
   ]
  },
  {
   "cell_type": "markdown",
   "id": "bd14f5bc",
   "metadata": {},
   "source": [
    "* country with the HIGHER interest rate in calc above would depreciate\n",
    "* country with the LOWER interest rate in calc above would appreciate\n",
    "\n",
    "* If forward rates did deviate from our no-arbitrage condition this idea of a carry trade becomes profitable.\n",
    "    * If you could borrow cheaply & convert over to a higher interest rate part of the world\n",
    "    * hold it for a period\n",
    "    * then convert it back\n",
    "    * If you can hang on to that profit that's called <mark style=\"color: green;\">Carry Trade</mark>\n",
    "    * Acdording to no arbitrage that won't hold for long, if did plenty of arbitrageurs would take advantage until any profit that existed was gone.  (No free lunch)"
   ]
  },
  {
   "cell_type": "markdown",
   "id": "44672962",
   "metadata": {},
   "source": [
    "In our previous example, we calculated the no-arbitrage one-year forward ABE/DUB exchange rate as 4.6558. Next, we illustrate the arbitrage profit that could be gained if the forward exchange rate differs from this no-arbitrage rate. Consider a forward rate of 4.6000 so that the depreciation in the ABE is less than that implied by the no-arbitrage relationship. This makes the ABE attractive to a DUB investor who can earn a riskless profit as follows:\n",
    "\n",
    "* Borrow 1,000 DUB for one year at 3% to purchase ABE and get 4,567.1 ABE.\n",
    "* Invest the 4,567.1 ABE at the ABE rate of 5% to have 1.05(4,567.1) = 4,795.45 ABE at the end of one year.\n",
    "* Enter into a currency forward contract to exchange 4,795.45 ABE in one year at the forward rate of 4.6000 ABE/DUB to receive 4,795.45 / 4.6000 = 1,042.49 DUB.\n",
    "\n",
    "The investor has ended the year with a 4.249% return on his 1,000 DUB investment, which is higher than the 3% 1-year DUB interest rate. After repaying the 1,000 DUB loan plus interest (1,030 DUB), the investor has a profit of 1,042.49 – 1,030 = 12.49 DUB with no risk and no initial out-of-pocket investment (i.e., a pure arbitrage profit).\n",
    "\n",
    "Arbitrageurs will pursue this opportunity, buying ABE (driving down the spot ABE/DUB exchange rate) and selling ABE forward (driving up the forward ABE/DUB exchange rate), until the interest rate parity relation is restored and arbitrage profits are no longer available.\n",
    "\n",
    "Note that the no-arbitrage forward exchange rate is approximately proportional to the annual interest rate differential and the time period of the forward contract.\n",
    "\n"
   ]
  },
  {
   "cell_type": "code",
   "execution_count": 89,
   "id": "5b6226f3",
   "metadata": {},
   "outputs": [
    {
     "name": "stdout",
     "output_type": "stream",
     "text": [
      "4795.46\n",
      "profit of the arb is = 1042.49\n"
     ]
    }
   ],
   "source": [
    "### Example 1yr no arb forward ABE/DUB exchange\n",
    "\n",
    "### Borrow 1,000 DUB for one year at 3% to purchase ABE \n",
    "# and get 4,567.1 ABE. Invest the 4,567.1 ABE at the ABE rate of 5% \n",
    "# to have 1.05(4,567.1) = 4,795.45 ABE at the end of one year.\n",
    "# Enter into a currency forward contract to exchange 4,795.45 \n",
    "# ABE in one year at the forward rate of 4.6000 ABE/DUB \n",
    "# to receive 4,795.45 / 4.6000 = 1,042.49 DUB.\n",
    "\n",
    "# Purchase 1000 ABE at 3%\n",
    "borrowDub = round(1.05 * 4567.1,2)\n",
    "print(borrowDub)\n",
    "\n",
    "forwardDub = round(4795.45/4600,5) *1000\n",
    "print(\"profit of the arb is =\",forwardDub)"
   ]
  },
  {
   "cell_type": "markdown",
   "id": "ed011928",
   "metadata": {},
   "source": [
    "#### Calculating a Forward Exchange Rate From a Forward Quote in Points or in Percentage Terms\n",
    "\n",
    "A forward exchange rate quote typically differs from the spot quotation and is expressed in terms of the difference between the spot exchange rate and the forward exchange rate. One way to indicate this is with points. The unit of points is the last decimal place in the spot rate quote. For a spot currency quote to four decimal places, such as 2.3481, each point is 0.0001, or 1/10,000th. A quote of +18.3 points for a 90-day forward exchange rate means that the forward rate is 0.00183 greater than the spot exchange rat"
   ]
  },
  {
   "cell_type": "markdown",
   "id": "fd2430ca",
   "metadata": {},
   "source": [
    "#### Example: Forward exchange rates in points\n",
    "\n",
    "The AUD/EUR spot exchange rate is 0.7313 with the 1-year forward rate quoted at +3.5 points. What is the 1-year forward AUD/EUR exchange rate?\n",
    "\n",
    "#### Answer:\n",
    "\n",
    "The forward exchange rate is $0.7313 + 0.00035 = 0.73165$.\n",
    "\n",
    "#### Example: Forward exchange rates in percentage\n",
    "\n",
    "The AUD/EUR spot exchange rate is 0.731, and the 120-day forward exchange rate is given as –0.062%. What is the 120-day forward AUD/EUR exchange rate?\n",
    "\n",
    "#### Answer:\n",
    "\n",
    "The forward exchange rate is 0.7313 (1 − 0.00062) = 0.7308.\n"
   ]
  },
  {
   "cell_type": "code",
   "execution_count": 18,
   "id": "6648609f",
   "metadata": {},
   "outputs": [
    {
     "name": "stdout",
     "output_type": "stream",
     "text": [
      "- 0.73165 is fwd 1-year \n",
      "- 0.73085 is fwd 120-day \n"
     ]
    }
   ],
   "source": [
    "### The AUD/EUR spot exchange rate is 0.7313 with the \n",
    "### 1-year forward rate quoted at +3.5 points. \n",
    "## What is the 1-year forward AUD/EUR exchange rate?\n",
    "\n",
    "AUDEUR1yr = 0.7313 + 0.00035\n",
    "print(\"-\", round(AUDEUR1yr,5), \"is fwd 1-year \")\n",
    "\n",
    "\n",
    "### The AUD/EUR spot exchange rate is 0.731, \n",
    "### and the 120-day forward exchange rate is given as –0.062%. \n",
    "### What is the 120-day forward AUD/EUR exchange rate?\n",
    "\n",
    "AUDEUR120d = 0.7313 * (1 - 0.00062)\n",
    "print(\"-\", round(AUDEUR120d,5), \"is fwd 120-day \")"
   ]
  },
  {
   "cell_type": "markdown",
   "id": "30bba02e",
   "metadata": {},
   "source": [
    "<img src=\"https://github.com/PachaTech/CFA-Level-1/blob/main/Economics/Module%2019/pics/09.png?raw=true\">\n",
    "<img src=\"https://github.com/PachaTech/CFA-Level-1/blob/main/Economics/Module%2019/pics/10.png?raw=true\">"
   ]
  },
  {
   "cell_type": "markdown",
   "id": "dd3d39e4",
   "metadata": {},
   "source": [
    "While forward rates are typically quoted as forward points, one application where percentage forward quotes are useful is if we are interpreting a forward rate as the expected future spot rate, $\\large s_\\text{t+1}$. We can write our no-arbitrage relation as follows:\n",
    "\\\n",
    "\\\n",
    "$\\Large\\frac{S_t + 1}{S_t} \\small- 1 = \\% \\Delta \\large s_\\text{t+1} \\small = \n",
    "\\Large \\frac{r_\\text{f} - r_d}{1+_\\text{d}}$\n",
    "\\\n",
    "\\\n",
    "Analysis of capital markets suggests that an increase in a country's interest rate will attract foreign investment, which will lead to appreciation of the domestic currency (spot rate decreases). This is opposite to our conclusion from our no-arbitrage forward rate result that higher domestic rates are associated with a depreciation of the domestic currency. Historically, interest rate differences are poor predictors of future spot rates, although they may be unbiased and tend to get the direction of change correct.\n",
    "\n",
    "It's best to think of the no-arbitrage forward rate as simply the forward rate at a point in time that prevents currency arbitrage, rather than the expected future spot rate. Our no-arbitrage relation holds at a point in time and does not address the question of how changes in interest rates affect spot exchange rates over time."
   ]
  },
  {
   "cell_type": "markdown",
   "id": "0e3bb1a2",
   "metadata": {},
   "source": [
    "#### Interpreting a Forward Discount or Premium\n",
    "\n",
    "The **forward discount** or **forward premium** for a currency is calculated relative to the spot exchange rate. The forward discount or premium for the base currency is the percentage difference between the forward price and the spot price.\n",
    "\n",
    "Consider the following spot and forward exchange rates:\n",
    "\n",
    "    USD/EUR spot = $1.312\n",
    "\n",
    "    USD/EUR 90-day forward = $1.320\n",
    "\n",
    "The (90-day) forward premium or discount on the `euro = forward / spot − 1 = 1.320 / 1.312 − 1 = 0.610%`. Because this is positive, it is interpreted as a forward premium on the euro of `0.610%`. Because we have the forward rate for three months, we could annualize the discount simply by multiplying by `4 (= 12 / 3)`.\n",
    "\n",
    "Because the forward quote is greater than the spot quote, it will take more dollars to buy one `euro 90 days` from now, so the euro is expected to appreciate versus the dollar, and the dollar is expected to depreciate relative to the euro.\n",
    "\n",
    "If the forward quote were less than the spot quote, the calculated amount would be negative, and we would interpret that as a forward discount for the euro relative to the U.S. dollar."
   ]
  },
  {
   "cell_type": "code",
   "execution_count": 102,
   "id": "c2163f2e",
   "metadata": {},
   "outputs": [
    {
     "name": "stdout",
     "output_type": "stream",
     "text": [
      "% 0.6098 is fwd 90-day premium or discount on EUR \n",
      "% 2.439 is fwd 360-day premium or discount on EUR \n"
     ]
    }
   ],
   "source": [
    "###  The (90-day) forward premium or discount on the euro\n",
    "fwd90EURdispremium = ((1.320 / 1.312) - 1) * 100\n",
    "print(\"%\", round(fwd90EURdispremium,4), \"is fwd 90-day premium or discount on EUR \")\n",
    "\n",
    "# NOTE: Annualized forward price\n",
    "\n",
    "fwd360EURdispremium = fwd90EURdispremium * 4\n",
    "print(\"%\", round(fwd360EURdispremium,3), \"is fwd 360-day premium or discount on EUR \")\n"
   ]
  },
  {
   "cell_type": "markdown",
   "id": "a3cda4fe",
   "metadata": {},
   "source": [
    "<img src=\"https://github.com/PachaTech/CFA-Level-1/blob/main/Economics/Module%2019/pics/11.png?raw=true\">\n",
    "\n",
    "<img src=\"https://github.com/PachaTech/CFA-Level-1/blob/main/Economics/Module%2019/pics/12.png?raw=true\">\n"
   ]
  },
  {
   "cell_type": "markdown",
   "id": "1dc09b62",
   "metadata": {},
   "source": [
    "<hr>\n",
    "\n",
    "# Reading 19: Key Concepts\n",
    "\n",
    "<hr>\n",
    "\n",
    "### LOS 19.a\n",
    "\n",
    "Given two exchange rate quotes for three different currencies, we can calculate a currency cross rate. If the MXN/USD quote is 12.1 and the USD/EUR quote is 1.42, we can calculate the cross rate of MXN/EUR as 12.1 × 1.42 = 17.18.\n",
    "\n",
    "### LOS 19.b\n",
    "\n",
    "The condition that must be met so that there is no arbitrage opportunity available is as follows:\n",
    "\n",
    "$ \\Large\\frac{\\text{forward}}{\\text{spot}} \\small = \\Large \\frac{\\big(1+i_\\text{price currency}\\big)}{\\big(1+i_\\text{base currency}\\big)}$\n",
    "\\\n",
    "\\\n",
    "So that:\n",
    "\\\n",
    "\\\n",
    "$\\text{forward} = \\text{spot } \\times \\Large \\frac{\\big(1+i_\\text{price currency}\\big)}{\\big(1+i_\\text{base currency}\\big)}  $\n",
    "\\\n",
    "\\\n",
    "If the spot exchange rate for the euro is 1.25 USD/EUR, the euro interest rate is 4% per year, and the dollar interest rate is 3% per year, the no-arbitrage one-year forward rate can be calculated as follows:\n",
    "\n",
    "    1.25 × (1.03 / 1.04) = 1.238 USD/EUR\n",
    "\n",
    "Points in a foreign currency quotation are in units of the last digit of the quotation. For example, a forward quote of +25.3 when the USD/EUR spot exchange rate is 1.4158 means that the forward exchange rate is 1.4158 + 0.00253 = 1.41833 USD/EUR.\n",
    "\n",
    "For a forward exchange rate quote given as a percentage, the percentage (change in the spot rate) is calculated as forward / spot – 1. A forward exchange rate quote of +1.787%, when the spot USD/EUR exchange rate is 1.4158, means that the forward exchange rate is 1.4158 (1 + 0.01787) = 1.4411 USD/EUR.\n",
    "\n",
    "If a forward exchange rate does not correctly reflect the difference between the interest rates for two currencies, an arbitrage opportunity for a riskless profit exists. In this case, borrowing one currency, converting it to the other currency at the spot rate, investing the proceeds for the period, and converting the end-of-period amount back to the borrowed currency at the forward rate will produce more than enough to pay off the initial loan, with the remainder being a riskless profit on the arbitrage transaction.\n",
    "\n",
    "To calculate a forward premium or discount for the base currency, use the following formula:\n",
    "\n",
    "$\\Large \\frac{\\text{forward}}{\\text{spot}} \\small - 1$\n",
    "\n",
    "Forward exchange rates are poor predictors of future exchange rates. Forward exchange rates should be interpreted as simply the no-arbitrage forward rates at a point in time, not as predictors of future spot rates."
   ]
  },
  {
   "cell_type": "code",
   "execution_count": 7,
   "id": "8202c021",
   "metadata": {},
   "outputs": [
    {
     "name": "stdout",
     "output_type": "stream",
     "text": [
      " 0.00067\n"
     ]
    }
   ],
   "source": [
    "# Question 1\n",
    "\n",
    "### Cross rate is (NZD/IDR) derived by (IDR/USD) divided by (NZD/USD) \n",
    "IDRNZD = (1.6000 / 2400)\n",
    "print(\"\", round(IDRNZD,5))"
   ]
  },
  {
   "cell_type": "markdown",
   "id": "3ced9474",
   "metadata": {},
   "source": [
    "<hr>\n",
    "\n",
    "# Module 19 Quiz\n",
    "\n",
    "<hr>\n",
    "\n",
    "**Question 1** \\\n",
    "Today's spot rate for the Indonesian rupiah (IDR) is IDR/USD 2,400.00, and the New Zealand dollar trades at NZD/USD 1.6000. The NZD/IDR cross rate is:\n",
    "\n",
    "\n",
    "\n",
    "**Answer:** \\\n",
    "0.00067.\n",
    "\n",
    "\n",
    "\n",
    "**Explanation:** \\\n",
    "Start with one NZD and exchange for 1 / 1.6 = 0.625 USD. Exchange the USD for 0.625 × 2,400 = 1,500 IDR. We get a cross rate of 1,500 IDR/NZD, or 1 / 1,500 = 0.00067 NZD/IDR.\n",
    "\\\n",
    "\\\n",
    "(Module 19.1, LOS 19.a)\n",
    "\n",
    "<hr>\n",
    "\n",
    "**Question 2** \\\n",
    "The New Zealand dollar (NZD) is trading at USD/NZD 0.3500, and the Swedish krona (SEK) is trading at NZD/SEK 0.3100. The USD/SEK cross rate is:\n",
    "\n",
    "\n",
    "**Answer:** \\\n",
    "0.1085.\n",
    "\n",
    "\n",
    "**Explanation:** \\\n",
    "USD/NZD 0.3500 × NZD/SEK 0.3100 = USD/SEK 0.1085. Notice that the NZD term cancels in the multiplication. (Module 19.1, LOS 19.a)\n",
    "\\\n",
    "\\\n",
    "(Module 19.1, LOS 19.a)\n",
    "\n",
    "<hr>\n",
    "\n",
    "**Question 3** \\\n",
    "The spot Swiss franc / British pound (CHF/GBP) exchange rate is 1.3050. In the 180-day forward market, the CHF/GBP exchange rate is –42.5 points. The 180-day forward CHF/GBP exchange rate is closest to:\n",
    "\n",
    "\n",
    "\n",
    "**Answer:** \\\n",
    "1.3008.\n",
    "\n",
    "\n",
    "**Explanation:** \\\n",
    "The 180-day forward exchange rate is 1.3050 – 0.00425 = CHF/GBP 1.30075.\n",
    "\\\n",
    "\\\n",
    "(Module 19.1, LOS 19.b)\n",
    "\n",
    "<hr>\n",
    "\n",
    "**Question 4** \\\n",
    "The spot rate on the New Zealand dollar (NZD) is NZD/USD 1.4286, and the 180-day forward rate is NZD/USD 1.3889. This difference means:\n",
    "\n",
    "\n",
    "**Answer:** \\\n",
    "interest rates are higher in the United States than in New Zealand.\n",
    "\n",
    "\n",
    "**Explanation:** \\\n",
    "Interest rates are higher in the United States than in New Zealand. It takes fewer NZD to buy one USD in the forward market than in the spot market.\n",
    "\\\n",
    "\\\n",
    "(Module 19.1, LOS 19.b)\n",
    "\n",
    "\n",
    "<hr>\n",
    "\n",
    "**Question 5** \\\n",
    "The current spot rate for the British pound (GBP) in terms of U.S. dollars is \\\\$1.533 and the 180-day forward rate is \\\\$1.508. Relative to the pound, the dollar is trading *closest* to a 180-day forward:\n",
    "\n",
    "\n",
    "\n",
    "**Answer:** \\\n",
    "premium of 1.66%.\n",
    "\n",
    "\n",
    "**Explanation:** \\\n",
    "To calculate a percentage forward premium or discount for the U.S. dollar, we use the dollar to be the base currency. The spot and forward quotes given are U.S. dollars per British pound (USD/GBP), so we must invert them to GBP/USD. The spot GBP/USD price is `1 / 1.533 = 0.6523` and the forward GBP/USD price is `1 / 1.508 = 0.6631`. Because the forward price is greater than the spot price, we say the dollar is at a forward premium of `0.6631 / 0.6523 – 1 = 1.66%`. Alternatively, we can calculate this premium with the given quotes as spot / forward – 1 to get `1.533 / 1.508 – 1 = 1.66%`.\n",
    "\\\n",
    "\\\n",
    "(Module 19.1, LOS 19.a)\n",
    "\n",
    "\n",
    "<hr>\n",
    "\n",
    "**Question 6** \\\n",
    "The annual interest rates in the United States (USD) and Sweden (SEK) are 4% and 7% per year, respectively. If the current spot rate is SEK/USD 9.5238, then the 1-year forward rate in SEK/USD is:\n",
    "\n",
    "\n",
    "\n",
    "**Answer:** \\\n",
    "9.7985.\n",
    "\n",
    "\n",
    "**Explanation:** \\\n",
    "The forward rate in SEK/USD is $9.5238 \\times \\Big(\\Large\\frac{1.07}{1.04} \\Big) \\small =9.7985$. Because the SEK interest rate is the higher of the two, the SEK must depreciate approximately 3%. \\\n",
    "\\\n",
    "(Module 19.1, LOS 19.b)\n",
    "\n",
    "<hr>\n",
    "\n",
    "**Question 7** \\\n",
    "The annual risk-free interest rate is 10% in the United States (USD) and 4% in Switzerland (CHF), and the 1-year forward rate is USD/CHF 0.80. Today's USD/CHF spot rate is closest to:\n",
    "\n",
    "\n",
    "\n",
    "**Answer:** \\\n",
    "0.7564.\n",
    "\n",
    "\n",
    "**Explanation:** \\\n",
    "We can solve for the spot rate as follows. With the exchange rates quoted as USD/CHF, the spot is\n",
    "$0.80 \\times \\Big(\\Large\\frac{1.04}{1.10} \\Big) \\small = 0.7564$ Because the interest rate is higher in the United States, it should take fewer USD to buy CHF in the spot market. In other words, the USD must be at a forward discount relative to the CHF.\n",
    "\\\n",
    "\\\n",
    "(Module 19.1, LOS 19.b)\n",
    "\n",
    "<hr>"
   ]
  },
  {
   "cell_type": "markdown",
   "id": "be964a62",
   "metadata": {},
   "source": [
    "<hr>\n",
    "\n",
    "# Module 19 QBANK\n",
    "\n",
    "<hr>\n",
    "\n",
    "**Question 1** \\\n",
    "The spot exchange rate is 0.6243 USD/GBP and the 1-year forward rate is quoted as 3.016%. The 1-year forward exchange rate for USD/GBP is closest to:\n",
    "\n",
    "\n",
    "\n",
    "**Answer:** \\\n",
    "0.6431.\n",
    "\n",
    "\n",
    "\n",
    "**Explanation:** \\\n",
    "The one year forward rate is 0.6243 × (1 + 0.03016) = 0.6431.\n",
    "\n",
    "\\\n",
    "\\\n",
    "(Module 19.1, LOS 19.b)\n",
    "<img src=\"https://github.com/PachaTech/CFA-Level-1/blob/main/Economics/Module%2019/pics/Qbank1.png?raw=true\">\n",
    "\n",
    "<hr>\n",
    "\n",
    "**Question 2** \\\n",
    "If the spot exchange rate between the British pound and the U.S. dollar is GBP/USD 0.7775, and the spot exchange rate between the Canadian dollar and the British pound is CAD/GBP 1.8325, what is the USD/CAD spot cross exchange rate?\n",
    "\n",
    "\n",
    "\n",
    "\n",
    "**Answer:** \\\n",
    "0.70186.\n",
    "\n",
    "\n",
    "\n",
    "**Explanation:** \\\n",
    "    \n",
    "    First, convert GBP/USD 0.7775 to 1/0.7775 = USD/GBP 1.28617.\n",
    "\n",
    "    Then, divide USD/GBP 1.28617 by CAD/GBP 1.8325 = USD/CAD 0.70187.\n",
    "\\\n",
    "\\\n",
    "(Module 19.1, LOS 19.a)\n",
    "\n",
    "\n",
    "<hr>\n",
    "\n",
    "**Question 3** \\\n",
    "The Japanese yen is trading at JPY/USD 115.2200 and the Danish krone (DKK) is trading at JPY/DKK 16.4989. The USD/DKK exchange rate is:\n",
    "\n",
    "\n",
    "\n",
    "\n",
    "**Answer:** \\\n",
    "0.1432.\n",
    "\n",
    "\n",
    "\n",
    "**Explanation:** \\\n",
    "The cross rate between USD and DKK is calculated in the following manner:\n",
    "\n",
    "    (USD/JPY)(JPY/DKK) = (1 / 115.2200) × 16.4989 = USD/DKK 0.1432 (the Yen cancels out)\n",
    "\n",
    "\\\n",
    "\\\n",
    "(Module 19.1, LOS 19.a)\n",
    "\n",
    "<hr>\n",
    "\n",
    "**Question 4** \\\n",
    "Spot and one-month forward exchange rates are as follows:\n",
    "\n",
    "<table>\n",
    "<thead>\n",
    "  <tr>\n",
    "    <th></th>\n",
    "    <th>Spot</th>\n",
    "    <th>1-month forward</th>\n",
    "  </tr>\n",
    "</thead>\n",
    "<tbody>\n",
    "  <tr>\n",
    "    <td>EUR/DEF</td>\n",
    "    <td>2.5675</td>\n",
    "    <td>2.5925</td>\n",
    "  </tr>\n",
    "  <tr>\n",
    "    <td>EUR/GHI</td>\n",
    "    <td>4.3250</td>\n",
    "    <td>4.2800</td>\n",
    "  </tr>\n",
    "  <tr>\n",
    "    <td>EUR/JKL</td>\n",
    "    <td>7.0625</td>\n",
    "    <td>7.0075</td>\n",
    "  </tr>\n",
    "</tbody>\n",
    "</table>\n",
    "\n",
    "Based on these exchange rates, the EUR is closest to a 1-month forward:\n",
    "\n",
    "\n",
    "\n",
    "**Answer:** \\\n",
    "premium of 1% to the GHI.\n",
    "\n",
    "\n",
    "\n",
    "**Explanation:** \\\n",
    "The EUR is at a forward premium to the GHI because the EUR/GHI forward rate is less than the EUR/GHI spot rate. The base currency, GHI, is at a forward discount of forward/spot – 1 = 4.2800 / 4.3250 – 1 = –1.04%. The EUR is at a forward discount to the DEF and a forward premium to the JKL.\n",
    "\\\n",
    "\\\n",
    "(Module 19.1, LOS 19.b)\n",
    "<img src=\"https://github.com/PachaTech/CFA-Level-1/blob/main/Economics/Module%2019/pics/Qbank4.png?raw=true\">"
   ]
  }
 ],
 "metadata": {
  "kernelspec": {
   "display_name": "Python 3 (ipykernel)",
   "language": "python",
   "name": "python3"
  },
  "language_info": {
   "codemirror_mode": {
    "name": "ipython",
    "version": 3
   },
   "file_extension": ".py",
   "mimetype": "text/x-python",
   "name": "python",
   "nbconvert_exporter": "python",
   "pygments_lexer": "ipython3",
   "version": "3.11.5"
  }
 },
 "nbformat": 4,
 "nbformat_minor": 5
}
