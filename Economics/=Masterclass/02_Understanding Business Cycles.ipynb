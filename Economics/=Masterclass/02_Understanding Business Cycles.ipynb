{
 "cells": [
  {
   "cell_type": "markdown",
   "id": "de27a0bb-e1c1-4eaa-8d87-f1348cae6dde",
   "metadata": {},
   "source": [
    "<hr>\n",
    "\n",
    "# Masterclass 02: Economics\n",
    "\n",
    "## Understanding Business Cycles\n",
    "\n",
    "<hr>"
   ]
  },
  {
   "cell_type": "markdown",
   "id": "a8f1be5c-afdb-4f80-ad23-5ec9c1456692",
   "metadata": {},
   "source": [
    "## Exam Focus\n",
    "* Overview of business cycles\n",
    "* Credit cycles\n",
    "* Economic indicators\n",
    "\n"
   ]
  },
  {
   "cell_type": "code",
   "execution_count": null,
   "id": "9fdfb7c4-e45f-402f-ae5a-9f8752351901",
   "metadata": {},
   "outputs": [],
   "source": []
  }
 ],
 "metadata": {
  "kernelspec": {
   "display_name": "Python 3 (ipykernel)",
   "language": "python",
   "name": "python3"
  },
  "language_info": {
   "codemirror_mode": {
    "name": "ipython",
    "version": 3
   },
   "file_extension": ".py",
   "mimetype": "text/x-python",
   "name": "python",
   "nbconvert_exporter": "python",
   "pygments_lexer": "ipython3",
   "version": "3.11.8"
  }
 },
 "nbformat": 4,
 "nbformat_minor": 5
}
