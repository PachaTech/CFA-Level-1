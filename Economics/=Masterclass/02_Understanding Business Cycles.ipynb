{
 "cells": [
  {
   "cell_type": "markdown",
   "id": "de27a0bb-e1c1-4eaa-8d87-f1348cae6dde",
   "metadata": {},
   "source": [
    "<hr>\n",
    "\n",
    "# Masterclass 02: Economics\n",
    "\n",
    "## Understanding Business Cycles\n",
    "\n",
    "<hr>"
   ]
  },
  {
   "cell_type": "markdown",
   "id": "a8f1be5c-afdb-4f80-ad23-5ec9c1456692",
   "metadata": {},
   "source": [
    "### Exam Focus\n",
    "* Overview of business cycles\n",
    "* Credit cycles\n",
    "* Economic indicators"
   ]
  },
  {
   "cell_type": "markdown",
   "id": "d3efdc59-9e99-440f-bcb2-d9b7f3feff67",
   "metadata": {},
   "source": [
    "### Business Cycle Overview\n",
    "*Business cycles* refer to repeating expansions and contractions in economic activity:\n",
    "\n",
    "* Classical cycle: fluctuations measured in GDP terms (volume)\n",
    "* Growth cycle: fluctuations around a long-term trend growth level (examines gap between <u>actual</u> and trend GDP)\n",
    "    * oscilations relative to some sort of GDP trend.\n",
    "    * <FONT COLOR=\"#ff0000\">Potential GDP = full employment</font>\n",
    "* Growth rate cycle: fluctuations in the growth rate of economic activity\n"
   ]
  },
  {
   "cell_type": "markdown",
   "id": "055c77b4-52f4-4f62-adfb-97c23456f692",
   "metadata": {},
   "source": [
    "### Phases of the Business Cycle\n",
    "\n",
    "#### Four phases of the cycle\n",
    "1. recovery\n",
    "2. expansion\n",
    "3. slowdown\n",
    "4. contraction\n",
    "\n",
    "<img src=\"https://github.com/PachaTech/CFA-Level-1/blob/main/Economics/=Masterclass/-pics/M2/01.png?raw=true\">"
   ]
  },
  {
   "cell_type": "markdown",
   "id": "2936d7e4-5526-4c45-a3f4-1e25655eab17",
   "metadata": {},
   "source": [
    "### Credit Cycles\n",
    "* *Credit cycles* refer to <u>availability</u> and <u>price of credit</u>\n",
    "    * Availability of manna (*liquidity*)\n",
    "* Strong economy leads to credit expansion and may lead to <u>asset bubbles</u>\n",
    "* Extreme peaks in credit cycles may be followed by <u>systemic banking crises</u>\n",
    "* Weak economy leads to <u>credit contraction</u> and declining asset prices\n",
    "    * lenders getting nervous\n",
    "    * people losing their jobs\n",
    "    * cashflows are weakened.\n",
    "    * lenders lend less, credit is tight.\n",
    "* Investors can use the stage in the credit cycle to predict severity of recession"
   ]
  },
  {
   "cell_type": "markdown",
   "id": "d8327a88-0fdb-4c1e-9cbf-49ede904bebd",
   "metadata": {},
   "source": [
    "### Economic Indicators\n",
    "*Where are we in the state of the economy?*\n",
    "\n",
    "* **Leading:** stock market, house prices, retail sales, interest spread, expectations\n",
    "    * ahead of the event or turning point these give me indications.  Stock market 6-18 months ahead\n",
    "* **Coincident:** industrial production, personal incomes, manufacturing sales\n",
    "    * Coincides with the turning point of the economy \n",
    "* **Lagging**: duration of unemployment, inventory-sales ratio, inflation, etc.\n",
    "    * a very slow indicator, happens after the fact.  Not predictive, but it is confirmative.  \n",
    "* A <b><FONT COLOR=\"#ff0000\">diffusion index</font></b> combines these indicators and measures the extent to which they move in the same direction.\n",
    "    * creates a composite of leading, coincident, and lagging indicators and what it does is it measures the proportion of items in the composite index that are moving in the same direction.\n",
    "    * Essentially a diffusion index is going to be measuring the breadth or the strength of a particular economic movement."
   ]
  },
  {
   "cell_type": "markdown",
   "id": "db38ac44-ed49-4af7-8a4b-7e7b1bb88a4b",
   "metadata": {},
   "source": [
    "#### Economic Indicator: Example\n",
    "Inventories tend to <u>rise</u> when:\n",
    "\n",
    "<font color=\"green\">A. inventory-sales ratios are low.</font>\n",
    "\n",
    "<s>B. inventory-sales ratios are high.</s>  -- you have tons of inventory and no one is buying \n",
    "\n",
    "<s>C. economic activity begins to rebound.</s>  --  rate of sales will pick up and will outweigh rate of purchase of new inventory.  *inventories will drop, sales will start rising* leading to drop in the inventory-sales ratio\n",
    "\n",
    "$\\Large\\frac{\\text{inventory } \\downarrow}{\\text{sales } \\uparrow}$"
   ]
  },
  {
   "cell_type": "markdown",
   "id": "f083a6f3-b6ab-4892-9130-4dd4af47dade",
   "metadata": {},
   "source": [
    "#### Diffusion Index: Example\n",
    "\n",
    "A diffusion index:\n",
    "\n",
    "<s>A. measures growth.</s>\n",
    "\n",
    "<font color=\"green\">B. reflects the <u>consensus</u> change in economic indicators.</font>\n",
    "\n",
    "<s>C. is roughly analogous to the indices used to measure industrial production.</s>\n",
    "\n"
   ]
  }
 ],
 "metadata": {
  "kernelspec": {
   "display_name": "Python 3 (ipykernel)",
   "language": "python",
   "name": "python3"
  },
  "language_info": {
   "codemirror_mode": {
    "name": "ipython",
    "version": 3
   },
   "file_extension": ".py",
   "mimetype": "text/x-python",
   "name": "python",
   "nbconvert_exporter": "python",
   "pygments_lexer": "ipython3",
   "version": "3.11.8"
  }
 },
 "nbformat": 4,
 "nbformat_minor": 5
}
