{
 "cells": [
  {
   "cell_type": "markdown",
   "id": "7ce30791",
   "metadata": {},
   "source": [
    "<hr>\n",
    "\n",
    "# Module 18.1 - The Foreign Exchange Market\n",
    "\n",
    "<hr>"
   ]
  },
  {
   "cell_type": "markdown",
   "id": "5cc53b9b",
   "metadata": {},
   "source": [
    "### LOS 18.a: Describe the foreign exchange market, including its functions and participants, distinguish between nominal and real exchange rates, and calculate and interpret the percentage change in a currency relative to another currency.\n",
    "\n",
    "Foreign currency markets serve companies and individuals that purchase or sell foreign goods and services denominated in foreign currencies. An even larger market, however, exists for capital flows. Foreign currencies are needed to purchase foreign physical assets as well as foreign financial securities.\n",
    "\n",
    "Many companies have foreign exchange risk arising from their cross-border transactions. A Japanese company that expects to receive 10 million euros when a transaction is completed in 90 days has yen/euro exchange rate risk as a result. By entering into a **forward currency contract** to sell 10 million euros in 90 days for a specific quantity of yen, the firm can reduce or eliminate the foreign exchange risk associated with the transaction. When a firm takes a position in the foreign exchange market to reduce an existing risk, we say the firm is **hedging** its risk.\n",
    "\n",
    "Alternatively, when a transaction in the foreign exchange markets increases currency risk, we describe the transaction or position as **speculating**. Investors, companies, and financial institutions, such as banks and investment funds, all regularly enter into speculative foreign currency transactions.\n",
    "\n",
    "The primary dealers in foreign exchange (FX) and originators of forward FX contracts are large multinational banks. This part of the FX market is often called the **sell side**. On the other hand, the **buy side** consists of the many buyers of foreign currencies and forward FX contracts. These buyers include the following:\n",
    "\n",
    "* *Corporations* regularly engage in cross-border transactions, purchase and sell foreign currencies as a result, and enter into FX forward contracts to hedge the risk of expected future receipts and payments denominated in foreign currencies.\n",
    "\n",
    "\n",
    "* *Investment accounts* of many types transact in foreign currencies, hold foreign securities, and may both speculate and hedge with currency derivatives. **Real money accounts** refer to mutual funds, pension funds, insurance companies, and other institutional accounts that do not use derivatives. **Leveraged accounts** refer to the various types of investment firms that use derivatives, including hedge funds, firms that trade for their own accounts, and other trading firms of various types.\n",
    "\n",
    "* *Governments and government entities*, including sovereign wealth funds and pension funds, acquire foreign exchange for transactional needs, investment, or speculation. Central banks sometimes engage in FX transactions to affect exchange rates in the short term in accordance with government policy.\n",
    "\n",
    "* The **retail FX market** refers to FX transactions by households and relatively small institutions, and it may be for tourism, cross-border investment, or speculative trading. "
   ]
  },
  {
   "cell_type": "markdown",
   "id": "67e953f8",
   "metadata": {},
   "source": [
    "#### Types of Exchange Rates\n",
    "\n",
    "An **exchange rate** is simply the price or cost of units of one currency in terms of another. In this book we state exchange rates in the form 1.416 USD/EUR, to mean that each euro costs \\\\$1.416. If you read the \"/\" as per, you will have no trouble with the notation. We say the exchange rate is \\\\$1.416 per euro.\n",
    "\n"
   ]
  },
  {
   "cell_type": "markdown",
   "id": "32240558",
   "metadata": {},
   "source": [
    ">**Professor's Note**\n",
    "\\\n",
    "This is the way exchange rates are quoted in the Level I CFA curriculum. Foreign exchange traders typically use the inverse (an indirect quotation)."
   ]
  },
  {
   "cell_type": "markdown",
   "id": "7c33a77e",
   "metadata": {},
   "source": [
    "In a foreign currency quotation, we have the price of one currency in units of another currency. These are often referred to as the **base currency** and the **price currency**. In the quotation 1.25 USD/EUR, the USD is the price currency and the EUR is the base currency. The price of one euro (base currency) is 1.25 USD (the price currency), so 1.25 is the price of one unit of the base currency in terms of the other. It may help to remember that the euro, in this example, is in the bottom or \"base\" of the exchange rate given in terms of USD/EUR.\n",
    "\n",
    "An exchange rate expressed as price currency/base currency is referred to as a **direct quote** from the point of view of an investor in the price currency country and an **indirect quote** from the point of view of an investor in the base currency country. For example, a quote of 1.17 USD/EUR would be a direct quote for a USD-based investor and an indirect quote for a EUR-based investor. Conversely, a quote of 1 / 1.17 = 0.855 EUR/USD would be a direct quote for a EUR-based investor and an indirect quote for a USD-based investor.\n",
    "\n",
    "The exchange rate at a point in time is referred to as a **nominal exchange rate**. If this rate (price/base) increases, the cost of a unit of the base currency in terms of the price currency has increased, so that the purchasing power of the price currency has decreased. If the USD/EUR exchange rate increases from 1.10 to 1.15, the cost of 100 euros increases from $110 to $115. The purchasing power of the dollar has decreased relative to the euro because the cost of 100 euros' worth of goods to a consumer in the United States has increased over the period.\n",
    "\n",
    "The purchasing power of one currency relative to another is also affected by changes in the price levels of the two countries. The **real exchange rate** between two currencies refers to the purchasing power of one currency in terms of the amount of goods priced in another currency, relative to an earlier (base) period.\n",
    "\n",
    "Consider a situation in which the nominal USD/EUR exchange rate is unchanged at 1.00 over a period and the price level in the United States is unchanged, while prices in the Eurozone have increased by 5%. Eurozone goods that cost 100 euros at the beginning of the period cost 105 euros at the end of the period. With the nominal exchange rate unchanged, the purchasing power of the USD in the Eurozone has decreased, because exchanging 100 USD for 100 EUR will now buy only `100 / 105 = 95.2%` of the goods 100 EUR could buy at the beginning of the period.\n",
    "\n",
    "Here is a summary:\n",
    "\n",
    "* An increase in the *nominal* USD/EUR rate decreases the purchasing power of the USD in the Eurozone (and increases the purchasing power of the EUR in the United States); the real USD/EUR exchange rate has increased.\n",
    "\n",
    "* A decrease in the *nominal* USD/EUR rate increases the purchasing power of the USD in the Eurozone (and decreases the purchasing power of the EUR in the United States); the real USD/EUR exchange rate has decreased.\n",
    "\n",
    "* An increase in the Eurozone price level, relative to the price level in the United States, will increase the *real* USD/EUR exchange rate, decreasing the purchasing power of the USD in the Eurozone (and increasing the purchasing power of the EUR in the United States).\n",
    "\n",
    "* A decrease in the Eurozone price level, relative to the price level in the United States, will decrease the *real* USD/EUR exchange rate, increasing the purchasing power of the USD in the Eurozone (and decreasing the purchasing power of the EUR in the United States).\n",
    "\n",
    "\n",
    "The end-of-period real P/B exchange rate can be calculated as follows:\n",
    "\n",
    "$\n",
    "\\qquad\\text{real P/B exchange rate = nominal P/B exchange rate  } × \\Biggr(\\frac{\\large\\text{CPI_{base currency}}}{\\large\\text{CP_{price currency}}}\\Biggr)$\n",
    "\\\n",
    "\\\n",
    "\\\n",
    "where the CPI values are relative to base period values of 100.\n",
    "\n",
    "We can see from the formula the following:\n",
    "\n",
    "* An increase (decrease) in the nominal exchange rate over the period increases (decreases) the end-of period real exchange rate, and the purchasing power of the price currency decreases (increases).\n",
    "\n",
    "* An increase in the price level in the price currency country relative to the price level in the base currency country will decrease the real exchange rate, increasing the purchasing power of the price currency in terms of base country goods.\n",
    "\n",
    "* Conversely, a decrease in the price level in the price currency country relative to the price level in the base currency country will increase the real exchange rate, decreasing the purchasing power of the price currency in terms of base country goods.\n",
    "\n",
    "In the following example, we calculate the end-of-period real \\\\$/£ exchange rate when the nominal \\\\$/£ exchange rate has decreased over the period (which tends to decrease the real exchange rate and increase the purchasing power of the price currency)—and when the price level in the United Kingdom has increased by more than the price level in the United States over the period (which tends to increase the real exchange rate and decrease the purchasing power of the price currency). The relative increase in U.K. prices has reduced the effects of the decrease in the nominal exchange rate on the increase in the purchasing power of the USD.\n",
    "\n"
   ]
  },
  {
   "cell_type": "markdown",
   "id": "c3252aab",
   "metadata": {},
   "source": [
    "#### Example: Real exchange rate\n",
    "\n",
    "At a base period, the CPIs of the United States and United Kingdom are both 100, and the exchange rate is $1.70/£. Three years later, the exchange rate is $1.60/£, and the CPI has risen to 110 in the United States and 112 in the United Kingdom. What is the real exchange rate at the end of the three-year period?\n",
    "\n",
    "#### Answer:\n",
    "\n",
    "The real exchange rate is \\\\$1.60 / £ × 112 / 110 = \\\\$1.629 / £, which means that U.S. goods and services that cost \\\\$1.70 at the base period now cost only \\\\$1.629 (in real terms) if purchased in the United Kingdom and the real exchange rate,\\\\$/£, has fallen. The decrease in the real exchange rate (and the increase in the purchasing power of the USD in terms of U.K. goods) over the period is less than it would have been if the relative prices between the two countries had not changed.\n",
    "\n"
   ]
  },
  {
   "cell_type": "markdown",
   "id": "300eecfd",
   "metadata": {},
   "source": [
    "A **spot exchange rate** is the currency exchange rate for immediate delivery, which for most currencies means the exchange of currencies takes place two days after the trade.\n",
    "\n",
    "A **forward exchange rate** is a currency exchange rate for an exchange to be done in the future. Forward rates are quoted for various future dates (e.g., 30 days, 60 days, 90 days, or one year). A forward is actually an agreement to exchange a specific amount of one currency for a specific amount of another on a future date specified in the forward agreement.\n",
    "\n",
    "A French firm that will receive 10 million GBP from a British firm six months from now has uncertainty about the amount of euros that payment will be equivalent to six months from now. By entering into a forward agreement covering 10 million GBP at the 6-month forward rate of 1.192 EUR/GBP, the French firm has agreed to exchange 10 million GBP for 11.92 million euros in six months.\n",
    "\n",
    "#### Calculating the Percentage Change in the FX Value of a Currency\n",
    "\n",
    "Consider a USD/EUR exchange rate that has changed from `1.42` to `1.39` USD/EUR. The percentage change in the dollar price of a euro is simply `1.39 / 1.42 – 1 = –0.0211 = –2.11%`. Because the dollar price of a euro has fallen, the euro has *depreciated* relative to the dollar, and a euro now buys `2.11%` fewer U.S. dollars. It is correct to say that the euro has depreciated by `2.11%` relative to the dollar.\n",
    "\n",
    "On the other hand, it is *not* correct to say that the dollar has appreciated by 2.11%. To calculate the percentage appreciation of the dollar, we need to convert the quotes to EUR/USD. So, our beginning quote of `1.42 USD/EUR` becomes `1 / 1.42 = 0.7042 EUR/USD`, and our ending quote of `1.39 USD/EUR` becomes `1 / 1.39 = 0.7194 EUR/USD`. Using these exchange rates, we can calculate the change in the euro price of a dollar as `0.7194 / 0.7042 – 1 = 0.0216 = 2.16%`. In this case, it is correct to say that the dollar has appreciated `2.16%` with respect to the euro. Note that for the given exchange rate quotes, the percentage appreciation of the dollar is not the same as the percentage depreciation in the euro.\n",
    "\n"
   ]
  },
  {
   "cell_type": "code",
   "execution_count": 14,
   "id": "65fa4719",
   "metadata": {},
   "outputs": [
    {
     "name": "stdout",
     "output_type": "stream",
     "text": [
      "-2.1126760563380254\n",
      "0.7042253521126761\n",
      "0.7194244604316548\n",
      "2.1584777051973925\n"
     ]
    }
   ],
   "source": [
    "print(((1.39 / 1.42) - 1) *100)\n",
    "print(1/1.42)\n",
    "print(1/1.39)\n",
    "print(((0.7194 / 0.7042) - 1)*100)"
   ]
  },
  {
   "cell_type": "code",
   "execution_count": null,
   "id": "e412696b",
   "metadata": {},
   "outputs": [],
   "source": []
  }
 ],
 "metadata": {
  "kernelspec": {
   "display_name": "Python 3 (ipykernel)",
   "language": "python",
   "name": "python3"
  },
  "language_info": {
   "codemirror_mode": {
    "name": "ipython",
    "version": 3
   },
   "file_extension": ".py",
   "mimetype": "text/x-python",
   "name": "python",
   "nbconvert_exporter": "python",
   "pygments_lexer": "ipython3",
   "version": "3.11.5"
  }
 },
 "nbformat": 4,
 "nbformat_minor": 5
}
