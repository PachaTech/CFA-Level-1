{
 "cells": [
  {
   "cell_type": "markdown",
   "id": "3b21730e",
   "metadata": {},
   "source": [
    "<hr>\n",
    "\n",
    "# Module 77.1 Study - Binomial Model for Option Values\n",
    "\n",
    "<hr>"
   ]
  },
  {
   "cell_type": "code",
   "execution_count": null,
   "id": "df98aff7",
   "metadata": {},
   "outputs": [],
   "source": []
  },
  {
   "cell_type": "markdown",
   "id": "0421ecaf",
   "metadata": {},
   "source": [
    "### LOS 77.a: Explain how to value a derivative using a one-period binomial model.\n",
    "\n",
    "Recall from <u>Quantitative Methods</u> that a **binomial model** is based on the idea that, over the next period, some value will change to one of two possible values (binomial). To construct a one-period binomial model for pricing an option, we need:\n",
    "\n",
    "* A value for the underlying at the beginning of the period.\n",
    "* An exercise price for the option. The exercise price can be different from the value of the underlying. We assume the option expires one period from now.\n",
    "* Returns that will result from an up-move and a down-move in the value of the underlying over one period.\n",
    "* The risk-free rate over the period.\n",
    "\n",
    "For now we do not need to consider the probabilities of an up-move or a down-move. Later in this reading we will examine one-period binomial models with risk-neutral probabilities.\n",
    "\n",
    "As an example, we can model a call option with an exercise price of €55 on a stock that is currently valued $(S_0)$ at €50. Let us assume that in one period the stock's value will either increase $(S^u_1)$ to €60 or decrease $(S^d_1)$ to €42. We state the return from an up-move $(R^u)$ as €60/€50 = 1.20, and the return from a down-move $(R^d)$ as €42/€50 = 0.84."
   ]
  },
  {
   "cell_type": "markdown",
   "id": "f0034793",
   "metadata": {},
   "source": [
    "*One-Period Binomial Tree*\n",
    "\n",
    "# < img =src\"\">"
   ]
  },
  {
   "cell_type": "markdown",
   "id": "5a9f8436",
   "metadata": {},
   "source": [
    "The call option will be in the money after an up-move or out of the money after a down-move. Its value at expiration after an up-move, $c^u_1$, is $\\text{Max}(0, €60 – €55) = €5$. Its value after a down-move, $c^d_1$, is $\\text{Max}(0, €42 – €55) = 0$.\n",
    "\n",
    "Now we can use no-arbitrage pricing to determine the initial value of the call option $(c_0)$. We do this by creating a portfolio of the option and the underlying stock, such that the portfolio will have the same value following either an up-move ($V^u_1$) or a down-move ($V^d_1$) in the stock. For our example, we would write the call option and buy a number of shares of the stock that we will denote as $h$. We must solve for the $h$ that results in $V^u_1= V^d_1$.\n",
    "\n",
    "* The initial value of our portfolio, $V_0$, is $hS_0 – c_0$ (remember we are <u>short the call option<u/>).\n",
    "* The portfolio value after an up-move, $V^u_1$, is $hS^u_1 –c^u_1$ .\n",
    "* The portfolio value after a down-move, $V^d_1$, is $hS^d_1 – c^d_1$."
   ]
  },
  {
   "cell_type": "markdown",
   "id": "59d861d6",
   "metadata": {},
   "source": [
    "In our example, $\\large V^u_1= h(€60) – €5$, and $\\large V^d_1= h(€42) – 0$. Setting $\\large V^u_1=V^d_1$ and solving for $h$, we get:\n",
    "\\\n",
    "\\\n",
    "$\\large\\qquad h(€60) – £5 = h(€42)$\n",
    "\\\n",
    "\\\n",
    "\\\n",
    "$\\large\\qquad h(€60) – h(€42) = €5$\n",
    "\\\n",
    "\\\n",
    "\\\n",
    "$\\large\\qquad h = \\Large\\frac{€5}{(€60 – €42)} \\small = 0.278$"
   ]
  },
  {
   "cell_type": "code",
   "execution_count": 14,
   "id": "e50d6a29",
   "metadata": {},
   "outputs": [
    {
     "name": "stdout",
     "output_type": "stream",
     "text": [
      "0.278\n"
     ]
    }
   ],
   "source": [
    "h = 5/(60-42)\n",
    "print(round(h,3))"
   ]
  },
  {
   "cell_type": "markdown",
   "id": "bcba5f4b",
   "metadata": {},
   "source": [
    "This result, the number of shares of the underlying we would buy for each call option we would write, is known as the **hedge ratio** for this option.\n",
    "\n",
    "With $\\large V^u_1 = V^d_1$, the value of the portfolio after one period is known with certainty. This means we can say that either $V^u_1$ or $V^d_1$ must equal $V_0$ compounded at the risk-free rate for one period.\n",
    "\n",
    "In this example,  \n",
    "\\\n",
    "$V^d_1= 0.278(€42) = €11.68$, or \n",
    "\\\n",
    "\\\n",
    "$V^u_1= 0.278(€60) – €5 = €11.68$. \n",
    "\n",
    "Let us assume the risk-free rate over one period is 3%. Then \n",
    "\\\n",
    "\\\n",
    "$V_0 = €11.68 / 1.03 = €11.34$.\n",
    "\\\n",
    "\\\n",
    "Now we can solve for the value of the call option, $c_0$. \n",
    "\n",
    "Recall that $V_0 = hS_0 – c_0$, so  $c_0 = hS_0 – V_0$. \n",
    "\n",
    "Here, \n",
    "\\\n",
    "\\\n",
    "$c_0 = 0.278(€50) – €11.34 = €2.56$.\n",
    "\n"
   ]
  },
  {
   "cell_type": "code",
   "execution_count": 31,
   "id": "bab30463",
   "metadata": {},
   "outputs": [
    {
     "name": "stdout",
     "output_type": "stream",
     "text": [
      "11.68\n",
      "11.68\n",
      "11.34\n",
      "2.56\n"
     ]
    }
   ],
   "source": [
    "# With  𝑉𝑢1=𝑉𝑑1 ,\n",
    "\n",
    "# Define Vd1\n",
    "Vd1 = round(h,3) * 42\n",
    "print(round(Vd1,2))\n",
    "\n",
    "# Define Vu1\n",
    "Vu1 = round(h,3) * 60 - 5\n",
    "print(round(Vu1,2))\n",
    "\n",
    "# Let us assume the risk-free rate over one period is 3%, then:\n",
    "V0 = round(Vu1,2)/1.03\n",
    "print(round(V0,2))\n",
    "\n",
    "# Now we can solve for the value of the call option,  𝑐0 .\n",
    "c0 = round(h,3) * 50 - V0\n",
    "print(round(c0,2))"
   ]
  },
  {
   "cell_type": "markdown",
   "id": "267dfaf5",
   "metadata": {},
   "source": [
    "### LOS 77.b: Describe the concept of risk neutrality in derivatives pricing.\n",
    "\n",
    "Another approach to constructing a one-period binomial model involves risk-neutral probabilities of an up-move or a down-move. Consider a share of stock currently priced at €30. The size of the possible price changes, and the probabilities of these changes occurring, are as follows:\n",
    "\n",
    "$R^u$ = up-move factor = 1.15\n",
    "\n",
    "$R^d$ = down-move factor = $\\frac{1}{R^U}=\\frac{1}{1.15}=0.87$\n",
    "\n",
    "$\\pi_U$ = risk-neutral probability of an up-move = 0.715\n",
    "\n",
    "$\\pi_D$ = risk-neutral probability of a down-move = $1 – \\pi_U = 1 – 0.715 = 0.285$\n",
    "\n",
    "Note that the down-move factor is the reciprocal of the up-move factor, and the probability of an up-move is one minus the probability of a down-move. \n",
    "\n",
    "The **one-period binomial tree** for the stock is shown in  \n",
    "\n",
    "*One-Period Binomial Tree*. \n",
    "\n",
    "# < IMG SRC =\"\">\n",
    "\n",
    "The beginning stock value of €30 is to the left, and to the right are the two possible end-of-period stock values, \n",
    "\\\n",
    "\n",
    "30 × 1.15 = €34.50 and 30 × 0.87 = €26.10.\n"
   ]
  },
  {
   "cell_type": "code",
   "execution_count": null,
   "id": "cb9d9d9a",
   "metadata": {},
   "outputs": [],
   "source": []
  }
 ],
 "metadata": {
  "kernelspec": {
   "display_name": "Python 3 (ipykernel)",
   "language": "python",
   "name": "python3"
  },
  "language_info": {
   "codemirror_mode": {
    "name": "ipython",
    "version": 3
   },
   "file_extension": ".py",
   "mimetype": "text/x-python",
   "name": "python",
   "nbconvert_exporter": "python",
   "pygments_lexer": "ipython3",
   "version": "3.11.5"
  }
 },
 "nbformat": 4,
 "nbformat_minor": 5
}
