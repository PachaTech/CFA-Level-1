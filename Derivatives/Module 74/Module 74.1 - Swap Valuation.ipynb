{
 "cells": [
  {
   "cell_type": "markdown",
   "id": "0eb101d8",
   "metadata": {},
   "source": [
    "# Module 74.1: Swap Valuation\n",
    "\n",
    "<hr>"
   ]
  },
  {
   "cell_type": "markdown",
   "id": "28c40fa8",
   "metadata": {},
   "source": [
    "### LOS 74.a: Describe how swap contracts are similar to but different from a series of forward contracts.\n",
    "\n",
    "In a simple interest-rate swap, one party pays a floating rate and the other pays a fixed rate on a notional principal amount. Consider a 1-year swap with quarterly payments, one party paying a fixed rate and the other a floating rate equal to a 90-day market reference rate (MRR). At each payment date the difference between the swap fixed rate and the MRR is paid to the party that owes the least, that is, a net payment is made from one party to the other.\n",
    "\n",
    "We can separate these payments into a known payment and three unknown payments that are equivalent to the payments on three forward rate agreements (FRAs). Let $\\text{MRR}_n$ represent the floating rate payment (based on the 90-day MRR) owed at the end of quarter n and F be the fixed payment owed at the end of each quarter. We can represent the swap payment to be received by the fixed-rate payer at the end of period n as $\\text{MRR}_{n} − F$. We can replicate each of these payments to (or from) the fixed-rate payer in the swap with a forward contract, specifically a long position in an FRA with a contract rate equal to the swap fixed rate and a settlement value based on the 90-day MRR.\n",
    "\n",
    "We illustrate this separation below for a 1-year fixed-for-floating swap with a fixed rate of $F$ and floating-rate payments for period $n$ of $\\text{MRR}_{n}$. Note that if the fixed rate and MRR are quoted as annual rates, the payments will be $\\text{MRR}_{n} − F$ times 1/4 of the notional principal.\n",
    "\n",
    "\n",
    "> First payment (90 days from now) = $\\text{MRR}_{1} − F$ which is known at time zero because the payment 90 days from now is based on the 90-day MRR at time zero and the swap fixed rate, $F$, both of which are known at the initiation of the swap.\n",
    "\\\n",
    "\\\n",
    "Second payment (180 days from now) is equivalent to a long position in an FRA with contract rate $F$ that settles in 180 days and pays  $\\text{MRR}_{2} − F$.\n",
    "\\\n",
    "\\\n",
    "Third payment (270 days from now) is equivalent to a long position in an FRA with contract rate $F$ that settles in 270 days and pays $\\text{MRR}_{3} − F$.\n",
    "\\\n",
    "\\\n",
    "Fourth payment (360 days from now) is equivalent to a long position in an FRA with contract rate $F$ that settles in 360 days and pays  $\\text{MRR}_{4} − F$.\n",
    "\n",
    "\n",
    "Note that a forward on a 90-day MRR that settles 90 days from now, based on the 90-day MRR at that time, actually pays the present value of the difference between the fixed rate $F$ and the 90-day MRR 90 days from now (times the notional principal amount). Thus, the forwards in our example actually pay on days 90, 180, and 270. However, the amounts paid are equivalent to the differences between the fixed-rate payment and floating-rate payment that are due when interest is actually due on days 180, 270, and 360, which are the amounts we used in the example.\n",
    "\n",
    "Therefore, we can describe an interest-rate swap as equivalent to a series of forward contracts, specifically FRAs, each with a forward contract rate equal to the swap fixed rate. However, there is one important difference. Because the forward contract rates are all equal in the FRAs that are equivalent to the swap, these would not be zero-value forward contracts at the initiation of the swap. Recall that forward contracts are based on a contract rate for which the value of the forward contract at initiation is zero. There is no reason to suspect that the swap fixed rate results in a zero value forward contract for each of the future dates. Instead, a swap is most likely to consist of some forwards with positive values and some forwards with negative values. The sum of their values will equal zero at initiation.\n",
    "\n",
    "Finding the swap fixed rate that gives the swap a zero value at initiation, which is also known as the **par swap rate**, is not difficult if we follow our principle of no-arbitrage pricing. The fixed rate payer in a swap can replicate that derivative position by borrowing at a fixed rate and lending the proceeds at a variable (floating) rate. For the swap in our example, borrowing at the fixed rate $F$ and lending the proceeds at the 90-day MRR will produce the same cash flows as the swap. At each date, the payment due on the fixed-rate loan is $F_n$ and the interest received on lending at the floating rate is $\\text{MRR}_{n}$.\n",
    "\n"
   ]
  },
  {
   "cell_type": "markdown",
   "id": "17be2c6a",
   "metadata": {},
   "source": [
    "### LOS 74.b: Contrast the value and price of swaps.\n",
    "\n",
    "As with FRAs, the *price* of a swap is the fixed rate of interest specified in the swap contract (the par swap rate) and the *value* depends on how expected future floating rates change over time. At initiation, a swap has zero value because the present value of the fixed-rate payments equals the present value of the expected floating-rate payments.\n",
    "\n",
    "We can solve for the no-arbitrage fixed rate, termed the **par swap rate**, from the following equality:\n",
    "\n",
    "$$\n",
    "\\frac{MRR_1}{1+S_1} + \\frac{MRR_2}{(1+S_2)^2} + \\frac{MRR_3}{(1+S_3)^3} + \\frac{MRR_4}{(1+S_4)^4} = \\frac{F}{1+S_1} + \\frac{F}{(1+S_2)^2} + \\frac{F}{(1+S_3)^3} + \\frac{F}{(1+S_4)^4}\n",
    "$$\n",
    "\n",
    "where $S_1$ through $S_4$ are the current effective spot rates for 90, 180, 270, and 360 days, $\\text{MRR}_{1}$ through $\\text{MRR}_{4}$ are the forward 90-day rates implied by the spot rates, and $F$ is the fixed rate payment.\n",
    "\n",
    "\n",
    "Given the current spot rates $(S_1 – S_4)$, we can calculate the implied (expected) forward rates (MRRs), and then solve for $F$, the fixed rate payment that will give the swap a value of zero.\n",
    "\n",
    "An increase in expected future 90-day rates will produce an increase the value of the fixed-rate payer position in a swap, while a decrease in expected rates will decrease the value of that position. At any point in time, the value of the fixed-rate payer side of a swap will be the present value of the expected future floating-rate payments, minus the present value of the future fixed-rate payments. This calculation is based on the spot rates and implied future 90-day rates at that point in time and can be used for any required mark-to-market payments.\n"
   ]
  },
  {
   "cell_type": "markdown",
   "id": "832e1407",
   "metadata": {},
   "source": [
    "#### EXAMPLE: Pricing a Swap & PV of the expected floating rate payments"
   ]
  },
  {
   "cell_type": "code",
   "execution_count": 35,
   "id": "9bdb06c9",
   "metadata": {},
   "outputs": [
    {
     "name": "stdout",
     "output_type": "stream",
     "text": [
      "F_0_1 = % 1.2\n",
      "F_1_1 = % 1.4001\n",
      "F_2_1 = % 1.6003\n"
     ]
    }
   ],
   "source": [
    "# EXAMPLE: Pricing a Swap Step 1 of 2\n",
    "\n",
    "# Given annual spot curve\n",
    "S1 = 0.012\n",
    "S2 = 0.013\n",
    "S3 = 0.014\n",
    "\n",
    "# Forward rates from the spot curve are:\n",
    "F01 = S1 * 100\n",
    "print(\"F_0_1 = %\", F01)\n",
    "\n",
    "F11 = ((1+S2)**2)/(1+S1)-1\n",
    "print(\"F_1_1 = %\",round(F11*100,4))\n",
    "\n",
    "F21 = ((1+S3)**3)/((1+S2)**2)-1\n",
    "print(\"F_2_1 = %\",round(F21*100,4))"
   ]
  },
  {
   "cell_type": "code",
   "execution_count": 71,
   "id": "757165f1",
   "metadata": {},
   "outputs": [
    {
     "name": "stdout",
     "output_type": "stream",
     "text": [
      "Expected Present Value of our floating rate payments: 0.0408509\n",
      "2.921789770253447\n",
      "the Fixed rate for zero-value swap 0.0139815\n"
     ]
    }
   ],
   "source": [
    "# EXAMPLE: Pricing a Swap Step 2 of 2\n",
    "\n",
    "# Calculate the PV of the expected floating rate payments\n",
    "PV = S1/(1+S1) + (F11/ ((1+S2)**2)) + (F21/ ((1+S3)**3))\n",
    "print(\"Expected Present Value of our floating rate payments:\",(round(PV,7)))\n",
    "\n",
    "PV2 = (1/(1+S1)) + ((1/(1+S2)**2)) + ((1/(1+S3)**3))\n",
    "print(PV2)\n",
    "\n",
    "# Calculate the Fixed rate for zero-value swap\n",
    "Fixed_rate = PV/PV2\n",
    "print(\"the Fixed rate for zero-value swap\",(round(Fixed_rate,7)))"
   ]
  },
  {
   "cell_type": "markdown",
   "id": "a0312875",
   "metadata": {},
   "source": [
    "\n",
    "<hr>\n",
    "\n"
   ]
  },
  {
   "cell_type": "code",
   "execution_count": null,
   "id": "a3de7108",
   "metadata": {},
   "outputs": [],
   "source": []
  }
 ],
 "metadata": {
  "kernelspec": {
   "display_name": "Python 3 (ipykernel)",
   "language": "python",
   "name": "python3"
  },
  "language_info": {
   "codemirror_mode": {
    "name": "ipython",
    "version": 3
   },
   "file_extension": ".py",
   "mimetype": "text/x-python",
   "name": "python",
   "nbconvert_exporter": "python",
   "pygments_lexer": "ipython3",
   "version": "3.11.5"
  }
 },
 "nbformat": 4,
 "nbformat_minor": 5
}
