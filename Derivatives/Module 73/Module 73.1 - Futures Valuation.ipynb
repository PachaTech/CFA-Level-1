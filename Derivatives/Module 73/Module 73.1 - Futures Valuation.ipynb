{
 "cells": [
  {
   "cell_type": "markdown",
   "id": "d8bd8260",
   "metadata": {},
   "source": [
    "# Module 73.1 Study - Futures Valuation\n",
    "<hr>"
   ]
  },
  {
   "cell_type": "markdown",
   "id": "3b1f4b32",
   "metadata": {},
   "source": [
    "### LOS 73.a: Compare the value and price of forward and futures contracts.\n",
    "\n",
    "While the price of a forward contract is constant over its life when no mark-to-market gains or losses are paid, its value will fluctuate with changes in the value of the underlying. The payment at settlement of the forward reflects the difference between the (unchanged) forward price and the spot price of the underlying.\n",
    "\n",
    "The price and value of a futures contract both change when daily mark-to-market gains and losses are settled. Consider a futures contract on 100 ounces of gold at $1,870 purchased on Day 0. The following illustrates the changes in contract price and value with daily mark-to-market payments.\n",
    "\n",
    "<table>\n",
    "<tbody>\n",
    "  <tr>\n",
    "    <td>Day 0</td>\n",
    "    <td>Price = settlement price of 1,870</td>\n",
    "    <td>MTM value = 0</td>\n",
    "  </tr>\n",
    "  <tr>\n",
    "    <td>Day 1</td>\n",
    "    <td>Settlement price = 1,875</td>\n",
    "    <td>MTM value = £500</td>\n",
    "  </tr>\n",
    "  <tr>\n",
    "    <td></td>\n",
    "    <td>£500 addition to margin account</td>\n",
    "    <td></td>\n",
    "  </tr>\n",
    "  <tr>\n",
    "    <td></td>\n",
    "    <td>New futures price = 1,875</td>\n",
    "    <td></td>\n",
    "  </tr>\n",
    "  <tr>\n",
    "    <td>Day 2</td>\n",
    "    <td>Settlement price = 1,855</td>\n",
    "    <td>MTM value = –£2,000</td>\n",
    "  </tr>\n",
    "  <tr>\n",
    "    <td></td>\n",
    "    <td>£2,000 deduction from margin account</td>\n",
    "    <td></td>\n",
    "  </tr>\n",
    "  <tr>\n",
    "    <td></td>\n",
    "    <td>New futures price = 1,855</td>\n",
    "    <td>MTM value = 0</td>\n",
    "  </tr>\n",
    "</tbody>\n",
    "</table>\n",
    "\n",
    "\n",
    "The change in the futures price to the settlement price each day returns its value to zero. Prices of forward contracts for which mark-to-market gains and losses are settled daily will also be adjusted to the settlement price.\n",
    "\n",
    "Interest rate futures contracts are available on many market reference rates. We may view these as exchange-traded equivalents to forward rate agreements. One key difference is that interest rate futures are quoted on a price basis. For a market reference rate from time A to time B, an interest rate futures price is stated as follows:\n",
    "\n",
    "$\\qquad\\text{futures price} = 100 - (100 x MRR_{A,B-A)}$"
   ]
  },
  {
   "cell_type": "markdown",
   "id": "60523fe6",
   "metadata": {},
   "source": [
    "For example, if the futures price for a 6-month rate six months from now is 97, then $MRR_{6m,6m} = 3\\%$.\n",
    "\n",
    "Like other futures contracts, interest rate futures are subject to daily mark-to-market. The **basis point value (BPV)** of an interest rate futures contract is defined as:\n",
    "\n",
    "BPV = notional principal × period × 0.01%\n",
    "\n",
    "If the contract in our example is based on notional principal of €1,000,000, its BPV is €1,000,000 × (0.0001 / 2) = €50. This means a one basis point change in the MRR will change the futures contract value by €50.\n",
    "\n",
    "$\\qquad\\text{BPV} = \\text{notional principal x period x 0.01%}$\n",
    "\n",
    "If the contract in our example is based on notional principal of €1,000,000, its BPV is `€1,000,000 × (0.0001 / 2) = €50`. This means a one basis point change in the MRR will change the futures contract value by €50.\n",
    "\n"
   ]
  },
  {
   "cell_type": "code",
   "execution_count": null,
   "id": "37f57623",
   "metadata": {},
   "outputs": [],
   "source": []
  },
  {
   "cell_type": "markdown",
   "id": "9b0ec3a2",
   "metadata": {},
   "source": [
    "### LOS 73.b: Explain why forward and futures prices differ.\n",
    "\n",
    "For pricing, the most important distinction between futures and forwards is that with futures, mark-to market gains and losses are paid each day. Gains above initial margin can be withdrawn from a futures account and losses that reduce margin deposits below their maintenance level require payments into the account. Forwards most often have no mark-to-market cash flows, with gains or losses settled at contract expiration. Forwards typically do not require or provide funds in response to fluctuations in value during their lives.\n",
    "\n",
    "If interest rates are constant or uncorrelated with futures prices over time, the prices of futures and forwards are the same. A positive correlation between interest rates and the futures price means that (for a long position) daily settlement provides funds (excess margin) when rates are high and they can earn more interest, and requires funds (margin deposits) when rates are low and opportunity cost of deposited funds is less. Because of this, futures are theoretically more attractive than forwards when interest rates and futures prices are positively correlated, and less attractive than forwards when interest rates and futures prices are negatively correlated.\n",
    "\n",
    "Because of the short maturity of most forwards and the availability of funds at near risk-free rates, differences between equivalent forwards and futures are not observed in practice. Additionally, derivative dealers in some markets with central clearing are required to post margin and may require derivative investors to post mark-to-market margin payments as well.\n",
    "\n",
    "A separate issue arises for interest rate forwards and futures settlement payments. Recall that the payoff on an interest rate forward is the present value (at the beginning of the forward period) of any interest savings (at the end of the forward period) from the difference between the realized MRR and the forward MRR. Because the realized MRR is the discount rate for calculating the payment for a given amount of future interest savings, the payment for an increase in the MRR will be less than the payment for an equal decrease in the MRR, as the following example will illustrate.\n",
    "\n"
   ]
  },
  {
   "cell_type": "markdown",
   "id": "2b54c385",
   "metadata": {},
   "source": [
    "#### Example:\n",
    "\n",
    "Consider a $1 million interest rate future on a 6-month MRR priced at 97.50 (an MRR of 2.5\\%) that settles six months from now. Each basis point change in the (annualized) MRR will change the value of the contract by 0.0001 × 6/12 × €1 million = €50. If the MRR at settlement is either 2.51\\% or 2.49\\%, the payoff on the future at the end of one year is either €50 higher or €50 lower than when the MRR at settlement is 2.5\\%.\n"
   ]
  },
  {
   "cell_type": "markdown",
   "id": "7a4dc7c0",
   "metadata": {},
   "source": [
    "Compare this result with the payoffs for an otherwise equivalent forward, $F_{6m6m}$, priced at 2.5\\%.\n",
    "\n",
    "    If the MRR at settlement is 2.51\\%, the long receives 50/(1 + 0.0251/2) = €49.3803.\n",
    "\n",
    "    If the MRR at settlement is 2.49\\%, the long must pay 50/(1 + 0.0249/2) = €49.3852.\n",
    "\n",
    "The value of the forwards exhibit convexity. An increase in rates decreases the forward's value by less than a decrease in the interest rate increases the forward's value, just as we saw with bonds. Also just as with bonds, the convexity effect for the value of forwards increases for longer periods. The convexity of forwards is termed convexity bias and forwards and futures prices can be significantly different for longer-term interest rates.\n",
    "\n"
   ]
  },
  {
   "cell_type": "markdown",
   "id": "dc98c3b0",
   "metadata": {},
   "source": []
  },
  {
   "cell_type": "markdown",
   "id": "d130b36b",
   "metadata": {},
   "source": [
    "## Reading 72: Key Concepts\n",
    "\n",
    "<hr>\n",
    "\n",
    "### LOS 72.a\n",
    "\n",
    "The value of a forward contract at initiation is zero.\n",
    "\n",
    "During its life, the value of a forward contract to the buyer is the spot price of the asset minus the present value of the forward contract price, and the value to the seller is the present value of the forward contract price minus the spot price of the asset.\n",
    "\n",
    "At expiration, the value of a forward contract to the buyer is the spot price of the asset minus the forward contract price, and the value to the seller is the forward contract price minus the spot price of the asset.\n",
    "\n",
    "### LOS 72.b\n",
    "\n",
    "An implied forward rate is the forward rate for which the following two strategies have the same yield over the total period:\n",
    "\n",
    "* Investing from $t = 0$ to the forward date, and rolling over the proceeds for the period of the forward.\n",
    "* Investing from $t = 0$ until the end of the forward period.\n",
    "\n",
    "In a forward rate agreement (FRA), the fixed-rate payer (long) will pay the forward rate on a notional amount of principal at a future date, and the floating-rate payer will pay a future reference rate times that same amount of principal. FRAs are used primarily by financial institutions to manage the volatility of their interest-sensitive assets and liabilities.\n",
    "\n"
   ]
  },
  {
   "cell_type": "markdown",
   "id": "320790e1",
   "metadata": {},
   "source": [
    "<hr>\n",
    "\n",
    "\n",
    "# Reading 73 QBank & Quiz\n",
    "\n",
    "\n",
    "<hr>\n",
    "\n",
    "**Question 1**\\\n",
    "For a forward contract on an asset that has no costs or benefits from holding it to have zero value at initiation, the arbitrage-free forward price must equal the:\n",
    "\n",
    "\n",
    "\n",
    "\n",
    "**Answer**\\\n",
    "future value of the current spot price.\n",
    "\n",
    "**Explanation**\\\n",
    "For an asset with no holding costs or benefits, the forward price must equal the future value of the current spot price, compounded at the risk-free rate over the term of the forward contract, for the contract to have a value of zero at initiation. Otherwise an arbitrage opportunity would exist. \n",
    "\\\n",
    "(Module 73.1, LOS 73.a)\n",
    "\n",
    "<hr>\n",
    "\n",
    "**Question 2**\\\n",
    "For a futures contract to be more attractive than an otherwise equivalent forward contract, interest rates must be:\n",
    "\n",
    "\n",
    "**Answer**\\\n",
    "positively correlated with futures prices.\n",
    "\n",
    "**Explanation**\\\n",
    "If interest rates are positively correlated with futures prices, interest earned on cash from daily settlement gains on futures contracts will be greater than the opportunity cost of interest on daily settlement losses, and a futures contract is more attractive than an otherwise equivalent forward contract that does not feature daily settlement. \n",
    "\\\n",
    "(Module 73.1, LOS 73.b)\n",
    "\n",
    "\n",
    "<hr>\n"
   ]
  }
 ],
 "metadata": {
  "kernelspec": {
   "display_name": "Python 3 (ipykernel)",
   "language": "python",
   "name": "python3"
  },
  "language_info": {
   "codemirror_mode": {
    "name": "ipython",
    "version": 3
   },
   "file_extension": ".py",
   "mimetype": "text/x-python",
   "name": "python",
   "nbconvert_exporter": "python",
   "pygments_lexer": "ipython3",
   "version": "3.11.5"
  }
 },
 "nbformat": 4,
 "nbformat_minor": 5
}
