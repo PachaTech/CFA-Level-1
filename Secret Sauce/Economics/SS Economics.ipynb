{
 "cells": [
  {
   "cell_type": "markdown",
   "id": "ea7b8b89-00cc-4574-b5f7-72afb7267efd",
   "metadata": {},
   "source": [
    "# SECRET SAUCE: ECONOMICS\n",
    "\n",
    "<table>\n",
    "<tbody>\n",
    "  <tr>\n",
    "    <td>Weight on Exam</td>\n",
    "    <td>6% to 9%</td>\n",
    "  </tr>\n",
    "  <tr>\n",
    "    <td>SchweserNotes™ Reference</td>\n",
    "    <td>Book 1, Pages 137–235</td>\n",
    "  </tr>\n",
    "</tbody>\n",
    "</table>"
   ]
  },
  {
   "cell_type": "markdown",
   "id": "6cebbad2-3bc4-456b-9561-62beed94bbca",
   "metadata": {},
   "source": [
    "<hr>\n",
    "\n",
    "# Reading 12: Firms and Market Structures\n",
    "\n",
    "<hr>\n",
    "\n",
    "### Breakeven and Shutdown\n",
    "\n",
    "In the short run, a firm may be selling at less than average total cost (ATC), generating an economic loss. Such a firm should continue to operate in the short run as long as price is greater than average variable cost (AVC). In this case, the losses from shutting down (producing zero output) in the short run would be greater (equal to total fixed costs [TFC]) than the losses from continued operation. If selling price is less than AVC, the firm will minimize its losses in the short run by ceasing operations.\n",
    "\n",
    "In the long run, a firm should shut down if price is expected to remain less than the ATC. These cases are illustrated in  **Shutdown and Breakeven**. At prices below $P_1$ but above $P_2$, a profit-maximizing (loss-minimizing) firm should continue to operate in the short run but shut down in the long run. At prices below P2, the firm should shut down in the short run as well. We refer to this price (minimum AVC) as the **short-run shutdown point**.\n",
    "\n",
    "*Shutdown and Breakeven*\n"
   ]
  },
  {
   "cell_type": "markdown",
   "id": "4aab090b-fca9-4e57-afe2-2ae154cdd4f2",
   "metadata": {},
   "source": []
  },
  {
   "cell_type": "code",
   "execution_count": null,
   "id": "26a64b33-31c2-46a7-ba76-91f9bc41ccfe",
   "metadata": {},
   "outputs": [],
   "source": []
  }
 ],
 "metadata": {
  "kernelspec": {
   "display_name": "Python 3 (ipykernel)",
   "language": "python",
   "name": "python3"
  },
  "language_info": {
   "codemirror_mode": {
    "name": "ipython",
    "version": 3
   },
   "file_extension": ".py",
   "mimetype": "text/x-python",
   "name": "python",
   "nbconvert_exporter": "python",
   "pygments_lexer": "ipython3",
   "version": "3.11.8"
  }
 },
 "nbformat": 4,
 "nbformat_minor": 5
}
