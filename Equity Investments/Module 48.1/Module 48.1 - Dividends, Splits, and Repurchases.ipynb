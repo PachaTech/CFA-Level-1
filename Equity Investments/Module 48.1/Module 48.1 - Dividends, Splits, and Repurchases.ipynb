{
 "cells": [
  {
   "cell_type": "markdown",
   "id": "59c5cd62-20c6-4abe-9012-c0de56d749e6",
   "metadata": {},
   "source": [
    "<hr>\n",
    "\n",
    "# Module 48.1: Dividends, Splits, and Repurchases\n",
    "\n",
    "<hr>"
   ]
  },
  {
   "cell_type": "markdown",
   "id": "0348d660-4f56-4e5d-b0b5-275eed4a2539",
   "metadata": {},
   "source": [
    "### LOS 48.a: Evaluate whether a security, given its current market price and a value estimate, is overvalued, fairly valued, or undervalued by the market.\n",
    "\n",
    "Recall from the reading on Market Efficiency that **intrinsic value** or **fundamental value** is defined as the rational value investors would place on the asset if they had full knowledge of the asset's characteristics. Analysts use valuation models to estimate the intrinsic values of stocks and compare them to the stocks' market prices to determine whether individual stocks are overvalued, undervalued, or fairly valued. In doing valuation analysis for stocks, analysts are assuming that some stocks' prices deviate significantly from their intrinsic values.\n",
    "\n",
    "To the extent that market prices deviate from intrinsic values, analysts who can estimate a stock's intrinsic value better than the market can earn abnormal profits if the stock's market price moves toward its intrinsic value over time. There are several things to consider, however, in deciding whether to invest based on differences between market prices and estimated intrinsic values.\n",
    "\n",
    "1. The larger the percentage difference between market prices and estimated values, the more likely the investor is to take a position based on the estimate of intrinsic value. Small differences between market prices and estimates of intrinsic values are to be expected.\n",
    "2. The more confident the investor is about the appropriateness of the valuation model used, the more likely the investor is to take an investment position in a stock that is identified as overvalued or undervalued.\n",
    "3. The more confident the investor is about the estimated inputs used in the valuation model, the more likely the investor is to take an investment position in a stock that is identified as overvalued or undervalued. Analysts must also consider the sensitivity of a model value to each of its inputs in deciding whether to act on a difference between model values and market prices. If a decrease of one-half percent in the long-term growth rate used in the valuation model would produce an estimated value equal to the market price, an analyst would have to be quite sure of the model's growth estimate to take a position in the stock based on its estimated value.\n",
    "4. Even if we assume that market prices sometimes deviate from intrinsic values, market prices must be treated as fairly reliable indications of intrinsic value. Investors must consider why a stock is mispriced in the market. Investors may be more confident about estimates of value that differ from market prices when few analysts follow a particular security.\n",
    "5. Finally, to take a position in a stock identified as mispriced in the market, an investor must believe that the market price will actually move toward (and certainly not away from) its estimated intrinsic value and that it will do so to a significant extent within the investment time horizon.\n"
   ]
  },
  {
   "cell_type": "code",
   "execution_count": null,
   "id": "2de4cf2e-c8fe-48c5-b2eb-1e23e4b0d391",
   "metadata": {},
   "outputs": [],
   "source": []
  }
 ],
 "metadata": {
  "kernelspec": {
   "display_name": "Python 3 (ipykernel)",
   "language": "python",
   "name": "python3"
  },
  "language_info": {
   "codemirror_mode": {
    "name": "ipython",
    "version": 3
   },
   "file_extension": ".py",
   "mimetype": "text/x-python",
   "name": "python",
   "nbconvert_exporter": "python",
   "pygments_lexer": "ipython3",
   "version": "3.11.8"
  }
 },
 "nbformat": 4,
 "nbformat_minor": 5
}
