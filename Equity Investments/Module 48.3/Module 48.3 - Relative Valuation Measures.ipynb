{
 "cells": [
  {
   "cell_type": "markdown",
   "id": "4b956c0b-384e-4481-bec8-1ac2f609acd2",
   "metadata": {},
   "source": [
    "<hr>\n",
    "\n",
    "# Module 48.3 - Relative Valuation Measures\n",
    "\n",
    "<hr>"
   ]
  },
  {
   "cell_type": "markdown",
   "id": "046a89b7-db82-478e-b858-7bc18e2cfaa6",
   "metadata": {},
   "source": [
    "### LOS 48.j: Explain the rationale for using price multiples to value equity, how the price to earnings multiple relates to fundamentals, and the use of multiples based on comparables.\n",
    "\n",
    "Because the dividend discount model is very sensitive to its inputs, many investors rely on other methods. In a **price multiple** approach, an analyst compares a stock's price multiple to a benchmark value based on an index, industry group of firms, or a peer group of firms within an industry. Common price multiples used for valuation include price-to-earnings, price-to-cash flow, price-to-sales, and price-to-book value ratios.\n",
    "\n",
    "Price multiples are widely used by analysts and readily available in numerous media outlets. Price multiples are easily calculated and can be used in time series and cross-sectional comparisons. Many of these ratios have been shown to be useful for predicting stock returns, with low multiples associated with higher future returns.\n",
    "\n",
    "A critique of price multiples is that they reflect only the past because historical (trailing) data are often used in the denominator. For this reason, many practitioners use forward (leading or prospective) values in the denominator. The use of projected values can result in much different ratios. An analyst should be sure to use price multiple calculations consistently across firms.\n",
    "\n",
    "When we compare a price multiple, such as P/E, for a firm to those of other firms based on market prices, we are using **price multiples based on comparables**. By contrast, **price multiples based on fundamentals** tell us what a multiple should be based on some valuation model and therefore are not dependent on the current market prices of other companies to establish value."
   ]
  },
  {
   "cell_type": "code",
   "execution_count": null,
   "id": "c3f8e496-c09e-4a15-a306-8c9bd1b6953c",
   "metadata": {},
   "outputs": [],
   "source": []
  }
 ],
 "metadata": {
  "kernelspec": {
   "display_name": "Python 3 (ipykernel)",
   "language": "python",
   "name": "python3"
  },
  "language_info": {
   "codemirror_mode": {
    "name": "ipython",
    "version": 3
   },
   "file_extension": ".py",
   "mimetype": "text/x-python",
   "name": "python",
   "nbconvert_exporter": "python",
   "pygments_lexer": "ipython3",
   "version": "3.11.8"
  }
 },
 "nbformat": 4,
 "nbformat_minor": 5
}
