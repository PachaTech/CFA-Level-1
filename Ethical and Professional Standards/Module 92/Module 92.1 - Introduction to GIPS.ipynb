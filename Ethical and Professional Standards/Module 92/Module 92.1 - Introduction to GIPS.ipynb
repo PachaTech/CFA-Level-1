{
 "cells": [
  {
   "cell_type": "markdown",
   "id": "c2f2bd04-011f-4b16-8656-85ae9d3e78f3",
   "metadata": {},
   "source": [
    "<hr>\n",
    "\n",
    "# Module 92.1 - Introduction to GIPS\n",
    "\n",
    "<hr>"
   ]
  },
  {
   "cell_type": "markdown",
   "id": "c5f6b02c-47f6-40c8-bb7d-a5c93a093f2d",
   "metadata": {},
   "source": [
    "### LOS 92.a: Explain why the GIPS standards were created, who can claim compliance, and who benefits from compliance.\n",
    "\n",
    "When firms choose their own methodologies for reporting investment performance, the results are not comparable across firms, and firms have a tendency to choose a methodology that makes their performance look good. Some choices that tend to bias results are:\n",
    "\n",
    "* Choosing a top-performing portfolio and claiming it represents a firm's overall results for all assets managed.\n",
    "* Excluding terminated accounts, which may tend to be accounts closed by investors due to sub-par performance.\n",
    "* Selecting time periods to report that put firm performance in the best possible light.\n",
    "\n",
    "GIPS present a standardized methodology for performance reporting that makes comparison of performance across firms meaningful, provides specific information that is useful to current clients, prospective clients, and investors, and avoids misrepresentation of performance. Widespread usage of GIPS can also give oversight bodies a clearer understanding of the returns achieved and the risks taken by the firms they supervise.\n",
    "\n",
    "GIPS only apply to firms that manage assets for others. Presenting performance information compliant with GIPS is voluntary for such firms, and they may only claim compliance with GIPS if they comply fully and on a firmwide basis. Other firms related to the asset management business, such as software developers, may state that they endorse GIPS but may not claim compliance with GIPS.\n",
    "\n",
    "### LOS 92.b: Describe the key concepts of the GIPS Standards for Firms.\n",
    "\n",
    "The GIPS standards for firms consist of eight sections:\n",
    "\n",
    "1. *Fundamentals of Compliance*. The fundamental issues involved in complying with GIPS are (a) defining the firm, (b) providing GIPS-compliant reports to all clients and prospects, (c) complying with applicable regulations and laws, and (d) presenting information that is neither false nor misleading.\n",
    "2. *Input Data and Calculation Methodology*. Input data should be consistent in order to establish full, fair, and comparable investment performance presentations. Certain methodologies are required for portfolio return calculations, and certain other methodologies are required for composite return calculations. Uniformity in methods across firms is required so that their results are comparable.\n",
    "3. *Composite and Pooled Fund Maintenance*. Creation of meaningful, asset-weighted composites is important to achieve a fair presentation. Composite performance is based on the performance of one or more portfolios that have the same investment strategy or investment objective. Composite returns are the asset-weighted average (not a simple average) of the returns on the portfolios that are included in each composite. Pooled funds must be included in a composite if they fit its definition.\n",
    "4. *Composite Time-Weighted Return Report*.\n",
    "5. *Composite Money-Weighted Return Report*.\n",
    "6. *Pooled Fund Time-Weighted Return Report.*\n",
    "7. *Pooled Fund Money-Weighted Return Report.*\n",
    "    - Sections 4 through 7 contain required and recommended procedures for reporting the performance of composites and pooled funds, as well as the necessary disclosures. There are some disclosures that all firms must make, but some disclosures may not apply to all firms. If a disclosure is not applicable to a specific firm, the firm is not required to include any statement regarding it. A firm that has met all the requirements of GIPS may include an appropriate claim of compliance.\n",
    "\n",
    "8. *GIPS Advertising Guidelines.* If an advertisement includes a claim of compliance with GIPS, the advertisement must comply with these guidelines. The guidelines do not apply to advertisements that do not reference the firm's GIPS compliance.\n",
    "\n",
    "### LOS 92.c: Explain the purpose of composites in performance reporting.\n",
    "\n",
    "A **composite** is a grouping of individual discretionary portfolios representing a similar investment strategy, objective, or mandate. Examples of possible composites are large capitalization stocks, investment-grade domestic bonds, and accounts managed to match the performance of a specific securities index. Reporting on the performance of composites gives clients and prospects information about the firm's success in managing various types of securities and results for various investment styles.\n",
    "\n",
    "A composite, such as international equities, must include all fee-paying, discretionary portfolios (current and past) that the firm has managed in accordance with a particular strategy. The firm should identify which composite each managed portfolio is to be included in before the portfolio's performance is known. This prevents firms from choosing portfolios to include in a composite in order to create composites with superior returns. All fee-paying discretionary portfolios managed by the firm must be included in at least one composite.\n",
    "\n",
    "### LOS 92.d: Describe the fundamentals of compliance, including the recommendations of the GIPS standards with respect to the definition of the firm and the firm's definition of discretion.\n",
    "\n",
    "The definition of the firm, for purposes of GIPS compliance, must be the corporation, subsidiary, or division that is held out to clients as a business entity. If a firm has different geographic locations (e.g., all doing business under the name of Bluestone Advisers), then the definition of the firm should include all the various geographic locations and their clients.\n",
    "\n",
    "The definition of **discretion** refers to how a firm determines which of the portfolios it manages should be included in a composite. A firm may determine that a portfolio is nondiscretionary—and therefore not include it in a composite—if the client places restrictions on it that prevent the manager from carrying out the intended strategy.\n",
    "\n",
    "### LOS 92.e: Describe the concept of independent verification.\n",
    "\n",
    "Firms are encouraged to pursue independent verification of their compliance with GIPS. Verification applies to the entire firm's performance measurement practices and methods, not a selected composite.\n",
    "\n",
    "If a firm chooses to pursue verification, it must be performed by a third party, not by the firm itself, on a firmwide basis. This third-party verifier must attest that (1) the firm has complied with all GIPS requirements for composite construction on a firmwide basis and (2) the firm's processes and procedures are established to present performance in accordance with the calculation methodology required by GIPS, the data requirements of GIPS, and in the format required by GIPS.\n",
    "\n",
    "Verified firms should include the following disclosure language:\n",
    "\n",
    "    [Insert name of firm] has been verified for the periods [insert dates] by [name of verifier]. A copy of the verification report is available upon request.\n",
    "\n"
   ]
  },
  {
   "cell_type": "code",
   "execution_count": null,
   "id": "93927c6a-e598-40a9-b3e1-449fa6405b54",
   "metadata": {},
   "outputs": [],
   "source": []
  }
 ],
 "metadata": {
  "kernelspec": {
   "display_name": "Python 3 (ipykernel)",
   "language": "python",
   "name": "python3"
  },
  "language_info": {
   "codemirror_mode": {
    "name": "ipython",
    "version": 3
   },
   "file_extension": ".py",
   "mimetype": "text/x-python",
   "name": "python",
   "nbconvert_exporter": "python",
   "pygments_lexer": "ipython3",
   "version": "3.11.8"
  }
 },
 "nbformat": 4,
 "nbformat_minor": 5
}
