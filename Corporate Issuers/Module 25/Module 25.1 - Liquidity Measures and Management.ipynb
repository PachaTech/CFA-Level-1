{
 "cells": [
  {
   "cell_type": "markdown",
   "id": "b1daa70d",
   "metadata": {},
   "source": [
    "<hr>\n",
    "\n",
    "# Module 25.1 - Liquidity Measures and Management\n",
    "\n",
    "<hr>"
   ]
  },
  {
   "cell_type": "markdown",
   "id": "eb69f488",
   "metadata": {},
   "source": [
    "### LOS 25.a: Explain the cash conversion cycle and compare issuers' cash conversion cycles.\n",
    "\n",
    "The **cash conversion cycle (CCC)** measures the efficiency of a company's cash flow management. It represents the time it takes for a company to convert its investments in inventory and other resources into cash inflows from sales. In other words, it measures how quickly a company can convert its investments into cash and then use that cash to invest in new opportunities, as shown in  **Cash Conversion Cycle**.\n",
    "\n",
    "*Cash Conversion Cycle*\n",
    "\n",
    "<img src=\"https://github.com/PachaTech/CFA-Level-1/blob/main/Corporate%20Issuers/Module%2025/pics/L1B2R25-1.jpg?raw=true\">\n",
    "\n",
    "The CCC is calculated by adding the number of days it takes for a company to sell its inventory (**days of inventory on hand**), the number of days it takes for the company to collect payment from its customers (**days sales outstanding**), and the number of days it takes for the company to pay its suppliers (**days payable outstanding**).\n",
    "\n",
    "$\\text{cash conversion cycle} = \\text{ days of inventory on hand + days sales outstanding} - \\text{ days payables outstanding}$\n",
    "\n",
    "\n",
    ">**Professor's Note**\n",
    "\\\n",
    "The calculation of DOH, DSO, and DPO is covered in our Financial Statement Analysis reading on Financial Analysis Techniques.\n",
    "\n",
    "A lower CCC is generally better as it indicates that a company can generate cash quickly and efficiently, meaning that less of the company's capital is devoted to working capital. A high CCC may indicate that a company is taking longer to convert its investments into cash, which could lead to cash flow problems and potentially limit the company's ability to invest in growth opportunities.\n",
    "\n",
    "A company can decrease its CCC by decreasing its inventories and receivables or by increasing (extending) its payables. However, each of these has potential disadvantages:\n",
    "\n",
    "* Reduced inventories of raw materials may create production bottlenecks due to supply chain disruptions. Reduced inventories of finished foods may mean an inability to meet spikes in customer demand.\n",
    "\n",
    "* Reducing or tightening credit to customers may result in lost sales.\n",
    "\n",
    "* We can think of accounts payable as an implicit source of credit from suppliers (as opposed to explicit sources such as bank loans). Suppliers offer payment terms in the form `a/bnetc`, which means a percentage discount of `a` if the invoice is paid within `b` days, otherwise full payment is due within `c` days. Forgoing the discount for prompt payment amounts to borrowing money from the supplier for `(c − b)` days, at an effective annual rate we can calculate as follows:\n",
    "\n",
    "$\\text{EAR of supplier financing} = \\Big( 1+ \\Large \\frac{a}{1-a} \\Big)^{\\big(\\frac{365}{c-b}\\big)-1}$\n",
    "\\\n",
    "\\\n",
    "\\\n",
    "$$\n",
    "\\text{Where:}\\\\\n",
    "\\\n",
    "\\\n",
    "\\text{a = percent discount}\\\\\n",
    "\\\n",
    "\\\n",
    "\\text{b = days until discount expires}\\\\\n",
    "\\\n",
    "\\\n",
    "\\text{c = days until full payment is due}\\\\\n",
    "\\\n",
    "$$\n",
    "\\\n",
    "Often, the company could find a lower EAR by borrowing from their lenders as opposed to forgoing the discount."
   ]
  },
  {
   "cell_type": "markdown",
   "id": "81a65194",
   "metadata": {},
   "source": [
    "#### Example: EAR of supplier financing\n",
    "\n",
    "A supplier offers 2/10 net 30 terms. The bank interest rate is 8%. Which source of financing should the company prefer?\n",
    "\n",
    "#### Answer:\n",
    "\n",
    "Financing is for 30 − 10 = 20 days.\n",
    "\n",
    "EAR of supplier financing = $\\large(1+0.02/0.98)^{(365/20)}−1 = 0.446$, or $\\large 44.6\\%$.\n",
    "\n",
    "The cost of implicit supplier financing is much higher than the cost of explicit bank financing. The company should borrow from its bank at 8% to pay the invoice within 10 days.\n",
    "\n"
   ]
  },
  {
   "cell_type": "markdown",
   "id": "121aec92",
   "metadata": {},
   "source": [
    "Cash conversion cycles vary by industry. For example, pharmaceutical companies have long CCCs because they maintain inventories of high-margin drugs to meet unexpected surges in demand. By contrast, airlines have low CCCs because most of their sales are prepaid and they do not keep significant inventories. Analysts should use the CCC to compare companies within the same industry, or to track a company's performance over time.\n",
    "\n",
    "In addition to the CCC, overall levels of working capital can indicate how efficiently a company manages its liquidity. To compare companies of different sizes, analysts calculate working capital as a proportion of sales. Because the ratio varies by industry, care should be taken to compare firms in similar lines of business. **Total working capital** is current assets less current liabilities. Analysts often prefer to measure **net working capital**, using only operating current assets and operating current liabilities, because it is closely linked to the CCC:\n",
    "\\\n",
    "\\\n",
    "$$\n",
    "\\text{total working capital} = \\text{current assets - current liabilities}\\\\\n",
    "\\\n",
    "\\\\\n",
    "\\text{net working capital} = \\\\ \\text{current assets (except cash and marketable securities)}\\\\ \n",
    "- \n",
    "\\text{current liabilities(excluding short-term and current debt)}\\\\\n",
    "$$\n"
   ]
  },
  {
   "cell_type": "markdown",
   "id": "76298774",
   "metadata": {},
   "source": [
    "### LOS 25.b: Explain liquidity and compare issuers' liquidity levels.\n",
    "\n",
    "For an asset, **liquidity** refers to its nearness to cash. For a liability, liquidity refers to its nearness to settlement. Assets that can be quickly converted to cash (e.g., marketable securities) are considered highly liquid.\n",
    "\n",
    "Inventory is less liquid than accounts receivable. Inventory may need processing before a sale, and once sold, inventory might be converted to accounts receivable, which needs to be collected to convert into cash.\n",
    "\n",
    "For a corporate issuer, liquidity refers to availability of cash and other liquid assets to meet its short-term obligations. **Primary liquidity sources** include \n",
    "* cash and marketable securities on hand, \n",
    "* bank borrowings \n",
    "* cash generated from the business. \n",
    "\n",
    "Long-term solvency of a company depends on its ability to generate sufficient cash from its business to service its liabilities. Analysts evaluate a company's liquidity management primarily by reviewing its statement of cash flows.\n",
    "\n",
    "Companies generally rely on primary sources of liquidity. However, if needed, the company can rely on **secondary liquidity sources**, such as the following:\n",
    "\n",
    "* Cash saved by suspending dividends to shareholders\n",
    "* Delaying or reducing capital investments\n",
    "* Selling assets\n",
    "* Issuing additional equity\n",
    "* Restructuring debt to extend its maturity\n",
    "* Bankruptcy protection filing, which suspends the need to service the liabilities\n",
    "\n",
    "Using secondary liquidity sources sends negative signals to the market, and they are generally more costly than primary liquidity sources.\n",
    "\n",
    "A company's cash conversion cycle may vary by time of the year (i.e., seasonality) and as business conditions change (e.g., a sudden dip in demand for a company's product will increase inventory and increase DOH). Cash and marketable securities serve as a buffer to meet the company's obligations when there is a deviation from the normal CCC. This excess cash has a cost because it represents capital not invested in the business, but inadequate liquidity can result in having to rely on higher-cost secondary sources.\n",
    "\n"
   ]
  },
  {
   "cell_type": "code",
   "execution_count": null,
   "id": "a78cfd88",
   "metadata": {},
   "outputs": [],
   "source": []
  }
 ],
 "metadata": {
  "kernelspec": {
   "display_name": "Python 3 (ipykernel)",
   "language": "python",
   "name": "python3"
  },
  "language_info": {
   "codemirror_mode": {
    "name": "ipython",
    "version": 3
   },
   "file_extension": ".py",
   "mimetype": "text/x-python",
   "name": "python",
   "nbconvert_exporter": "python",
   "pygments_lexer": "ipython3",
   "version": "3.11.5"
  }
 },
 "nbformat": 4,
 "nbformat_minor": 5
}
