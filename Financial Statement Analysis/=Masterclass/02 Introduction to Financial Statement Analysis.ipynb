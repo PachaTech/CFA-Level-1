{
 "cells": [
  {
   "cell_type": "markdown",
   "id": "405f38a4-29c3-42ca-9cae-88ffc61165b8",
   "metadata": {},
   "source": [
    "<hr>\n",
    "\n",
    "# FSA MASTERCLASS 2\n",
    "\n",
    "## Introduction to Financial Statement Analysis\n",
    "\n",
    "<hr>\n",
    "\n"
   ]
  },
  {
   "cell_type": "markdown",
   "id": "efb0ebcf-288e-4744-bb74-820369818568",
   "metadata": {},
   "source": [
    "### Exam Focus\n",
    "\n",
    "* Purpose of financial statement analysis\n",
    "* Sources of regulated information\n",
    "* The audit report - *MOST IMPORTANT: Content of audit report*\n",
    "*  Differences between U.S. GAAP and IFRS"
   ]
  },
  {
   "cell_type": "markdown",
   "id": "a261c616-a228-4d16-ab49-9a6eb73d90e6",
   "metadata": {},
   "source": [
    "### Regulated Sources of Information\n",
    "* Accounting standards\n",
    "    *  U.S. GAAP\n",
    "    *  IFRS (International Financial Reporting Standards)\n",
    "\n",
    "* Securities regulation\n",
    "    * IOSCO\n",
    "    * U.S. Securities and Exchange Commission\n",
    "    * European Commission:\n",
    "        * European Securities Commission (ESC)\n",
    "        * European Securities and Market Authority (ESMA)"
   ]
  },
  {
   "cell_type": "code",
   "execution_count": null,
   "id": "cf7e97e0-5e69-4c2d-be97-feed999f9975",
   "metadata": {},
   "outputs": [],
   "source": []
  }
 ],
 "metadata": {
  "kernelspec": {
   "display_name": "Python 3 (ipykernel)",
   "language": "python",
   "name": "python3"
  },
  "language_info": {
   "codemirror_mode": {
    "name": "ipython",
    "version": 3
   },
   "file_extension": ".py",
   "mimetype": "text/x-python",
   "name": "python",
   "nbconvert_exporter": "python",
   "pygments_lexer": "ipython3",
   "version": "3.11.8"
  }
 },
 "nbformat": 4,
 "nbformat_minor": 5
}
