{
 "cells": [
  {
   "cell_type": "markdown",
   "id": "405f38a4-29c3-42ca-9cae-88ffc61165b8",
   "metadata": {},
   "source": [
    "<hr>\n",
    "\n",
    "# FSA MASTERCLASS 2\n",
    "\n",
    "## Introduction to Financial Statement Analysis\n",
    "\n",
    "<hr>\n",
    "\n"
   ]
  },
  {
   "cell_type": "markdown",
   "id": "efb0ebcf-288e-4744-bb74-820369818568",
   "metadata": {},
   "source": [
    "### Exam Focus\n",
    "\n",
    "* Purpose of financial statement analysis\n",
    "* Sources of regulated information\n",
    "* The audit report - *MOST IMPORTANT: Content of audit report*\n",
    "*  Differences between U.S. GAAP and IFRS"
   ]
  },
  {
   "cell_type": "markdown",
   "id": "bb71c923-ae1b-4dea-8941-36a9d7cadc31",
   "metadata": {},
   "source": [
    "<img src=\"https://github.com/PachaTech/CFA-Level-1/blob/main/Financial%20Statement%20Analysis/=Masterclass/MC_2%20pics/01.png?raw=true\">\n",
    "<img src=\"https://github.com/PachaTech/CFA-Level-1/blob/main/Financial%20Statement%20Analysis/=Masterclass/MC_2%20pics/02.png?raw=true\">\n",
    "\n"
   ]
  },
  {
   "cell_type": "markdown",
   "id": "a261c616-a228-4d16-ab49-9a6eb73d90e6",
   "metadata": {},
   "source": [
    "### Regulated Sources of Information\n",
    "* Accounting standards\n",
    "    *  U.S. GAAP\n",
    "    *  [IFRS (International Financial Reporting Standards)](https://www.ifrs.org)\n",
    "<p><br></p>\n",
    "\n",
    "* Securities regulation\n",
    "    * [IOSCO](https://www.iosco.org)\n",
    "        *  covers 95% securities markets in the world.  Spanning 150 different security districts.  They set the objectives and principles of securities regulation.\n",
    "        * GOALS:\n",
    "            * investor protection\n",
    "            * working on transparent and fair markets, through trade publishing, release of price sensitive information.\n",
    "            * Reduce systematic risk(s), global risk ('contagion')\n",
    "            * Basel agreements and regulating capital fit in it.\n",
    "    * [U.S. Securities and Exchange Commission](https://www.sec.gov)\n",
    "    * European Commission:\n",
    "        * [European Securities Commission (ESC)](https://finance.ec.europa.eu/regulation-and-supervision/expert-groups-comitology-and-other-committees/european-securities-committee_en)\n",
    "        * [European Securities and Market Authority (ESMA)](https://www.esma.europa.eu)\n",
    "     \n",
    "<p><br></p>\n",
    "\n",
    "*Which standard should I assume when there are conflicts between them on Exam?*\n",
    "* Assume IFRS unless otherwise noted in the exam\n"
   ]
  },
  {
   "cell_type": "markdown",
   "id": "1bffebe4-7f8d-470f-adac-28fb9dc6ab90",
   "metadata": {},
   "source": [
    "<img src=\"https://github.com/PachaTech/CFA-Level-1/blob/main/Financial%20Statement%20Analysis/=Masterclass/MC_2%20pics/03.png?raw=true\">"
   ]
  },
  {
   "cell_type": "markdown",
   "id": "de9f71f1-f5fa-4657-97e5-8fd6d6bb6b52",
   "metadata": {},
   "source": [
    "### Footnotes \n",
    "\n",
    "* Footnotes = additional information on the amounts presented in the primary financial statements.  Required additional information is often required in footnotes such as 1 step Income Statements.  i.e. more information than the face of the financial statements.  \n",
    "* Basis of presentation (for the accounts) - how the accounts have been prepared.\n",
    "* Information on accounting policies, methods, and estimates (*for all material lines and items in the Financial statement*) \n",
    "\n",
    "* Other disclosures\n",
    " \n",
    "    * Segment reporting\n",
    "  \n",
    "    * Acquisitions and disposals\n",
    "\n",
    "    * Financial instruments and risks  - debt, derivatives, etc.\n",
    "    \n",
    "    * Post balance sheet events\n",
    "    \n",
    "    * Related party transactions\n",
    "\n",
    "#### SEGMENTAL REPORTING\n",
    "<img src=\"https://github.com/PachaTech/CFA-Level-1/blob/main/Financial%20Statement%20Analysis/=Masterclass/MC_2%20pics/04.png?raw=true\">\n",
    "\n",
    "* Segment reporting - when you have a comglomerate.  Company with many different operations.  Maybe each operation is a different subsidiary, or setup of a divisional basis.\n",
    "* Segmental reporting is required if a **Division** is greater than 10% of revenue to 3rd party customers, your asset usage, or your profits, then seperate segmental required.  USEFUL to analyst.\n"
   ]
  },
  {
   "cell_type": "markdown",
   "id": "a0eb9438-4037-4a2c-a9db-84be61118296",
   "metadata": {},
   "source": [
    "### Management Discussion and Analysis (MD&A)\n",
    "\n",
    "IASB and IFRS Practice Statement\n",
    "1. Nature of the business\n",
    "2. Management's objectives and strategies\n",
    "3. Significant resources, risks, and relationships\n",
    "4. Results of operations\n",
    "5. Critical performance measures\n",
    "   \n",
    "Should include favorable and unfavorable trends and events impacting:\n",
    "* Liquidity\n",
    "* Capital resource\n",
    "* Operating results\n",
    "\n",
    "*tends to be a US phrase* \n",
    "not strictly audited, Kind of a review of the company, what are your core business operations?  \n"
   ]
  },
  {
   "cell_type": "markdown",
   "id": "4aedb29e-448e-4278-9b38-9134426a0c5d",
   "metadata": {},
   "source": [
    "### The Audit Report\n",
    "\n",
    "*Independent review* of company's financial statements; unqualified report offers <u>**reasonable assurance**</u> that financial statements are free of <u>material errors</u>\n",
    "<p><br<</p>\n",
    "    \n",
    "#### Audit opinion\n",
    "* <FONT COLOR=\"#ff0000\">Unqualified:</FONT> \"unmodified\" or \"clean\" opinion\n",
    "\n",
    "**MODIFIED**\n",
    "* <FONT COLOR=\"#ff0000\">Qualified:</FONT> exceptions to accounting principles\n",
    "* <FONT COLOR=\"#ff0000\">Adverse:</FONT> statements not presented fairly\n",
    "* <FONT COLOR=\"#ff0000\">Disclaimer of opinion:</FONT> unable to form an opinion\n",
    "\n",
    "Must provide opinion on company's **internal controls** under U.S. (Sarbanes Oxley)\n",
    "\n",
    "#### Standard auditor's opinion\n",
    "1. Responsibility of <FONT COLOR=\"#ff0000\">management</Font> to prepare accounts; <FONT COLOR=\"#ff0000\">independence</FONT> of <FONT COLOR=\"#ff0000\">auditors</FONT>\n",
    "2. Properly <FONT COLOR=\"#ff0000\">prepared</FONT> in accordance with <FONT COLOR=\"#ff0000\">relevant GAAP</FONT>; <FONT COLOR=\"#ff0000\">reasonable assurance</FONT> that the statements are free from <FONT COLOR=\"#ff0000\">material misstatement</FONT>\n",
    "3. Accounting <FONT COLOR=\"#ff0000\">principles</FONT> and <FONT COLOR=\"#ff0000\">estimates</FONT> chosen are <FONT COLOR=\"#ff0000\">reasonable</FONT>\n",
    "\n",
    "#### Key (critical) audit matters\n",
    "Highlights accounting choices requiring <u>significant judgments or estimates</u>, how significant transactions were accounted for, and choices the auditor believes have a <u>significant likelihood of being misstated</u>"
   ]
  },
  {
   "cell_type": "markdown",
   "id": "070dba1d-b545-4fb1-aee2-1707359f203f",
   "metadata": {},
   "source": [
    "### Key Differences: IFRS & U.S. GAAP\n",
    "\n",
    "<img src=\"https://github.com/PachaTech/CFA-Level-1/blob/main/Financial%20Statement%20Analysis/=Masterclass/MC_2%20pics/05.png?raw=true\">"
   ]
  }
 ],
 "metadata": {
  "kernelspec": {
   "display_name": "Python 3 (ipykernel)",
   "language": "python",
   "name": "python3"
  },
  "language_info": {
   "codemirror_mode": {
    "name": "ipython",
    "version": 3
   },
   "file_extension": ".py",
   "mimetype": "text/x-python",
   "name": "python",
   "nbconvert_exporter": "python",
   "pygments_lexer": "ipython3",
   "version": "3.11.8"
  }
 },
 "nbformat": 4,
 "nbformat_minor": 5
}
