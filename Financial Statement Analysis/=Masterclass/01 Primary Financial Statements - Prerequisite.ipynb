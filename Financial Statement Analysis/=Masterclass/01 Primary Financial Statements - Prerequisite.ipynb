{
 "cells": [
  {
   "cell_type": "markdown",
   "id": "4ae681dd-bca2-4665-aea3-937675b6296d",
   "metadata": {},
   "source": [
    "<hr>\n",
    "\n",
    "# FSA: Masterclass 1\n",
    "\n",
    "## Primary Financial Statements - Prerequisite\n",
    "<hr>\n",
    "\n"
   ]
  },
  {
   "cell_type": "markdown",
   "id": "de36509a-8736-4ff0-b70a-661bd90bf4a5",
   "metadata": {},
   "source": [
    "<img src=\"https://github.com/PachaTech/CFA-Level-1/blob/main/Financial%20Statement%20Analysis/=Masterclass/MC_1%20pics/01.png?raw=true\">\n",
    "\n",
    "<img src=\"https://github.com/PachaTech/CFA-Level-1/blob/main/Financial%20Statement%20Analysis/=Masterclass/MC_1%20pics/02.png?raw=true\">\n",
    "\n",
    "<img src=\"https://github.com/PachaTech/CFA-Level-1/blob/main/Financial%20Statement%20Analysis/=Masterclass/MC_1%20pics/03.png?raw=true\">\n",
    "\n",
    "<img src=\"https://github.com/PachaTech/CFA-Level-1/blob/main/Financial%20Statement%20Analysis/=Masterclass/MC_1%20pics/04.png?raw=true\">\n",
    "\n",
    "<img src=\"https://github.com/PachaTech/CFA-Level-1/blob/main/Financial%20Statement%20Analysis/=Masterclass/MC_1%20pics/05.png?raw=true\">\n",
    "\n",
    "<img src=\"https://github.com/PachaTech/CFA-Level-1/blob/main/Financial%20Statement%20Analysis/=Masterclass/MC_1%20pics/06.png?raw=true\">\n",
    "\n",
    "<img src=\"https://github.com/PachaTech/CFA-Level-1/blob/main/Financial%20Statement%20Analysis/=Masterclass/MC_1%20pics/07.png?raw=true\">\n",
    "\n",
    "<img src=\"https://github.com/PachaTech/CFA-Level-1/blob/main/Financial%20Statement%20Analysis/=Masterclass/MC_1%20pics/08.png?raw=true\">\n",
    "<img src=\"https://github.com/PachaTech/CFA-Level-1/blob/main/Financial%20Statement%20Analysis/=Masterclass/MC_1%20pics/09.png?raw=true\">\n",
    "<img src=\"https://github.com/PachaTech/CFA-Level-1/blob/main/Financial%20Statement%20Analysis/=Masterclass/MC_1%20pics/10.png?raw=true\">\n",
    "<img src=\"https://github.com/PachaTech/CFA-Level-1/blob/main/Financial%20Statement%20Analysis/=Masterclass/MC_1%20pics/11.png?raw=true\">\n",
    "<img src=\"https://github.com/PachaTech/CFA-Level-1/blob/main/Financial%20Statement%20Analysis/=Masterclass/MC_1%20pics/12.png?raw=true\">\n",
    "<img src=\"https://github.com/PachaTech/CFA-Level-1/blob/main/Financial%20Statement%20Analysis/=Masterclass/MC_1%20pics/13.png?raw=true\">\n",
    "<img src=\"https://github.com/PachaTech/CFA-Level-1/blob/main/Financial%20Statement%20Analysis/=Masterclass/MC_1%20pics/14.png?raw=true\">\n",
    "<img src=\"https://github.com/PachaTech/CFA-Level-1/blob/main/Financial%20Statement%20Analysis/=Masterclass/MC_1%20pics/15.png?raw=true\">\n",
    "<img src=\"https://github.com/PachaTech/CFA-Level-1/blob/main/Financial%20Statement%20Analysis/=Masterclass/MC_1%20pics/16.png?raw=true\">\n",
    "<img src=\"https://github.com/PachaTech/CFA-Level-1/blob/main/Financial%20Statement%20Analysis/=Masterclass/MC_1%20pics/17.png?raw=true\">\n",
    "<img src=\"https://github.com/PachaTech/CFA-Level-1/blob/main/Financial%20Statement%20Analysis/=Masterclass/MC_1%20pics/18.png?raw=true\">\n",
    "<img src=\"https://github.com/PachaTech/CFA-Level-1/blob/main/Financial%20Statement%20Analysis/=Masterclass/MC_1%20pics/19.png?raw=true\">\n",
    "<img src=\"https://github.com/PachaTech/CFA-Level-1/blob/main/Financial%20Statement%20Analysis/=Masterclass/MC_1%20pics/20.png?raw=true\">\n",
    "<img src=\"https://github.com/PachaTech/CFA-Level-1/blob/main/Financial%20Statement%20Analysis/=Masterclass/MC_1%20pics/21.png?raw=true\">\n",
    "<img src=\"https://github.com/PachaTech/CFA-Level-1/blob/main/Financial%20Statement%20Analysis/=Masterclass/MC_1%20pics/22.png?raw=true\">\n",
    "<img src=\"https://github.com/PachaTech/CFA-Level-1/blob/main/Financial%20Statement%20Analysis/=Masterclass/MC_1%20pics/23.png?raw=true\">\n",
    "<img src=\"https://github.com/PachaTech/CFA-Level-1/blob/main/Financial%20Statement%20Analysis/=Masterclass/MC_1%20pics/24.png?raw=true\">\n",
    "<img src=\"https://github.com/PachaTech/CFA-Level-1/blob/main/Financial%20Statement%20Analysis/=Masterclass/MC_1%20pics/25.png?raw=true\">\n",
    "<img src=\"https://github.com/PachaTech/CFA-Level-1/blob/main/Financial%20Statement%20Analysis/=Masterclass/MC_1%20pics/26.png?raw=true\">\n",
    "<img src=\"https://github.com/PachaTech/CFA-Level-1/blob/main/Financial%20Statement%20Analysis/=Masterclass/MC_1%20pics/27.png?raw=true\">\n",
    "<img src=\"https://github.com/PachaTech/CFA-Level-1/blob/main/Financial%20Statement%20Analysis/=Masterclass/MC_1%20pics/28.png?raw=true\">\n",
    "<img src=\"https://github.com/PachaTech/CFA-Level-1/blob/main/Financial%20Statement%20Analysis/=Masterclass/MC_1%20pics/29.png?raw=true\">\n",
    "<img src=\"https://github.com/PachaTech/CFA-Level-1/blob/main/Financial%20Statement%20Analysis/=Masterclass/MC_1%20pics/30.png?raw=true\">"
   ]
  }
 ],
 "metadata": {
  "kernelspec": {
   "display_name": "Python 3 (ipykernel)",
   "language": "python",
   "name": "python3"
  },
  "language_info": {
   "codemirror_mode": {
    "name": "ipython",
    "version": 3
   },
   "file_extension": ".py",
   "mimetype": "text/x-python",
   "name": "python",
   "nbconvert_exporter": "python",
   "pygments_lexer": "ipython3",
   "version": "3.11.8"
  }
 },
 "nbformat": 4,
 "nbformat_minor": 5
}
