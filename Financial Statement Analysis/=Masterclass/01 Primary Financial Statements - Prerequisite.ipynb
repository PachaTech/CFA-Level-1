{
 "cells": [
  {
   "cell_type": "markdown",
   "id": "4ae681dd-bca2-4665-aea3-937675b6296d",
   "metadata": {},
   "source": [
    "<hr>\n",
    "\n",
    "# FSA: Masterclass 1\n",
    "\n",
    "## Primary Financial Statements - Prerequisite\n",
    "<hr>\n",
    "\n"
   ]
  },
  {
   "cell_type": "code",
   "execution_count": null,
   "id": "33c22ad1-f812-4534-bf8d-5b95b0b80125",
   "metadata": {},
   "outputs": [],
   "source": []
  }
 ],
 "metadata": {
  "kernelspec": {
   "display_name": "Python 3 (ipykernel)",
   "language": "python",
   "name": "python3"
  },
  "language_info": {
   "codemirror_mode": {
    "name": "ipython",
    "version": 3
   },
   "file_extension": ".py",
   "mimetype": "text/x-python",
   "name": "python",
   "nbconvert_exporter": "python",
   "pygments_lexer": "ipython3",
   "version": "3.11.8"
  }
 },
 "nbformat": 4,
 "nbformat_minor": 5
}
