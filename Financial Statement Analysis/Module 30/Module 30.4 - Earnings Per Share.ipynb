{
 "cells": [
  {
   "cell_type": "markdown",
   "id": "684e89e3",
   "metadata": {},
   "source": [
    "<hr>\n",
    "\n",
    "# Module 30.4: Earnings Per Share\n",
    "\n",
    "<hr>\n"
   ]
  },
  {
   "cell_type": "markdown",
   "id": "aee1988b",
   "metadata": {},
   "source": [
    "### LOS 30.d: Describe how earnings per share is calculated and calculate and interpret a company's basic and diluted earnings per share for companies with simple and complex capital structures including those with antidilutive securities.\n",
    "\n",
    "**Earnings per share (EPS)** is one of the most commonly used corporate profitability performance measures for publicly traded firms (nonpublic companies are not required to report EPS data). EPS is reported only for shares of common stock (also known as ordinary stock).\n",
    "\n",
    "A company may have either a simple or complex capital structure:\n",
    "\n",
    "* A **simple capital structure** is one that contains no potentially dilutive securities. A simple capital structure contains only common stock, nonconvertible debt, and nonconvertible preferred stock.\n",
    "* A **complex capital structure** contains *potentially dilutive securities* such as employee stock options, warrants, or convertible securities.\n",
    "\n",
    "All firms with complex capital structures must report both basic and *diluted* EPS. Firms with simple capital structures report only basic EPS.\n",
    "\n"
   ]
  },
  {
   "cell_type": "markdown",
   "id": "7d548e8f",
   "metadata": {},
   "source": [
    "#### Basic EPS\n",
    "\n",
    "The basic EPS calculation does not consider the effects of any dilutive securities in the computation of EPS:\n",
    "\\\n",
    "\\\n",
    "$$\n",
    "\\text{basic EPS} = \\frac{\\text{net income - preferred dividends}}{\\text{weighted average number of common shares outstanding}}\n",
    "$$\n",
    "    <p> <br> </p>\n",
    "\n",
    "The current year's preferred dividends are subtracted from net income because EPS refers to the per-share earnings *available to common shareholders*. Net income minus preferred dividends is the income available to common stockholders. Common stock dividends are not subtracted from net income because they are a part of the net income available to common shareholders.\n",
    "\n",
    "The **weighted average number** of common shares is the number of shares outstanding during the year, weighted by the portion of the year they were outstanding.\n",
    "\n",
    "<hr>"
   ]
  },
  {
   "cell_type": "markdown",
   "id": "daee76cf",
   "metadata": {},
   "source": [
    "#### Effect of Stock Dividends and Stock Splits\n",
    "\n",
    "A s**tock dividend** is the distribution of additional shares to each shareholder in an amount proportional to their current number of shares. If a 10% stock dividend is paid, the holder of 100 shares of stock would receive 10 additional shares.\n",
    "\n",
    "A **stock split** refers to the division of each \"old\" share into a specific number of \"new\" (post-split) shares. The holder of 100 shares will have 200 shares after a 2-for-1 split, or 150 shares after a 3-for-2 split.\n",
    "\n",
    "The important thing to remember is that each shareholder's proportional ownership in the company is unchanged by either of these events. Each shareholder has more shares but the same percentage of the total shares outstanding. For calculating EPS, we apply stock dividends and splits retroactively to the beginning of the year, to all shares before the date of the corporate event. Prior years' weighted average number of common shares is also adjusted as if the stock split or stock dividend had occurred in the prior period, to prevent EPS from appearing to decline when these actions are largely cosmetic.\n",
    "\n",
    ">**PROFESSOR'S NOTE**\n",
    "\\\n",
    "For our purposes here, a stock dividend and a stock split are two ways of doing the same thing. For example, a 50% stock dividend and a 3-for-2 stock split both result in three \"new\" shares for every two \"old\" shares.    \n",
    "<p> <br> </p>\n",
    "\n",
    "The following are key things to know about calculating weighted average shares outstanding:\n",
    "\n",
    "* The weighting system is days outstanding divided by the number of days in a year, but on the exam, the monthly approximation method will probably be used.\n",
    "* Shares issued enter into the computation from the date of issuance.\n",
    "* Reacquired shares are excluded from the computation from the date of reacquisition.\n",
    "* Shares sold or issued in a purchase of assets are included from the date of issuance.\n",
    "* A stock split or stock dividend is applied to all shares outstanding before the split or dividend and to the beginning-of-period weighted average shares. A stock split or stock dividend adjustment is not applied to any shares issued or repurchased after the split or dividend date.\n",
    "\n",
    "\n"
   ]
  },
  {
   "cell_type": "markdown",
   "id": "f05f1507",
   "metadata": {},
   "source": [
    "<hr>\n",
    "\n",
    "#### Example: Weighted average shares outstanding\n",
    "\n",
    "Johnson Company has 10,000 shares outstanding at the beginning of the year. On April 1, Johnson issues 4,000 new shares. On July 1, Johnson distributes a 10% stock dividend. On September 1, Johnson repurchases 3,000 shares. Calculate Johnson's weighted average number of shares outstanding for the year, for its reporting of basic earnings per share.\n",
    "\n",
    "**Answer:**\n",
    "\n",
    "Shares outstanding are weighted by the portion of the year that the shares were outstanding. Any shares that were outstanding before the 10% stock dividend must be adjusted for it. Transactions that occur after the stock dividend do not need to be adjusted.\n",
    "\n",
    "**PROFESSOR'S NOTE**\n",
    "\\\n",
    "Think of the shares before the stock dividend as \"old\" shares and shares after the stock dividend as \"new\" shares that each represent ownership of a smaller portion of the company (in this example, 10/11ths of that of an old [pre-stock dividend] share). The weighted average number of shares for the year will be in new shares.\n",
    "\n",
    "<table>\n",
    "<tbody>\n",
    "  <tr>\n",
    "    <td>Shares outstanding on January 1: 10,000 × 1.10 × 12/12 of the year</td>\n",
    "    <td>= </td>\n",
    "    <td>11,000</td>\n",
    "  </tr>\n",
    "  <tr>\n",
    "    <td>Shares issued April 1: 4,000 × 1.10 × 9/12 of the year</td>\n",
    "    <td>= =</td>\n",
    "    <td>3,300</td>\n",
    "  </tr>\n",
    "  <tr>\n",
    "    <td>Shares repurchased September 1: –3,000 × 4/12 of the year</td>\n",
    "    <td>= </td>\n",
    "    <td>–1,000</td>\n",
    "  </tr>\n",
    "  <tr>\n",
    "    <td>Weighted average shares outstanding </td>\n",
    "    <td>= </td>\n",
    "    <td>13,300</td>\n",
    "  </tr>\n",
    "</tbody>\n",
    "</table>"
   ]
  },
  {
   "cell_type": "markdown",
   "id": "6098e64e",
   "metadata": {},
   "source": [
    "<hr>\n",
    "\n",
    "#### Example: Basic earnings per share\n",
    "\n",
    "Johnson Company has net income of <FONT COLOR=\"#ff0000\">€10,000</font>, paid €1,000 cash dividends to its preferred shareholders, and paid €1,750 cash dividends to its common shareholders. Calculate Johnson's basic EPS using the weighted average number of shares from the previous example.\n",
    "\n",
    "**Answer:**\n",
    "\n",
    "$\\text{basic EPS} = \\Large\\frac{\\text{net income - preferred dividends}}{\\text{weighted average shares of common}}$\n",
    "<p> <br> </p>\n",
    "\n",
    "$\\qquad = \\Large\\frac{€10,000 − €1,000}{13,300} \\small = €0.68$\n",
    "\n",
    "<p> <br> </p>\n",
    "\n",
    ">**PROFESSOR'S NOTE**\n",
    "\\\n",
    "Remember, the payment of a cash dividend on common shares is not considered in the calculation of EPS."
   ]
  },
  {
   "cell_type": "code",
   "execution_count": 2,
   "id": "7541f119",
   "metadata": {},
   "outputs": [
    {
     "name": "stdout",
     "output_type": "stream",
     "text": [
      "EPS for Johnson Company is = 0.68 €\n"
     ]
    }
   ],
   "source": [
    "# Example: EPS Johnson company \n",
    "\n",
    "EPS_Johnson = (10000-1000)/13300\n",
    "print(\"EPS for Johnson Company is =\",round(EPS_Johnson,2), \"€\")"
   ]
  },
  {
   "cell_type": "markdown",
   "id": "d12fb32a",
   "metadata": {},
   "source": [
    "#### Diluted EPS\n",
    "\n",
    "Before calculating diluted EPS, it is necessary to understand the following terms:\n",
    "\n",
    "* **Dilutive securities** are stock options, warrants, convertible debt, or convertible preferred stock that would *decrease* EPS if exercised or converted to common stock.\n",
    "* **Antidilutive securities** are stock options, warrants, convertible debt, or convertible preferred stock that would *increase EPS* if exercised or converted to common stock.\n",
    "\n",
    "We apply the <FONT COLOR=\"#ff0000\"> \"if converted\" method</font> to examine the impact of potentially dilutive securities. This looks at what EPS would have been if the securities were converted at the start of the accounting period, regardless of whether they can actually be converted during the period.\n",
    "\n",
    "The numerator of the basic EPS equation contains income available to common shareholders (net income less preferred dividends). In the case of diluted EPS, if there are dilutive securities, the numerator must be adjusted as follows:\n",
    "\n",
    "* If convertible preferred stock is dilutive (meaning EPS will decrease if it is converted to common stock), the convertible preferred dividends must be added to earnings available to common shareholders.\n",
    "* If convertible bonds are dilutive, then the bonds' after-tax interest expense is not considered an interest expense for diluted EPS. Hence, interest expense multiplied by $(1 – \\text{the tax rate})$ must be added back to the numerator.\n",
    "\n",
    "**PROFESSOR'S NOTE**\n",
    "\\\n",
    "Interest paid on bonds is typically tax deductible for the firm. If convertible bonds are converted to stock, the firm saves the interest cost but loses the tax deduction. Thus, only the after-tax interest savings are added back to income available to common shareholders.\n",
    "\n",
    "<p> <br> </p>\n",
    "\n",
    "The basic EPS denominator is the weighted average number of shares. When the firm has dilutive securities outstanding, the denominator is adjusted for the equivalent number of common shares that would be created by the conversion of all dilutive securities outstanding (convertible bonds, convertible preferred shares, warrants, and options), with each one considered separately to determine if it is dilutive.\n",
    "\n",
    "If a dilutive security was issued during the year, the increase in the weighted average number of shares for diluted EPS is based on only the portion of the year the dilutive security was outstanding.\n",
    "\n",
    "Dilutive stock options or warrants increase the number of common shares outstanding in the denominator for diluted EPS. There is no adjustment to the numerator.\n",
    "\n",
    "the **diluted EPS equation** is:\n",
    "\n",
    "$\\qquad \\text{diluted EPS}  = \\Large\\frac{\\text{adjusted income available for common shares}}{\\text{weighted-average common and potential common shares outstanding}}$\n",
    "\\\n",
    "\\\n",
    "where:\n",
    "\n",
    "adjusted income available for: \n",
    "\\\n",
    "$\\text{common shares} = \\text{net income – preferred dividends}$ + dividends on convertible preferred stock + after-tax interest on convertible debt\n",
    "\\\n",
    "\\\n",
    "Therefore, <FONT COLOR=\"#ff0000\">diluted EPS</font> is:\n",
    "\n",
    "$$\n",
    "\\text{adjusted income available for common shares} = \\\\ \n",
    "\\text{net income - preferred dividends} \\\\\n",
    "+ \\text{dividends on convertible preferred stock}\\\\\n",
    "+ \\text{after-tax interest on convertible debt}\n",
    "$$\n",
    "\\\n",
    "\\\n",
    "The effect of conversion to common shares is included in the calculation of diluted EPS for a given security only if it is, in fact, dilutive. If a firm has more than one potentially dilutive security outstanding, each potentially dilutive security must be examined separately to determine if it is actually dilutive (i.e., would reduce EPS if converted to common stock).\n",
    "\n",
    "<hr>"
   ]
  },
  {
   "cell_type": "markdown",
   "id": "801d1e03",
   "metadata": {},
   "source": [
    "#### Example: EPS with convertible preferred stock\n",
    "\n",
    "During 20X6, ZZZ Corp. reported net income of €4.35 million and had 2 million shares of common stock outstanding for the entire year. ZZZ's 7\\%, €5 million par value preferred stock is convertible into common stock at a conversion rate of 1.1 shares for every €10 of par value. Calculate basic and diluted EPS."
   ]
  },
  {
   "cell_type": "code",
   "execution_count": 13,
   "id": "6d10cf48",
   "metadata": {},
   "outputs": [
    {
     "name": "stdout",
     "output_type": "stream",
     "text": [
      "The Basic EPS for the ZZZ stock is = € 2.0\n"
     ]
    }
   ],
   "source": [
    "#### Example: EPS with convertible preferred stock\n",
    "\n",
    "# Step 1 Calculate 20X6 basic EPS\n",
    "basic_EPS = (4350000-((0.07)*(5000000)))/2000000\n",
    "print(\"The Basic EPS for the ZZZ stock is = €\",basic_EPS)"
   ]
  },
  {
   "cell_type": "markdown",
   "id": "4d322e12",
   "metadata": {},
   "source": [
    "**Answer:**\n",
    "\n",
    "Step 1: Calculate 20X6 basic EPS:\n",
    "\n",
    "\\\n",
    "$\\qquad\\text{basic EPS} = \\Large\\frac{€4,350,000 - (0.07)(€5,000,000)}{2,000,000} \\small = €2.00$\n",
    "<p> <br> </p>\n",
    "\n",
    "Step 2: Calculate diluted EPS:\n",
    "\n",
    "* Compute the increase in common stock outstanding if the preferred stock is converted to common stock at the beginning of 20X6: (€5,000,000 / €10) × 1.1 = 550,000 shares.\n",
    "* If the convertible preferred shares were converted to common stock, there would be no preferred dividends paid. Therefore, you should add back the convertible preferred dividends that had previously been subtracted from net income in the numerator.\n",
    "* Compute diluted EPS as if the convertible preferred stock were converted into common stock:\n",
    "<p> <br> </p>\n",
    "\n",
    "$\\text{diluted EPS} = \\Large\\frac{\\text{net. inc.} - \\text{pref. div.} + \\text{convert. pref. dividends}} {\\text{wt. avg. shares} + \\text{convert. pref. common shares}}$\n",
    "\n",
    "<p> <br> </p>\n",
    "\n",
    "$\\text{diluted EPS} = \\Large\\frac{€4,350,000}{2,000,000 + 550,000} \\small = €1.71$\n",
    "\n",
    "<p> <br> </p>\n",
    "\n",
    "* Check to see if diluted EPS is less than basic EPS $(€1.71 < €2.00)$. If the answer is yes, the preferred stock is dilutive and must be included in diluted EPS as computed previously. If the answer is no, the preferred stock is antidilutive, and conversion effects are not included in diluted EPS."
   ]
  },
  {
   "cell_type": "code",
   "execution_count": 9,
   "id": "ad642107",
   "metadata": {},
   "outputs": [
    {
     "name": "stdout",
     "output_type": "stream",
     "text": [
      "Basic EPS for 20X6   = € 2.0\n",
      "Diluted EPS for 20X6 = € 1.71\n"
     ]
    }
   ],
   "source": [
    "print(\"Basic EPS for 20X6   = €\",basic_EPS)\n",
    "\n",
    "# Step 2: Calculate diluted EPS:\n",
    "diluted_EPS = 4350000/(2000000+550000)\n",
    "print(\"Diluted EPS for 20X6 = €\",round(diluted_EPS,2))"
   ]
  },
  {
   "cell_type": "markdown",
   "id": "71adc96b",
   "metadata": {},
   "source": [
    "A quick way to check whether convertible preferred stock is <u>dilutive</u> is to divide the preferred dividend by the number of shares that will be created if the preferred stock is converted. For ZZZ:\n",
    "<p> <br> </p>\n",
    "$\\qquad\\Large\\frac{€5,000,000 x 0.07}{550,000} \\small = €0.64$\n"
   ]
  },
  {
   "cell_type": "code",
   "execution_count": 21,
   "id": "6f792e0c",
   "metadata": {},
   "outputs": [
    {
     "name": "stdout",
     "output_type": "stream",
     "text": [
      "Diluted EPS for 20X6 = € 1.71\n",
      "Basic EPS for 20X6   = € 2.0\n",
      "\n",
      "\n",
      "Check if convertible preferred is dilutive = € 0.64\n",
      "Because this is less than basic EPS, the convertible preferred is dilutive.\n"
     ]
    }
   ],
   "source": [
    "# Print prior calculations\n",
    "print(\"Diluted EPS for 20X6 = €\",round(diluted_EPS,2))\n",
    "print(\"Basic EPS for 20X6   = €\",basic_EPS)\n",
    "\n",
    "\n",
    "# Step 3: check whether convertible preferred stock is dilutive \n",
    "check_dilute = (5000000 * 0.07)/(550000)\n",
    "print(\"\\n\")\n",
    "print(\"Check if convertible preferred is dilutive = €\",round(check_dilute,2))\n",
    "print(\"Because this is less than basic EPS, the convertible preferred is dilutive.\")"
   ]
  },
  {
   "cell_type": "markdown",
   "id": "bb75f501",
   "metadata": {},
   "source": [
    "Because the number above is less than basic EPS, the convertible preferred is dilutive.\n",
    "\n",
    "The convertible preferred is dilutive, because $(0.64 < 2.0)$\n",
    "<hr>"
   ]
  },
  {
   "cell_type": "markdown",
   "id": "47806b43",
   "metadata": {},
   "source": [
    "#### Example: EPS with convertible debt\n",
    "\n",
    "During 20X6, YYY Corp. had earnings available to common shareholders of €2.5 million and had 1 million shares of common stock outstanding for the entire year, for basic EPS of €2.50. During 20X5, YYY issued 2,000, €1,000 par, 5\\% bonds for €2 million (issued at par). Each of these bonds is convertible to 120 shares of common stock. The tax rate is 30\\%. Calculate the 20X6 diluted EPS."
   ]
  },
  {
   "cell_type": "code",
   "execution_count": 78,
   "id": "6c5d9448",
   "metadata": {},
   "outputs": [
    {
     "name": "stdout",
     "output_type": "stream",
     "text": [
      "shares issuable for debt conversion =  240,000 shares\n",
      "\n",
      "\n",
      "increase YYY's after-tax net income for the after-tax effect of \n",
      " the decrease in interest expense\n",
      "\n",
      "interest in income =  70,000.00 euros\n",
      "\n",
      "\n",
      "The Diluted EPS is =  2.07 euros\n",
      "\n",
      "\n",
      "The per-share-impact of convertible debt is =  0.29 euros\n"
     ]
    }
   ],
   "source": [
    "#### Example: EPS with convertible debt\n",
    "\n",
    "# Step 1:  Compute the increase in common stock outstanding \n",
    "# if the convertible debt is converted to common stock at the beginning of 20X6:\n",
    "\n",
    "\n",
    "# Calculate shares issuable for debt conversion\n",
    "shares_convert = 2000 * 120\n",
    "print(\"shares issuable for debt conversion = \",'{:,.0f}'.format(shares_convert),\"shares\")\n",
    "\n",
    "# Calculate increase in income\n",
    "incr_income = (2000*1000*0.05) * (1 - 0.3)\n",
    "print(\"\\n\")\n",
    "print(\"increase YYY's after-tax net income for the after-tax effect of \\n the decrease in interest expense\")\n",
    "print(\"\")\n",
    "print(\"interest in income = \",'{:,.2f}'.format(incr_income),\"euros\")\n",
    "\n",
    "# Calculate the Diluted EPS\n",
    "diluted_EPS = (2500000+70000)/(1000000+240000)\n",
    "print(\"\\n\")\n",
    "print(\"The Diluted EPS is = \",'{:,.2f}'.format(diluted_EPS),\"euros\")\n",
    "\n",
    "# Calculate the per-share-impact of convertible debt\n",
    "per_share_impact = 70000/240000\n",
    "print(\"\\n\")\n",
    "print(\"The per-share-impact of convertible debt is = \",'{:,.2f}'.format(per_share_impact),\"euros\")"
   ]
  },
  {
   "cell_type": "markdown",
   "id": "11390baf",
   "metadata": {},
   "source": [
    "**Answer**\n",
    "\n",
    "Compute the increase in common stock outstanding if the convertible debt is converted to common stock at the beginning of 20X6:\n",
    "\n",
    "\n",
    "$\\qquad\\text{shares issuable for debt conversion} = (2,000)(120) = 240,000 \\text{ shares}$\n",
    "\n",
    "If the convertible debt is considered converted to common stock at the beginning of 20X6, then there would be no interest expense related to the convertible debt. Therefore, it is necessary to increase YYY's after-tax net income for the after-tax effect of the decrease in interest expense:\n",
    "\n",
    "$\\qquad\\text{increase in income} = [(2,000)(€1,000)(0.05)] (1 − 0.30) = €70,000$\n",
    "\n",
    "Compute diluted EPS as if the convertible debt were common stock:\n",
    "\n",
    "<p> <br> </p>\n",
    "\n",
    "$\\text{diluted EPS} = \\Large\\frac{\\text{net. inc.} - \\text{pref. div.} + \\text{convert. pref. dividends}} {\\text{wt. avg. shares} + \\text{convert. pref. common shares}}$\n",
    "\n",
    "<p> <br> </p>\n",
    "\n",
    "$\\text{diluted EPS} = \\Large\\frac{€2,500,000 + 70,000}{1,000,000 + 240,000} \\small = €1.71$\n",
    "\n",
    "<p> <br> </p>\n",
    "\n",
    "Check to make sure that diluted EPS is less than basic EPS $(€2.07 < €2.50)$. If diluted EPS is more than the basic EPS, the convertible bonds are antidilutive and should not be treated as common stock in computing diluted EPS.\n",
    "\n",
    "A quick way to determine whether the convertible debt is dilutive is to calculate its per share impact:\n",
    "\n",
    "$\\qquad\\Large\\frac{\\text{convertible debt interest (1 - t)}}{\\text{convertible debt shares}}$\n",
    "\n",
    "<p> <br> </p>\n",
    "If this per share amount is greater than basic EPS, the convertible debt is antidilutive, and the effects of conversion should not be included when calculating diluted EPS.\n",
    "\n",
    "If this per share amount is less than basic EPS, the convertible debt is dilutive, and the effects of conversion should be included in the calculation of diluted EPS.\n",
    "\n",
    "For YYY:\n",
    "\n",
    "$\\Large\\qquad\\frac{€70,000}{240,000} \\small= €0.29$\n",
    "\n",
    "The company's basic EPS is €2.50, so the convertible debt is dilutive, and the effects of conversion should be included in the calculation of diluted EPS.\n",
    "\n"
   ]
  },
  {
   "cell_type": "markdown",
   "id": "ce263c9a",
   "metadata": {},
   "source": [
    "<hr>\n",
    "\n",
    "Stock options and warrants are dilutive only when their exercise prices are less than the average market price of the stock over the year. If the options or warrants are dilutive, use the **treasury stock method** to calculate the number of shares used in the denominator:\n",
    "\n",
    "* The treasury stock method assumes that the funds received by the company from the exercise of the options would be used to hypothetically purchase shares of the company's common stock in the market at the average market price.\n",
    "* The net increase in the number of shares outstanding (the adjustment to the denominator) is the number of shares created by exercising the options less the number of shares hypothetically repurchased with the proceeds of exercise.\n",
    "\n",
    "<hr>"
   ]
  },
  {
   "cell_type": "markdown",
   "id": "7a8385b1",
   "metadata": {},
   "source": [
    "#### Example: EPS with stock options\n",
    "\n",
    "During 20X6, XXX Corp. reported earnings available to common shareholders of €1.2 million and had 500,000 shares of common stock outstanding for the entire year, for basic EPS of €2.40. XXX has 100,000 stock options (or warrants) outstanding the entire year. Each option allows its holder to purchase one share of common stock at €15 per share. The average market price of XXX's common stock during 20X6 is €20 per share. Calculate diluted EPS."
   ]
  },
  {
   "cell_type": "code",
   "execution_count": 75,
   "id": "6fa38b00",
   "metadata": {},
   "outputs": [
    {
     "name": "stdout",
     "output_type": "stream",
     "text": [
      "Number of common shares created if the options are exercised =  100,000 shares\n",
      "\n",
      "Cash inflow if the options are exercised =  100,000.00 euros\n",
      "\n",
      "Number of shares that can be purchased with these funds =  75,000 shares\n",
      "\n",
      "Net increase in shares outstanding from exercising stock options =  25,000 shares\n",
      "\n",
      "Diluted Earnings per share (EPS) =  2.29 euros\n"
     ]
    }
   ],
   "source": [
    "# Number of common shares created if the options are exercised\n",
    "Shares_if_exercised = 100000\n",
    "print(\"Number of common shares created if the options are exercised = \",'{:,.0f}'.format(Shares_if_exercised),\"shares\")\n",
    "print(\"\")\n",
    "\n",
    "# Cash inflow if the options are exercised \n",
    "cash_inflow = 15 * 100000\n",
    "print(\"Cash inflow if the options are exercised = \",'{:,.2f}'.format(Shares_if_exercised),\"euros\")\n",
    "print(\"\")\n",
    "\n",
    "\n",
    "# Number of shares that can be purchased with these funds \n",
    "num_shares_purchase = 1500000/20\n",
    "print(\"Number of shares that can be purchased with these funds = \",'{:,.0f}'.format(num_shares_purchase),\"shares\")\n",
    "print(\"\")\n",
    "\n",
    "# Net increase in common shares outstanding from the exercise of the stock options \n",
    "net_incr = 100000 - 75000\n",
    "print(\"Net increase in shares outstanding from exercising stock options = \",'{:,.0f}'.format(net_incr),\"shares\")\n",
    "print(\"\")\n",
    "\n",
    "# Diluted Earnings per share (EPS)\n",
    "Dilute_EPS2 = 1200000/(500000 + 25000)\n",
    "print(\"Diluted Earnings per share (EPS) = \",'{:,.2f}'.format(Dilute_EPS2),\"euros\")"
   ]
  },
  {
   "cell_type": "markdown",
   "id": "9a7d34e9",
   "metadata": {},
   "source": [
    "**Answer:**\n",
    "\n",
    "    Number of common shares created if the options are exercised = 100,000\n",
    "\n",
    "    Cash inflow if the options are exercised = €15 per share × 100,000 shares = €1,500,000\n",
    "\n",
    "    Number of shares that can be purchased with these funds = €1,500,000 / €20 = 75,000 shares\n",
    "\n",
    "    Net increase in common shares outstanding from the exercise of the stock options = 100,000 – 75,000 = 25,000 shares\n",
    "\n",
    "\n",
    "<p> <br> </p>\n",
    "\n",
    "$\\qquad\\text{diluted EPS} = \\Large\\frac{€1,200,000}{500,000 + 25,000} \\small = €2.29$\n",
    "\n",
    "<p> <br> </p>\n",
    "\n",
    "A quick way to calculate the net increase in common shares from the potential exercise of stock options or warrants when the exercise price is less than the average market price is:\n",
    "\n",
    "<p> <br> </p>\n",
    "\n",
    "$\\qquad\\Large\\Biggr[\\frac{\\text{AMP - EP}}{\\text{AMP}}\\Biggr] \\small \\times N $\n",
    "\n",
    "<p> <br> </p>\n",
    "\n",
    "where:\n",
    "\\\n",
    "\\\n",
    "$\\text{AMP}$ = average market price over the year\n",
    "\\\n",
    "\\\n",
    "$\\text{EP}$ = exercise price of the options or warrants\n",
    "\\\n",
    "\\\n",
    "$\\text{N}$ = number of common shares that the options and warrants can be converted into\n",
    "\n",
    "<p> <br> </p>\n",
    "\n",
    "for XXX:\n",
    "\n",
    "$\\qquad\\Large\\frac{€20 - €15}{€20} \\small \\times 100,000 \\text{ shares} = 25,000 \\text{ shares}$"
   ]
  },
  {
   "cell_type": "code",
   "execution_count": 74,
   "id": "00bb3526",
   "metadata": {},
   "outputs": [
    {
     "name": "stdout",
     "output_type": "stream",
     "text": [
      "Number of common shares created if the options are exercised =  25,000 shares\n",
      "\n"
     ]
    }
   ],
   "source": [
    "# calculate the net increase in common shares from the potential exercise of stock options \n",
    "# or warrants when the exercise price is less than the average market price \n",
    "XXX = ((20-15)/20) *100000\n",
    "print(\"Number of common shares created if the options are exercised = \",'{:,.0f}'.format(XXX),\"shares\")\n",
    "print(\"\")"
   ]
  },
  {
   "cell_type": "markdown",
   "id": "bb7d82d3",
   "metadata": {},
   "source": [
    "<hr>\n",
    "\n",
    "# Module 30.4 Questions\n",
    "\n",
    "<hr>"
   ]
  },
  {
   "cell_type": "markdown",
   "id": "83600d12",
   "metadata": {},
   "source": [
    "<hr>\n",
    "\n",
    "**Question 1:** \\\n",
    "Hall Corp. had 100,000 shares of common stock outstanding at the beginning of the year. Hall issued 30,000 shares of common stock on May 1. On July 1, the company issued a 10% stock dividend. On September 1, Hall issued 1,000, 10% bonds, each convertible into 21 shares of common stock. What is the weighted average number of shares to be used in computing diluted EPS, assuming the convertible bonds are dilutive?\n",
    "\n",
    "\n",
    "**Answer:** \\\n",
    "139,000\n",
    "\n",
    "\n",
    "**Explanation:** \\\n",
    "The new stock is weighted by `8 / 12`. The bonds are weighted by `4 / 12` and are not affected by the stock dividend.\n",
    "\n",
    "    basic shares = {[100,000 × (12 / 12)] + [30,000 × (8 / 12)]} × 1.10 = 132,000\n",
    "\n",
    "    diluted shares = 132,000 + [21,000 × (4 / 12)] = 139,000\n",
    "\\\n",
    "(Module 30.4, LOS 30.d)\n",
    "\n",
    "<hr>"
   ]
  },
  {
   "cell_type": "markdown",
   "id": "f6a83f13",
   "metadata": {},
   "source": [
    "<hr>\n",
    "\n",
    "**Question 2:** \\\n",
    "An analyst has gathered the following information about a company:\n",
    "\n",
    "* 300,000 shares outstanding\n",
    "* 100,000 warrants exercisable at €50 per share\n",
    "* Average share price: €55\n",
    "* Year-end share price: €60\n",
    "\n",
    "How many shares should be used in computing diluted EPS?\n",
    "\n",
    "\n",
    "\n",
    "**Answer:** \\\n",
    "309,091.\n",
    "\n",
    "\n",
    "**Explanation:** \\\n",
    "Because the exercise price of the warrants is less than the average share price, the warrants are dilutive. Use the Treasury stock method to determine the denominator impact:\n",
    "\n",
    "$\\quad\\Large\\frac{55-50}{55} \\small \\times 100,000 \\text{ shares} = 9,091 \\text{ shares}$\n",
    "\n",
    "\\\n",
    "Thus, the denominator will increase by 9,091 shares to 309,091 shares. The question asks for the total, not just the impact of the warrants. \n",
    "\\\n",
    "(Module 30.4, LOS 30.d)\n",
    "\n",
    "<hr>"
   ]
  },
  {
   "cell_type": "markdown",
   "id": "7b0a8a0a",
   "metadata": {},
   "source": [
    "<hr>\n",
    "\n",
    "**Question 3:** \\\n",
    "An analyst has gathered the following information about a company:\n",
    "\n",
    "* 100,000 common shares outstanding from the beginning of the year\n",
    "* Earnings: €125,000\n",
    "* 1,000, 7\\%, €1,000 par bonds convertible into 25 shares each, outstanding as of the beginning of the year\n",
    "* Tax rate: 40%\n",
    "\n",
    "The company's diluted EPS is closest to:\n",
    "\n",
    "\n",
    "**Answer:** \\\n",
    "€1.25.\n",
    "\n",
    "\n",
    "**Explanation:** \\\n",
    "First, calculate basic EPS:\n",
    "\n",
    "€125,000100,000 = €1.25\n",
    "\n",
    "Next, check if the convertible bonds are dilutive:\n",
    "\n",
    "    numerator impact = (1,000 × 1,000 × 0.07) × (1 – 0.4) = €42,000\n",
    "\n",
    "    denominator impact = (1,000 × 25) = 25,000 shares\n",
    "\n",
    "    per share impact= €42,000 / 25,000 shares= €1.68\n",
    "\n",
    "Because €1.68 is greater than the basic EPS of €1.25, the bonds are antidilutive. Thus, diluted EPS = basic EPS = €1.25.\n",
    "\\\n",
    "(Module 30.4, LOS 30.d)\n",
    "\n",
    "<hr>"
   ]
  },
  {
   "cell_type": "markdown",
   "id": "6d2151a3",
   "metadata": {},
   "source": [
    "<hr>\n",
    "\n",
    "**Question 4:** \\\n",
    "An analyst has gathered the following information about a company:\n",
    "\n",
    "* 50,000 common shares outstanding from the beginning of the year\n",
    "* Warrants outstanding all year on 50,000 shares, exercisable at €20 per share\n",
    "* Stock is selling at year-end for €25\n",
    "* Average price of the company's stock for the year was €15\n",
    "\n",
    "How many shares should be used in calculating the company's diluted EPS?\n",
    "\n",
    "\n",
    "**Answer:** \\\n",
    "50,000.\n",
    "\n",
    "**Explanation:** \\\n",
    "The warrants, in this case, are antidilutive. The average price per share of €15 is less than the exercise price of €20. The year-end price per share is not relevant. The denominator consists of only the common stock for basic EPS. \n",
    "\\\n",
    "(Module 30.4, LOS 30.d)\n",
    "<hr>"
   ]
  },
  {
   "cell_type": "markdown",
   "id": "bdf60464",
   "metadata": {},
   "source": [
    "# footnotes\n",
    "\n",
    "<img src = \"https://github.com/PachaTech/CFA-Level-1/blob/main/Financial%20Statement%20Analysis/Module%2030/pics/30_4_1.png?raw=true\">\n",
    "\n",
    "<img src = \"https://github.com/PachaTech/CFA-Level-1/blob/main/Financial%20Statement%20Analysis/Module%2030/pics/30_4_2.png?raw=true\">\n",
    "\n",
    "<img src = \"https://github.com/PachaTech/CFA-Level-1/blob/main/Financial%20Statement%20Analysis/Module%2030/pics/30_4_3.png?raw=true\">\n",
    "\n",
    "<img src = \"https://github.com/PachaTech/CFA-Level-1/blob/main/Financial%20Statement%20Analysis/Module%2030/pics/30_4_4.png?raw=true\">\n",
    "\n",
    "<img src = \"https://github.com/PachaTech/CFA-Level-1/blob/main/Financial%20Statement%20Analysis/Module%2030/pics/30_4_5.png?raw=true\">\n",
    "\n",
    "<img src = \"https://github.com/PachaTech/CFA-Level-1/blob/main/Financial%20Statement%20Analysis/Module%2030/pics/30_4_6.png?raw=true\">\n",
    "\n",
    "<img src = \"https://github.com/PachaTech/CFA-Level-1/blob/main/Financial%20Statement%20Analysis/Module%2030/pics/30_4_7.png?raw=true\">\n",
    "\n",
    "<img src = \"https://github.com/PachaTech/CFA-Level-1/blob/main/Financial%20Statement%20Analysis/Module%2030/pics/30_4_8.png?raw=true\">"
   ]
  }
 ],
 "metadata": {
  "kernelspec": {
   "display_name": "Python 3 (ipykernel)",
   "language": "python",
   "name": "python3"
  },
  "language_info": {
   "codemirror_mode": {
    "name": "ipython",
    "version": 3
   },
   "file_extension": ".py",
   "mimetype": "text/x-python",
   "name": "python",
   "nbconvert_exporter": "python",
   "pygments_lexer": "ipython3",
   "version": "3.11.5"
  }
 },
 "nbformat": 4,
 "nbformat_minor": 5
}
